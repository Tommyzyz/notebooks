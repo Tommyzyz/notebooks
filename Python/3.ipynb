{
 "cells": [
  {
   "cell_type": "code",
   "execution_count": 1,
   "metadata": {},
   "outputs": [
    {
     "name": "stdout",
     "output_type": "stream",
     "text": [
      "['False', 'None', 'True', 'and', 'as', 'assert', 'async', 'await', 'break', 'class', 'continue', 'def', 'del', 'elif', 'else', 'except', 'finally', 'for', 'from', 'global', 'if', 'import', 'in', 'is', 'lambda', 'nonlocal', 'not', 'or', 'pass', 'raise', 'return', 'try', 'while', 'with', 'yield']\n"
     ]
    }
   ],
   "source": [
    "#保留字(reserved words)\n",
    "#也叫 关键字(key words)\n",
    "\n",
    "import keyword\n",
    "print(keyword.kwlist)  # 打印 Python 的所有关键字"
   ]
  },
  {
   "cell_type": "markdown",
   "metadata": {},
   "source": [
    "# 下划线\n",
    "|位置和数量 |\t作用    |\n",
    "|-------   |--------    |\n",
    "|一个放后面\t|避免名字冲突|\n",
    "|两个放两边 |系统变量   |\n",
    "\n",
    "## 双下划线\n",
    "    是系统建立的\n",
    "    有特殊的含义"
   ]
  },
  {
   "cell_type": "code",
   "execution_count": 2,
   "metadata": {},
   "outputs": [
    {
     "name": "stdout",
     "output_type": "stream",
     "text": [
      "Hello world!\n"
     ]
    }
   ],
   "source": [
    "__builtins__\n",
    "__builtins__.print\n",
    "__builtins__.print(\"Hello world!\")"
   ]
  },
  {
   "cell_type": "code",
   "execution_count": null,
   "metadata": {},
   "outputs": [],
   "source": [
    "del __builtins__"
   ]
  },
  {
   "cell_type": "markdown",
   "metadata": {},
   "source": [
    "snake_case蛇形命名法\n",
    "kebab-case 中划线 this-is-an-example-name烤串命名法\n",
    "PascalCase 帕斯卡命名法 ThisIsAnExampleName 所有单词的首字母大写\n",
    "camelCase 驼峰命名法 thisIsAnExampleName 首单词小写,后面单词首字母大写\n",
    "![alt text](../图/Python/image.png)"
   ]
  },
  {
   "cell_type": "code",
   "execution_count": 3,
   "metadata": {},
   "outputs": [
    {
     "data": {
      "text/plain": [
       "'2131'"
      ]
     },
     "execution_count": 3,
     "metadata": {},
     "output_type": "execute_result"
    }
   ],
   "source": [
    "name = input(\"请输入你的名字：\")\n",
    "name"
   ]
  },
  {
   "cell_type": "markdown",
   "metadata": {},
   "source": [
    "prompt 提示词"
   ]
  },
  {
   "cell_type": "code",
   "execution_count": 4,
   "metadata": {},
   "outputs": [
    {
     "name": "stdout",
     "output_type": "stream",
     "text": [
      "You have  46 kg apples.\n"
     ]
    }
   ],
   "source": [
    "try:\n",
    "    # 接收用户输入苹果数量\n",
    "    a = input(\"How many apples do you have:\")\n",
    "    # 将输入转换为整数并乘以 2 得到重量\n",
    "    weight = int(a) * 2\n",
    "    # 打印结果\n",
    "    print(\"You have \", weight, \"kg apples.\")\n",
    "except ValueError:\n",
    "    print(\"Please enter a valid integer.\")"
   ]
  },
  {
   "cell_type": "code",
   "execution_count": null,
   "metadata": {},
   "outputs": [],
   "source": [
    "#错误展示\n",
    "try:\n",
    "    a = input(\"How many apples do you have:\")\n",
    "    weight = int(a) * 2\n",
    "    print(\"You have \",weight, \"kg apples.\")\n",
    "except:\n",
    "    pass"
   ]
  }
 ],
 "metadata": {
  "kernelspec": {
   "display_name": "Python 3",
   "language": "python",
   "name": "python3"
  },
  "language_info": {
   "codemirror_mode": {
    "name": "ipython",
    "version": 3
   },
   "file_extension": ".py",
   "mimetype": "text/x-python",
   "name": "python",
   "nbconvert_exporter": "python",
   "pygments_lexer": "ipython3",
   "version": "3.13.0"
  }
 },
 "nbformat": 4,
 "nbformat_minor": 2
}
