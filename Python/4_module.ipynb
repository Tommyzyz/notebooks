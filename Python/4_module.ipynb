{
 "cells": [
  {
   "cell_type": "code",
   "execution_count": 1,
   "metadata": {},
   "outputs": [],
   "source": [
    "import os\n",
    "import sys"
   ]
  },
  {
   "cell_type": "code",
   "execution_count": 3,
   "metadata": {},
   "outputs": [
    {
     "ename": "ModuleNotFoundError",
     "evalue": "No module named 'jieba'",
     "output_type": "error",
     "traceback": [
      "\u001b[1;31m---------------------------------------------------------------------------\u001b[0m",
      "\u001b[1;31mModuleNotFoundError\u001b[0m                       Traceback (most recent call last)",
      "Cell \u001b[1;32mIn[3], line 6\u001b[0m\n\u001b[0;32m      1\u001b[0m \u001b[38;5;66;03m#   pip install wordcloud\u001b[39;00m\n\u001b[0;32m      2\u001b[0m \u001b[38;5;66;03m#   pip install matplotlib\u001b[39;00m\n\u001b[0;32m      3\u001b[0m \u001b[38;5;66;03m#   pip install jieba\u001b[39;00m\n\u001b[1;32m----> 6\u001b[0m \u001b[38;5;28;01mimport\u001b[39;00m \u001b[38;5;21;01mjieba\u001b[39;00m\n\u001b[0;32m      7\u001b[0m \u001b[38;5;28;01mfrom\u001b[39;00m \u001b[38;5;21;01mwordcloud\u001b[39;00m \u001b[38;5;28;01mimport\u001b[39;00m WordCloud\n\u001b[0;32m      8\u001b[0m \u001b[38;5;28;01mimport\u001b[39;00m \u001b[38;5;21;01mmatplotlib\u001b[39;00m\u001b[38;5;21;01m.\u001b[39;00m\u001b[38;5;21;01mpyplot\u001b[39;00m \u001b[38;5;28;01mas\u001b[39;00m \u001b[38;5;21;01mplt\u001b[39;00m\n",
      "\u001b[1;31mModuleNotFoundError\u001b[0m: No module named 'jieba'"
     ]
    }
   ],
   "source": [
    "#   pip install wordcloud\n",
    "#   pip install matplotlib\n",
    "#   pip install jieba\n",
    "\n",
    "\n",
    "import jieba\n",
    "from wordcloud import WordCloud\n",
    "import matplotlib.pyplot as plt\n",
    "\n",
    "# 读取文件\n",
    "with open('/usr/lib/python3.8/LICENSE.txt') as file:\n",
    "    text = file.read()\n",
    "\n",
    "# 使用jieba进行中文分词\n",
    "words = ' '.join(jieba.cut(text))\n",
    "\n",
    "# 生成词云\n",
    "wordcloud = WordCloud(font_path='/usr/share/fonts/truetype/wqy/wqy-microhei.ttc', # 指定中文字体路径\n",
    "                      width=800, height=600,\n",
    "                      background_color='white').generate(words)\n",
    "\n",
    "# 使用matplotlib展示词云\n",
    "plt.imshow(wordcloud, interpolation='bilinear')\n",
    "plt.axis('off')\n",
    "plt.show()"
   ]
  },
  {
   "cell_type": "code",
   "execution_count": 7,
   "metadata": {},
   "outputs": [
    {
     "name": "stdout",
     "output_type": "stream",
     "text": [
      "<built-in function asctime>\n"
     ]
    }
   ],
   "source": [
    "import time\n",
    "\n",
    "print(time.asctime)"
   ]
  },
  {
   "cell_type": "code",
   "execution_count": 8,
   "metadata": {},
   "outputs": [
    {
     "name": "stdout",
     "output_type": "stream",
     "text": [
      "<built-in function asctime>\n"
     ]
    }
   ],
   "source": [
    "from time import asctime\n",
    "print(asctime)"
   ]
  },
  {
   "cell_type": "code",
   "execution_count": 9,
   "metadata": {},
   "outputs": [
    {
     "name": "stdout",
     "output_type": "stream",
     "text": [
      "3.141592653589793\n"
     ]
    }
   ],
   "source": [
    "from math import pi as math_pi\n",
    "\n",
    "print(math_pi)"
   ]
  },
  {
   "cell_type": "markdown",
   "metadata": {},
   "source": [
    "导入共分成三类\n",
    "1. 标准库\n",
    "2. 第三方库\n",
    "3. 本地库"
   ]
  },
  {
   "cell_type": "markdown",
   "metadata": {},
   "source": [
    "|位置和数量\t|作用\t       |例子        |\n",
    "|-----------|-------------|------------|\n",
    "|单个下划线\t|上次表达式的值\t|_          |\n",
    "|一个放前面\t|隐藏变量\t    |_e         |\n",
    "|一个放后面\t|避免名字冲突\t|max_       |\n",
    "|一个放前边\t|私有属性\t    |__attribute|\n",
    "|两个放两边\t|系统变量\t    |__builtins__|"
   ]
  },
  {
   "cell_type": "markdown",
   "metadata": {},
   "source": []
  },
  {
   "cell_type": "markdown",
   "metadata": {},
   "source": [
    "markdown\n",
    "Copy Code\n",
    "# 编程哲学对比\n",
    "\n",
    "| 原文                                     | 译文                     | 指向                     |\n",
    "| ---------------------------------------- | ------------------------ | ------------------------ |\n",
    "| Beautiful is better than ugly            | 优美胜于丑陋             | 要优美                   |\n",
    "| Explicit is better than implicit         | 明了胜于晦涩             | 明了                     |\n",
    "| Simple is better than complex            | 简洁胜于复杂             | 简洁                     |\n",
    "| Complex is better than complicated       | 复杂胜于凌乱             | 若复杂不可避免，保持接口简洁 |\n",
    "| Flat is better than nested               | 扁平胜于嵌套             | 扁平的，不要太多嵌套     |\n",
    "| Sparse is better than dense              | 间隔胜于紧凑             | 适当间隔，不奢望一行解决   |\n",
    "| Readability counts                       | 可读性很重要             | 可读才是好代码           |\n",
    "| Special cases aren't special enough to break the rules | 不可违背规则             | 规则重要                 |\n",
    "| Although practicality beats purity       | 虽然实践性胜过纯洁性     | 实践很重要               |\n",
    "| Errors should never pass silently        | 错误必须处理             | 不放过异常，不写 except:pass |\n",
    "| Unless explicitly silenced               | 除非明确保持沉默         | 除非故意                 |\n",
    "| In the face of ambiguity, refuse the temptation to guess | 不要让人猜测             | 明确                     |\n",
    "| There should be one-- and preferably only one --obvious way to do it | 找最好的解决方案         | 精益求精                 |\n",
    "| Although that way may not be obvious at first unless you're Dutch | 虽然这并不容易，因为你不是 Python 之父 | 这里的 Dutch 是指 Guido  |\n",
    "| Now is better than never                 | 做也许好过不做           | 实践出真知               |\n",
    "| Although never is often better than right now | 但不假思索就动手还不如不做 | 谋定而后动             |\n",
    "| If the implementation is hard to explain, it's a bad idea | 如果你无法向人描述你的方案，那肯定不是一个好方案 | 好方法用容易描述         |\n",
    "| If the implementation is easy to explain, it may be a good idea | 容易解释，就是好的         | 说得清，才理解得透彻     |\n",
    "| Namespaces are one honking great idea -- let's do more of those! | 命名空间是一种绝妙的理念，我们应当多加利用 | 多用名字空间             |\n"
   ]
  }
 ],
 "metadata": {
  "kernelspec": {
   "display_name": "Python 3",
   "language": "python",
   "name": "python3"
  },
  "language_info": {
   "codemirror_mode": {
    "name": "ipython",
    "version": 3
   },
   "file_extension": ".py",
   "mimetype": "text/x-python",
   "name": "python",
   "nbconvert_exporter": "python",
   "pygments_lexer": "ipython3",
   "version": "3.13.0"
  }
 },
 "nbformat": 4,
 "nbformat_minor": 2
}
