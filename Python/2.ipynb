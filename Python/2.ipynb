{
 "cells": [
  {
   "cell_type": "code",
   "execution_count": 6,
   "metadata": {},
   "outputs": [
    {
     "name": "stdout",
     "output_type": "stream",
     "text": [
      "Hello, world! 111--222--333\n",
      "444\t555\t666\n"
     ]
    }
   ],
   "source": [
    "#Print函数参数\n",
    "print(\"Hello, world!\" ,end=\" \")\n",
    "print(\"111\",\"222\",\"333\",sep=\"--\")\n",
    "print(\"444\", \"555\", \"666\", sep=\"\\t\")"
   ]
  },
  {
   "cell_type": "code",
   "execution_count": 9,
   "metadata": {},
   "outputs": [
    {
     "name": "stdout",
     "output_type": "stream",
     "text": [
      "\n",
      "0:\u0000\t1:\u0001\t2:\u0002\t3:\u0003\t4:\u0004\t5:\u0005\t6:\u0006\t7:\u0007\t\n",
      "8\t9:\t\t10:\n",
      "\t14:\u000e\t15:\u000f\t13:\n",
      "16:\u0010\t17:\u0011\t18:\u0012\t19:\u0013\t20:\u0014\t21:\u0015\t22:\u0016\t23:\u0017\t\n",
      "24:\u0018\t25:\u0019\t26:\u001a\t27:\u001b\t28:\u001c\t29:\u001d\t30:\u001e\t31:\u001f\t\n",
      "32: \t33:!\t34:\"\t35:#\t36:$\t37:%\t38:&\t39:'\t\n",
      "40:(\t41:)\t42:*\t43:+\t44:,\t45:-\t46:.\t47:/\t\n",
      "48:0\t49:1\t50:2\t51:3\t52:4\t53:5\t54:6\t55:7\t\n",
      "56:8\t57:9\t58::\t59:;\t60:<\t61:=\t62:>\t63:?\t\n",
      "64:@\t65:A\t66:B\t67:C\t68:D\t69:E\t70:F\t71:G\t\n",
      "72:H\t73:I\t74:J\t75:K\t76:L\t77:M\t78:N\t79:O\t\n",
      "80:P\t81:Q\t82:R\t83:S\t84:T\t85:U\t86:V\t87:W\t\n",
      "88:X\t89:Y\t90:Z\t91:[\t92:\\\t93:]\t94:^\t95:_\t\n",
      "96:`\t97:a\t98:b\t99:c\t100:d\t101:e\t102:f\t103:g\t\n",
      "104:h\t105:i\t106:j\t107:k\t108:l\t109:m\t110:n\t111:o\t\n",
      "112:p\t113:q\t114:r\t115:s\t116:t\t117:u\t118:v\t119:w\t\n",
      "120:x\t121:y\t122:z\t123:{\t124:|\t125:}\t126:~\t127:\t"
     ]
    }
   ],
   "source": [
    "#条件语句\n",
    "for num in range(0, 128):\n",
    "    if num % 8 == 0:\n",
    "        print()\n",
    "    print(num, chr(num), sep=\":\", end=\"\\t\")"
   ]
  },
  {
   "cell_type": "markdown",
   "metadata": {},
   "source": [
    "#variable变量  \n",
    "#declare声明  \n",
    "#赋值assignment\n",
    "\n",
    "### 声明\n",
    "- declaration\n",
    "- 把 `变量名` 介绍给大家\n",
    "### 赋值\n",
    "- assignment\n",
    "- 将 `值` 放到 `变量` 中"
   ]
  },
  {
   "cell_type": "code",
   "execution_count": 4,
   "metadata": {},
   "outputs": [
    {
     "name": "stdout",
     "output_type": "stream",
     "text": [
      "2333642855056\n",
      "2333642855056\n",
      "True\n",
      "2333642855056\n",
      "2333642860768\n",
      "False\n"
     ]
    }
   ],
   "source": [
    "# id返回 的是\n",
    "# 对象 的 唯一标记\n",
    "# the identity of an object\n",
    "s1 = \"oeasy\"\n",
    "s2 = \"oeasy\"\n",
    "print(id(s1))\n",
    "print(id(s2))\n",
    "print(id(s1) == id(s2) ) #内存地址相同\n",
    "s2 = \"o2z\"\n",
    "print(id(s1))\n",
    "print(id(s2))\n",
    "print(id(s1) == id(s2) ) #内存地址不同\n",
    "a = b = 1\n",
    "(c,d)= (2,3)     # 元组赋值"
   ]
  },
  {
   "cell_type": "code",
   "execution_count": 3,
   "metadata": {},
   "outputs": [
    {
     "data": {
      "text/plain": [
       "{'__name__': '__main__',\n",
       " '__doc__': 'Automatically created module for IPython interactive environment',\n",
       " '__package__': None,\n",
       " '__loader__': None,\n",
       " '__spec__': None,\n",
       " '__builtin__': <module 'builtins' (built-in)>,\n",
       " '__builtins__': <module 'builtins' (built-in)>,\n",
       " '_ih': ['',\n",
       "  '#删除变量\\na = 10\\ndel a\\nprint(a)',\n",
       "  'locals() #返回当前作用域的变量字典',\n",
       "  'locals() #返回当前作用域的变量字典'],\n",
       " '_oh': {2: {...}},\n",
       " '_dh': [WindowsPath('f:/nb/notebooks/Python')],\n",
       " 'In': ['',\n",
       "  '#删除变量\\na = 10\\ndel a\\nprint(a)',\n",
       "  'locals() #返回当前作用域的变量字典',\n",
       "  'locals() #返回当前作用域的变量字典'],\n",
       " 'Out': {2: {...}},\n",
       " 'get_ipython': <bound method InteractiveShell.get_ipython of <ipykernel.zmqshell.ZMQInteractiveShell object at 0x0000021F57BF6BA0>>,\n",
       " 'exit': <IPython.core.autocall.ZMQExitAutocall at 0x21f57c84440>,\n",
       " 'quit': <IPython.core.autocall.ZMQExitAutocall at 0x21f57c84440>,\n",
       " 'open': <function _io.open(file, mode='r', buffering=-1, encoding=None, errors=None, newline=None, closefd=True, opener=None)>,\n",
       " '_': {...},\n",
       " '__': '',\n",
       " '___': '',\n",
       " '__vsc_ipynb_file__': 'f:\\\\nb\\\\notebooks\\\\Python\\\\2.ipynb',\n",
       " '_i': 'locals() #返回当前作用域的变量字典',\n",
       " '_ii': '#删除变量\\na = 10\\ndel a\\nprint(a)',\n",
       " '_iii': '',\n",
       " '_i1': '#删除变量\\na = 10\\ndel a\\nprint(a)',\n",
       " '_i2': 'locals() #返回当前作用域的变量字典',\n",
       " '_2': {...},\n",
       " '_i3': 'locals() #返回当前作用域的变量字典'}"
      ]
     },
     "execution_count": 3,
     "metadata": {},
     "output_type": "execute_result"
    }
   ],
   "source": [
    "locals() #返回当前作用域的变量字典"
   ]
  },
  {
   "cell_type": "code",
   "execution_count": 1,
   "metadata": {},
   "outputs": [
    {
     "ename": "NameError",
     "evalue": "name 'a' is not defined",
     "output_type": "error",
     "traceback": [
      "\u001b[1;31m---------------------------------------------------------------------------\u001b[0m",
      "\u001b[1;31mNameError\u001b[0m                                 Traceback (most recent call last)",
      "Cell \u001b[1;32mIn[1], line 4\u001b[0m\n\u001b[0;32m      2\u001b[0m a \u001b[38;5;241m=\u001b[39m \u001b[38;5;241m10\u001b[39m\n\u001b[0;32m      3\u001b[0m \u001b[38;5;28;01mdel\u001b[39;00m a\n\u001b[1;32m----> 4\u001b[0m \u001b[38;5;28mprint\u001b[39m(\u001b[43ma\u001b[49m)\n",
      "\u001b[1;31mNameError\u001b[0m: name 'a' is not defined"
     ]
    }
   ],
   "source": [
    "#删除变量\n",
    "a = 10\n",
    "del a\n",
    "print(a)"
   ]
  },
  {
   "cell_type": "markdown",
   "metadata": {},
   "source": [
    "python中\n",
    "标识符的 基本规则\n",
    "- 第一个字符 只能是 字母或下划线\n",
    "- 后面跟 字母、下划线、数字"
   ]
  }
 ],
 "metadata": {
  "kernelspec": {
   "display_name": "Python 3",
   "language": "python",
   "name": "python3"
  },
  "language_info": {
   "codemirror_mode": {
    "name": "ipython",
    "version": 3
   },
   "file_extension": ".py",
   "mimetype": "text/x-python",
   "name": "python",
   "nbconvert_exporter": "python",
   "pygments_lexer": "ipython3",
   "version": "3.13.0"
  }
 },
 "nbformat": 4,
 "nbformat_minor": 2
}
