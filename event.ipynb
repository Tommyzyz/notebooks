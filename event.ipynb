{
 "cells": [
  {
   "cell_type": "markdown",
   "metadata": {},
   "source": [
    "![Alt text](图/event.png)"
   ]
  },
  {
   "cell_type": "code",
   "execution_count": 6,
   "metadata": {
    "dotnet_interactive": {
     "language": "csharp"
    },
    "polyglot_notebook": {
     "kernelName": "csharp"
    },
    "vscode": {
     "languageId": "polyglot-notebook"
    }
   },
   "outputs": [],
   "source": [
    "using  System.Timers;\n",
    "Boy boy = new();\n",
    "Timer timer = new();\n",
    "timer.Interval = 1000;\n",
    "timer.Elapsed +=boy.Actions;\n",
    "timer.Start();\n",
    "class Boy\n",
    "{\n",
    "    internal void Actions(object sender, ElapsedEventArgs e)\n",
    "    {\n",
    "        Console.WriteLine(\"Jump\");\n",
    "    }\n",
    "}"
   ]
  }
 ],
 "metadata": {
  "language_info": {
   "name": "csharp"
  },
  "orig_nbformat": 4
 },
 "nbformat": 4,
 "nbformat_minor": 2
}
