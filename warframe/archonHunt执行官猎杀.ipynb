{
 "cells": [
  {
   "cell_type": "code",
   "execution_count": 11,
   "metadata": {
    "dotnet_interactive": {
     "language": "csharp"
    },
    "polyglot_notebook": {
     "kernelName": "csharp"
    },
    "vscode": {
     "languageId": "polyglot-notebook"
    }
   },
   "outputs": [],
   "source": [
    "// archonHunt\n",
    "\n",
    "// Root myDeserializedClass = JsonConvert.DeserializeObject<Root>(myJsonResponse);\n",
    "    public class Mission\n",
    "    {\n",
    "        public string node { get; set; }\n",
    "        public string nodeKey { get; set; }\n",
    "        public string type { get; set; }\n",
    "        public string typeKey { get; set; }\n",
    "        public bool nightmare { get; set; }\n",
    "        public bool archwingRequired { get; set; }\n",
    "        public bool isSharkwing { get; set; }\n",
    "        public List<object> advancedSpawners { get; set; }\n",
    "        public List<object> requiredItems { get; set; }\n",
    "        public List<object> levelAuras { get; set; }\n",
    "    }\n",
    "\n",
    "    public class archonHunt\n",
    "    {\n",
    "        public string id { get; set; }\n",
    "        public DateTime activation { get; set; }\n",
    "        public string startString { get; set; }\n",
    "        public DateTime expiry { get; set; }\n",
    "        public bool active { get; set; }\n",
    "        public string rewardPool { get; set; }\n",
    "        public List<object> variants { get; set; }\n",
    "        public List<Mission> missions { get; set; }\n",
    "        public string boss { get; set; }\n",
    "        public string faction { get; set; }\n",
    "        public bool expired { get; set; }\n",
    "        public string eta { get; set; }\n",
    "    }\n",
    "\n"
   ]
  },
  {
   "cell_type": "code",
   "execution_count": 9,
   "metadata": {
    "dotnet_interactive": {
     "language": "csharp"
    },
    "polyglot_notebook": {
     "kernelName": "csharp"
    },
    "vscode": {
     "languageId": "polyglot-notebook"
    }
   },
   "outputs": [
    {
     "data": {
      "text/html": [
       "<details open=\"open\" class=\"dni-treeview\"><summary><span class=\"dni-code-hint\"><code>Submission#9+archonHunt</code></span></summary><div><table><thead><tr></tr></thead><tbody><tr><td>id</td><td>64ab467d8122f2d5a857b947</td></tr><tr><td>activation</td><td><span>2023-07-10 00:00:00Z</span></td></tr><tr><td>startString</td><td>-6d 5h 11m 1s</td></tr><tr><td>expiry</td><td><span>2023-07-17 00:00:00Z</span></td></tr><tr><td>active</td><td><div class=\"dni-plaintext\"><pre>True</pre></div></td></tr><tr><td>rewardPool</td><td>Archon Sortie Rewards</td></tr><tr><td>variants</td><td></td></tr><tr><td>missions</td><td><table><thead><tr><th><i>index</i></th><th>value</th></tr></thead><tbody><tr><td>0</td><td><details class=\"dni-treeview\"><summary><span class=\"dni-code-hint\"><code>Submission#9+Mission</code></span></summary><div><table><thead><tr></tr></thead><tbody><tr><td>node</td><td>Tharsis (火星)</td></tr><tr><td>nodeKey</td><td>Tharsis (Mars)</td></tr><tr><td>type</td><td>移動防禦</td></tr><tr><td>typeKey</td><td>Mobile Defense</td></tr><tr><td>nightmare</td><td><div class=\"dni-plaintext\"><pre>False</pre></div></td></tr><tr><td>archwingRequired</td><td><div class=\"dni-plaintext\"><pre>False</pre></div></td></tr><tr><td>isSharkwing</td><td><div class=\"dni-plaintext\"><pre>False</pre></div></td></tr><tr><td>advancedSpawners</td><td></td></tr><tr><td>requiredItems</td><td></td></tr><tr><td>levelAuras</td><td></td></tr></tbody></table></div></details></td></tr><tr><td>1</td><td><details class=\"dni-treeview\"><summary><span class=\"dni-code-hint\"><code>Submission#9+Mission</code></span></summary><div><table><thead><tr></tr></thead><tbody><tr><td>node</td><td>Ara (火星)</td></tr><tr><td>nodeKey</td><td>Ara (Mars)</td></tr><tr><td>type</td><td>挖掘</td></tr><tr><td>typeKey</td><td>Excavation</td></tr><tr><td>nightmare</td><td><div class=\"dni-plaintext\"><pre>False</pre></div></td></tr><tr><td>archwingRequired</td><td><div class=\"dni-plaintext\"><pre>False</pre></div></td></tr><tr><td>isSharkwing</td><td><div class=\"dni-plaintext\"><pre>False</pre></div></td></tr><tr><td>advancedSpawners</td><td></td></tr><tr><td>requiredItems</td><td></td></tr><tr><td>levelAuras</td><td></td></tr></tbody></table></div></details></td></tr><tr><td>2</td><td><details class=\"dni-treeview\"><summary><span class=\"dni-code-hint\"><code>Submission#9+Mission</code></span></summary><div><table><thead><tr></tr></thead><tbody><tr><td>node</td><td>War (火星)</td></tr><tr><td>nodeKey</td><td>War (Mars)</td></tr><tr><td>type</td><td>刺殺</td></tr><tr><td>typeKey</td><td>Assassination</td></tr><tr><td>nightmare</td><td><div class=\"dni-plaintext\"><pre>False</pre></div></td></tr><tr><td>archwingRequired</td><td><div class=\"dni-plaintext\"><pre>False</pre></div></td></tr><tr><td>isSharkwing</td><td><div class=\"dni-plaintext\"><pre>False</pre></div></td></tr><tr><td>advancedSpawners</td><td></td></tr><tr><td>requiredItems</td><td></td></tr><tr><td>levelAuras</td><td></td></tr></tbody></table></div></details></td></tr></tbody></table></td></tr><tr><td>boss</td><td>Archon Amar</td></tr><tr><td>faction</td><td>Narmer</td></tr><tr><td>expired</td><td><div class=\"dni-plaintext\"><pre>False</pre></div></td></tr><tr><td>eta</td><td>18h 48m 58s</td></tr></tbody></table></div></details><style>\r\n",
       ".dni-code-hint {\r\n",
       "    font-style: italic;\r\n",
       "    overflow: hidden;\r\n",
       "    white-space: nowrap;\r\n",
       "}\r\n",
       ".dni-treeview {\r\n",
       "    white-space: nowrap;\r\n",
       "}\r\n",
       ".dni-treeview td {\r\n",
       "    vertical-align: top;\r\n",
       "    text-align: start;\r\n",
       "}\r\n",
       "details.dni-treeview {\r\n",
       "    padding-left: 1em;\r\n",
       "}\r\n",
       "table td {\r\n",
       "    text-align: start;\r\n",
       "}\r\n",
       "table tr { \r\n",
       "    vertical-align: top; \r\n",
       "    margin: 0em 0px;\r\n",
       "}\r\n",
       "table tr td pre \r\n",
       "{ \r\n",
       "    vertical-align: top !important; \r\n",
       "    margin: 0em 0px !important;\r\n",
       "} \r\n",
       "table th {\r\n",
       "    text-align: start;\r\n",
       "}\r\n",
       "</style>"
      ]
     },
     "metadata": {},
     "output_type": "display_data"
    }
   ],
   "source": [
    "using System.Text.Json;\n",
    "using System.Net.Http;\n",
    "using System.Collections.Generic;\n",
    "\n",
    "HttpClient httpClient=new();\n",
    "\n",
    "var response = await httpClient.GetAsync(\"https://api.warframestat.us/pc/zh/archonHunt/\");\n",
    "var json = await response.Content.ReadAsStringAsync();\n",
    "var result =  System.Text.Json.JsonSerializer.Deserialize<archonHunt>(json);\n",
    "\n",
    "result.Display();"
   ]
  }
 ],
 "metadata": {
  "language_info": {
   "name": "csharp"
  },
  "orig_nbformat": 4
 },
 "nbformat": 4,
 "nbformat_minor": 2
}
