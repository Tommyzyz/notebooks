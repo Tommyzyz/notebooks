{
 "cells": [
  {
   "cell_type": "code",
   "execution_count": 7,
   "metadata": {
    "dotnet_interactive": {
     "language": "csharp"
    },
    "polyglot_notebook": {
     "kernelName": "csharp"
    },
    "vscode": {
     "languageId": "polyglot-notebook"
    }
   },
   "outputs": [],
   "source": []
  },
  {
   "cell_type": "code",
   "execution_count": 4,
   "metadata": {
    "dotnet_interactive": {
     "language": "csharp"
    },
    "polyglot_notebook": {
     "kernelName": "csharp"
    },
    "vscode": {
     "languageId": "polyglot-notebook"
    }
   },
   "outputs": [],
   "source": [
    "    public class CountedItem\n",
    "    {\n",
    "        \n",
    "        public int? count { get; set; }\n",
    "        public string type { get; set; }\n",
    "        public string key { get; set; }\n",
    "    }\n",
    "\n",
    "    \n",
    "    public class Mission\n",
    "    {\n",
    "        public string description { get; set; }\n",
    "        public string node { get; set; }\n",
    "        public string nodeKey { get; set; }\n",
    "        public string type { get; set; }\n",
    "        public string typeKey { get; set; }\n",
    "        public string faction { get; set; }\n",
    "        public string factionKey { get; set; }\n",
    "        public Reward reward { get; set; }\n",
    "        public int minEnemyLevel { get; set; }\n",
    "        public int maxEnemyLevel { get; set; }\n",
    "        public int maxWaveNum { get; set; }\n",
    "        public bool nightmare { get; set; }\n",
    "        public bool archwingRequired { get; set; }\n",
    "        public bool isSharkwing { get; set; }\n",
    "        public string levelOverride { get; set; }\n",
    "        public string enemySpec { get; set; }\n",
    "        public List<object> advancedSpawners { get; set; }\n",
    "        public List<object> requiredItems { get; set; }\n",
    "        public List<object> levelAuras { get; set; }\n",
    "    }\n",
    "\n",
    "    public class Reward\n",
    "    {\n",
    "        public List<string> items { get; set; }\n",
    "        public List<CountedItem> countedItems { get; set; }\n",
    "        public int credits { get; set; }\n",
    "        public string asString { get; set; }\n",
    "        public string itemString { get; set; }\n",
    "        public string thumbnail { get; set; }\n",
    "        public int color { get; set; }\n",
    "    }\n",
    "\n",
    "    public class alerts\n",
    "    {\n",
    "        public string id { get; set; }\n",
    "        public DateTime activation { get; set; }\n",
    "        public string startString { get; set; }\n",
    "        public DateTime expiry { get; set; }\n",
    "        public bool active { get; set; }\n",
    "        public Mission mission { get; set; }\n",
    "        public string eta { get; set; }\n",
    "        public List<string> rewardTypes { get; set; }\n",
    "        public string tag { get; set; }\n",
    "    }"
   ]
  },
  {
   "cell_type": "code",
   "execution_count": 6,
   "metadata": {
    "dotnet_interactive": {
     "language": "csharp"
    },
    "polyglot_notebook": {
     "kernelName": "csharp"
    },
    "vscode": {
     "languageId": "polyglot-notebook"
    }
   },
   "outputs": [
    {
     "data": {
      "text/html": [
       "<table><thead><tr><th><i>index</i></th><th>value</th></tr></thead><tbody><tr><td>0</td><td><details class=\"dni-treeview\"><summary><span class=\"dni-code-hint\"><code>Submission#5+alerts</code></span></summary><div><table><thead><tr></tr></thead><tbody><tr><td>id</td><td><div class=\"dni-plaintext\"><pre>670414b9ef8fec11820a7518</pre></div></td></tr><tr><td>activation</td><td><span>2024-10-17 18:00:00Z</span></td></tr><tr><td>startString</td><td><div class=\"dni-plaintext\"><pre>-6d 8h 48m 50s</pre></div></td></tr><tr><td>expiry</td><td><span>2024-10-24 18:00:00Z</span></td></tr><tr><td>active</td><td><div class=\"dni-plaintext\"><pre>True</pre></div></td></tr><tr><td>mission</td><td><details class=\"dni-treeview\"><summary><span class=\"dni-code-hint\"><code>Submission#5+Mission</code></span></summary><div><table><thead><tr></tr></thead><tbody><tr><td>description</td><td><div class=\"dni-plaintext\"><pre>Tenno United Alert</pre></div></td></tr><tr><td>node</td><td><div class=\"dni-plaintext\"><pre>Draco (穀神星)</pre></div></td></tr><tr><td>nodeKey</td><td><div class=\"dni-plaintext\"><pre>Draco (Ceres)</pre></div></td></tr><tr><td>type</td><td><div class=\"dni-plaintext\"><pre>生存</pre></div></td></tr><tr><td>typeKey</td><td><div class=\"dni-plaintext\"><pre>Survival</pre></div></td></tr><tr><td>faction</td><td><div class=\"dni-plaintext\"><pre>Grineer</pre></div></td></tr><tr><td>factionKey</td><td><div class=\"dni-plaintext\"><pre>Grineer</pre></div></td></tr><tr><td>reward</td><td><details class=\"dni-treeview\"><summary><span class=\"dni-code-hint\"><code>Submission#5+Reward</code></span></summary><div><table><thead><tr></tr></thead><tbody><tr><td>items</td><td><div class=\"dni-plaintext\"><pre>[ Plushy2022 Q T C C ]</pre></div></td></tr><tr><td>countedItems</td><td><i>(empty)</i></td></tr><tr><td>credits</td><td><div class=\"dni-plaintext\"><pre>10000</pre></div></td></tr><tr><td>asString</td><td><div class=\"dni-plaintext\"><pre>Plushy2022 Q T C C + 10000cr</pre></div></td></tr><tr><td>itemString</td><td><div class=\"dni-plaintext\"><pre>Plushy2022 Q T C C</pre></div></td></tr><tr><td>thumbnail</td><td><div class=\"dni-plaintext\"><pre></pre></div></td></tr><tr><td>color</td><td><div class=\"dni-plaintext\"><pre>5198940</pre></div></td></tr></tbody></table></div></details></td></tr><tr><td>minEnemyLevel</td><td><div class=\"dni-plaintext\"><pre>20</pre></div></td></tr><tr><td>maxEnemyLevel</td><td><div class=\"dni-plaintext\"><pre>30</pre></div></td></tr><tr><td>maxWaveNum</td><td><div class=\"dni-plaintext\"><pre>10</pre></div></td></tr><tr><td>nightmare</td><td><div class=\"dni-plaintext\"><pre>False</pre></div></td></tr><tr><td>archwingRequired</td><td><div class=\"dni-plaintext\"><pre>False</pre></div></td></tr><tr><td>isSharkwing</td><td><div class=\"dni-plaintext\"><pre>False</pre></div></td></tr><tr><td>levelOverride</td><td><div class=\"dni-plaintext\"><pre>Grineer Asteroid Survival Raid</pre></div></td></tr><tr><td>enemySpec</td><td><div class=\"dni-plaintext\"><pre>Grineer Survival B</pre></div></td></tr><tr><td>advancedSpawners</td><td><i>(empty)</i></td></tr><tr><td>requiredItems</td><td><i>(empty)</i></td></tr><tr><td>levelAuras</td><td><i>(empty)</i></td></tr></tbody></table></div></details></td></tr><tr><td>eta</td><td><div class=\"dni-plaintext\"><pre>15h 11m 9s</pre></div></td></tr><tr><td>rewardTypes</td><td><div class=\"dni-plaintext\"><pre>[ other ]</pre></div></td></tr><tr><td>tag</td><td><div class=\"dni-plaintext\"><pre>LotusGift</pre></div></td></tr></tbody></table></div></details></td></tr></tbody></table><style>\r\n",
       ".dni-code-hint {\r\n",
       "    font-style: italic;\r\n",
       "    overflow: hidden;\r\n",
       "    white-space: nowrap;\r\n",
       "}\r\n",
       ".dni-treeview {\r\n",
       "    white-space: nowrap;\r\n",
       "}\r\n",
       ".dni-treeview td {\r\n",
       "    vertical-align: top;\r\n",
       "    text-align: start;\r\n",
       "}\r\n",
       "details.dni-treeview {\r\n",
       "    padding-left: 1em;\r\n",
       "}\r\n",
       "table td {\r\n",
       "    text-align: start;\r\n",
       "}\r\n",
       "table tr { \r\n",
       "    vertical-align: top; \r\n",
       "    margin: 0em 0px;\r\n",
       "}\r\n",
       "table tr td pre \r\n",
       "{ \r\n",
       "    vertical-align: top !important; \r\n",
       "    margin: 0em 0px !important;\r\n",
       "} \r\n",
       "table th {\r\n",
       "    text-align: start;\r\n",
       "}\r\n",
       "</style>"
      ]
     },
     "metadata": {},
     "output_type": "display_data"
    },
    {
     "data": {
      "text/html": [
       "<div class=\"http-response-message-container\"><style type=\"text/css\">\r\n",
       "            .http-response-message-container {\r\n",
       "                display: flex;\r\n",
       "                flex-wrap: wrap;\r\n",
       "            }\r\n",
       "\r\n",
       "            .http-response-message-container > div {\r\n",
       "                margin: .5em;\r\n",
       "                padding: 1em;\r\n",
       "                border: 1px solid;\r\n",
       "            }\r\n",
       "\r\n",
       "            .http-response-message-container > div > h2 {\r\n",
       "                margin-top: 0;\r\n",
       "            }\r\n",
       "\r\n",
       "            .http-response-message-container > div > h3 {\r\n",
       "                margin-bottom: 0;\r\n",
       "            }\r\n",
       "\r\n",
       "            .http-response-message-container summary {\r\n",
       "                margin: 1em 0;\r\n",
       "                font-size: 1.17em;\r\n",
       "                font-weight: 700;\r\n",
       "            }\r\n",
       "\r\n",
       "            @keyframes blink {\r\n",
       "                0% {\r\n",
       "                  opacity: .2;\r\n",
       "                }\r\n",
       "                20% {\r\n",
       "                  opacity: 1;\r\n",
       "                }\r\n",
       "                100% {\r\n",
       "                  opacity: .2;\r\n",
       "                }\r\n",
       "            }\r\n",
       "\r\n",
       "            .ellipsis span {\r\n",
       "                animation-name: blink;\r\n",
       "                animation-duration: 1.4s;\r\n",
       "                animation-iteration-count: infinite;\r\n",
       "                animation-fill-mode: both;\r\n",
       "            }\r\n",
       "\r\n",
       "            .ellipsis span:nth-child(2) {\r\n",
       "                animation-delay: .2s;\r\n",
       "            }\r\n",
       "\r\n",
       "            .ellipsis span:nth-child(3) {\r\n",
       "                animation-delay: .4s;\r\n",
       "            }</style><div><h2>Request</h2><hr></hr><h3>GET <a href=\"https://api.warframestat.us/pc/zh/alerts/\">https://api.warframestat.us/pc/zh/alerts/</a> HTTP/1.1</h3><details><summary>Headers</summary><table><thead><tr><th>Name</th><th>Value</th></tr></thead><tbody><tr><td>traceparent</td><td>00-ce026d93541fbbec4bc0d748e3540dc3-9eb78303fcee6358-00</td></tr></tbody></table></details><details><summary>Body (application/json; charset=utf-8, 0 bytes)</summary><pre></pre></details></div><div><h2>Response</h2><hr></hr><h3>HTTP/1.1 200 OK ( ms)</h3><details open=\"True\"><summary>Headers</summary><table><thead><tr><th>Name</th><th>Value</th></tr></thead><tbody><tr><td>Date</td><td>Thu, 24 Oct 2024 02:49:08 GMT</td></tr><tr><td>Connection</td><td>keep-alive</td></tr><tr><td>Access-Control-Allow-Origin</td><td>*</td></tr><tr><td>Content-Security-Policy</td><td>default-src &#39;self&#39;;base-uri &#39;self&#39;;font-src &#39;self&#39; https: data:;form-action &#39;self&#39;;frame-ancestors &#39;self&#39;;img-src &#39;self&#39; data:;object-src &#39;none&#39;;script-src &#39;self&#39;;script-src-attr &#39;none&#39;;style-src &#39;self&#39; https: &#39;unsafe-inline&#39;;upgrade-insecure-requests</td></tr><tr><td>Cross-Origin-Opener-Policy</td><td>same-origin</td></tr><tr><td>Cross-Origin-Resource-Policy</td><td>same-origin</td></tr><tr><td>Origin-Agent-Cluster</td><td>?1</td></tr><tr><td>Referrer-Policy</td><td>no-referrer</td></tr><tr><td>Strict-Transport-Security</td><td>max-age=31536000; includeSubDomains</td></tr><tr><td>X-Content-Type-Options</td><td>nosniff</td></tr><tr><td>X-DNS-Prefetch-Control</td><td>off</td></tr><tr><td>X-Download-Options</td><td>noopen</td></tr><tr><td>X-Frame-Options</td><td>SAMEORIGIN</td></tr><tr><td>X-Permitted-Cross-Domain-Policies</td><td>none</td></tr><tr><td>X-XSS-Protection</td><td>0</td></tr><tr><td>ETag</td><td>W/&quot;344-LujANdV2C+jWWJmOhPML8NF9L1M&quot;</td></tr><tr><td>Cache-Control</td><td>max-age=120</td></tr><tr><td>CF-Cache-Status</td><td>HIT</td></tr><tr><td>Age</td><td>7</td></tr><tr><td>Accept-Ranges</td><td>bytes</td></tr><tr><td>Report-To</td><td>{&quot;endpoints&quot;:[{&quot;url&quot;:&quot;https:\\/\\/a.nel.cloudflare.com\\/report\\/v4?s=EuZUc2F5ryNHnbSyNyTnwlHC1gOvYq568QL8fX91O0%2FTTg0rZeZlDtNaKXHdaYtIVBOpdpVBILTyqxrrQc4sKhINClkE0ioVB034pjH2pkyhuhMi3cx0NpKAUVftDg26BmjYxg9z&quot;}],&quot;group&quot;:&quot;cf-nel&quot;,&quot;max_age&quot;:604800}</td></tr><tr><td>NEL</td><td>{&quot;success_fraction&quot;:0,&quot;report_to&quot;:&quot;cf-nel&quot;,&quot;max_age&quot;:604800}</td></tr><tr><td>Server</td><td>cloudflare</td></tr><tr><td>CF-RAY</td><td>8d76a6e1deeecd91-LHR</td></tr><tr><td>Alt-Svc</td><td>h3=&quot;:443&quot;</td></tr><tr><td>Server-Timing</td><td>cfL4;desc=&quot;?proto=TCP&amp;rtt=170836&amp;sent=3&amp;recv=5&amp;lost=0&amp;retrans=0&amp;sent_bytes=115&amp;recv_bytes=581&amp;delivery_rate=8477&amp;cwnd=61&amp;unsent_bytes=0&amp;cid=4b6ca6e89704b55d&amp;ts=186&amp;x=0&quot;</td></tr><tr><td>Content-Type</td><td>application/json; charset=utf-8</td></tr><tr><td>Content-Length</td><td>836</td></tr><tr><td>Content-Language</td><td>zh</td></tr></tbody></table></details><details open=\"True\"><summary>Body (application/json; charset=utf-8, 836 bytes)</summary><details class=\"dni-treeview\"><summary><span class=\"dni-code-hint\"><code>[{&quot;id&quot;:&quot;670414b9ef8fec11820a7518&quot;,&quot;activation&quot;:&quot;2024-10-17T18:00:00.000Z&quot;,&quot;startString&quot;:&quot;-6d 8h 48m 50s&quot;,&quot;expiry&quot;:&quot;2024-10-24T18:00:00.000Z&quot;,&quot;active&quot;:true,&quot;mission&quot;:{&quot;description&quot;:&quot;Tenno United Alert&quot;,&quot;node&quot;:&quot;Draco (穀神星)&quot;,&quot;nodeKey&quot;:&quot;Draco (Ceres)&quot;,&quot;type&quot;:&quot;生存&quot;,&quot;typeKey&quot;:&quot;Survival&quot;,&quot;faction&quot;:&quot;Grineer&quot;,&quot;factionKey&quot;:&quot;Grineer&quot;,&quot;reward&quot;:{&quot;items&quot;:[&quot;Plushy2022 Q T C C&quot;],&quot;countedItems&quot;:[],&quot;credits&quot;:10000,&quot;asString&quot;:&quot;Plushy2022 Q T C C + 10000cr&quot;,&quot;itemString&quot;:&quot;Plushy2022 Q T C C&quot;,&quot;thumbnail&quot;:&quot;&quot;,&quot;color&quot;:5198940},&quot;minEnemyLevel&quot;:20,&quot;maxEnemyLevel&quot;:30,&quot;maxWaveNum&quot;:10,&quot;nightmare&quot;:false,&quot;archwingRequired&quot;:false,&quot;isSharkwing&quot;:false,&quot;levelOverride&quot;:&quot;Grineer Asteroid Survival Raid&quot;,&quot;enemySpec&quot;:&quot;Grineer Survival B&quot;,&quot;advancedSpawners&quot;:[],&quot;requiredItems&quot;:[],&quot;levelAuras&quot;:[]},&quot;eta&quot;:&quot;15h 11m 9s&quot;,&quot;rewardTypes&quot;:[&quot;other&quot;],&quot;tag&quot;:&quot;LotusGift&quot;}]</code></span></summary><div><table><thead><tr></tr></thead><tbody><tr><td><details class=\"dni-treeview\"><summary><span class=\"dni-code-hint\"><code>{&quot;id&quot;:&quot;670414b9ef8fec11820a7518&quot;,&quot;activation&quot;:&quot;2024-10-17T18:00:00.000Z&quot;,&quot;startString&quot;:&quot;-6d 8h 48m 50s&quot;,&quot;expiry&quot;:&quot;2024-10-24T18:00:00.000Z&quot;,&quot;active&quot;:true,&quot;mission&quot;:{&quot;description&quot;:&quot;Tenno United Alert&quot;,&quot;node&quot;:&quot;Draco (穀神星)&quot;,&quot;nodeKey&quot;:&quot;Draco (Ceres)&quot;,&quot;type&quot;:&quot;生存&quot;,&quot;typeKey&quot;:&quot;Survival&quot;,&quot;faction&quot;:&quot;Grineer&quot;,&quot;factionKey&quot;:&quot;Grineer&quot;,&quot;reward&quot;:{&quot;items&quot;:[&quot;Plushy2022 Q T C C&quot;],&quot;countedItems&quot;:[],&quot;credits&quot;:10000,&quot;asString&quot;:&quot;Plushy2022 Q T C C + 10000cr&quot;,&quot;itemString&quot;:&quot;Plushy2022 Q T C C&quot;,&quot;thumbnail&quot;:&quot;&quot;,&quot;color&quot;:5198940},&quot;minEnemyLevel&quot;:20,&quot;maxEnemyLevel&quot;:30,&quot;maxWaveNum&quot;:10,&quot;nightmare&quot;:false,&quot;archwingRequired&quot;:false,&quot;isSharkwing&quot;:false,&quot;levelOverride&quot;:&quot;Grineer Asteroid Survival Raid&quot;,&quot;enemySpec&quot;:&quot;Grineer Survival B&quot;,&quot;advancedSpawners&quot;:[],&quot;requiredItems&quot;:[],&quot;levelAuras&quot;:[]},&quot;eta&quot;:&quot;15h 11m 9s&quot;,&quot;rewardTypes&quot;:[&quot;other&quot;],&quot;tag&quot;:&quot;LotusGift&quot;}</code></span></summary><div><table><thead><tr></tr></thead><tbody><tr><td>id</td><td><span>&quot;670414b9ef8fec11820a7518&quot;</span></td></tr><tr><td>activation</td><td><span>&quot;2024-10-17T18:00:00.000Z&quot;</span></td></tr><tr><td>startString</td><td><span>&quot;-6d 8h 48m 50s&quot;</span></td></tr><tr><td>expiry</td><td><span>&quot;2024-10-24T18:00:00.000Z&quot;</span></td></tr><tr><td>active</td><td><span>true</span></td></tr><tr><td>mission</td><td><details class=\"dni-treeview\"><summary><span class=\"dni-code-hint\"><code>{&quot;description&quot;:&quot;Tenno United Alert&quot;,&quot;node&quot;:&quot;Draco (穀神星)&quot;,&quot;nodeKey&quot;:&quot;Draco (Ceres)&quot;,&quot;type&quot;:&quot;生存&quot;,&quot;typeKey&quot;:&quot;Survival&quot;,&quot;faction&quot;:&quot;Grineer&quot;,&quot;factionKey&quot;:&quot;Grineer&quot;,&quot;reward&quot;:{&quot;items&quot;:[&quot;Plushy2022 Q T C C&quot;],&quot;countedItems&quot;:[],&quot;credits&quot;:10000,&quot;asString&quot;:&quot;Plushy2022 Q T C C + 10000cr&quot;,&quot;itemString&quot;:&quot;Plushy2022 Q T C C&quot;,&quot;thumbnail&quot;:&quot;&quot;,&quot;color&quot;:5198940},&quot;minEnemyLevel&quot;:20,&quot;maxEnemyLevel&quot;:30,&quot;maxWaveNum&quot;:10,&quot;nightmare&quot;:false,&quot;archwingRequired&quot;:false,&quot;isSharkwing&quot;:false,&quot;levelOverride&quot;:&quot;Grineer Asteroid Survival Raid&quot;,&quot;enemySpec&quot;:&quot;Grineer Survival B&quot;,&quot;advancedSpawners&quot;:[],&quot;requiredItems&quot;:[],&quot;levelAuras&quot;:[]}</code></span></summary><div><table><thead><tr></tr></thead><tbody><tr><td>description</td><td><span>&quot;Tenno United Alert&quot;</span></td></tr><tr><td>node</td><td><span>&quot;Draco (穀神星)&quot;</span></td></tr><tr><td>nodeKey</td><td><span>&quot;Draco (Ceres)&quot;</span></td></tr><tr><td>type</td><td><span>&quot;生存&quot;</span></td></tr><tr><td>typeKey</td><td><span>&quot;Survival&quot;</span></td></tr><tr><td>faction</td><td><span>&quot;Grineer&quot;</span></td></tr><tr><td>factionKey</td><td><span>&quot;Grineer&quot;</span></td></tr><tr><td>reward</td><td><details class=\"dni-treeview\"><summary><span class=\"dni-code-hint\"><code>{&quot;items&quot;:[&quot;Plushy2022 Q T C C&quot;],&quot;countedItems&quot;:[],&quot;credits&quot;:10000,&quot;asString&quot;:&quot;Plushy2022 Q T C C + 10000cr&quot;,&quot;itemString&quot;:&quot;Plushy2022 Q T C C&quot;,&quot;thumbnail&quot;:&quot;&quot;,&quot;color&quot;:5198940}</code></span></summary><div><table><thead><tr></tr></thead><tbody><tr><td>items</td><td>[\"Plushy2022 Q T C C\"]</td></tr><tr><td>countedItems</td><td>[]</td></tr><tr><td>credits</td><td>10000</td></tr><tr><td>asString</td><td>Plushy2022 Q T C C + 10000cr</td></tr><tr><td>itemString</td><td>Plushy2022 Q T C C</td></tr><tr><td>thumbnail</td><td></td></tr><tr><td>color</td><td>5198940</td></tr></tbody></table></div></details></td></tr><tr><td>minEnemyLevel</td><td><span>20</span></td></tr><tr><td>maxEnemyLevel</td><td><span>30</span></td></tr><tr><td>maxWaveNum</td><td><span>10</span></td></tr><tr><td>nightmare</td><td><span>false</span></td></tr><tr><td>archwingRequired</td><td><span>false</span></td></tr><tr><td>isSharkwing</td><td><span>false</span></td></tr><tr><td>levelOverride</td><td><span>&quot;Grineer Asteroid Survival Raid&quot;</span></td></tr><tr><td>enemySpec</td><td><span>&quot;Grineer Survival B&quot;</span></td></tr><tr><td>advancedSpawners</td><td><details class=\"dni-treeview\"><summary><span class=\"dni-code-hint\"><code>[]</code></span></summary><div><table><thead><tr></tr></thead><tbody></tbody></table></div></details></td></tr><tr><td>requiredItems</td><td><details class=\"dni-treeview\"><summary><span class=\"dni-code-hint\"><code>[]</code></span></summary><div><table><thead><tr></tr></thead><tbody></tbody></table></div></details></td></tr><tr><td>levelAuras</td><td><details class=\"dni-treeview\"><summary><span class=\"dni-code-hint\"><code>[]</code></span></summary><div><table><thead><tr></tr></thead><tbody></tbody></table></div></details></td></tr></tbody></table></div></details></td></tr><tr><td>eta</td><td><span>&quot;15h 11m 9s&quot;</span></td></tr><tr><td>rewardTypes</td><td><details class=\"dni-treeview\"><summary><span class=\"dni-code-hint\"><code>[&quot;other&quot;]</code></span></summary><div><table><thead><tr></tr></thead><tbody><tr><td><span>&quot;other&quot;</span></td></tr></tbody></table></div></details></td></tr><tr><td>tag</td><td><span>&quot;LotusGift&quot;</span></td></tr></tbody></table></div></details></td></tr></tbody></table></div></details></details></div></div><style>\r\n",
       ".dni-code-hint {\r\n",
       "    font-style: italic;\r\n",
       "    overflow: hidden;\r\n",
       "    white-space: nowrap;\r\n",
       "}\r\n",
       ".dni-treeview {\r\n",
       "    white-space: nowrap;\r\n",
       "}\r\n",
       ".dni-treeview td {\r\n",
       "    vertical-align: top;\r\n",
       "    text-align: start;\r\n",
       "}\r\n",
       "details.dni-treeview {\r\n",
       "    padding-left: 1em;\r\n",
       "}\r\n",
       "table td {\r\n",
       "    text-align: start;\r\n",
       "}\r\n",
       "table tr { \r\n",
       "    vertical-align: top; \r\n",
       "    margin: 0em 0px;\r\n",
       "}\r\n",
       "table tr td pre \r\n",
       "{ \r\n",
       "    vertical-align: top !important; \r\n",
       "    margin: 0em 0px !important;\r\n",
       "} \r\n",
       "table th {\r\n",
       "    text-align: start;\r\n",
       "}\r\n",
       "</style>"
      ],
      "text/plain": [
       "Request Method: GET\r\n",
       "Request URI: https://api.warframestat.us/pc/zh/alerts/\r\n",
       "Request Version: HTTP/1.1\r\n",
       "\r\n",
       "Status Code: 200 OK\r\n",
       "Elapsed:  ms\r\n",
       "Version: HTTP/1.1\r\n",
       "Content Type: application/json; charset=utf-8\r\n",
       "Content Length: 836 bytes\r\n",
       "\r\n",
       "Date: Thu, 24 Oct 2024 02:49:08 GMT\r\n",
       "Connection: keep-alive\r\n",
       "Access-Control-Allow-Origin: *\r\n",
       "Content-Security-Policy: default-src 'self';base-uri 'self';font-src 'self' https: data:;form-action 'self';frame-ancestors 'self';img-src 'self' data:;object-src 'none';script-src 'self';script-src-attr 'none';style-src 'self' https: 'unsafe-inline';upgrade-insecure-requests\r\n",
       "Cross-Origin-Opener-Policy: same-origin\r\n",
       "Cross-Origin-Resource-Policy: same-origin\r\n",
       "Origin-Agent-Cluster: ?1\r\n",
       "Referrer-Policy: no-referrer\r\n",
       "Strict-Transport-Security: max-age=31536000; includeSubDomains\r\n",
       "X-Content-Type-Options: nosniff\r\n",
       "X-DNS-Prefetch-Control: off\r\n",
       "X-Download-Options: noopen\r\n",
       "X-Frame-Options: SAMEORIGIN\r\n",
       "X-Permitted-Cross-Domain-Policies: none\r\n",
       "X-XSS-Protection: 0\r\n",
       "ETag: W/\"344-LujANdV2C+jWWJmOhPML8NF9L1M\"\r\n",
       "Cache-Control: max-age=120\r\n",
       "CF-Cache-Status: HIT\r\n",
       "Age: 7\r\n",
       "Accept-Ranges: bytes\r\n",
       "Report-To: {\"endpoints\":[{\"url\":\"https:\\/\\/a.nel.cloudflare.com\\/report\\/v4?s=EuZUc2F5ryNHnbSyNyTnwlHC1gOvYq568QL8fX91O0%2FTTg0rZeZlDtNaKXHdaYtIVBOpdpVBILTyqxrrQc4sKhINClkE0ioVB034pjH2pkyhuhMi3cx0NpKAUVftDg26BmjYxg9z\"}],\"group\":\"cf-nel\",\"max_age\":604800}\r\n",
       "NEL: {\"success_fraction\":0,\"report_to\":\"cf-nel\",\"max_age\":604800}\r\n",
       "Server: cloudflare\r\n",
       "CF-RAY: 8d76a6e1deeecd91-LHR\r\n",
       "Alt-Svc: h3=\":443\"\r\n",
       "Server-Timing: cfL4;desc=\"?proto=TCP&rtt=170836&sent=3&recv=5&lost=0&retrans=0&sent_bytes=115&recv_bytes=581&delivery_rate=8477&cwnd=61&unsent_bytes=0&cid=4b6ca6e89704b55d&ts=186&x=0\"\r\n",
       "Content-Type: application/json; charset=utf-8\r\n",
       "Content-Length: 836\r\n",
       "Content-Language: zh\r\n",
       "Body: [{\"id\":\"670414b9ef8fec11820a7518\",\"activation\":\"2024-10-17T18:00:00.000Z\",\"startString\":\"-6d 8h 48m 50s\",\"expiry\":\"2024-10-24T18:00:00.000Z\",\"active\":true,\"mission\":{\"description\":\"Tenno United Alert\",\"node\":\"Draco (穀神星)\",\"nodeKey\":\"Draco (Ceres)\",\"type\":\"生存\",\"typeKey\":\"Survival\",\"faction\":\"Grineer\",\"factionKey\":\"Grineer\",\"reward\":{\"items\":[\"Plushy2022 Q T C C\"],\"countedItems\":[],\"credits\":10000,\"asString\":\"Plushy2022 Q T C C + 10000cr\",\"itemString\":\"Plushy2022 Q T C C\",\"thumbnail\":\"\",\"color\":5198940},\"minEnemyLevel\":20,\"maxEnemyLevel\":30,\"maxWaveNum\":10,\"nightmare\":false,\"archwingRequired\":false,\"isSharkwing\":false,\"levelOverride\":\"Grineer Asteroid Survival Raid\",\"enemySpec\":\"Grineer Survival B\",\"advancedSpawners\":[],\"requiredItems\":[],\"levelAuras\":[]},\"eta\":\"15h 11m 9s\",\"rewardTypes\":[\"other\"],\"tag\":\"LotusGift\"}]\r\n"
      ]
     },
     "metadata": {},
     "output_type": "display_data"
    }
   ],
   "source": [
    "using System.Text.Json;\n",
    "using System.Net.Http;\n",
    "using System.Collections.Generic;\n",
    "\n",
    "HttpClient httpClient=new();\n",
    "\n",
    "var response = await httpClient.GetAsync(\"https://api.warframestat.us/pc/zh/alerts/\");\n",
    "var json = await response.Content.ReadAsStringAsync();\n",
    "var result =  System.Text.Json.JsonSerializer.Deserialize<alerts[]>(json);\n",
    "\n",
    "result.Display();\n",
    "\n",
    "response.Display();"
   ]
  }
 ],
 "metadata": {
  "kernelspec": {
   "display_name": ".NET (C#)",
   "language": "C#",
   "name": ".net-csharp"
  },
  "language_info": {
   "name": "csharp"
  },
  "polyglot_notebook": {
   "kernelInfo": {
    "defaultKernelName": "csharp",
    "items": [
     {
      "aliases": [],
      "name": "csharp"
     }
    ]
   }
  }
 },
 "nbformat": 4,
 "nbformat_minor": 2
}
