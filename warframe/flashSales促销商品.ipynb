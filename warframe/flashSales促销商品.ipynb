{
 "cells": [
  {
   "cell_type": "code",
   "execution_count": 2,
   "metadata": {
    "dotnet_interactive": {
     "language": "csharp"
    },
    "polyglot_notebook": {
     "kernelName": "csharp"
    },
    "vscode": {
     "languageId": "polyglot-notebook"
    }
   },
   "outputs": [],
   "source": [
    "// Root myDeserializedClass = JsonConvert.DeserializeObject<List<Root>>(myJsonResponse);\n",
    "    public class flashSales\n",
    "    {\n",
    "        public string item { get; set; }\n",
    "        public DateTime expiry { get; set; }\n",
    "        public DateTime activation { get; set; }\n",
    "        public int discount { get; set; }\n",
    "        public int regularOverride { get; set; }\n",
    "        public int premiumOverride { get; set; }\n",
    "        public bool isShownInMarket { get; set; }\n",
    "        public string id { get; set; }\n",
    "        public bool expired { get; set; }\n",
    "        public string eta { get; set; }\n",
    "    }\n",
    "\n"
   ]
  },
  {
   "cell_type": "code",
   "execution_count": 3,
   "metadata": {
    "dotnet_interactive": {
     "language": "csharp"
    },
    "polyglot_notebook": {
     "kernelName": "csharp"
    },
    "vscode": {
     "languageId": "polyglot-notebook"
    }
   },
   "outputs": [
    {
     "data": {
      "text/html": [
       "<table><thead><tr><th><i>index</i></th><th>value</th></tr></thead><tbody><tr><td>0</td><td><details class=\"dni-treeview\"><summary><span class=\"dni-code-hint\"><code>Submission#3+flashSales</code></span></summary><div><table><thead><tr></tr></thead><tbody><tr><td>item</td><td>Veilbreaker Warrior Pack</td></tr><tr><td>expiry</td><td><span>2023-07-13 17:00:00Z</span></td></tr><tr><td>activation</td><td><span>2022-09-06 00:00:00Z</span></td></tr><tr><td>discount</td><td><div class=\"dni-plaintext\"><pre>35</pre></div></td></tr><tr><td>regularOverride</td><td><div class=\"dni-plaintext\"><pre>0</pre></div></td></tr><tr><td>premiumOverride</td><td><div class=\"dni-plaintext\"><pre>0</pre></div></td></tr><tr><td>isShownInMarket</td><td><div class=\"dni-plaintext\"><pre>True</pre></div></td></tr><tr><td>id</td><td>VeilbreakerSupporterPack1689267600000</td></tr><tr><td>expired</td><td><div class=\"dni-plaintext\"><pre>False</pre></div></td></tr><tr><td>eta</td><td>4d 3h 58m 10s</td></tr></tbody></table></div></details></td></tr><tr><td>1</td><td><details class=\"dni-treeview\"><summary><span class=\"dni-code-hint\"><code>Submission#3+flashSales</code></span></summary><div><table><thead><tr></tr></thead><tbody><tr><td>item</td><td>Emergence Pack</td></tr><tr><td>expiry</td><td><span>2023-07-13 17:00:00Z</span></td></tr><tr><td>activation</td><td><span>2022-06-07 00:00:00Z</span></td></tr><tr><td>discount</td><td><div class=\"dni-plaintext\"><pre>40</pre></div></td></tr><tr><td>regularOverride</td><td><div class=\"dni-plaintext\"><pre>0</pre></div></td></tr><tr><td>premiumOverride</td><td><div class=\"dni-plaintext\"><pre>0</pre></div></td></tr><tr><td>isShownInMarket</td><td><div class=\"dni-plaintext\"><pre>True</pre></div></td></tr><tr><td>id</td><td>AOTZSupporterPackA1689267600000</td></tr><tr><td>expired</td><td><div class=\"dni-plaintext\"><pre>False</pre></div></td></tr><tr><td>eta</td><td>4d 3h 58m 10s</td></tr></tbody></table></div></details></td></tr><tr><td>2</td><td><details class=\"dni-treeview\"><summary><span class=\"dni-code-hint\"><code>Submission#3+flashSales</code></span></summary><div><table><thead><tr></tr></thead><tbody><tr><td>item</td><td>Initiate I I I P C Pack</td></tr><tr><td>expiry</td><td><span>2023-07-13 17:00:00Z</span></td></tr><tr><td>activation</td><td><span>2022-11-02 00:00:00Z</span></td></tr><tr><td>discount</td><td><div class=\"dni-plaintext\"><pre>25</pre></div></td></tr><tr><td>regularOverride</td><td><div class=\"dni-plaintext\"><pre>0</pre></div></td></tr><tr><td>premiumOverride</td><td><div class=\"dni-plaintext\"><pre>0</pre></div></td></tr><tr><td>isShownInMarket</td><td><div class=\"dni-plaintext\"><pre>True</pre></div></td></tr><tr><td>id</td><td>InitiateIIIPCPack1689267600000</td></tr><tr><td>expired</td><td><div class=\"dni-plaintext\"><pre>False</pre></div></td></tr><tr><td>eta</td><td>4d 3h 58m 10s</td></tr></tbody></table></div></details></td></tr><tr><td>3</td><td><details class=\"dni-treeview\"><summary><span class=\"dni-code-hint\"><code>Submission#3+flashSales</code></span></summary><div><table><thead><tr></tr></thead><tbody><tr><td>item</td><td>Titania Donann Collection</td></tr><tr><td>expiry</td><td><span>2023-12-31 00:00:00Z</span></td></tr><tr><td>activation</td><td><span>2023-01-30 00:00:00Z</span></td></tr><tr><td>discount</td><td><div class=\"dni-plaintext\"><pre>0</pre></div></td></tr><tr><td>regularOverride</td><td><div class=\"dni-plaintext\"><pre>0</pre></div></td></tr><tr><td>premiumOverride</td><td><div class=\"dni-plaintext\"><pre>195</pre></div></td></tr><tr><td>isShownInMarket</td><td><div class=\"dni-plaintext\"><pre>True</pre></div></td></tr><tr><td>id</td><td>TitaniaDeluxeIISkinBundle1703980800000</td></tr><tr><td>expired</td><td><div class=\"dni-plaintext\"><pre>False</pre></div></td></tr><tr><td>eta</td><td>174d 10h 58m 10s</td></tr></tbody></table></div></details></td></tr><tr><td>4</td><td><details class=\"dni-treeview\"><summary><span class=\"dni-code-hint\"><code>Submission#3+flashSales</code></span></summary><div><table><thead><tr></tr></thead><tbody><tr><td>item</td><td>Chrysalith Pack</td></tr><tr><td>expiry</td><td><span>2023-07-13 17:00:00Z</span></td></tr><tr><td>activation</td><td><span>2022-08-22 13:00:00Z</span></td></tr><tr><td>discount</td><td><div class=\"dni-plaintext\"><pre>45</pre></div></td></tr><tr><td>regularOverride</td><td><div class=\"dni-plaintext\"><pre>0</pre></div></td></tr><tr><td>premiumOverride</td><td><div class=\"dni-plaintext\"><pre>0</pre></div></td></tr><tr><td>isShownInMarket</td><td><div class=\"dni-plaintext\"><pre>True</pre></div></td></tr><tr><td>id</td><td>AOTZSupporterPackB1689267600000</td></tr><tr><td>expired</td><td><div class=\"dni-plaintext\"><pre>False</pre></div></td></tr><tr><td>eta</td><td>4d 3h 58m 10s</td></tr></tbody></table></div></details></td></tr><tr><td>5</td><td><details class=\"dni-treeview\"><summary><span class=\"dni-code-hint\"><code>Submission#3+flashSales</code></span></summary><div><table><thead><tr></tr></thead><tbody><tr><td>item</td><td>Xaku Lotus Deluxe Skin Bundle</td></tr><tr><td>expiry</td><td><span>2023-12-31 00:00:00Z</span></td></tr><tr><td>activation</td><td><span>2023-01-30 00:00:00Z</span></td></tr><tr><td>discount</td><td><div class=\"dni-plaintext\"><pre>0</pre></div></td></tr><tr><td>regularOverride</td><td><div class=\"dni-plaintext\"><pre>0</pre></div></td></tr><tr><td>premiumOverride</td><td><div class=\"dni-plaintext\"><pre>430</pre></div></td></tr><tr><td>isShownInMarket</td><td><div class=\"dni-plaintext\"><pre>True</pre></div></td></tr><tr><td>id</td><td>XakuLotusDeluxeSkinBundle1703980800000</td></tr><tr><td>expired</td><td><div class=\"dni-plaintext\"><pre>False</pre></div></td></tr><tr><td>eta</td><td>174d 10h 58m 10s</td></tr></tbody></table></div></details></td></tr><tr><td>6</td><td><details class=\"dni-treeview\"><summary><span class=\"dni-code-hint\"><code>Submission#3+flashSales</code></span></summary><div><table><thead><tr></tr></thead><tbody><tr><td>item</td><td>Tennocon2023 Store Item</td></tr><tr><td>expiry</td><td><span>2023-08-31 18:00:00Z</span></td></tr><tr><td>activation</td><td><span>2023-05-18 18:00:00Z</span></td></tr><tr><td>discount</td><td><div class=\"dni-plaintext\"><pre>0</pre></div></td></tr><tr><td>regularOverride</td><td><div class=\"dni-plaintext\"><pre>0</pre></div></td></tr><tr><td>premiumOverride</td><td><div class=\"dni-plaintext\"><pre>1</pre></div></td></tr><tr><td>isShownInMarket</td><td><div class=\"dni-plaintext\"><pre>True</pre></div></td></tr><tr><td>id</td><td>Tennocon2023StoreItem1693504800000</td></tr><tr><td>expired</td><td><div class=\"dni-plaintext\"><pre>False</pre></div></td></tr><tr><td>eta</td><td>53d 4h 58m 10s</td></tr></tbody></table></div></details></td></tr><tr><td>7</td><td><details class=\"dni-treeview\"><summary><span class=\"dni-code-hint\"><code>Submission#3+flashSales</code></span></summary><div><table><thead><tr></tr></thead><tbody><tr><td>item</td><td>Werewolf</td></tr><tr><td>expiry</td><td><span>2023-12-31 00:00:00Z</span></td></tr><tr><td>activation</td><td><span>2023-01-30 00:00:00Z</span></td></tr><tr><td>discount</td><td><div class=\"dni-plaintext\"><pre>0</pre></div></td></tr><tr><td>regularOverride</td><td><div class=\"dni-plaintext\"><pre>0</pre></div></td></tr><tr><td>premiumOverride</td><td><div class=\"dni-plaintext\"><pre>325</pre></div></td></tr><tr><td>isShownInMarket</td><td><div class=\"dni-plaintext\"><pre>True</pre></div></td></tr><tr><td>id</td><td>Werewolf1703980800000</td></tr><tr><td>expired</td><td><div class=\"dni-plaintext\"><pre>False</pre></div></td></tr><tr><td>eta</td><td>174d 10h 58m 10s</td></tr></tbody></table></div></details></td></tr><tr><td>8</td><td><details class=\"dni-treeview\"><summary><span class=\"dni-code-hint\"><code>Submission#3+flashSales</code></span></summary><div><table><thead><tr></tr></thead><tbody><tr><td>item</td><td>Prime Access1 Accessory Store Item</td></tr><tr><td>expiry</td><td><span>2023-08-31 00:00:00Z</span></td></tr><tr><td>activation</td><td><span>2023-03-15 00:00:00Z</span></td></tr><tr><td>discount</td><td><div class=\"dni-plaintext\"><pre>0</pre></div></td></tr><tr><td>regularOverride</td><td><div class=\"dni-plaintext\"><pre>0</pre></div></td></tr><tr><td>premiumOverride</td><td><div class=\"dni-plaintext\"><pre>1</pre></div></td></tr><tr><td>isShownInMarket</td><td><div class=\"dni-plaintext\"><pre>True</pre></div></td></tr><tr><td>id</td><td>PrimeAccess1AccessoryStoreItem1693440000000</td></tr><tr><td>expired</td><td><div class=\"dni-plaintext\"><pre>False</pre></div></td></tr><tr><td>eta</td><td>52d 10h 58m 10s</td></tr></tbody></table></div></details></td></tr><tr><td>9</td><td><details class=\"dni-treeview\"><summary><span class=\"dni-code-hint\"><code>Submission#3+flashSales</code></span></summary><div><table><thead><tr></tr></thead><tbody><tr><td>item</td><td>Orokin 催化剂</td></tr><tr><td>expiry</td><td><span>2023-12-31 00:00:00Z</span></td></tr><tr><td>activation</td><td><span>2023-01-30 00:00:00Z</span></td></tr><tr><td>discount</td><td><div class=\"dni-plaintext\"><pre>0</pre></div></td></tr><tr><td>regularOverride</td><td><div class=\"dni-plaintext\"><pre>0</pre></div></td></tr><tr><td>premiumOverride</td><td><div class=\"dni-plaintext\"><pre>20</pre></div></td></tr><tr><td>isShownInMarket</td><td><div class=\"dni-plaintext\"><pre>True</pre></div></td></tr><tr><td>id</td><td>OrokinCatalyst1703980800000</td></tr><tr><td>expired</td><td><div class=\"dni-plaintext\"><pre>False</pre></div></td></tr><tr><td>eta</td><td>174d 10h 58m 10s</td></tr></tbody></table></div></details></td></tr><tr><td>10</td><td><details class=\"dni-treeview\"><summary><span class=\"dni-code-hint\"><code>Submission#3+flashSales</code></span></summary><div><table><thead><tr></tr></thead><tbody><tr><td>item</td><td>Saryn Lunar New Year Skin</td></tr><tr><td>expiry</td><td><span>2023-12-31 00:00:00Z</span></td></tr><tr><td>activation</td><td><span>2023-01-30 00:00:00Z</span></td></tr><tr><td>discount</td><td><div class=\"dni-plaintext\"><pre>0</pre></div></td></tr><tr><td>regularOverride</td><td><div class=\"dni-plaintext\"><pre>0</pre></div></td></tr><tr><td>premiumOverride</td><td><div class=\"dni-plaintext\"><pre>165</pre></div></td></tr><tr><td>isShownInMarket</td><td><div class=\"dni-plaintext\"><pre>True</pre></div></td></tr><tr><td>id</td><td>SarynLunarNewYearSkin1703980800000</td></tr><tr><td>expired</td><td><div class=\"dni-plaintext\"><pre>False</pre></div></td></tr><tr><td>eta</td><td>174d 10h 58m 10s</td></tr></tbody></table></div></details></td></tr><tr><td>11</td><td><details class=\"dni-treeview\"><summary><span class=\"dni-code-hint\"><code>Submission#3+flashSales</code></span></summary><div><table><thead><tr></tr></thead><tbody><tr><td>item</td><td>Mesa Volt Deluxe Skin Bundle</td></tr><tr><td>expiry</td><td><span>2023-12-31 00:00:00Z</span></td></tr><tr><td>activation</td><td><span>2023-01-30 00:00:00Z</span></td></tr><tr><td>discount</td><td><div class=\"dni-plaintext\"><pre>0</pre></div></td></tr><tr><td>regularOverride</td><td><div class=\"dni-plaintext\"><pre>0</pre></div></td></tr><tr><td>premiumOverride</td><td><div class=\"dni-plaintext\"><pre>260</pre></div></td></tr><tr><td>isShownInMarket</td><td><div class=\"dni-plaintext\"><pre>True</pre></div></td></tr><tr><td>id</td><td>MesaVoltDeluxeSkinBundle1703980800000</td></tr><tr><td>expired</td><td><div class=\"dni-plaintext\"><pre>False</pre></div></td></tr><tr><td>eta</td><td>174d 10h 58m 10s</td></tr></tbody></table></div></details></td></tr><tr><td>12</td><td><details class=\"dni-treeview\"><summary><span class=\"dni-code-hint\"><code>Submission#3+flashSales</code></span></summary><div><table><thead><tr></tr></thead><tbody><tr><td>item</td><td>Prime Access Complete Bundle</td></tr><tr><td>expiry</td><td><span>2023-08-31 15:00:00Z</span></td></tr><tr><td>activation</td><td><span>2023-03-15 00:00:00Z</span></td></tr><tr><td>discount</td><td><div class=\"dni-plaintext\"><pre>0</pre></div></td></tr><tr><td>regularOverride</td><td><div class=\"dni-plaintext\"><pre>0</pre></div></td></tr><tr><td>premiumOverride</td><td><div class=\"dni-plaintext\"><pre>1</pre></div></td></tr><tr><td>isShownInMarket</td><td><div class=\"dni-plaintext\"><pre>True</pre></div></td></tr><tr><td>id</td><td>PrimeAccess1Tier3StoreItem1693494000000</td></tr><tr><td>expired</td><td><div class=\"dni-plaintext\"><pre>False</pre></div></td></tr><tr><td>eta</td><td>53d 1h 58m 10s</td></tr></tbody></table></div></details></td></tr><tr><td>13</td><td><details class=\"dni-treeview\"><summary><span class=\"dni-code-hint\"><code>Submission#3+flashSales</code></span></summary><div><table><thead><tr></tr></thead><tbody><tr><td>item</td><td>Fog of War Ephemera</td></tr><tr><td>expiry</td><td><span>2023-12-31 00:00:00Z</span></td></tr><tr><td>activation</td><td><span>2023-01-30 00:00:00Z</span></td></tr><tr><td>discount</td><td><div class=\"dni-plaintext\"><pre>0</pre></div></td></tr><tr><td>regularOverride</td><td><div class=\"dni-plaintext\"><pre>0</pre></div></td></tr><tr><td>premiumOverride</td><td><div class=\"dni-plaintext\"><pre>80</pre></div></td></tr><tr><td>isShownInMarket</td><td><div class=\"dni-plaintext\"><pre>True</pre></div></td></tr><tr><td>id</td><td>NarmerEvolvingEphemeraA1703980800000</td></tr><tr><td>expired</td><td><div class=\"dni-plaintext\"><pre>False</pre></div></td></tr><tr><td>eta</td><td>174d 10h 58m 10s</td></tr></tbody></table></div></details></td></tr><tr><td>14</td><td><details class=\"dni-treeview\"><summary><span class=\"dni-code-hint\"><code>Submission#3+flashSales</code></span></summary><div><table><thead><tr></tr></thead><tbody><tr><td>item</td><td>Voruna Voidshell Skin Bundle</td></tr><tr><td>expiry</td><td><span>2023-12-31 00:00:00Z</span></td></tr><tr><td>activation</td><td><span>2023-01-30 00:00:00Z</span></td></tr><tr><td>discount</td><td><div class=\"dni-plaintext\"><pre>0</pre></div></td></tr><tr><td>regularOverride</td><td><div class=\"dni-plaintext\"><pre>0</pre></div></td></tr><tr><td>premiumOverride</td><td><div class=\"dni-plaintext\"><pre>90</pre></div></td></tr><tr><td>isShownInMarket</td><td><div class=\"dni-plaintext\"><pre>True</pre></div></td></tr><tr><td>id</td><td>VorunaVoidshellSkinBundle1703980800000</td></tr><tr><td>expired</td><td><div class=\"dni-plaintext\"><pre>False</pre></div></td></tr><tr><td>eta</td><td>174d 10h 58m 10s</td></tr></tbody></table></div></details></td></tr><tr><td>15</td><td><details class=\"dni-treeview\"><summary><span class=\"dni-code-hint\"><code>Submission#3+flashSales</code></span></summary><div><table><thead><tr></tr></thead><tbody><tr><td>item</td><td>Forma 3-Pack</td></tr><tr><td>expiry</td><td><span>2023-12-31 00:00:00Z</span></td></tr><tr><td>activation</td><td><span>2023-01-30 00:00:00Z</span></td></tr><tr><td>discount</td><td><div class=\"dni-plaintext\"><pre>0</pre></div></td></tr><tr><td>regularOverride</td><td><div class=\"dni-plaintext\"><pre>0</pre></div></td></tr><tr><td>premiumOverride</td><td><div class=\"dni-plaintext\"><pre>35</pre></div></td></tr><tr><td>isShownInMarket</td><td><div class=\"dni-plaintext\"><pre>True</pre></div></td></tr><tr><td>id</td><td>FormaPack1703980800000</td></tr><tr><td>expired</td><td><div class=\"dni-plaintext\"><pre>False</pre></div></td></tr><tr><td>eta</td><td>174d 10h 58m 10s</td></tr></tbody></table></div></details></td></tr><tr><td>16</td><td><details class=\"dni-treeview\"><summary><span class=\"dni-code-hint\"><code>Submission#3+flashSales</code></span></summary><div><table><thead><tr></tr></thead><tbody><tr><td>item</td><td>Twitch Prime Mantis Iridos Landing Craft Store Item</td></tr><tr><td>expiry</td><td><span>2023-07-16 17:55:00Z</span></td></tr><tr><td>activation</td><td><span>2023-06-08 18:00:00Z</span></td></tr><tr><td>discount</td><td><div class=\"dni-plaintext\"><pre>0</pre></div></td></tr><tr><td>regularOverride</td><td><div class=\"dni-plaintext\"><pre>0</pre></div></td></tr><tr><td>premiumOverride</td><td><div class=\"dni-plaintext\"><pre>1</pre></div></td></tr><tr><td>isShownInMarket</td><td><div class=\"dni-plaintext\"><pre>True</pre></div></td></tr><tr><td>id</td><td>TwitchPrimeMantisIridosLandingCraftStoreItem1689530100000</td></tr><tr><td>expired</td><td><div class=\"dni-plaintext\"><pre>False</pre></div></td></tr><tr><td>eta</td><td>7d 4h 53m 10s</td></tr></tbody></table></div></details></td></tr><tr><td>17</td><td><details class=\"dni-treeview\"><summary><span class=\"dni-code-hint\"><code>Submission#3+flashSales</code></span></summary><div><table><thead><tr></tr></thead><tbody><tr><td>item</td><td>Twitch Prime Mantis Iridos Landing Craft Store Item No Logo</td></tr><tr><td>expiry</td><td><span>2023-07-16 17:55:00Z</span></td></tr><tr><td>activation</td><td><span>2023-06-08 18:00:00Z</span></td></tr><tr><td>discount</td><td><div class=\"dni-plaintext\"><pre>0</pre></div></td></tr><tr><td>regularOverride</td><td><div class=\"dni-plaintext\"><pre>0</pre></div></td></tr><tr><td>premiumOverride</td><td><div class=\"dni-plaintext\"><pre>1</pre></div></td></tr><tr><td>isShownInMarket</td><td><div class=\"dni-plaintext\"><pre>True</pre></div></td></tr><tr><td>id</td><td>TwitchPrimeMantisIridosLandingCraftStoreItemNoLogo1689530100000</td></tr><tr><td>expired</td><td><div class=\"dni-plaintext\"><pre>False</pre></div></td></tr><tr><td>eta</td><td>7d 4h 53m 10s</td></tr></tbody></table></div></details></td></tr><tr><td>18</td><td><details class=\"dni-treeview\"><summary><span class=\"dni-code-hint\"><code>Submission#3+flashSales</code></span></summary><div><table><thead><tr></tr></thead><tbody><tr><td>item</td><td>Ten Year Anniversary Community Art Pack</td></tr><tr><td>expiry</td><td><span>2024-07-28 13:00:00Z</span></td></tr><tr><td>activation</td><td><span>2023-07-01 13:00:00Z</span></td></tr><tr><td>discount</td><td><div class=\"dni-plaintext\"><pre>0</pre></div></td></tr><tr><td>regularOverride</td><td><div class=\"dni-plaintext\"><pre>0</pre></div></td></tr><tr><td>premiumOverride</td><td><div class=\"dni-plaintext\"><pre>70</pre></div></td></tr><tr><td>isShownInMarket</td><td><div class=\"dni-plaintext\"><pre>True</pre></div></td></tr><tr><td>id</td><td>TenYearAnniversaryCommunityArtPack1722171600000</td></tr><tr><td>expired</td><td><div class=\"dni-plaintext\"><pre>False</pre></div></td></tr><tr><td>eta</td><td>384d 23h 58m 10s</td></tr></tbody></table></div></details></td></tr><tr><td>19</td><td><details class=\"dni-treeview\"><summary><span class=\"dni-code-hint\"><code>Submission#3+flashSales</code></span></summary><div><table><thead><tr></tr></thead><tbody><tr><td>item</td><td>Community10 Year Ordis Glyph</td></tr><tr><td>expiry</td><td><span>2023-07-31 11:01:00Z</span></td></tr><tr><td>activation</td><td><span>2023-07-01 11:01:00Z</span></td></tr><tr><td>discount</td><td><div class=\"dni-plaintext\"><pre>0</pre></div></td></tr><tr><td>regularOverride</td><td><div class=\"dni-plaintext\"><pre>0</pre></div></td></tr><tr><td>premiumOverride</td><td><div class=\"dni-plaintext\"><pre>20</pre></div></td></tr><tr><td>isShownInMarket</td><td><div class=\"dni-plaintext\"><pre>True</pre></div></td></tr><tr><td>id</td><td>Community10YearOrdisGlyph1690801260000</td></tr><tr><td>expired</td><td><div class=\"dni-plaintext\"><pre>False</pre></div></td></tr><tr><td>eta</td><td>21d 21h 59m 10s</td></tr></tbody></table></div></details></td></tr><tr><td colspan=\"2\"><i>(4 more)</i></td></tr></tbody></table><style>\r\n",
       ".dni-code-hint {\r\n",
       "    font-style: italic;\r\n",
       "    overflow: hidden;\r\n",
       "    white-space: nowrap;\r\n",
       "}\r\n",
       ".dni-treeview {\r\n",
       "    white-space: nowrap;\r\n",
       "}\r\n",
       ".dni-treeview td {\r\n",
       "    vertical-align: top;\r\n",
       "    text-align: start;\r\n",
       "}\r\n",
       "details.dni-treeview {\r\n",
       "    padding-left: 1em;\r\n",
       "}\r\n",
       "table td {\r\n",
       "    text-align: start;\r\n",
       "}\r\n",
       "table tr { \r\n",
       "    vertical-align: top; \r\n",
       "    margin: 0em 0px;\r\n",
       "}\r\n",
       "table tr td pre \r\n",
       "{ \r\n",
       "    vertical-align: top !important; \r\n",
       "    margin: 0em 0px !important;\r\n",
       "} \r\n",
       "table th {\r\n",
       "    text-align: start;\r\n",
       "}\r\n",
       "</style>"
      ]
     },
     "metadata": {},
     "output_type": "display_data"
    }
   ],
   "source": [
    "using System.Text.Json;\n",
    "using System.Net.Http;\n",
    "using System.Collections.Generic;\n",
    "\n",
    "HttpClient httpClient=new();\n",
    "\n",
    "var response = await httpClient.GetAsync(\"https://api.warframestat.us/pc/zh/flashSales/\");\n",
    "var json = await response.Content.ReadAsStringAsync();\n",
    "var result =  System.Text.Json.JsonSerializer.Deserialize<List<flashSales>>(json);\n",
    "\n",
    "result.Display();"
   ]
  }
 ],
 "metadata": {
  "language_info": {
   "name": "csharp"
  },
  "orig_nbformat": 4
 },
 "nbformat": 4,
 "nbformat_minor": 2
}
