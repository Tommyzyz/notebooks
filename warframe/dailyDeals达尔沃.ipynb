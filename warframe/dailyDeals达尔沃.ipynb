{
 "cells": [
  {
   "cell_type": "code",
   "execution_count": 1,
   "metadata": {
    "dotnet_interactive": {
     "language": "csharp"
    },
    "polyglot_notebook": {
     "kernelName": "csharp"
    },
    "vscode": {
     "languageId": "polyglot-notebook"
    }
   },
   "outputs": [],
   "source": [
    "// Root myDeserializedClass = JsonConvert.DeserializeObject<List<Root>>(myJsonResponse);\n",
    "    public class dailyDeals\n",
    "    {\n",
    "        public string item { get; set; }\n",
    "        public string uniqueName { get; set; }\n",
    "        public DateTime expiry { get; set; }\n",
    "        public DateTime activation { get; set; }\n",
    "        public int originalPrice { get; set; }\n",
    "        public int salePrice { get; set; }\n",
    "        public int total { get; set; }\n",
    "        public int sold { get; set; }\n",
    "        public string id { get; set; }\n",
    "        public string eta { get; set; }\n",
    "        public int discount { get; set; }\n",
    "    }\n",
    "\n"
   ]
  },
  {
   "cell_type": "code",
   "execution_count": 2,
   "metadata": {
    "dotnet_interactive": {
     "language": "csharp"
    },
    "polyglot_notebook": {
     "kernelName": "csharp"
    },
    "vscode": {
     "languageId": "polyglot-notebook"
    }
   },
   "outputs": [
    {
     "data": {
      "text/html": [
       "<table><thead><tr><th><i>index</i></th><th>value</th></tr></thead><tbody><tr><td>0</td><td><details class=\"dni-treeview\"><summary><span class=\"dni-code-hint\"><code>Submission#1+dailyDeals</code></span></summary><div><table><thead><tr></tr></thead><tbody><tr><td>item</td><td><div class=\"dni-plaintext\"><pre>烈焰匕首</pre></div></td></tr><tr><td>uniqueName</td><td><div class=\"dni-plaintext\"><pre>/Lotus/StoreItems/Weapons/Tenno/Melee/Dagger/Dagger</pre></div></td></tr><tr><td>expiry</td><td><span>2024-11-04 03:00:00Z</span></td></tr><tr><td>activation</td><td><span>2024-11-03 01:00:00Z</span></td></tr><tr><td>originalPrice</td><td><div class=\"dni-plaintext\"><pre>75</pre></div></td></tr><tr><td>salePrice</td><td><div class=\"dni-plaintext\"><pre>45</pre></div></td></tr><tr><td>total</td><td><div class=\"dni-plaintext\"><pre>300</pre></div></td></tr><tr><td>sold</td><td><div class=\"dni-plaintext\"><pre>16</pre></div></td></tr><tr><td>id</td><td><div class=\"dni-plaintext\"><pre>Dagger1730689200000</pre></div></td></tr><tr><td>eta</td><td><div class=\"dni-plaintext\"><pre>21h 37m 9s</pre></div></td></tr><tr><td>discount</td><td><div class=\"dni-plaintext\"><pre>40</pre></div></td></tr></tbody></table></div></details></td></tr></tbody></table><style>\r\n",
       ".dni-code-hint {\r\n",
       "    font-style: italic;\r\n",
       "    overflow: hidden;\r\n",
       "    white-space: nowrap;\r\n",
       "}\r\n",
       ".dni-treeview {\r\n",
       "    white-space: nowrap;\r\n",
       "}\r\n",
       ".dni-treeview td {\r\n",
       "    vertical-align: top;\r\n",
       "    text-align: start;\r\n",
       "}\r\n",
       "details.dni-treeview {\r\n",
       "    padding-left: 1em;\r\n",
       "}\r\n",
       "table td {\r\n",
       "    text-align: start;\r\n",
       "}\r\n",
       "table tr { \r\n",
       "    vertical-align: top; \r\n",
       "    margin: 0em 0px;\r\n",
       "}\r\n",
       "table tr td pre \r\n",
       "{ \r\n",
       "    vertical-align: top !important; \r\n",
       "    margin: 0em 0px !important;\r\n",
       "} \r\n",
       "table th {\r\n",
       "    text-align: start;\r\n",
       "}\r\n",
       "</style>"
      ]
     },
     "metadata": {},
     "output_type": "display_data"
    }
   ],
   "source": [
    "using System.Text.Json;\n",
    "using System.Net.Http;\n",
    "using System.Collections.Generic;\n",
    "\n",
    "HttpClient httpClient=new();\n",
    "\n",
    "var response = await httpClient.GetAsync(\"https://api.warframestat.us/pc/zh/dailyDeals/\");\n",
    "var json = await response.Content.ReadAsStringAsync();\n",
    "var result =  System.Text.Json.JsonSerializer.Deserialize<List<dailyDeals>>(json);\n",
    "\n",
    "result.Display();"
   ]
  }
 ],
 "metadata": {
  "kernelspec": {
   "display_name": ".NET (C#)",
   "language": "C#",
   "name": ".net-csharp"
  },
  "language_info": {
   "name": "csharp"
  },
  "orig_nbformat": 4,
  "polyglot_notebook": {
   "kernelInfo": {
    "defaultKernelName": "csharp",
    "items": [
     {
      "aliases": [],
      "name": "csharp"
     }
    ]
   }
  }
 },
 "nbformat": 4,
 "nbformat_minor": 2
}
