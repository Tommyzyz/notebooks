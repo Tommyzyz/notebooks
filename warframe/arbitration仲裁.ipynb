{
 "cells": [
  {
   "cell_type": "code",
   "execution_count": 2,
   "metadata": {
    "dotnet_interactive": {
     "language": "csharp"
    },
    "polyglot_notebook": {
     "kernelName": "csharp"
    },
    "vscode": {
     "languageId": "polyglot-notebook"
    }
   },
   "outputs": [],
   "source": [
    "// arbitration: 仲裁\n",
    "\n",
    "// Root myDeserializedClass = JsonConvert.DeserializeObject<Root>(myJsonResponse);\n",
    "    public class arbitration\n",
    "    {\n",
    "        public DateTime activation { get; set; }\n",
    "        public DateTime expiry { get; set; }\n",
    "        public string enemy { get; set; }\n",
    "        public string type { get; set; }\n",
    "        public bool archwing { get; set; }\n",
    "        public bool sharkwing { get; set; }\n",
    "        public string node { get; set; }\n",
    "        public string nodeKey { get; set; }\n",
    "        public string typeKey { get; set; }\n",
    "        public string id { get; set; }\n",
    "        public bool expired { get; set; }\n",
    "    }\n",
    "\n"
   ]
  },
  {
   "cell_type": "code",
   "execution_count": 3,
   "metadata": {
    "dotnet_interactive": {
     "language": "csharp"
    },
    "polyglot_notebook": {
     "kernelName": "csharp"
    },
    "vscode": {
     "languageId": "polyglot-notebook"
    }
   },
   "outputs": [
    {
     "data": {
      "text/html": [
       "<details open=\"open\" class=\"dni-treeview\"><summary><span class=\"dni-code-hint\"><code>Submission#3+arbitration</code></span></summary><div><table><thead><tr></tr></thead><tbody><tr><td>activation</td><td><span>2024-02-11 11:05:00Z</span></td></tr><tr><td>expiry</td><td><span>2024-02-11 12:04:00Z</span></td></tr><tr><td>enemy</td><td><div class=\"dni-plaintext\"><pre>Infested</pre></div></td></tr><tr><td>type</td><td><div class=\"dni-plaintext\"><pre>黑暗地帶生存</pre></div></td></tr><tr><td>archwing</td><td><div class=\"dni-plaintext\"><pre>False</pre></div></td></tr><tr><td>sharkwing</td><td><div class=\"dni-plaintext\"><pre>False</pre></div></td></tr><tr><td>node</td><td><div class=\"dni-plaintext\"><pre>Gabii (穀神星)</pre></div></td></tr><tr><td>nodeKey</td><td><div class=\"dni-plaintext\"><pre>Gabii (Ceres)</pre></div></td></tr><tr><td>typeKey</td><td><div class=\"dni-plaintext\"><pre>Dark Sector Survival</pre></div></td></tr><tr><td>id</td><td><div class=\"dni-plaintext\"><pre>614c9a1c5a64b8c9b5fe97132e84e8a8511aae108dd41f0c69880b1ca33990a6</pre></div></td></tr><tr><td>expired</td><td><div class=\"dni-plaintext\"><pre>True</pre></div></td></tr></tbody></table></div></details><style>\r\n",
       ".dni-code-hint {\r\n",
       "    font-style: italic;\r\n",
       "    overflow: hidden;\r\n",
       "    white-space: nowrap;\r\n",
       "}\r\n",
       ".dni-treeview {\r\n",
       "    white-space: nowrap;\r\n",
       "}\r\n",
       ".dni-treeview td {\r\n",
       "    vertical-align: top;\r\n",
       "    text-align: start;\r\n",
       "}\r\n",
       "details.dni-treeview {\r\n",
       "    padding-left: 1em;\r\n",
       "}\r\n",
       "table td {\r\n",
       "    text-align: start;\r\n",
       "}\r\n",
       "table tr { \r\n",
       "    vertical-align: top; \r\n",
       "    margin: 0em 0px;\r\n",
       "}\r\n",
       "table tr td pre \r\n",
       "{ \r\n",
       "    vertical-align: top !important; \r\n",
       "    margin: 0em 0px !important;\r\n",
       "} \r\n",
       "table th {\r\n",
       "    text-align: start;\r\n",
       "}\r\n",
       "</style>"
      ]
     },
     "metadata": {},
     "output_type": "display_data"
    }
   ],
   "source": [
    "using System.Text.Json;\n",
    "using System.Net.Http;\n",
    "using System.Collections.Generic;\n",
    "\n",
    "HttpClient httpClient=new();\n",
    "\n",
    "var response = await httpClient.GetAsync(\"https://api.warframestat.us/pc/zh/arbitration/\");\n",
    "var json = await response.Content.ReadAsStringAsync();\n",
    "var result =  System.Text.Json.JsonSerializer.Deserialize<arbitration>(json);\n",
    "\n",
    "result.Display();"
   ]
  }
 ],
 "metadata": {
  "language_info": {
   "name": "csharp"
  },
  "orig_nbformat": 4
 },
 "nbformat": 4,
 "nbformat_minor": 2
}
