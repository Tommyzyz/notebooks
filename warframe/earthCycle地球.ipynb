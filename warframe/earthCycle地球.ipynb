{
 "cells": [
  {
   "cell_type": "code",
   "execution_count": 1,
   "metadata": {
    "dotnet_interactive": {
     "language": "csharp"
    },
    "polyglot_notebook": {
     "kernelName": "csharp"
    },
    "vscode": {
     "languageId": "polyglot-notebook"
    }
   },
   "outputs": [],
   "source": [
    "// Root myDeserializedClass = JsonConvert.DeserializeObject<Root>(myJsonResponse);\n",
    "    public class earthCycle\n",
    "    {\n",
    "        public string id { get; set; }\n",
    "        public DateTime expiry { get; set; }\n",
    "        public DateTime activation { get; set; }\n",
    "        public bool isDay { get; set; }\n",
    "        public string state { get; set; }\n",
    "        public string timeLeft { get; set; }\n",
    "    }\n",
    "\n"
   ]
  },
  {
   "cell_type": "code",
   "execution_count": 4,
   "metadata": {
    "dotnet_interactive": {
     "language": "csharp"
    },
    "polyglot_notebook": {
     "kernelName": "csharp"
    },
    "vscode": {
     "languageId": "polyglot-notebook"
    }
   },
   "outputs": [
    {
     "data": {
      "text/html": [
       "<details open=\"open\" class=\"dni-treeview\"><summary><span class=\"dni-code-hint\"><code>Submission#2+earthCycle</code></span></summary><div><table><thead><tr></tr></thead><tbody><tr><td>id</td><td>earthCycle1689091200000</td></tr><tr><td>expiry</td><td><span>2023-07-11 16:00:00Z</span></td></tr><tr><td>activation</td><td><span>2023-07-11 12:00:00Z</span></td></tr><tr><td>isDay</td><td><div class=\"dni-plaintext\"><pre>False</pre></div></td></tr><tr><td>state</td><td>night</td></tr><tr><td>timeLeft</td><td>1h 48m 59s</td></tr></tbody></table></div></details><style>\r\n",
       ".dni-code-hint {\r\n",
       "    font-style: italic;\r\n",
       "    overflow: hidden;\r\n",
       "    white-space: nowrap;\r\n",
       "}\r\n",
       ".dni-treeview {\r\n",
       "    white-space: nowrap;\r\n",
       "}\r\n",
       ".dni-treeview td {\r\n",
       "    vertical-align: top;\r\n",
       "    text-align: start;\r\n",
       "}\r\n",
       "details.dni-treeview {\r\n",
       "    padding-left: 1em;\r\n",
       "}\r\n",
       "table td {\r\n",
       "    text-align: start;\r\n",
       "}\r\n",
       "table tr { \r\n",
       "    vertical-align: top; \r\n",
       "    margin: 0em 0px;\r\n",
       "}\r\n",
       "table tr td pre \r\n",
       "{ \r\n",
       "    vertical-align: top !important; \r\n",
       "    margin: 0em 0px !important;\r\n",
       "} \r\n",
       "table th {\r\n",
       "    text-align: start;\r\n",
       "}\r\n",
       "</style>"
      ]
     },
     "metadata": {},
     "output_type": "display_data"
    }
   ],
   "source": [
    "using System.Text.Json;\n",
    "using System.Net.Http;\n",
    "using System.Collections.Generic;\n",
    "using System;\n",
    "\n",
    "HttpClient httpClient=new();\n",
    "Uri uri = new(\"https://api.warframestat.us/pc/zh/earthCycle/\");\n",
    "\n",
    "var response = await httpClient.GetAsync(uri);\n",
    "var json = await response.Content.ReadAsStringAsync();\n",
    "var result =  System.Text.Json.JsonSerializer.Deserialize<earthCycle>(json);\n",
    "\n",
    "result.Display();"
   ]
  }
 ],
 "metadata": {
  "language_info": {
   "name": "csharp"
  },
  "orig_nbformat": 4
 },
 "nbformat": 4,
 "nbformat_minor": 2
}
