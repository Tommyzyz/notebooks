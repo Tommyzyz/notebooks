{
 "cells": [
  {
   "cell_type": "code",
   "execution_count": 1,
   "metadata": {
    "dotnet_interactive": {
     "language": "csharp"
    },
    "polyglot_notebook": {
     "kernelName": "csharp"
    },
    "vscode": {
     "languageId": "polyglot-notebook"
    }
   },
   "outputs": [],
   "source": [
    "// cambionCycle: 火卫二平原\n",
    "\n",
    "// Root myDeserializedClass = JsonConvert.DeserializeObject<Root>(myJsonResponse);\n",
    "    public class cambionCycle\n",
    "    {\n",
    "        public string id { get; set; }\n",
    "        public DateTime activation { get; set; }\n",
    "        public DateTime expiry { get; set; }\n",
    "        public string timeLeft { get; set; }\n",
    "        public string state { get; set; }\n",
    "        public string active { get; set; }\n",
    "    }\n",
    "\n"
   ]
  },
  {
   "cell_type": "code",
   "execution_count": 2,
   "metadata": {
    "dotnet_interactive": {
     "language": "csharp"
    },
    "polyglot_notebook": {
     "kernelName": "csharp"
    },
    "vscode": {
     "languageId": "polyglot-notebook"
    }
   },
   "outputs": [
    {
     "data": {
      "text/html": [
       "<details open=\"open\" class=\"dni-treeview\"><summary><span class=\"dni-code-hint\"><code>Submission#2+cambionCycle</code></span></summary><div><table><thead><tr></tr></thead><tbody><tr><td>id</td><td><div class=\"dni-plaintext\"><pre>cambionCycle1707571140000</pre></div></td></tr><tr><td>activation</td><td><span>2024-02-10 11:39:00Z</span></td></tr><tr><td>expiry</td><td><span>2024-02-10 13:19:00Z</span></td></tr><tr><td>timeLeft</td><td><div class=\"dni-plaintext\"><pre>1h 7m 59s</pre></div></td></tr><tr><td>state</td><td><div class=\"dni-plaintext\"><pre>fass</pre></div></td></tr><tr><td>active</td><td><div class=\"dni-plaintext\"><pre>fass</pre></div></td></tr></tbody></table></div></details><style>\r\n",
       ".dni-code-hint {\r\n",
       "    font-style: italic;\r\n",
       "    overflow: hidden;\r\n",
       "    white-space: nowrap;\r\n",
       "}\r\n",
       ".dni-treeview {\r\n",
       "    white-space: nowrap;\r\n",
       "}\r\n",
       ".dni-treeview td {\r\n",
       "    vertical-align: top;\r\n",
       "    text-align: start;\r\n",
       "}\r\n",
       "details.dni-treeview {\r\n",
       "    padding-left: 1em;\r\n",
       "}\r\n",
       "table td {\r\n",
       "    text-align: start;\r\n",
       "}\r\n",
       "table tr { \r\n",
       "    vertical-align: top; \r\n",
       "    margin: 0em 0px;\r\n",
       "}\r\n",
       "table tr td pre \r\n",
       "{ \r\n",
       "    vertical-align: top !important; \r\n",
       "    margin: 0em 0px !important;\r\n",
       "} \r\n",
       "table th {\r\n",
       "    text-align: start;\r\n",
       "}\r\n",
       "</style>"
      ]
     },
     "metadata": {},
     "output_type": "display_data"
    }
   ],
   "source": [
    "using System.Text.Json;\n",
    "using System.Net.Http;\n",
    "using System.Collections.Generic;\n",
    "\n",
    "HttpClient httpClient=new();\n",
    "\n",
    "var response = await httpClient.GetAsync(\"https://api.warframestat.us/pc/zh/cambionCycle/\");\n",
    "var json = await response.Content.ReadAsStringAsync();\n",
    "var result =  System.Text.Json.JsonSerializer.Deserialize<cambionCycle>(json);\n",
    "\n",
    "result.Display();"
   ]
  }
 ],
 "metadata": {
  "language_info": {
   "name": "csharp"
  },
  "orig_nbformat": 4
 },
 "nbformat": 4,
 "nbformat_minor": 2
}
