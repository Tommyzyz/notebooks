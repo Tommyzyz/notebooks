{
 "cells": [
  {
   "cell_type": "code",
   "execution_count": 1,
   "metadata": {
    "dotnet_interactive": {
     "language": "csharp"
    },
    "polyglot_notebook": {
     "kernelName": "csharp"
    },
    "vscode": {
     "languageId": "polyglot-notebook"
    }
   },
   "outputs": [],
   "source": [
    "// Root myDeserializedClass = JsonConvert.DeserializeObject<Root>(myJsonResponse);\n",
    "    public class Metadata\n",
    "    {\n",
    "    }\n",
    "\n",
    "    public class NextAlt\n",
    "    {\n",
    "        public DateTime expiry { get; set; }\n",
    "        public DateTime activation { get; set; }\n",
    "    }\n",
    "\n",
    "    public class events\n",
    "    {\n",
    "        public string id { get; set; }\n",
    "        public DateTime activation { get; set; }\n",
    "        public string startString { get; set; }\n",
    "        public DateTime expiry { get; set; }\n",
    "        public bool active { get; set; }\n",
    "        public int? maximumScore { get; set; }\n",
    "        public int? currentScore { get; set; }\n",
    "        public object smallInterval { get; set; }\n",
    "        public object largeInterval { get; set; }\n",
    "        public string description { get; set; }\n",
    "        public string tooltip { get; set; }\n",
    "        public string node { get; set; }\n",
    "        public bool expired { get; set; }\n",
    "        public bool isPersonal { get; set; }\n",
    "        public string asString { get; set; }\n",
    "        public Metadata metadata { get; set; }\n",
    "        public DateTime altExpiry { get; set; }\n",
    "        public DateTime altActivation { get; set; }\n",
    "        public NextAlt nextAlt { get; set; }\n",
    "    }\n"
   ]
  },
  {
   "cell_type": "code",
   "execution_count": 2,
   "metadata": {
    "dotnet_interactive": {
     "language": "csharp"
    },
    "polyglot_notebook": {
     "kernelName": "csharp"
    },
    "vscode": {
     "languageId": "polyglot-notebook"
    }
   },
   "outputs": [
    {
     "data": {
      "text/html": [
       "<table><thead><tr><th><i>index</i></th><th>value</th></tr></thead><tbody><tr><td>0</td><td><details class=\"dni-treeview\"><summary><span class=\"dni-code-hint\"><code>Submission#2+events</code></span></summary><div><table><thead><tr></tr></thead><tbody><tr><td>id</td><td><div class=\"dni-plaintext\"><pre>5c7cb0d00000000000000000</pre></div></td></tr><tr><td>activation</td><td><span>2024-10-24 16:00:00Z</span></td></tr><tr><td>startString</td><td><div class=\"dni-plaintext\"><pre>-10h 15m 20s</pre></div></td></tr><tr><td>expiry</td><td><span>2024-11-07 16:00:00Z</span></td></tr><tr><td>active</td><td><div class=\"dni-plaintext\"><pre>True</pre></div></td></tr><tr><td>maximumScore</td><td><div class=\"dni-plaintext\"><pre>100</pre></div></td></tr><tr><td>currentScore</td><td><div class=\"dni-plaintext\"><pre>0</pre></div></td></tr><tr><td>smallInterval</td><td><div class=\"dni-plaintext\"><pre>&lt;null&gt;</pre></div></td></tr><tr><td>largeInterval</td><td><div class=\"dni-plaintext\"><pre>&lt;null&gt;</pre></div></td></tr><tr><td>description</td><td><div class=\"dni-plaintext\"><pre>热美亚裂缝</pre></div></td></tr><tr><td>tooltip</td><td><div class=\"dni-plaintext\"><pre>封印奥布山谷的裂缝</pre></div></td></tr><tr><td>node</td><td><div class=\"dni-plaintext\"><pre>奥布山谷 (金星)</pre></div></td></tr><tr><td>expired</td><td><div class=\"dni-plaintext\"><pre>False</pre></div></td></tr><tr><td>isPersonal</td><td><div class=\"dni-plaintext\"><pre>True</pre></div></td></tr><tr><td>asString</td><td><div class=\"dni-plaintext\"><pre>热美亚裂缝\n",
       "Thermia Fractures Sealed : 100\n",
       "Rewards:\n",
       "Opticor Vandal\n",
       "\n",
       "Battle on 奥布山谷 (金星)</pre></div></td></tr><tr><td>metadata</td><td><details class=\"dni-treeview\"><summary><span class=\"dni-code-hint\"><code>Submission#2+Metadata</code></span></summary><div><table><thead><tr></tr></thead><tbody></tbody></table></div></details></td></tr><tr><td>altExpiry</td><td><span>1970-01-01 00:00:00Z</span></td></tr><tr><td>altActivation</td><td><span>1970-01-01 00:00:00Z</span></td></tr><tr><td>nextAlt</td><td><details class=\"dni-treeview\"><summary><span class=\"dni-code-hint\"><code>Submission#2+NextAlt</code></span></summary><div><table><thead><tr></tr></thead><tbody><tr><td>expiry</td><td><span>1970-01-01 00:00:00Z</span></td></tr><tr><td>activation</td><td><span>1970-01-01 00:00:00Z</span></td></tr></tbody></table></div></details></td></tr></tbody></table></div></details></td></tr><tr><td>1</td><td><details class=\"dni-treeview\"><summary><span class=\"dni-code-hint\"><code>Submission#2+events</code></span></summary><div><table><thead><tr></tr></thead><tbody><tr><td>id</td><td><div class=\"dni-plaintext\"><pre>66fd602de1778d583419e8e7</pre></div></td></tr><tr><td>activation</td><td><span>2024-10-02 15:00:00Z</span></td></tr><tr><td>startString</td><td><div class=\"dni-plaintext\"><pre>-22d 11h 15m 20s</pre></div></td></tr><tr><td>expiry</td><td><span>2024-11-01 15:00:00Z</span></td></tr><tr><td>active</td><td><div class=\"dni-plaintext\"><pre>True</pre></div></td></tr><tr><td>maximumScore</td><td><div class=\"dni-plaintext\"><pre>0</pre></div></td></tr><tr><td>currentScore</td><td><div class=\"dni-plaintext\"><pre>0</pre></div></td></tr><tr><td>smallInterval</td><td><div class=\"dni-plaintext\"><pre>&lt;null&gt;</pre></div></td></tr><tr><td>largeInterval</td><td><div class=\"dni-plaintext\"><pre>&lt;null&gt;</pre></div></td></tr><tr><td>description</td><td><div class=\"dni-plaintext\"><pre>Nights of Naberus</pre></div></td></tr><tr><td>tooltip</td><td><div class=\"dni-plaintext\"><pre>Visit Daughter for Naberus Treats</pre></div></td></tr><tr><td>node</td><td><div class=\"dni-plaintext\"><pre>DeimosHub</pre></div></td></tr><tr><td>expired</td><td><div class=\"dni-plaintext\"><pre>False</pre></div></td></tr><tr><td>isPersonal</td><td><div class=\"dni-plaintext\"><pre>True</pre></div></td></tr><tr><td>asString</td><td><div class=\"dni-plaintext\"><pre>Nights of Naberus\n",
       "Battle on DeimosHub</pre></div></td></tr><tr><td>metadata</td><td><details class=\"dni-treeview\"><summary><span class=\"dni-code-hint\"><code>Submission#2+Metadata</code></span></summary><div><table><thead><tr></tr></thead><tbody></tbody></table></div></details></td></tr><tr><td>altExpiry</td><td><span>1970-01-01 00:00:00Z</span></td></tr><tr><td>altActivation</td><td><span>1970-01-01 00:00:00Z</span></td></tr><tr><td>nextAlt</td><td><details class=\"dni-treeview\"><summary><span class=\"dni-code-hint\"><code>Submission#2+NextAlt</code></span></summary><div><table><thead><tr></tr></thead><tbody><tr><td>expiry</td><td><span>1970-01-01 00:00:00Z</span></td></tr><tr><td>activation</td><td><span>1970-01-01 00:00:00Z</span></td></tr></tbody></table></div></details></td></tr></tbody></table></div></details></td></tr></tbody></table><style>\r\n",
       ".dni-code-hint {\r\n",
       "    font-style: italic;\r\n",
       "    overflow: hidden;\r\n",
       "    white-space: nowrap;\r\n",
       "}\r\n",
       ".dni-treeview {\r\n",
       "    white-space: nowrap;\r\n",
       "}\r\n",
       ".dni-treeview td {\r\n",
       "    vertical-align: top;\r\n",
       "    text-align: start;\r\n",
       "}\r\n",
       "details.dni-treeview {\r\n",
       "    padding-left: 1em;\r\n",
       "}\r\n",
       "table td {\r\n",
       "    text-align: start;\r\n",
       "}\r\n",
       "table tr { \r\n",
       "    vertical-align: top; \r\n",
       "    margin: 0em 0px;\r\n",
       "}\r\n",
       "table tr td pre \r\n",
       "{ \r\n",
       "    vertical-align: top !important; \r\n",
       "    margin: 0em 0px !important;\r\n",
       "} \r\n",
       "table th {\r\n",
       "    text-align: start;\r\n",
       "}\r\n",
       "</style>"
      ]
     },
     "metadata": {},
     "output_type": "display_data"
    }
   ],
   "source": [
    "using System.Text.Json;\n",
    "using System.Net.Http;\n",
    "using System.Collections.Generic;\n",
    "\n",
    "HttpClient httpClient=new();\n",
    "\n",
    "var response = await httpClient.GetAsync(\"https://api.warframestat.us/pc/zh/events/\");\n",
    "var json = await response.Content.ReadAsStringAsync();\n",
    "var result =  System.Text.Json.JsonSerializer.Deserialize<List<events>>(json);\n",
    "\n",
    "result.Display();"
   ]
  }
 ],
 "metadata": {
  "kernelspec": {
   "display_name": ".NET (C#)",
   "language": "C#",
   "name": ".net-csharp"
  },
  "language_info": {
   "name": "csharp"
  },
  "polyglot_notebook": {
   "kernelInfo": {
    "defaultKernelName": "csharp",
    "items": [
     {
      "aliases": [],
      "name": "csharp"
     }
    ]
   }
  }
 },
 "nbformat": 4,
 "nbformat_minor": 2
}
