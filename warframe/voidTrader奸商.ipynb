{
 "cells": [
  {
   "cell_type": "code",
   "execution_count": 1,
   "metadata": {
    "dotnet_interactive": {
     "language": "csharp"
    },
    "polyglot_notebook": {
     "kernelName": "csharp"
    },
    "vscode": {
     "languageId": "polyglot-notebook"
    }
   },
   "outputs": [],
   "source": [
    "// Root myDeserializedClass = JsonConvert.DeserializeObject<Root>(myJsonResponse);\n",
    "    public class voidTrader\n",
    "    {\n",
    "        public string id { get; set; }\n",
    "        public DateTime activation { get; set; }\n",
    "        public string startString { get; set; }\n",
    "        public DateTime expiry { get; set; }\n",
    "        public bool active { get; set; }\n",
    "        public string character { get; set; }\n",
    "        public string location { get; set; }\n",
    "        public List<object> inventory { get; set; }\n",
    "        public string psId { get; set; }\n",
    "        public string endString { get; set; }\n",
    "        public DateTime initialStart { get; set; }\n",
    "        public List<object> schedule { get; set; }\n",
    "    }"
   ]
  },
  {
   "cell_type": "code",
   "execution_count": 2,
   "metadata": {
    "dotnet_interactive": {
     "language": "csharp"
    },
    "polyglot_notebook": {
     "kernelName": "csharp"
    },
    "vscode": {
     "languageId": "polyglot-notebook"
    }
   },
   "outputs": [
    {
     "data": {
      "text/html": [
       "<details open=\"open\" class=\"dni-treeview\"><summary><span class=\"dni-code-hint\"><code>Submission#2+voidTrader</code></span></summary><div><table><thead><tr></tr></thead><tbody><tr><td>id</td><td><div class=\"dni-plaintext\"><pre>5d1e07a0a38e4a4fdd7cefca</pre></div></td></tr><tr><td>activation</td><td><span>2024-02-09 14:00:00Z</span></td></tr><tr><td>startString</td><td><div class=\"dni-plaintext\"><pre>-1d 21h 17m 10s</pre></div></td></tr><tr><td>expiry</td><td><span>2024-02-11 14:00:00Z</span></td></tr><tr><td>active</td><td><div class=\"dni-plaintext\"><pre>True</pre></div></td></tr><tr><td>character</td><td><div class=\"dni-plaintext\"><pre>Baro Ki&#39;Teer</pre></div></td></tr><tr><td>location</td><td><div class=\"dni-plaintext\"><pre>Strata 中继站 (地球)</pre></div></td></tr><tr><td>inventory</td><td><table><thead><tr><th><i>index</i></th><th>value</th></tr></thead><tbody><tr><td>0</td><td><details class=\"dni-treeview\"><summary><span class=\"dni-code-hint\"><code>{&quot;uniqueName&quot;:&quot;/Lotus/StoreItems/Types/Items/ShipDecos/JavisExperimentsPosterD&quot;,&quot;item&quot;:&quot;Javis Experiments Poster D&quot;,&quot;ducats&quot;:90,&quot;credits&quot;:100000}</code></span></summary><div><table><thead><tr></tr></thead><tbody><tr><td>uniqueName</td><td><span>&quot;/Lotus/StoreItems/Types/Items/ShipDecos/JavisExperimentsPosterD&quot;</span></td></tr><tr><td>item</td><td><span>&quot;Javis Experiments Poster D&quot;</span></td></tr><tr><td>ducats</td><td><span><div class=\"dni-plaintext\"><pre>90</pre></div></span></td></tr><tr><td>credits</td><td><span><div class=\"dni-plaintext\"><pre>100000</pre></div></span></td></tr></tbody></table></div></details></td></tr><tr><td>1</td><td><details class=\"dni-treeview\"><summary><span class=\"dni-code-hint\"><code>{&quot;uniqueName&quot;:&quot;/Lotus/StoreItems/Upgrades/Mods/Shotgun/Expert/WeaponDamageAmountModExpert&quot;,&quot;item&quot;:&quot;Primed Point Blank&quot;,&quot;ducats&quot;:300,&quot;credits&quot;:110000}</code></span></summary><div><table><thead><tr></tr></thead><tbody><tr><td>uniqueName</td><td><span>&quot;/Lotus/StoreItems/Upgrades/Mods/Shotgun/Expert/WeaponDamageAmountModExpert&quot;</span></td></tr><tr><td>item</td><td><span>&quot;Primed Point Blank&quot;</span></td></tr><tr><td>ducats</td><td><span><div class=\"dni-plaintext\"><pre>300</pre></div></span></td></tr><tr><td>credits</td><td><span><div class=\"dni-plaintext\"><pre>110000</pre></div></span></td></tr></tbody></table></div></details></td></tr><tr><td>2</td><td><details class=\"dni-treeview\"><summary><span class=\"dni-code-hint\"><code>{&quot;uniqueName&quot;:&quot;/Lotus/StoreItems/Weapons/Tenno/Melee/MeleeTrees/AxeCmbThreeMeleeTree&quot;,&quot;item&quot;:&quot;Tempo Royale&quot;,&quot;ducats&quot;:385,&quot;credits&quot;:175000}</code></span></summary><div><table><thead><tr></tr></thead><tbody><tr><td>uniqueName</td><td><span>&quot;/Lotus/StoreItems/Weapons/Tenno/Melee/MeleeTrees/AxeCmbThreeMeleeTree&quot;</span></td></tr><tr><td>item</td><td><span>&quot;Tempo Royale&quot;</span></td></tr><tr><td>ducats</td><td><span><div class=\"dni-plaintext\"><pre>385</pre></div></span></td></tr><tr><td>credits</td><td><span><div class=\"dni-plaintext\"><pre>175000</pre></div></span></td></tr></tbody></table></div></details></td></tr><tr><td>3</td><td><details class=\"dni-treeview\"><summary><span class=\"dni-code-hint\"><code>{&quot;uniqueName&quot;:&quot;/Lotus/StoreItems/Types/Sentinels/SentinelPrecepts/PrimedRegen&quot;,&quot;item&quot;:&quot;重生Prime&quot;,&quot;ducats&quot;:300,&quot;credits&quot;:220000}</code></span></summary><div><table><thead><tr></tr></thead><tbody><tr><td>uniqueName</td><td><span>&quot;/Lotus/StoreItems/Types/Sentinels/SentinelPrecepts/PrimedRegen&quot;</span></td></tr><tr><td>item</td><td><span>&quot;重生Prime&quot;</span></td></tr><tr><td>ducats</td><td><span><div class=\"dni-plaintext\"><pre>300</pre></div></span></td></tr><tr><td>credits</td><td><span><div class=\"dni-plaintext\"><pre>220000</pre></div></span></td></tr></tbody></table></div></details></td></tr><tr><td>4</td><td><details class=\"dni-treeview\"><summary><span class=\"dni-code-hint\"><code>{&quot;uniqueName&quot;:&quot;/Lotus/StoreItems/Types/StoreItems/AvatarImages/ImageBaroKiteer&quot;,&quot;item&quot;:&quot;Baro Ki&#39;teer Glyph&quot;,&quot;ducats&quot;:80,&quot;credits&quot;:50000}</code></span></summary><div><table><thead><tr></tr></thead><tbody><tr><td>uniqueName</td><td><span>&quot;/Lotus/StoreItems/Types/StoreItems/AvatarImages/ImageBaroKiteer&quot;</span></td></tr><tr><td>item</td><td><span>&quot;Baro Ki&#39;teer Glyph&quot;</span></td></tr><tr><td>ducats</td><td><span><div class=\"dni-plaintext\"><pre>80</pre></div></span></td></tr><tr><td>credits</td><td><span><div class=\"dni-plaintext\"><pre>50000</pre></div></span></td></tr></tbody></table></div></details></td></tr><tr><td>5</td><td><details class=\"dni-treeview\"><summary><span class=\"dni-code-hint\"><code>{&quot;uniqueName&quot;:&quot;/Lotus/StoreItems/Upgrades/Mods/Rifle/Expert/PrimedWeaponFactionDamageCorpus&quot;,&quot;item&quot;:&quot;Primed Bane of Corpus&quot;,&quot;ducats&quot;:400,&quot;credits&quot;:140000}</code></span></summary><div><table><thead><tr></tr></thead><tbody><tr><td>uniqueName</td><td><span>&quot;/Lotus/StoreItems/Upgrades/Mods/Rifle/Expert/PrimedWeaponFactionDamageCorpus&quot;</span></td></tr><tr><td>item</td><td><span>&quot;Primed Bane of Corpus&quot;</span></td></tr><tr><td>ducats</td><td><span><div class=\"dni-plaintext\"><pre>400</pre></div></span></td></tr><tr><td>credits</td><td><span><div class=\"dni-plaintext\"><pre>140000</pre></div></span></td></tr></tbody></table></div></details></td></tr><tr><td>6</td><td><details class=\"dni-treeview\"><summary><span class=\"dni-code-hint\"><code>{&quot;uniqueName&quot;:&quot;/Lotus/StoreItems/Upgrades/Skins/Armor/GrineerTurbines/WraithTurbinesLegArmor&quot;,&quot;item&quot;:&quot;Harkonar Wraith Leg Armor&quot;,&quot;ducats&quot;:350,&quot;credits&quot;:150000}</code></span></summary><div><table><thead><tr></tr></thead><tbody><tr><td>uniqueName</td><td><span>&quot;/Lotus/StoreItems/Upgrades/Skins/Armor/GrineerTurbines/WraithTurbinesLegArmor&quot;</span></td></tr><tr><td>item</td><td><span>&quot;Harkonar Wraith Leg Armor&quot;</span></td></tr><tr><td>ducats</td><td><span><div class=\"dni-plaintext\"><pre>350</pre></div></span></td></tr><tr><td>credits</td><td><span><div class=\"dni-plaintext\"><pre>150000</pre></div></span></td></tr></tbody></table></div></details></td></tr><tr><td>7</td><td><details class=\"dni-treeview\"><summary><span class=\"dni-code-hint\"><code>{&quot;uniqueName&quot;:&quot;/Lotus/StoreItems/Upgrades/Skins/Armor/GrineerTurbines/WraithTurbinesArmArmor&quot;,&quot;item&quot;:&quot;Harkonar Wraith Arm Armor&quot;,&quot;ducats&quot;:350,&quot;credits&quot;:150000}</code></span></summary><div><table><thead><tr></tr></thead><tbody><tr><td>uniqueName</td><td><span>&quot;/Lotus/StoreItems/Upgrades/Skins/Armor/GrineerTurbines/WraithTurbinesArmArmor&quot;</span></td></tr><tr><td>item</td><td><span>&quot;Harkonar Wraith Arm Armor&quot;</span></td></tr><tr><td>ducats</td><td><span><div class=\"dni-plaintext\"><pre>350</pre></div></span></td></tr><tr><td>credits</td><td><span><div class=\"dni-plaintext\"><pre>150000</pre></div></span></td></tr></tbody></table></div></details></td></tr><tr><td>8</td><td><details class=\"dni-treeview\"><summary><span class=\"dni-code-hint\"><code>{&quot;uniqueName&quot;:&quot;/Lotus/StoreItems/Upgrades/Skins/Armor/GrineerTurbines/WraithTurbinesChestArmor&quot;,&quot;item&quot;:&quot;Harkonar Wraith Chest Armor&quot;,&quot;ducats&quot;:300,&quot;credits&quot;:250000}</code></span></summary><div><table><thead><tr></tr></thead><tbody><tr><td>uniqueName</td><td><span>&quot;/Lotus/StoreItems/Upgrades/Skins/Armor/GrineerTurbines/WraithTurbinesChestArmor&quot;</span></td></tr><tr><td>item</td><td><span>&quot;Harkonar Wraith Chest Armor&quot;</span></td></tr><tr><td>ducats</td><td><span><div class=\"dni-plaintext\"><pre>300</pre></div></span></td></tr><tr><td>credits</td><td><span><div class=\"dni-plaintext\"><pre>250000</pre></div></span></td></tr></tbody></table></div></details></td></tr><tr><td>9</td><td><details class=\"dni-treeview\"><summary><span class=\"dni-code-hint\"><code>{&quot;uniqueName&quot;:&quot;/Lotus/StoreItems/Upgrades/Skins/Operator/Accessories/EarpieceBaroC&quot;,&quot;item&quot;:&quot;Ki&#39;teer Atmos Earpiece&quot;,&quot;ducats&quot;:500,&quot;credits&quot;:400000}</code></span></summary><div><table><thead><tr></tr></thead><tbody><tr><td>uniqueName</td><td><span>&quot;/Lotus/StoreItems/Upgrades/Skins/Operator/Accessories/EarpieceBaroC&quot;</span></td></tr><tr><td>item</td><td><span>&quot;Ki&#39;teer Atmos Earpiece&quot;</span></td></tr><tr><td>ducats</td><td><span><div class=\"dni-plaintext\"><pre>500</pre></div></span></td></tr><tr><td>credits</td><td><span><div class=\"dni-plaintext\"><pre>400000</pre></div></span></td></tr></tbody></table></div></details></td></tr><tr><td>10</td><td><details class=\"dni-treeview\"><summary><span class=\"dni-code-hint\"><code>{&quot;uniqueName&quot;:&quot;/Lotus/StoreItems/Upgrades/Skins/Scarves/WraithTurbinesScarf&quot;,&quot;item&quot;:&quot;Harkonar Wraith Cloak&quot;,&quot;ducats&quot;:400,&quot;credits&quot;:500000}</code></span></summary><div><table><thead><tr></tr></thead><tbody><tr><td>uniqueName</td><td><span>&quot;/Lotus/StoreItems/Upgrades/Skins/Scarves/WraithTurbinesScarf&quot;</span></td></tr><tr><td>item</td><td><span>&quot;Harkonar Wraith Cloak&quot;</span></td></tr><tr><td>ducats</td><td><span><div class=\"dni-plaintext\"><pre>400</pre></div></span></td></tr><tr><td>credits</td><td><span><div class=\"dni-plaintext\"><pre>500000</pre></div></span></td></tr></tbody></table></div></details></td></tr><tr><td>11</td><td><details class=\"dni-treeview\"><summary><span class=\"dni-code-hint\"><code>{&quot;uniqueName&quot;:&quot;/Lotus/StoreItems/Weapons/ClanTech/Chemical/FlameThrowerWraith&quot;,&quot;item&quot;:&quot;Ignis Wraith&quot;,&quot;ducats&quot;:550,&quot;credits&quot;:250000}</code></span></summary><div><table><thead><tr></tr></thead><tbody><tr><td>uniqueName</td><td><span>&quot;/Lotus/StoreItems/Weapons/ClanTech/Chemical/FlameThrowerWraith&quot;</span></td></tr><tr><td>item</td><td><span>&quot;Ignis Wraith&quot;</span></td></tr><tr><td>ducats</td><td><span><div class=\"dni-plaintext\"><pre>550</pre></div></span></td></tr><tr><td>credits</td><td><span><div class=\"dni-plaintext\"><pre>250000</pre></div></span></td></tr></tbody></table></div></details></td></tr><tr><td>12</td><td><details class=\"dni-treeview\"><summary><span class=\"dni-code-hint\"><code>{&quot;uniqueName&quot;:&quot;/Lotus/Types/StoreItems/Packages/KavatColorPackNexus&quot;,&quot;item&quot;:&quot;Nexus Gene-Masking Kit&quot;,&quot;ducats&quot;:200,&quot;credits&quot;:300000}</code></span></summary><div><table><thead><tr></tr></thead><tbody><tr><td>uniqueName</td><td><span>&quot;/Lotus/Types/StoreItems/Packages/KavatColorPackNexus&quot;</span></td></tr><tr><td>item</td><td><span>&quot;Nexus Gene-Masking Kit&quot;</span></td></tr><tr><td>ducats</td><td><span><div class=\"dni-plaintext\"><pre>200</pre></div></span></td></tr><tr><td>credits</td><td><span><div class=\"dni-plaintext\"><pre>300000</pre></div></span></td></tr></tbody></table></div></details></td></tr><tr><td>13</td><td><details class=\"dni-treeview\"><summary><span class=\"dni-code-hint\"><code>{&quot;uniqueName&quot;:&quot;/Lotus/StoreItems/Types/Items/ShipDecos/ExcaliburArchwingBobbleHead&quot;,&quot;item&quot;:&quot;Noggle Statue - Excalibur With Odonata&quot;,&quot;ducats&quot;:90,&quot;credits&quot;:200000}</code></span></summary><div><table><thead><tr></tr></thead><tbody><tr><td>uniqueName</td><td><span>&quot;/Lotus/StoreItems/Types/Items/ShipDecos/ExcaliburArchwingBobbleHead&quot;</span></td></tr><tr><td>item</td><td><span>&quot;Noggle Statue - Excalibur With Odonata&quot;</span></td></tr><tr><td>ducats</td><td><span><div class=\"dni-plaintext\"><pre>90</pre></div></span></td></tr><tr><td>credits</td><td><span><div class=\"dni-plaintext\"><pre>200000</pre></div></span></td></tr></tbody></table></div></details></td></tr><tr><td>14</td><td><details class=\"dni-treeview\"><summary><span class=\"dni-code-hint\"><code>{&quot;uniqueName&quot;:&quot;/Lotus/StoreItems/Types/Items/MiscItems/PhotoboothTileOrokinExtraction&quot;,&quot;item&quot;:&quot;Orokin Tower Extraction Scene&quot;,&quot;ducats&quot;:325,&quot;credits&quot;:175000}</code></span></summary><div><table><thead><tr></tr></thead><tbody><tr><td>uniqueName</td><td><span>&quot;/Lotus/StoreItems/Types/Items/MiscItems/PhotoboothTileOrokinExtraction&quot;</span></td></tr><tr><td>item</td><td><span>&quot;Orokin Tower Extraction Scene&quot;</span></td></tr><tr><td>ducats</td><td><span><div class=\"dni-plaintext\"><pre>325</pre></div></span></td></tr><tr><td>credits</td><td><span><div class=\"dni-plaintext\"><pre>175000</pre></div></span></td></tr></tbody></table></div></details></td></tr><tr><td>15</td><td><details class=\"dni-treeview\"><summary><span class=\"dni-code-hint\"><code>{&quot;uniqueName&quot;:&quot;/Lotus/StoreItems/Types/StoreItems/AvatarImages/AvatarImageLowPolyKubrow&quot;,&quot;item&quot;:&quot;Prisma Kubrow Glyph&quot;,&quot;ducats&quot;:80,&quot;credits&quot;:50000}</code></span></summary><div><table><thead><tr></tr></thead><tbody><tr><td>uniqueName</td><td><span>&quot;/Lotus/StoreItems/Types/StoreItems/AvatarImages/AvatarImageLowPolyKubrow&quot;</span></td></tr><tr><td>item</td><td><span>&quot;Prisma Kubrow Glyph&quot;</span></td></tr><tr><td>ducats</td><td><span><div class=\"dni-plaintext\"><pre>80</pre></div></span></td></tr><tr><td>credits</td><td><span><div class=\"dni-plaintext\"><pre>50000</pre></div></span></td></tr></tbody></table></div></details></td></tr><tr><td>16</td><td><details class=\"dni-treeview\"><summary><span class=\"dni-code-hint\"><code>{&quot;uniqueName&quot;:&quot;/Lotus/StoreItems/Upgrades/Skins/Effects/LotusFlowers&quot;,&quot;item&quot;:&quot;Lotus Flowers&quot;,&quot;ducats&quot;:250,&quot;credits&quot;:450000}</code></span></summary><div><table><thead><tr></tr></thead><tbody><tr><td>uniqueName</td><td><span>&quot;/Lotus/StoreItems/Upgrades/Skins/Effects/LotusFlowers&quot;</span></td></tr><tr><td>item</td><td><span>&quot;Lotus Flowers&quot;</span></td></tr><tr><td>ducats</td><td><span><div class=\"dni-plaintext\"><pre>250</pre></div></span></td></tr><tr><td>credits</td><td><span><div class=\"dni-plaintext\"><pre>450000</pre></div></span></td></tr></tbody></table></div></details></td></tr><tr><td>17</td><td><details class=\"dni-treeview\"><summary><span class=\"dni-code-hint\"><code>{&quot;uniqueName&quot;:&quot;/Lotus/StoreItems/Upgrades/Skins/VoidTrader/BaroScytheMacheteSkin&quot;,&quot;item&quot;:&quot;Machete Syachid Skin&quot;,&quot;ducats&quot;:375,&quot;credits&quot;:300000}</code></span></summary><div><table><thead><tr></tr></thead><tbody><tr><td>uniqueName</td><td><span>&quot;/Lotus/StoreItems/Upgrades/Skins/VoidTrader/BaroScytheMacheteSkin&quot;</span></td></tr><tr><td>item</td><td><span>&quot;Machete Syachid Skin&quot;</span></td></tr><tr><td>ducats</td><td><span><div class=\"dni-plaintext\"><pre>375</pre></div></span></td></tr><tr><td>credits</td><td><span><div class=\"dni-plaintext\"><pre>300000</pre></div></span></td></tr></tbody></table></div></details></td></tr><tr><td>18</td><td><details class=\"dni-treeview\"><summary><span class=\"dni-code-hint\"><code>{&quot;uniqueName&quot;:&quot;/Lotus/StoreItems/Types/Items/ShipDecos/TarotCardTennoConC&quot;,&quot;item&quot;:&quot;Deimos Veolicpod Prex&quot;,&quot;ducats&quot;:75,&quot;credits&quot;:100000}</code></span></summary><div><table><thead><tr></tr></thead><tbody><tr><td>uniqueName</td><td><span>&quot;/Lotus/StoreItems/Types/Items/ShipDecos/TarotCardTennoConC&quot;</span></td></tr><tr><td>item</td><td><span>&quot;Deimos Veolicpod Prex&quot;</span></td></tr><tr><td>ducats</td><td><span><div class=\"dni-plaintext\"><pre>75</pre></div></span></td></tr><tr><td>credits</td><td><span><div class=\"dni-plaintext\"><pre>100000</pre></div></span></td></tr></tbody></table></div></details></td></tr><tr><td>19</td><td><details class=\"dni-treeview\"><summary><span class=\"dni-code-hint\"><code>{&quot;uniqueName&quot;:&quot;/Lotus/StoreItems/Weapons/Tenno/Melee/Swords/TnShinaiSword/TnShinaiSwordSkin&quot;,&quot;item&quot;:&quot;Tn Shinai Sword Skin&quot;,&quot;ducats&quot;:375,&quot;credits&quot;:280000}</code></span></summary><div><table><thead><tr></tr></thead><tbody><tr><td>uniqueName</td><td><span>&quot;/Lotus/StoreItems/Weapons/Tenno/Melee/Swords/TnShinaiSword/TnShinaiSwordSkin&quot;</span></td></tr><tr><td>item</td><td><span>&quot;Tn Shinai Sword Skin&quot;</span></td></tr><tr><td>ducats</td><td><span><div class=\"dni-plaintext\"><pre>375</pre></div></span></td></tr><tr><td>credits</td><td><span><div class=\"dni-plaintext\"><pre>280000</pre></div></span></td></tr></tbody></table></div></details></td></tr><tr><td colspan=\"2\"><i>(6 more)</i></td></tr></tbody></table></td></tr><tr><td>psId</td><td><div class=\"dni-plaintext\"><pre>5d1e07a0a38e4a4fdd7cefca26</pre></div></td></tr><tr><td>endString</td><td><div class=\"dni-plaintext\"><pre>2h 42m 49s</pre></div></td></tr><tr><td>initialStart</td><td><span>1970-01-01 00:00:00Z</span></td></tr><tr><td>schedule</td><td><i>(empty)</i></td></tr></tbody></table></div></details><style>\r\n",
       ".dni-code-hint {\r\n",
       "    font-style: italic;\r\n",
       "    overflow: hidden;\r\n",
       "    white-space: nowrap;\r\n",
       "}\r\n",
       ".dni-treeview {\r\n",
       "    white-space: nowrap;\r\n",
       "}\r\n",
       ".dni-treeview td {\r\n",
       "    vertical-align: top;\r\n",
       "    text-align: start;\r\n",
       "}\r\n",
       "details.dni-treeview {\r\n",
       "    padding-left: 1em;\r\n",
       "}\r\n",
       "table td {\r\n",
       "    text-align: start;\r\n",
       "}\r\n",
       "table tr { \r\n",
       "    vertical-align: top; \r\n",
       "    margin: 0em 0px;\r\n",
       "}\r\n",
       "table tr td pre \r\n",
       "{ \r\n",
       "    vertical-align: top !important; \r\n",
       "    margin: 0em 0px !important;\r\n",
       "} \r\n",
       "table th {\r\n",
       "    text-align: start;\r\n",
       "}\r\n",
       "</style>"
      ]
     },
     "metadata": {},
     "output_type": "display_data"
    }
   ],
   "source": [
    "using System.Text.Json;\n",
    "using System.Net.Http;\n",
    "using System.Collections.Generic;\n",
    "\n",
    "HttpClient httpClient=new();\n",
    "\n",
    "var response = await httpClient.GetAsync(\"https://api.warframestat.us/pc/zh/voidTrader/\");\n",
    "var json = await response.Content.ReadAsStringAsync();\n",
    "var result =  System.Text.Json.JsonSerializer.Deserialize<voidTrader>(json);\n",
    "\n",
    "result.Display();"
   ]
  }
 ],
 "metadata": {
  "language_info": {
   "name": "csharp"
  },
  "orig_nbformat": 4
 },
 "nbformat": 4,
 "nbformat_minor": 2
}
