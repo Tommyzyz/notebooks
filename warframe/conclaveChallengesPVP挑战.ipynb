{
 "cells": [
  {
   "cell_type": "code",
   "execution_count": 1,
   "metadata": {
    "dotnet_interactive": {
     "language": "csharp"
    },
    "polyglot_notebook": {
     "kernelName": "csharp"
    },
    "vscode": {
     "languageId": "polyglot-notebook"
    }
   },
   "outputs": [],
   "source": [
    "// conclaveChallenges\n",
    "\n",
    "// Root myDeserializedClass = JsonConvert.DeserializeObject<List<Root>>(myJsonResponse);\n",
    "    public class conclaveChallenges\n",
    "    {\n",
    "        public string id { get; set; }\n",
    "        public DateTime expiry { get; set; }\n",
    "        public DateTime activation { get; set; }\n",
    "        public int amount { get; set; }\n",
    "        public string mode { get; set; }\n",
    "        public string category { get; set; }\n",
    "        public string eta { get; set; }\n",
    "        public bool expired { get; set; }\n",
    "        public bool daily { get; set; }\n",
    "        public bool rootChallenge { get; set; }\n",
    "        public string endString { get; set; }\n",
    "        public string description { get; set; }\n",
    "        public string title { get; set; }\n",
    "        public int standing { get; set; }\n",
    "        public string asString { get; set; }\n",
    "    }\n",
    "\n"
   ]
  },
  {
   "cell_type": "code",
   "execution_count": 2,
   "metadata": {
    "dotnet_interactive": {
     "language": "csharp"
    },
    "polyglot_notebook": {
     "kernelName": "csharp"
    },
    "vscode": {
     "languageId": "polyglot-notebook"
    }
   },
   "outputs": [
    {
     "data": {
      "text/html": [
       "<table><thead><tr><th><i>index</i></th><th>value</th></tr></thead><tbody><tr><td>0</td><td><details class=\"dni-treeview\"><summary><span class=\"dni-code-hint\"><code>Submission#2+conclaveChallenges</code></span></summary><div><table><thead><tr></tr></thead><tbody><tr><td>id</td><td><div class=\"dni-plaintext\"><pre>6712e3c21d2a16c4555e739d</pre></div></td></tr><tr><td>expiry</td><td><span>2024-10-25 22:40:02Z</span></td></tr><tr><td>activation</td><td><span>2024-10-18 22:40:02Z</span></td></tr><tr><td>amount</td><td><div class=\"dni-plaintext\"><pre>6</pre></div></td></tr><tr><td>mode</td><td><div class=\"dni-plaintext\"><pre>任意模式</pre></div></td></tr><tr><td>category</td><td><div class=\"dni-plaintext\"><pre>週</pre></div></td></tr><tr><td>eta</td><td><div class=\"dni-plaintext\"><pre>2d 12h 57m 41s</pre></div></td></tr><tr><td>expired</td><td><div class=\"dni-plaintext\"><pre>False</pre></div></td></tr><tr><td>daily</td><td><div class=\"dni-plaintext\"><pre>False</pre></div></td></tr><tr><td>rootChallenge</td><td><div class=\"dni-plaintext\"><pre>False</pre></div></td></tr><tr><td>endString</td><td><div class=\"dni-plaintext\"><pre>2d 12h 57m 41s</pre></div></td></tr><tr><td>description</td><td><div class=\"dni-plaintext\"><pre>在任何模式中赢得 6 场比赛</pre></div></td></tr><tr><td>title</td><td><div class=\"dni-plaintext\"><pre>竞赛胜利</pre></div></td></tr><tr><td>standing</td><td><div class=\"dni-plaintext\"><pre>0</pre></div></td></tr><tr><td>asString</td><td><div class=\"dni-plaintext\"><pre>在任何模式中赢得 6 场比赛 on 任意模式 6 times in a 週</pre></div></td></tr></tbody></table></div></details></td></tr><tr><td>1</td><td><details class=\"dni-treeview\"><summary><span class=\"dni-code-hint\"><code>Submission#2+conclaveChallenges</code></span></summary><div><table><thead><tr></tr></thead><tbody><tr><td>id</td><td><div class=\"dni-plaintext\"><pre>6712e3c21d2a16c4555e739e</pre></div></td></tr><tr><td>expiry</td><td><span>2024-10-25 22:40:02Z</span></td></tr><tr><td>activation</td><td><span>2024-10-18 22:40:02Z</span></td></tr><tr><td>amount</td><td><div class=\"dni-plaintext\"><pre>20</pre></div></td></tr><tr><td>mode</td><td><div class=\"dni-plaintext\"><pre>任意模式</pre></div></td></tr><tr><td>category</td><td><div class=\"dni-plaintext\"><pre>週</pre></div></td></tr><tr><td>eta</td><td><div class=\"dni-plaintext\"><pre>2d 12h 57m 41s</pre></div></td></tr><tr><td>expired</td><td><div class=\"dni-plaintext\"><pre>False</pre></div></td></tr><tr><td>daily</td><td><div class=\"dni-plaintext\"><pre>False</pre></div></td></tr><tr><td>rootChallenge</td><td><div class=\"dni-plaintext\"><pre>False</pre></div></td></tr><tr><td>endString</td><td><div class=\"dni-plaintext\"><pre>2d 12h 57m 41s</pre></div></td></tr><tr><td>description</td><td><div class=\"dni-plaintext\"><pre>在任何模式中完成 20 场比赛</pre></div></td></tr><tr><td>title</td><td><div class=\"dni-plaintext\"><pre>竞赛完成</pre></div></td></tr><tr><td>standing</td><td><div class=\"dni-plaintext\"><pre>0</pre></div></td></tr><tr><td>asString</td><td><div class=\"dni-plaintext\"><pre>在任何模式中完成 20 场比赛 on 任意模式 20 times in a 週</pre></div></td></tr></tbody></table></div></details></td></tr><tr><td>2</td><td><details class=\"dni-treeview\"><summary><span class=\"dni-code-hint\"><code>Submission#2+conclaveChallenges</code></span></summary><div><table><thead><tr></tr></thead><tbody><tr><td>id</td><td><div class=\"dni-plaintext\"><pre>6712e3c21d2a16c4555e73a0</pre></div></td></tr><tr><td>expiry</td><td><span>2024-10-25 22:40:02Z</span></td></tr><tr><td>activation</td><td><span>2024-10-18 22:40:02Z</span></td></tr><tr><td>amount</td><td><div class=\"dni-plaintext\"><pre>0</pre></div></td></tr><tr><td>mode</td><td><div class=\"dni-plaintext\"><pre>無</pre></div></td></tr><tr><td>category</td><td><div class=\"dni-plaintext\"><pre>周根目录</pre></div></td></tr><tr><td>eta</td><td><div class=\"dni-plaintext\"><pre>2d 12h 57m 41s</pre></div></td></tr><tr><td>expired</td><td><div class=\"dni-plaintext\"><pre>False</pre></div></td></tr><tr><td>daily</td><td><div class=\"dni-plaintext\"><pre>False</pre></div></td></tr><tr><td>rootChallenge</td><td><div class=\"dni-plaintext\"><pre>False</pre></div></td></tr><tr><td>endString</td><td><div class=\"dni-plaintext\"><pre>2d 12h 57m 41s</pre></div></td></tr><tr><td>description</td><td><div class=\"dni-plaintext\"><pre>每周任务</pre></div></td></tr><tr><td>title</td><td><div class=\"dni-plaintext\"><pre>每周任务</pre></div></td></tr><tr><td>standing</td><td><div class=\"dni-plaintext\"><pre>50000</pre></div></td></tr><tr><td>asString</td><td><div class=\"dni-plaintext\"><pre>每周任务 on 無 0 times in a 周根目录</pre></div></td></tr></tbody></table></div></details></td></tr><tr><td>3</td><td><details class=\"dni-treeview\"><summary><span class=\"dni-code-hint\"><code>Submission#2+conclaveChallenges</code></span></summary><div><table><thead><tr></tr></thead><tbody><tr><td>id</td><td><div class=\"dni-plaintext\"><pre>6712e3c21d2a16c4555e739f</pre></div></td></tr><tr><td>expiry</td><td><span>2024-10-25 22:40:02Z</span></td></tr><tr><td>activation</td><td><span>2024-10-18 22:40:02Z</span></td></tr><tr><td>amount</td><td><div class=\"dni-plaintext\"><pre>10</pre></div></td></tr><tr><td>mode</td><td><div class=\"dni-plaintext\"><pre>任意模式</pre></div></td></tr><tr><td>category</td><td><div class=\"dni-plaintext\"><pre>週</pre></div></td></tr><tr><td>eta</td><td><div class=\"dni-plaintext\"><pre>2d 12h 57m 41s</pre></div></td></tr><tr><td>expired</td><td><div class=\"dni-plaintext\"><pre>False</pre></div></td></tr><tr><td>daily</td><td><div class=\"dni-plaintext\"><pre>False</pre></div></td></tr><tr><td>rootChallenge</td><td><div class=\"dni-plaintext\"><pre>False</pre></div></td></tr><tr><td>endString</td><td><div class=\"dni-plaintext\"><pre>2d 12h 57m 41s</pre></div></td></tr><tr><td>description</td><td><div class=\"dni-plaintext\"><pre>完成 10 项日常挑战</pre></div></td></tr><tr><td>title</td><td><div class=\"dni-plaintext\"><pre>状态</pre></div></td></tr><tr><td>standing</td><td><div class=\"dni-plaintext\"><pre>0</pre></div></td></tr><tr><td>asString</td><td><div class=\"dni-plaintext\"><pre>完成 10 项日常挑战 on 任意模式 10 times in a 週</pre></div></td></tr></tbody></table></div></details></td></tr><tr><td>4</td><td><details class=\"dni-treeview\"><summary><span class=\"dni-code-hint\"><code>Submission#2+conclaveChallenges</code></span></summary><div><table><thead><tr></tr></thead><tbody><tr><td>id</td><td><div class=\"dni-plaintext\"><pre>6717bcc58ebe70befe5e739c</pre></div></td></tr><tr><td>expiry</td><td><span>2024-10-23 14:55:01Z</span></td></tr><tr><td>activation</td><td><span>2024-10-22 14:55:01Z</span></td></tr><tr><td>amount</td><td><div class=\"dni-plaintext\"><pre>4</pre></div></td></tr><tr><td>mode</td><td><div class=\"dni-plaintext\"><pre>奪取中樞</pre></div></td></tr><tr><td>category</td><td><div class=\"dni-plaintext\"><pre>日</pre></div></td></tr><tr><td>eta</td><td><div class=\"dni-plaintext\"><pre>5h 12m 41s</pre></div></td></tr><tr><td>expired</td><td><div class=\"dni-plaintext\"><pre>False</pre></div></td></tr><tr><td>daily</td><td><div class=\"dni-plaintext\"><pre>False</pre></div></td></tr><tr><td>rootChallenge</td><td><div class=\"dni-plaintext\"><pre>False</pre></div></td></tr><tr><td>endString</td><td><div class=\"dni-plaintext\"><pre>5h 12m 41s</pre></div></td></tr><tr><td>description</td><td><div class=\"dni-plaintext\"><pre>夺取 4 个中枢</pre></div></td></tr><tr><td>title</td><td><div class=\"dni-plaintext\"><pre>恶棍</pre></div></td></tr><tr><td>standing</td><td><div class=\"dni-plaintext\"><pre>1500</pre></div></td></tr><tr><td>asString</td><td><div class=\"dni-plaintext\"><pre>夺取 4 个中枢 on 奪取中樞 4 times in a 日</pre></div></td></tr></tbody></table></div></details></td></tr><tr><td>5</td><td><details class=\"dni-treeview\"><summary><span class=\"dni-code-hint\"><code>Submission#2+conclaveChallenges</code></span></summary><div><table><thead><tr></tr></thead><tbody><tr><td>id</td><td><div class=\"dni-plaintext\"><pre>6717bcc58ebe70befe5e739e</pre></div></td></tr><tr><td>expiry</td><td><span>2024-10-23 14:55:01Z</span></td></tr><tr><td>activation</td><td><span>2024-10-22 14:55:01Z</span></td></tr><tr><td>amount</td><td><div class=\"dni-plaintext\"><pre>1</pre></div></td></tr><tr><td>mode</td><td><div class=\"dni-plaintext\"><pre>團隊殲奪</pre></div></td></tr><tr><td>category</td><td><div class=\"dni-plaintext\"><pre>日</pre></div></td></tr><tr><td>eta</td><td><div class=\"dni-plaintext\"><pre>5h 12m 41s</pre></div></td></tr><tr><td>expired</td><td><div class=\"dni-plaintext\"><pre>False</pre></div></td></tr><tr><td>daily</td><td><div class=\"dni-plaintext\"><pre>False</pre></div></td></tr><tr><td>rootChallenge</td><td><div class=\"dni-plaintext\"><pre>False</pre></div></td></tr><tr><td>endString</td><td><div class=\"dni-plaintext\"><pre>5h 12m 41s</pre></div></td></tr><tr><td>description</td><td><div class=\"dni-plaintext\"><pre>以副武器击杀1个敌人</pre></div></td></tr><tr><td>title</td><td><div class=\"dni-plaintext\"><pre>次要目标</pre></div></td></tr><tr><td>standing</td><td><div class=\"dni-plaintext\"><pre>500</pre></div></td></tr><tr><td>asString</td><td><div class=\"dni-plaintext\"><pre>以副武器击杀1个敌人 on 團隊殲奪 1 times in a 日</pre></div></td></tr></tbody></table></div></details></td></tr><tr><td>6</td><td><details class=\"dni-treeview\"><summary><span class=\"dni-code-hint\"><code>Submission#2+conclaveChallenges</code></span></summary><div><table><thead><tr></tr></thead><tbody><tr><td>id</td><td><div class=\"dni-plaintext\"><pre>6717bcc58ebe70befe5e739d</pre></div></td></tr><tr><td>expiry</td><td><span>2024-10-23 14:55:01Z</span></td></tr><tr><td>activation</td><td><span>2024-10-22 14:55:01Z</span></td></tr><tr><td>amount</td><td><div class=\"dni-plaintext\"><pre>1</pre></div></td></tr><tr><td>mode</td><td><div class=\"dni-plaintext\"><pre>奪取中樞</pre></div></td></tr><tr><td>category</td><td><div class=\"dni-plaintext\"><pre>日</pre></div></td></tr><tr><td>eta</td><td><div class=\"dni-plaintext\"><pre>5h 12m 41s</pre></div></td></tr><tr><td>expired</td><td><div class=\"dni-plaintext\"><pre>False</pre></div></td></tr><tr><td>daily</td><td><div class=\"dni-plaintext\"><pre>False</pre></div></td></tr><tr><td>rootChallenge</td><td><div class=\"dni-plaintext\"><pre>False</pre></div></td></tr><tr><td>endString</td><td><div class=\"dni-plaintext\"><pre>5h 12m 41s</pre></div></td></tr><tr><td>description</td><td><div class=\"dni-plaintext\"><pre>完成 1 次比赛</pre></div></td></tr><tr><td>title</td><td><div class=\"dni-plaintext\"><pre>紧盯目标</pre></div></td></tr><tr><td>standing</td><td><div class=\"dni-plaintext\"><pre>500</pre></div></td></tr><tr><td>asString</td><td><div class=\"dni-plaintext\"><pre>完成 1 次比赛 on 奪取中樞 1 times in a 日</pre></div></td></tr></tbody></table></div></details></td></tr><tr><td>7</td><td><details class=\"dni-treeview\"><summary><span class=\"dni-code-hint\"><code>Submission#2+conclaveChallenges</code></span></summary><div><table><thead><tr></tr></thead><tbody><tr><td>id</td><td><div class=\"dni-plaintext\"><pre>6717bcc58ebe70befe5e73a0</pre></div></td></tr><tr><td>expiry</td><td><span>2024-10-23 14:55:01Z</span></td></tr><tr><td>activation</td><td><span>2024-10-22 14:55:01Z</span></td></tr><tr><td>amount</td><td><div class=\"dni-plaintext\"><pre>4</pre></div></td></tr><tr><td>mode</td><td><div class=\"dni-plaintext\"><pre>剿灭</pre></div></td></tr><tr><td>category</td><td><div class=\"dni-plaintext\"><pre>日</pre></div></td></tr><tr><td>eta</td><td><div class=\"dni-plaintext\"><pre>5h 12m 41s</pre></div></td></tr><tr><td>expired</td><td><div class=\"dni-plaintext\"><pre>False</pre></div></td></tr><tr><td>daily</td><td><div class=\"dni-plaintext\"><pre>False</pre></div></td></tr><tr><td>rootChallenge</td><td><div class=\"dni-plaintext\"><pre>False</pre></div></td></tr><tr><td>endString</td><td><div class=\"dni-plaintext\"><pre>5h 12m 41s</pre></div></td></tr><tr><td>description</td><td><div class=\"dni-plaintext\"><pre>滑行时击杀4个敌人</pre></div></td></tr><tr><td>title</td><td><div class=\"dni-plaintext\"><pre>滑行突击</pre></div></td></tr><tr><td>standing</td><td><div class=\"dni-plaintext\"><pre>1500</pre></div></td></tr><tr><td>asString</td><td><div class=\"dni-plaintext\"><pre>滑行时击杀4个敌人 on 剿灭 4 times in a 日</pre></div></td></tr></tbody></table></div></details></td></tr><tr><td>8</td><td><details class=\"dni-treeview\"><summary><span class=\"dni-code-hint\"><code>Submission#2+conclaveChallenges</code></span></summary><div><table><thead><tr></tr></thead><tbody><tr><td>id</td><td><div class=\"dni-plaintext\"><pre>6717bcc58ebe70befe5e739f</pre></div></td></tr><tr><td>expiry</td><td><span>2024-10-23 14:55:01Z</span></td></tr><tr><td>activation</td><td><span>2024-10-22 14:55:01Z</span></td></tr><tr><td>amount</td><td><div class=\"dni-plaintext\"><pre>4</pre></div></td></tr><tr><td>mode</td><td><div class=\"dni-plaintext\"><pre>團隊殲奪</pre></div></td></tr><tr><td>category</td><td><div class=\"dni-plaintext\"><pre>日</pre></div></td></tr><tr><td>eta</td><td><div class=\"dni-plaintext\"><pre>5h 12m 41s</pre></div></td></tr><tr><td>expired</td><td><div class=\"dni-plaintext\"><pre>False</pre></div></td></tr><tr><td>daily</td><td><div class=\"dni-plaintext\"><pre>False</pre></div></td></tr><tr><td>rootChallenge</td><td><div class=\"dni-plaintext\"><pre>False</pre></div></td></tr><tr><td>endString</td><td><div class=\"dni-plaintext\"><pre>5h 12m 41s</pre></div></td></tr><tr><td>description</td><td><div class=\"dni-plaintext\"><pre>使用近战武器、枪炮或能力任意两种组合击杀了4名对手</pre></div></td></tr><tr><td>title</td><td><div class=\"dni-plaintext\"><pre>技巧熟练</pre></div></td></tr><tr><td>standing</td><td><div class=\"dni-plaintext\"><pre>1500</pre></div></td></tr><tr><td>asString</td><td><div class=\"dni-plaintext\"><pre>使用近战武器、枪炮或能力任意两种组合击杀了4名对手 on 團隊殲奪 4 times in a 日</pre></div></td></tr></tbody></table></div></details></td></tr><tr><td>9</td><td><details class=\"dni-treeview\"><summary><span class=\"dni-code-hint\"><code>Submission#2+conclaveChallenges</code></span></summary><div><table><thead><tr></tr></thead><tbody><tr><td>id</td><td><div class=\"dni-plaintext\"><pre>6717bcc58ebe70befe5e73a1</pre></div></td></tr><tr><td>expiry</td><td><span>2024-10-23 14:55:01Z</span></td></tr><tr><td>activation</td><td><span>2024-10-22 14:55:01Z</span></td></tr><tr><td>amount</td><td><div class=\"dni-plaintext\"><pre>1</pre></div></td></tr><tr><td>mode</td><td><div class=\"dni-plaintext\"><pre>剿灭</pre></div></td></tr><tr><td>category</td><td><div class=\"dni-plaintext\"><pre>日</pre></div></td></tr><tr><td>eta</td><td><div class=\"dni-plaintext\"><pre>5h 12m 41s</pre></div></td></tr><tr><td>expired</td><td><div class=\"dni-plaintext\"><pre>False</pre></div></td></tr><tr><td>daily</td><td><div class=\"dni-plaintext\"><pre>False</pre></div></td></tr><tr><td>rootChallenge</td><td><div class=\"dni-plaintext\"><pre>False</pre></div></td></tr><tr><td>endString</td><td><div class=\"dni-plaintext\"><pre>5h 12m 41s</pre></div></td></tr><tr><td>description</td><td><div class=\"dni-plaintext\"><pre>在不被他们击杀的情况下, 击杀 1 名对手</pre></div></td></tr><tr><td>title</td><td><div class=\"dni-plaintext\"><pre>支配</pre></div></td></tr><tr><td>standing</td><td><div class=\"dni-plaintext\"><pre>500</pre></div></td></tr><tr><td>asString</td><td><div class=\"dni-plaintext\"><pre>在不被他们击杀的情况下, 击杀 1 名对手 on 剿灭 1 times in a 日</pre></div></td></tr></tbody></table></div></details></td></tr><tr><td>10</td><td><details class=\"dni-treeview\"><summary><span class=\"dni-code-hint\"><code>Submission#2+conclaveChallenges</code></span></summary><div><table><thead><tr></tr></thead><tbody><tr><td>id</td><td><div class=\"dni-plaintext\"><pre>6717bcc58ebe70befe5e73a3</pre></div></td></tr><tr><td>expiry</td><td><span>2024-10-23 14:55:01Z</span></td></tr><tr><td>activation</td><td><span>2024-10-22 14:55:01Z</span></td></tr><tr><td>amount</td><td><div class=\"dni-plaintext\"><pre>10</pre></div></td></tr><tr><td>mode</td><td><div class=\"dni-plaintext\"><pre>月動球</pre></div></td></tr><tr><td>category</td><td><div class=\"dni-plaintext\"><pre>日</pre></div></td></tr><tr><td>eta</td><td><div class=\"dni-plaintext\"><pre>5h 12m 41s</pre></div></td></tr><tr><td>expired</td><td><div class=\"dni-plaintext\"><pre>False</pre></div></td></tr><tr><td>daily</td><td><div class=\"dni-plaintext\"><pre>False</pre></div></td></tr><tr><td>rootChallenge</td><td><div class=\"dni-plaintext\"><pre>False</pre></div></td></tr><tr><td>endString</td><td><div class=\"dni-plaintext\"><pre>5h 12m 41s</pre></div></td></tr><tr><td>description</td><td><div class=\"dni-plaintext\"><pre>传球给队友 10 次</pre></div></td></tr><tr><td>title</td><td><div class=\"dni-plaintext\"><pre>注意!</pre></div></td></tr><tr><td>standing</td><td><div class=\"dni-plaintext\"><pre>3000</pre></div></td></tr><tr><td>asString</td><td><div class=\"dni-plaintext\"><pre>传球给队友 10 次 on 月動球 10 times in a 日</pre></div></td></tr></tbody></table></div></details></td></tr><tr><td>11</td><td><details class=\"dni-treeview\"><summary><span class=\"dni-code-hint\"><code>Submission#2+conclaveChallenges</code></span></summary><div><table><thead><tr></tr></thead><tbody><tr><td>id</td><td><div class=\"dni-plaintext\"><pre>6717bcc58ebe70befe5e73a2</pre></div></td></tr><tr><td>expiry</td><td><span>2024-10-23 14:55:01Z</span></td></tr><tr><td>activation</td><td><span>2024-10-22 14:55:01Z</span></td></tr><tr><td>amount</td><td><div class=\"dni-plaintext\"><pre>3</pre></div></td></tr><tr><td>mode</td><td><div class=\"dni-plaintext\"><pre>月動球</pre></div></td></tr><tr><td>category</td><td><div class=\"dni-plaintext\"><pre>日</pre></div></td></tr><tr><td>eta</td><td><div class=\"dni-plaintext\"><pre>5h 12m 41s</pre></div></td></tr><tr><td>expired</td><td><div class=\"dni-plaintext\"><pre>False</pre></div></td></tr><tr><td>daily</td><td><div class=\"dni-plaintext\"><pre>False</pre></div></td></tr><tr><td>rootChallenge</td><td><div class=\"dni-plaintext\"><pre>False</pre></div></td></tr><tr><td>endString</td><td><div class=\"dni-plaintext\"><pre>5h 12m 41s</pre></div></td></tr><tr><td>description</td><td><div class=\"dni-plaintext\"><pre>偷球 3 次</pre></div></td></tr><tr><td>title</td><td><div class=\"dni-plaintext\"><pre>夺取</pre></div></td></tr><tr><td>standing</td><td><div class=\"dni-plaintext\"><pre>1000</pre></div></td></tr><tr><td>asString</td><td><div class=\"dni-plaintext\"><pre>偷球 3 次 on 月動球 3 times in a 日</pre></div></td></tr></tbody></table></div></details></td></tr><tr><td>12</td><td><details class=\"dni-treeview\"><summary><span class=\"dni-code-hint\"><code>Submission#2+conclaveChallenges</code></span></summary><div><table><thead><tr></tr></thead><tbody><tr><td>id</td><td><div class=\"dni-plaintext\"><pre>6718c21a48d9d57ab05e739c</pre></div></td></tr><tr><td>expiry</td><td><span>2024-10-23 09:40:02Z</span></td></tr><tr><td>activation</td><td><span>2024-10-23 09:30:02Z</span></td></tr><tr><td>amount</td><td><div class=\"dni-plaintext\"><pre>2</pre></div></td></tr><tr><td>mode</td><td><div class=\"dni-plaintext\"><pre>團隊殲奪</pre></div></td></tr><tr><td>category</td><td><div class=\"dni-plaintext\"><pre>修改回合</pre></div></td></tr><tr><td>eta</td><td><div class=\"dni-plaintext\"><pre>-2m 17s</pre></div></td></tr><tr><td>expired</td><td><div class=\"dni-plaintext\"><pre>True</pre></div></td></tr><tr><td>daily</td><td><div class=\"dni-plaintext\"><pre>False</pre></div></td></tr><tr><td>rootChallenge</td><td><div class=\"dni-plaintext\"><pre>False</pre></div></td></tr><tr><td>endString</td><td><div class=\"dni-plaintext\"><pre>-2m 17s</pre></div></td></tr><tr><td>description</td><td><div class=\"dni-plaintext\"><pre>P V P Timed Affector Super Everything</pre></div></td></tr><tr><td>title</td><td><div class=\"dni-plaintext\"><pre>P V P Timed Affector Super Everything</pre></div></td></tr><tr><td>standing</td><td><div class=\"dni-plaintext\"><pre>0</pre></div></td></tr><tr><td>asString</td><td><div class=\"dni-plaintext\"><pre>P V P Timed Affector Super Everything on 團隊殲奪 2 times in a 修改回合</pre></div></td></tr></tbody></table></div></details></td></tr><tr><td>13</td><td><details class=\"dni-treeview\"><summary><span class=\"dni-code-hint\"><code>Submission#2+conclaveChallenges</code></span></summary><div><table><thead><tr></tr></thead><tbody><tr><td>id</td><td><div class=\"dni-plaintext\"><pre>6718c34671141230185e739c</pre></div></td></tr><tr><td>expiry</td><td><span>2024-10-23 09:45:02Z</span></td></tr><tr><td>activation</td><td><span>2024-10-23 09:35:02Z</span></td></tr><tr><td>amount</td><td><div class=\"dni-plaintext\"><pre>2</pre></div></td></tr><tr><td>mode</td><td><div class=\"dni-plaintext\"><pre>剿灭</pre></div></td></tr><tr><td>category</td><td><div class=\"dni-plaintext\"><pre>修改回合</pre></div></td></tr><tr><td>eta</td><td><div class=\"dni-plaintext\"><pre>2m 42s</pre></div></td></tr><tr><td>expired</td><td><div class=\"dni-plaintext\"><pre>False</pre></div></td></tr><tr><td>daily</td><td><div class=\"dni-plaintext\"><pre>False</pre></div></td></tr><tr><td>rootChallenge</td><td><div class=\"dni-plaintext\"><pre>False</pre></div></td></tr><tr><td>endString</td><td><div class=\"dni-plaintext\"><pre>2m 42s</pre></div></td></tr><tr><td>description</td><td><div class=\"dni-plaintext\"><pre>P V P Timed Affector Super Power Damage</pre></div></td></tr><tr><td>title</td><td><div class=\"dni-plaintext\"><pre>P V P Timed Affector Super Power Damage</pre></div></td></tr><tr><td>standing</td><td><div class=\"dni-plaintext\"><pre>0</pre></div></td></tr><tr><td>asString</td><td><div class=\"dni-plaintext\"><pre>P V P Timed Affector Super Power Damage on 剿灭 2 times in a 修改回合</pre></div></td></tr></tbody></table></div></details></td></tr></tbody></table><style>\r\n",
       ".dni-code-hint {\r\n",
       "    font-style: italic;\r\n",
       "    overflow: hidden;\r\n",
       "    white-space: nowrap;\r\n",
       "}\r\n",
       ".dni-treeview {\r\n",
       "    white-space: nowrap;\r\n",
       "}\r\n",
       ".dni-treeview td {\r\n",
       "    vertical-align: top;\r\n",
       "    text-align: start;\r\n",
       "}\r\n",
       "details.dni-treeview {\r\n",
       "    padding-left: 1em;\r\n",
       "}\r\n",
       "table td {\r\n",
       "    text-align: start;\r\n",
       "}\r\n",
       "table tr { \r\n",
       "    vertical-align: top; \r\n",
       "    margin: 0em 0px;\r\n",
       "}\r\n",
       "table tr td pre \r\n",
       "{ \r\n",
       "    vertical-align: top !important; \r\n",
       "    margin: 0em 0px !important;\r\n",
       "} \r\n",
       "table th {\r\n",
       "    text-align: start;\r\n",
       "}\r\n",
       "</style>"
      ]
     },
     "metadata": {},
     "output_type": "display_data"
    }
   ],
   "source": [
    "using System.Text.Json;\n",
    "using System.Net.Http;\n",
    "using System.Collections.Generic;\n",
    "\n",
    "HttpClient httpClient=new();\n",
    "\n",
    "var response = await httpClient.GetAsync(\"https://api.warframestat.us/pc/zh/conclaveChallenges/\");\n",
    "var json = await response.Content.ReadAsStringAsync();\n",
    "var result =  System.Text.Json.JsonSerializer.Deserialize<List<conclaveChallenges>>(json);\n",
    "\n",
    "result.Display();"
   ]
  }
 ],
 "metadata": {
  "kernelspec": {
   "display_name": ".NET (C#)",
   "language": "C#",
   "name": ".net-csharp"
  },
  "language_info": {
   "name": "csharp"
  },
  "orig_nbformat": 4,
  "polyglot_notebook": {
   "kernelInfo": {
    "defaultKernelName": "csharp",
    "items": [
     {
      "aliases": [],
      "name": "csharp"
     }
    ]
   }
  }
 },
 "nbformat": 4,
 "nbformat_minor": 2
}
