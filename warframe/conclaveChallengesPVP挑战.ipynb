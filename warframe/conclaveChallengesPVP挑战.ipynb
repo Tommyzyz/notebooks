{
 "cells": [
  {
   "cell_type": "code",
   "execution_count": 2,
   "metadata": {
    "dotnet_interactive": {
     "language": "csharp"
    },
    "polyglot_notebook": {
     "kernelName": "csharp"
    },
    "vscode": {
     "languageId": "polyglot-notebook"
    }
   },
   "outputs": [],
   "source": [
    "// conclaveChallenges\n",
    "\n",
    "// Root myDeserializedClass = JsonConvert.DeserializeObject<List<Root>>(myJsonResponse);\n",
    "    public class conclaveChallenges\n",
    "    {\n",
    "        public string id { get; set; }\n",
    "        public DateTime expiry { get; set; }\n",
    "        public DateTime activation { get; set; }\n",
    "        public int amount { get; set; }\n",
    "        public string mode { get; set; }\n",
    "        public string category { get; set; }\n",
    "        public string eta { get; set; }\n",
    "        public bool expired { get; set; }\n",
    "        public bool daily { get; set; }\n",
    "        public bool rootChallenge { get; set; }\n",
    "        public string endString { get; set; }\n",
    "        public string description { get; set; }\n",
    "        public string title { get; set; }\n",
    "        public int standing { get; set; }\n",
    "        public string asString { get; set; }\n",
    "    }\n",
    "\n"
   ]
  },
  {
   "cell_type": "code",
   "execution_count": 4,
   "metadata": {
    "dotnet_interactive": {
     "language": "csharp"
    },
    "polyglot_notebook": {
     "kernelName": "csharp"
    },
    "vscode": {
     "languageId": "polyglot-notebook"
    }
   },
   "outputs": [
    {
     "data": {
      "text/html": [
       "<table><thead><tr><th><i>index</i></th><th>value</th></tr></thead><tbody><tr><td>0</td><td><details class=\"dni-treeview\"><summary><span class=\"dni-code-hint\"><code>Submission#3+conclaveChallenges</code></span></summary><div><table><thead><tr></tr></thead><tbody><tr><td>id</td><td>64a860b14248d4428ac6e7c8</td></tr><tr><td>expiry</td><td><span>2023-07-14 19:00:01Z</span></td></tr><tr><td>activation</td><td><span>2023-07-07 19:00:01Z</span></td></tr><tr><td>amount</td><td><div class=\"dni-plaintext\"><pre>6</pre></div></td></tr><tr><td>mode</td><td>任意模式</td></tr><tr><td>category</td><td>週</td></tr><tr><td>eta</td><td>4d 14h 28m 7s</td></tr><tr><td>expired</td><td><div class=\"dni-plaintext\"><pre>False</pre></div></td></tr><tr><td>daily</td><td><div class=\"dni-plaintext\"><pre>False</pre></div></td></tr><tr><td>rootChallenge</td><td><div class=\"dni-plaintext\"><pre>False</pre></div></td></tr><tr><td>endString</td><td>4d 14h 28m 7s</td></tr><tr><td>description</td><td>在任何模式中赢得 6 场比赛</td></tr><tr><td>title</td><td>竞赛胜利</td></tr><tr><td>standing</td><td><div class=\"dni-plaintext\"><pre>0</pre></div></td></tr><tr><td>asString</td><td>在任何模式中赢得 6 场比赛 on 任意模式 6 times in a 週</td></tr></tbody></table></div></details></td></tr><tr><td>1</td><td><details class=\"dni-treeview\"><summary><span class=\"dni-code-hint\"><code>Submission#3+conclaveChallenges</code></span></summary><div><table><thead><tr></tr></thead><tbody><tr><td>id</td><td>64a860b14248d4428ac6e7c9</td></tr><tr><td>expiry</td><td><span>2023-07-14 19:00:01Z</span></td></tr><tr><td>activation</td><td><span>2023-07-07 19:00:01Z</span></td></tr><tr><td>amount</td><td><div class=\"dni-plaintext\"><pre>20</pre></div></td></tr><tr><td>mode</td><td>任意模式</td></tr><tr><td>category</td><td>週</td></tr><tr><td>eta</td><td>4d 14h 28m 7s</td></tr><tr><td>expired</td><td><div class=\"dni-plaintext\"><pre>False</pre></div></td></tr><tr><td>daily</td><td><div class=\"dni-plaintext\"><pre>False</pre></div></td></tr><tr><td>rootChallenge</td><td><div class=\"dni-plaintext\"><pre>False</pre></div></td></tr><tr><td>endString</td><td>4d 14h 28m 7s</td></tr><tr><td>description</td><td>在任何模式中完成 20 场比赛</td></tr><tr><td>title</td><td>竞赛完成</td></tr><tr><td>standing</td><td><div class=\"dni-plaintext\"><pre>0</pre></div></td></tr><tr><td>asString</td><td>在任何模式中完成 20 场比赛 on 任意模式 20 times in a 週</td></tr></tbody></table></div></details></td></tr><tr><td>2</td><td><details class=\"dni-treeview\"><summary><span class=\"dni-code-hint\"><code>Submission#3+conclaveChallenges</code></span></summary><div><table><thead><tr></tr></thead><tbody><tr><td>id</td><td>64a860b14248d4428ac6e7cb</td></tr><tr><td>expiry</td><td><span>2023-07-14 19:00:01Z</span></td></tr><tr><td>activation</td><td><span>2023-07-07 19:00:01Z</span></td></tr><tr><td>amount</td><td><div class=\"dni-plaintext\"><pre>0</pre></div></td></tr><tr><td>mode</td><td>無</td></tr><tr><td>category</td><td>周根目录</td></tr><tr><td>eta</td><td>4d 14h 28m 7s</td></tr><tr><td>expired</td><td><div class=\"dni-plaintext\"><pre>False</pre></div></td></tr><tr><td>daily</td><td><div class=\"dni-plaintext\"><pre>False</pre></div></td></tr><tr><td>rootChallenge</td><td><div class=\"dni-plaintext\"><pre>False</pre></div></td></tr><tr><td>endString</td><td>4d 14h 28m 7s</td></tr><tr><td>description</td><td>每周任务</td></tr><tr><td>title</td><td>每周任务</td></tr><tr><td>standing</td><td><div class=\"dni-plaintext\"><pre>50000</pre></div></td></tr><tr><td>asString</td><td>每周任务 on 無 0 times in a 周根目录</td></tr></tbody></table></div></details></td></tr><tr><td>3</td><td><details class=\"dni-treeview\"><summary><span class=\"dni-code-hint\"><code>Submission#3+conclaveChallenges</code></span></summary><div><table><thead><tr></tr></thead><tbody><tr><td>id</td><td>64a860b14248d4428ac6e7ca</td></tr><tr><td>expiry</td><td><span>2023-07-14 19:00:01Z</span></td></tr><tr><td>activation</td><td><span>2023-07-07 19:00:01Z</span></td></tr><tr><td>amount</td><td><div class=\"dni-plaintext\"><pre>10</pre></div></td></tr><tr><td>mode</td><td>任意模式</td></tr><tr><td>category</td><td>週</td></tr><tr><td>eta</td><td>4d 14h 28m 7s</td></tr><tr><td>expired</td><td><div class=\"dni-plaintext\"><pre>False</pre></div></td></tr><tr><td>daily</td><td><div class=\"dni-plaintext\"><pre>False</pre></div></td></tr><tr><td>rootChallenge</td><td><div class=\"dni-plaintext\"><pre>False</pre></div></td></tr><tr><td>endString</td><td>4d 14h 28m 7s</td></tr><tr><td>description</td><td>完成 10 项日常挑战</td></tr><tr><td>title</td><td>状态</td></tr><tr><td>standing</td><td><div class=\"dni-plaintext\"><pre>0</pre></div></td></tr><tr><td>asString</td><td>完成 10 项日常挑战 on 任意模式 10 times in a 週</td></tr></tbody></table></div></details></td></tr><tr><td>4</td><td><details class=\"dni-treeview\"><summary><span class=\"dni-code-hint\"><code>Submission#3+conclaveChallenges</code></span></summary><div><table><thead><tr></tr></thead><tbody><tr><td>id</td><td>64aacb71207ad6c1290a48e0</td></tr><tr><td>expiry</td><td><span>2023-07-10 15:00:01Z</span></td></tr><tr><td>activation</td><td><span>2023-07-09 15:00:01Z</span></td></tr><tr><td>amount</td><td><div class=\"dni-plaintext\"><pre>4</pre></div></td></tr><tr><td>mode</td><td>奪取中樞</td></tr><tr><td>category</td><td>日</td></tr><tr><td>eta</td><td>10h 28m 7s</td></tr><tr><td>expired</td><td><div class=\"dni-plaintext\"><pre>False</pre></div></td></tr><tr><td>daily</td><td><div class=\"dni-plaintext\"><pre>False</pre></div></td></tr><tr><td>rootChallenge</td><td><div class=\"dni-plaintext\"><pre>False</pre></div></td></tr><tr><td>endString</td><td>10h 28m 7s</td></tr><tr><td>description</td><td>夺取 4 个中枢</td></tr><tr><td>title</td><td>恶棍</td></tr><tr><td>standing</td><td><div class=\"dni-plaintext\"><pre>1500</pre></div></td></tr><tr><td>asString</td><td>夺取 4 个中枢 on 奪取中樞 4 times in a 日</td></tr></tbody></table></div></details></td></tr><tr><td>5</td><td><details class=\"dni-treeview\"><summary><span class=\"dni-code-hint\"><code>Submission#3+conclaveChallenges</code></span></summary><div><table><thead><tr></tr></thead><tbody><tr><td>id</td><td>64aacb71207ad6c1290a48df</td></tr><tr><td>expiry</td><td><span>2023-07-10 15:00:01Z</span></td></tr><tr><td>activation</td><td><span>2023-07-09 15:00:01Z</span></td></tr><tr><td>amount</td><td><div class=\"dni-plaintext\"><pre>1</pre></div></td></tr><tr><td>mode</td><td>奪取中樞</td></tr><tr><td>category</td><td>日</td></tr><tr><td>eta</td><td>10h 28m 7s</td></tr><tr><td>expired</td><td><div class=\"dni-plaintext\"><pre>False</pre></div></td></tr><tr><td>daily</td><td><div class=\"dni-plaintext\"><pre>False</pre></div></td></tr><tr><td>rootChallenge</td><td><div class=\"dni-plaintext\"><pre>False</pre></div></td></tr><tr><td>endString</td><td>10h 28m 7s</td></tr><tr><td>description</td><td>完成 1 次比赛</td></tr><tr><td>title</td><td>紧盯目标</td></tr><tr><td>standing</td><td><div class=\"dni-plaintext\"><pre>500</pre></div></td></tr><tr><td>asString</td><td>完成 1 次比赛 on 奪取中樞 1 times in a 日</td></tr></tbody></table></div></details></td></tr><tr><td>6</td><td><details class=\"dni-treeview\"><summary><span class=\"dni-code-hint\"><code>Submission#3+conclaveChallenges</code></span></summary><div><table><thead><tr></tr></thead><tbody><tr><td>id</td><td>64aacb71207ad6c1290a48e2</td></tr><tr><td>expiry</td><td><span>2023-07-10 15:00:01Z</span></td></tr><tr><td>activation</td><td><span>2023-07-09 15:00:01Z</span></td></tr><tr><td>amount</td><td><div class=\"dni-plaintext\"><pre>4</pre></div></td></tr><tr><td>mode</td><td>團隊殲奪</td></tr><tr><td>category</td><td>日</td></tr><tr><td>eta</td><td>10h 28m 7s</td></tr><tr><td>expired</td><td><div class=\"dni-plaintext\"><pre>False</pre></div></td></tr><tr><td>daily</td><td><div class=\"dni-plaintext\"><pre>False</pre></div></td></tr><tr><td>rootChallenge</td><td><div class=\"dni-plaintext\"><pre>False</pre></div></td></tr><tr><td>endString</td><td>10h 28m 7s</td></tr><tr><td>description</td><td>完成 4 次比赛</td></tr><tr><td>title</td><td>紧盯目标</td></tr><tr><td>standing</td><td><div class=\"dni-plaintext\"><pre>1500</pre></div></td></tr><tr><td>asString</td><td>完成 4 次比赛 on 團隊殲奪 4 times in a 日</td></tr></tbody></table></div></details></td></tr><tr><td>7</td><td><details class=\"dni-treeview\"><summary><span class=\"dni-code-hint\"><code>Submission#3+conclaveChallenges</code></span></summary><div><table><thead><tr></tr></thead><tbody><tr><td>id</td><td>64aacb71207ad6c1290a48e1</td></tr><tr><td>expiry</td><td><span>2023-07-10 15:00:01Z</span></td></tr><tr><td>activation</td><td><span>2023-07-09 15:00:01Z</span></td></tr><tr><td>amount</td><td><div class=\"dni-plaintext\"><pre>1</pre></div></td></tr><tr><td>mode</td><td>團隊殲奪</td></tr><tr><td>category</td><td>日</td></tr><tr><td>eta</td><td>10h 28m 7s</td></tr><tr><td>expired</td><td><div class=\"dni-plaintext\"><pre>False</pre></div></td></tr><tr><td>daily</td><td><div class=\"dni-plaintext\"><pre>False</pre></div></td></tr><tr><td>rootChallenge</td><td><div class=\"dni-plaintext\"><pre>False</pre></div></td></tr><tr><td>endString</td><td>10h 28m 7s</td></tr><tr><td>description</td><td>击杀 1 名正在连续击杀状态中的敌人</td></tr><tr><td>title</td><td>连续击杀终结</td></tr><tr><td>standing</td><td><div class=\"dni-plaintext\"><pre>500</pre></div></td></tr><tr><td>asString</td><td>击杀 1 名正在连续击杀状态中的敌人 on 團隊殲奪 1 times in a 日</td></tr></tbody></table></div></details></td></tr><tr><td>8</td><td><details class=\"dni-treeview\"><summary><span class=\"dni-code-hint\"><code>Submission#3+conclaveChallenges</code></span></summary><div><table><thead><tr></tr></thead><tbody><tr><td>id</td><td>64aacb71207ad6c1290a48e3</td></tr><tr><td>expiry</td><td><span>2023-07-10 15:00:01Z</span></td></tr><tr><td>activation</td><td><span>2023-07-09 15:00:01Z</span></td></tr><tr><td>amount</td><td><div class=\"dni-plaintext\"><pre>1</pre></div></td></tr><tr><td>mode</td><td>剿灭</td></tr><tr><td>category</td><td>日</td></tr><tr><td>eta</td><td>10h 28m 7s</td></tr><tr><td>expired</td><td><div class=\"dni-plaintext\"><pre>False</pre></div></td></tr><tr><td>daily</td><td><div class=\"dni-plaintext\"><pre>False</pre></div></td></tr><tr><td>rootChallenge</td><td><div class=\"dni-plaintext\"><pre>False</pre></div></td></tr><tr><td>endString</td><td>10h 28m 7s</td></tr><tr><td>description</td><td>以副武器击杀1个敌人</td></tr><tr><td>title</td><td>次要目标</td></tr><tr><td>standing</td><td><div class=\"dni-plaintext\"><pre>500</pre></div></td></tr><tr><td>asString</td><td>以副武器击杀1个敌人 on 剿灭 1 times in a 日</td></tr></tbody></table></div></details></td></tr><tr><td>9</td><td><details class=\"dni-treeview\"><summary><span class=\"dni-code-hint\"><code>Submission#3+conclaveChallenges</code></span></summary><div><table><thead><tr></tr></thead><tbody><tr><td>id</td><td>64aacb71207ad6c1290a48e4</td></tr><tr><td>expiry</td><td><span>2023-07-10 15:00:01Z</span></td></tr><tr><td>activation</td><td><span>2023-07-09 15:00:01Z</span></td></tr><tr><td>amount</td><td><div class=\"dni-plaintext\"><pre>4</pre></div></td></tr><tr><td>mode</td><td>剿灭</td></tr><tr><td>category</td><td>日</td></tr><tr><td>eta</td><td>10h 28m 7s</td></tr><tr><td>expired</td><td><div class=\"dni-plaintext\"><pre>False</pre></div></td></tr><tr><td>daily</td><td><div class=\"dni-plaintext\"><pre>False</pre></div></td></tr><tr><td>rootChallenge</td><td><div class=\"dni-plaintext\"><pre>False</pre></div></td></tr><tr><td>endString</td><td>10h 28m 7s</td></tr><tr><td>description</td><td>击杀 4 名空中的敌人</td></tr><tr><td>title</td><td>反空袭</td></tr><tr><td>standing</td><td><div class=\"dni-plaintext\"><pre>1500</pre></div></td></tr><tr><td>asString</td><td>击杀 4 名空中的敌人 on 剿灭 4 times in a 日</td></tr></tbody></table></div></details></td></tr><tr><td>10</td><td><details class=\"dni-treeview\"><summary><span class=\"dni-code-hint\"><code>Submission#3+conclaveChallenges</code></span></summary><div><table><thead><tr></tr></thead><tbody><tr><td>id</td><td>64aacb71207ad6c1290a48e6</td></tr><tr><td>expiry</td><td><span>2023-07-10 15:00:01Z</span></td></tr><tr><td>activation</td><td><span>2023-07-09 15:00:01Z</span></td></tr><tr><td>amount</td><td><div class=\"dni-plaintext\"><pre>3</pre></div></td></tr><tr><td>mode</td><td>月動球</td></tr><tr><td>category</td><td>日</td></tr><tr><td>eta</td><td>10h 28m 7s</td></tr><tr><td>expired</td><td><div class=\"dni-plaintext\"><pre>False</pre></div></td></tr><tr><td>daily</td><td><div class=\"dni-plaintext\"><pre>False</pre></div></td></tr><tr><td>rootChallenge</td><td><div class=\"dni-plaintext\"><pre>False</pre></div></td></tr><tr><td>endString</td><td>10h 28m 7s</td></tr><tr><td>description</td><td>在一场比赛中, 成功传球给队友 3 次</td></tr><tr><td>title</td><td>专注使命必达!</td></tr><tr><td>standing</td><td><div class=\"dni-plaintext\"><pre>6000</pre></div></td></tr><tr><td>asString</td><td>在一场比赛中, 成功传球给队友 3 次 on 月動球 3 times in a 日</td></tr></tbody></table></div></details></td></tr><tr><td>11</td><td><details class=\"dni-treeview\"><summary><span class=\"dni-code-hint\"><code>Submission#3+conclaveChallenges</code></span></summary><div><table><thead><tr></tr></thead><tbody><tr><td>id</td><td>64aacb71207ad6c1290a48e5</td></tr><tr><td>expiry</td><td><span>2023-07-10 15:00:01Z</span></td></tr><tr><td>activation</td><td><span>2023-07-09 15:00:01Z</span></td></tr><tr><td>amount</td><td><div class=\"dni-plaintext\"><pre>6</pre></div></td></tr><tr><td>mode</td><td>月動球</td></tr><tr><td>category</td><td>日</td></tr><tr><td>eta</td><td>10h 28m 7s</td></tr><tr><td>expired</td><td><div class=\"dni-plaintext\"><pre>False</pre></div></td></tr><tr><td>daily</td><td><div class=\"dni-plaintext\"><pre>False</pre></div></td></tr><tr><td>rootChallenge</td><td><div class=\"dni-plaintext\"><pre>False</pre></div></td></tr><tr><td>endString</td><td>10h 28m 7s</td></tr><tr><td>description</td><td>拦球 6 次</td></tr><tr><td>title</td><td>拦截</td></tr><tr><td>standing</td><td><div class=\"dni-plaintext\"><pre>3000</pre></div></td></tr><tr><td>asString</td><td>拦球 6 次 on 月動球 6 times in a 日</td></tr></tbody></table></div></details></td></tr></tbody></table><style>\r\n",
       ".dni-code-hint {\r\n",
       "    font-style: italic;\r\n",
       "    overflow: hidden;\r\n",
       "    white-space: nowrap;\r\n",
       "}\r\n",
       ".dni-treeview {\r\n",
       "    white-space: nowrap;\r\n",
       "}\r\n",
       ".dni-treeview td {\r\n",
       "    vertical-align: top;\r\n",
       "    text-align: start;\r\n",
       "}\r\n",
       "details.dni-treeview {\r\n",
       "    padding-left: 1em;\r\n",
       "}\r\n",
       "table td {\r\n",
       "    text-align: start;\r\n",
       "}\r\n",
       "table tr { \r\n",
       "    vertical-align: top; \r\n",
       "    margin: 0em 0px;\r\n",
       "}\r\n",
       "table tr td pre \r\n",
       "{ \r\n",
       "    vertical-align: top !important; \r\n",
       "    margin: 0em 0px !important;\r\n",
       "} \r\n",
       "table th {\r\n",
       "    text-align: start;\r\n",
       "}\r\n",
       "</style>"
      ]
     },
     "metadata": {},
     "output_type": "display_data"
    }
   ],
   "source": [
    "using System.Text.Json;\n",
    "using System.Net.Http;\n",
    "using System.Collections.Generic;\n",
    "\n",
    "HttpClient httpClient=new();\n",
    "\n",
    "var response = await httpClient.GetAsync(\"https://api.warframestat.us/pc/zh/conclaveChallenges/\");\n",
    "var json = await response.Content.ReadAsStringAsync();\n",
    "var result =  System.Text.Json.JsonSerializer.Deserialize<List<conclaveChallenges>>(json);\n",
    "\n",
    "result.Display();"
   ]
  }
 ],
 "metadata": {
  "language_info": {
   "name": "csharp"
  },
  "orig_nbformat": 4
 },
 "nbformat": 4,
 "nbformat_minor": 2
}
