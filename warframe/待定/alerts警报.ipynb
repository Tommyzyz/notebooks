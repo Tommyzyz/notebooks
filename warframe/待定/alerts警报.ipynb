{
 "cells": [
  {
   "cell_type": "code",
   "execution_count": 16,
   "metadata": {
    "dotnet_interactive": {
     "language": "csharp"
    },
    "polyglot_notebook": {
     "kernelName": "csharp"
    },
    "vscode": {
     "languageId": "polyglot-notebook"
    }
   },
   "outputs": [],
   "source": [
    "    public class CountedItem\n",
    "    {\n",
    "        public int count { get; set; }\n",
    "        public string type { get; set; }\n",
    "        public string key { get; set; }\n",
    "    }\n",
    "\n",
    "    public class Mission\n",
    "    {\n",
    "        public string description { get; set; }\n",
    "        public string node { get; set; }\n",
    "        public string nodeKey { get; set; }\n",
    "        public string type { get; set; }\n",
    "        public string typeKey { get; set; }\n",
    "        public string faction { get; set; }\n",
    "        public string factionKey { get; set; }\n",
    "        public Reward reward { get; set; }\n",
    "        public int minEnemyLevel { get; set; }\n",
    "        public int maxEnemyLevel { get; set; }\n",
    "        public bool nightmare { get; set; }\n",
    "        public bool archwingRequired { get; set; }\n",
    "        public bool isSharkwing { get; set; }\n",
    "        public string levelOverride { get; set; }\n",
    "        public string enemySpec { get; set; }\n",
    "        public List<object> advancedSpawners { get; set; }\n",
    "        public List<object> requiredItems { get; set; }\n",
    "        public List<object> levelAuras { get; set; }\n",
    "        public int? maxWaveNum { get; set; }\n",
    "    }\n",
    "\n",
    "    public class Reward\n",
    "    {\n",
    "        public List<object> items { get; set; }\n",
    "        public List<CountedItem> countedItems { get; set; }\n",
    "        public int credits { get; set; }\n",
    "        public string asString { get; set; }\n",
    "        public string itemString { get; set; }\n",
    "        public string thumbnail { get; set; }\n",
    "        public int color { get; set; }\n",
    "    }\n",
    "\n",
    "    public class alerts\n",
    "    {\n",
    "        public string id { get; set; }\n",
    "        public DateTime activation { get; set; }\n",
    "        public string startString { get; set; }\n",
    "        public DateTime expiry { get; set; }\n",
    "        public bool active { get; set; }\n",
    "        public Mission mission { get; set; }\n",
    "        public string eta { get; set; }\n",
    "        public List<string> rewardTypes { get; set; }\n",
    "        public string tag { get; set; }\n",
    "    }"
   ]
  },
  {
   "cell_type": "code",
   "execution_count": 17,
   "metadata": {
    "vscode": {
     "languageId": "polyglot-notebook"
    }
   },
   "outputs": [
    {
     "ename": "Error",
     "evalue": "System.Text.Json.JsonException: The JSON value could not be converted to Submission#17+alerts. Path: $ | LineNumber: 0 | BytePositionInLine: 1.\r\n   at System.Text.Json.ThrowHelper.ThrowJsonException_DeserializeUnableToConvertValue(Type propertyType)\r\n   at System.Text.Json.Serialization.Converters.ObjectDefaultConverter`1.OnTryRead(Utf8JsonReader& reader, Type typeToConvert, JsonSerializerOptions options, ReadStack& state, T& value)\r\n   at System.Text.Json.Serialization.JsonConverter`1.TryRead(Utf8JsonReader& reader, Type typeToConvert, JsonSerializerOptions options, ReadStack& state, T& value, Boolean& isPopulatedValue)\r\n   at System.Text.Json.Serialization.JsonConverter`1.ReadCore(Utf8JsonReader& reader, JsonSerializerOptions options, ReadStack& state)\r\n   at System.Text.Json.JsonSerializer.ReadFromSpan[TValue](ReadOnlySpan`1 utf8Json, JsonTypeInfo`1 jsonTypeInfo, Nullable`1 actualByteCount)\r\n   at System.Text.Json.JsonSerializer.ReadFromSpan[TValue](ReadOnlySpan`1 json, JsonTypeInfo`1 jsonTypeInfo)\r\n   at System.Text.Json.JsonSerializer.Deserialize[TValue](String json, JsonSerializerOptions options)\r\n   at Submission#18.<<Initialize>>d__0.MoveNext()\r\n--- End of stack trace from previous location ---\r\n   at Microsoft.CodeAnalysis.Scripting.ScriptExecutionState.RunSubmissionsAsync[TResult](ImmutableArray`1 precedingExecutors, Func`2 currentExecutor, StrongBox`1 exceptionHolderOpt, Func`2 catchExceptionOpt, CancellationToken cancellationToken)",
     "output_type": "error",
     "traceback": [
      "System.Text.Json.JsonException: The JSON value could not be converted to Submission#17+alerts. Path: $ | LineNumber: 0 | BytePositionInLine: 1.\r\n",
      "   at System.Text.Json.ThrowHelper.ThrowJsonException_DeserializeUnableToConvertValue(Type propertyType)\r\n",
      "   at System.Text.Json.Serialization.Converters.ObjectDefaultConverter`1.OnTryRead(Utf8JsonReader& reader, Type typeToConvert, JsonSerializerOptions options, ReadStack& state, T& value)\r\n",
      "   at System.Text.Json.Serialization.JsonConverter`1.TryRead(Utf8JsonReader& reader, Type typeToConvert, JsonSerializerOptions options, ReadStack& state, T& value, Boolean& isPopulatedValue)\r\n",
      "   at System.Text.Json.Serialization.JsonConverter`1.ReadCore(Utf8JsonReader& reader, JsonSerializerOptions options, ReadStack& state)\r\n",
      "   at System.Text.Json.JsonSerializer.ReadFromSpan[TValue](ReadOnlySpan`1 utf8Json, JsonTypeInfo`1 jsonTypeInfo, Nullable`1 actualByteCount)\r\n",
      "   at System.Text.Json.JsonSerializer.ReadFromSpan[TValue](ReadOnlySpan`1 json, JsonTypeInfo`1 jsonTypeInfo)\r\n",
      "   at System.Text.Json.JsonSerializer.Deserialize[TValue](String json, JsonSerializerOptions options)\r\n",
      "   at Submission#18.<<Initialize>>d__0.MoveNext()\r\n",
      "--- End of stack trace from previous location ---\r\n",
      "   at Microsoft.CodeAnalysis.Scripting.ScriptExecutionState.RunSubmissionsAsync[TResult](ImmutableArray`1 precedingExecutors, Func`2 currentExecutor, StrongBox`1 exceptionHolderOpt, Func`2 catchExceptionOpt, CancellationToken cancellationToken)"
     ]
    }
   ],
   "source": [
    "using System.Text.Json;\n",
    "using System.Net.Http;\n",
    "using System.Collections.Generic;\n",
    "\n",
    "HttpClient httpClient=new();\n",
    "\n",
    "var response = await httpClient.GetAsync(\"https://api.warframestat.us/pc/zh/alerts/\");\n",
    "var json = await response.Content.ReadAsStringAsync();\n",
    "var result =  System.Text.Json.JsonSerializer.Deserialize<alerts>(json);\n",
    "\n",
    "result.Display();\n",
    "\n",
    "response.Display();"
   ]
  }
 ],
 "metadata": {
  "language_info": {
   "name": "csharp"
  }
 },
 "nbformat": 4,
 "nbformat_minor": 2
}
