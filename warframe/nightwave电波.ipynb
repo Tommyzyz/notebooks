{
 "cells": [
  {
   "cell_type": "code",
   "execution_count": 1,
   "metadata": {
    "dotnet_interactive": {
     "language": "csharp"
    },
    "polyglot_notebook": {
     "kernelName": "csharp"
    },
    "vscode": {
     "languageId": "polyglot-notebook"
    }
   },
   "outputs": [],
   "source": [
    "//  nightwave: 电波\n",
    "\n",
    "// Root myDeserializedClass = JsonConvert.DeserializeObject<Root>(myJsonResponse);\n",
    "    public class ActiveChallenge\n",
    "    {\n",
    "        public string id { get; set; }\n",
    "        public DateTime activation { get; set; }\n",
    "        public string startString { get; set; }\n",
    "        public DateTime expiry { get; set; }\n",
    "        public bool active { get; set; }\n",
    "        public bool isDaily { get; set; }\n",
    "        public bool isElite { get; set; }\n",
    "        public string desc { get; set; }\n",
    "        public string title { get; set; }\n",
    "        public int reputation { get; set; }\n",
    "    }\n",
    "\n",
    "    public class Params\n",
    "    {\n",
    "    }\n",
    "\n",
    "    public class nightwave\n",
    "    {\n",
    "        public string id { get; set; }\n",
    "        public DateTime activation { get; set; }\n",
    "        public string startString { get; set; }\n",
    "        public DateTime expiry { get; set; }\n",
    "        public bool active { get; set; }\n",
    "        public int season { get; set; }\n",
    "        public string tag { get; set; }\n",
    "        public int phase { get; set; }\n",
    "        public Params @params { get; set; }\n",
    "        public List<object> possibleChallenges { get; set; }\n",
    "        public List<ActiveChallenge> activeChallenges { get; set; }\n",
    "        public List<string> rewardTypes { get; set; }\n",
    "    }\n",
    "\n"
   ]
  },
  {
   "cell_type": "code",
   "execution_count": 2,
   "metadata": {
    "dotnet_interactive": {
     "language": "csharp"
    },
    "polyglot_notebook": {
     "kernelName": "csharp"
    },
    "vscode": {
     "languageId": "polyglot-notebook"
    }
   },
   "outputs": [
    {
     "data": {
      "text/html": [
       "<details open=\"open\" class=\"dni-treeview\"><summary><span class=\"dni-code-hint\"><code>Submission#2+nightwave</code></span></summary><div><table><thead><tr></tr></thead><tbody><tr><td>id</td><td><div class=\"dni-plaintext\"><pre>nightwave1743379200000</pre></div></td></tr><tr><td>activation</td><td><span>2024-09-03 17:30:00Z</span></td></tr><tr><td>startString</td><td><div class=\"dni-plaintext\"><pre>-50d 9h 8m 40s</pre></div></td></tr><tr><td>expiry</td><td><span>2025-03-31 00:00:00Z</span></td></tr><tr><td>active</td><td><div class=\"dni-plaintext\"><pre>True</pre></div></td></tr><tr><td>season</td><td><div class=\"dni-plaintext\"><pre>13</pre></div></td></tr><tr><td>tag</td><td><div class=\"dni-plaintext\"><pre>Radio Legion Intermission11 Syndicate</pre></div></td></tr><tr><td>phase</td><td><div class=\"dni-plaintext\"><pre>0</pre></div></td></tr><tr><td>params</td><td><details class=\"dni-treeview\"><summary><span class=\"dni-code-hint\"><code>Submission#2+Params</code></span></summary><div><table><thead><tr></tr></thead><tbody></tbody></table></div></details></td></tr><tr><td>possibleChallenges</td><td><i>(empty)</i></td></tr><tr><td>activeChallenges</td><td><table><thead><tr><th><i>index</i></th><th>value</th></tr></thead><tbody><tr><td>0</td><td><details class=\"dni-treeview\"><summary><span class=\"dni-code-hint\"><code>Submission#2+ActiveChallenge</code></span></summary><div><table><thead><tr></tr></thead><tbody><tr><td>id</td><td><div class=\"dni-plaintext\"><pre>1729814400000seasondailytoppingoffthetank</pre></div></td></tr><tr><td>activation</td><td><span>2024-10-22 00:00:00Z</span></td></tr><tr><td>startString</td><td><div class=\"dni-plaintext\"><pre>-2d 2h 38m 40s</pre></div></td></tr><tr><td>expiry</td><td><span>2024-10-25 00:00:00Z</span></td></tr><tr><td>active</td><td><div class=\"dni-plaintext\"><pre>True</pre></div></td></tr><tr><td>isDaily</td><td><div class=\"dni-plaintext\"><pre>True</pre></div></td></tr><tr><td>isElite</td><td><div class=\"dni-plaintext\"><pre>False</pre></div></td></tr><tr><td>desc</td><td><div class=\"dni-plaintext\"><pre>成功防御挖掘机并且不让挖掘机耗尽能量</pre></div></td></tr><tr><td>title</td><td><div class=\"dni-plaintext\"><pre>源源不断</pre></div></td></tr><tr><td>reputation</td><td><div class=\"dni-plaintext\"><pre>1000</pre></div></td></tr></tbody></table></div></details></td></tr><tr><td>1</td><td><details class=\"dni-treeview\"><summary><span class=\"dni-code-hint\"><code>Submission#2+ActiveChallenge</code></span></summary><div><table><thead><tr></tr></thead><tbody><tr><td>id</td><td><div class=\"dni-plaintext\"><pre>1729900800000seasondailypickupmedallion</pre></div></td></tr><tr><td>activation</td><td><span>2024-10-23 00:00:00Z</span></td></tr><tr><td>startString</td><td><div class=\"dni-plaintext\"><pre>-1d 2h 38m 40s</pre></div></td></tr><tr><td>expiry</td><td><span>2024-10-26 00:00:00Z</span></td></tr><tr><td>active</td><td><div class=\"dni-plaintext\"><pre>True</pre></div></td></tr><tr><td>isDaily</td><td><div class=\"dni-plaintext\"><pre>True</pre></div></td></tr><tr><td>isElite</td><td><div class=\"dni-plaintext\"><pre>False</pre></div></td></tr><tr><td>desc</td><td><div class=\"dni-plaintext\"><pre>找到5个集团勋章</pre></div></td></tr><tr><td>title</td><td><div class=\"dni-plaintext\"><pre>狩猎开始</pre></div></td></tr><tr><td>reputation</td><td><div class=\"dni-plaintext\"><pre>1000</pre></div></td></tr></tbody></table></div></details></td></tr><tr><td>2</td><td><details class=\"dni-treeview\"><summary><span class=\"dni-code-hint\"><code>Submission#2+ActiveChallenge</code></span></summary><div><table><thead><tr></tr></thead><tbody><tr><td>id</td><td><div class=\"dni-plaintext\"><pre>1729987200000seasondailyinteractwithpet</pre></div></td></tr><tr><td>activation</td><td><span>2024-10-24 00:00:00Z</span></td></tr><tr><td>startString</td><td><div class=\"dni-plaintext\"><pre>-2h 38m 40s</pre></div></td></tr><tr><td>expiry</td><td><span>2024-10-27 00:00:00Z</span></td></tr><tr><td>active</td><td><div class=\"dni-plaintext\"><pre>True</pre></div></td></tr><tr><td>isDaily</td><td><div class=\"dni-plaintext\"><pre>True</pre></div></td></tr><tr><td>isElite</td><td><div class=\"dni-plaintext\"><pre>False</pre></div></td></tr><tr><td>desc</td><td><div class=\"dni-plaintext\"><pre>与你的库狛或库娃互动</pre></div></td></tr><tr><td>title</td><td><div class=\"dni-plaintext\"><pre>忠心不二</pre></div></td></tr><tr><td>reputation</td><td><div class=\"dni-plaintext\"><pre>1000</pre></div></td></tr></tbody></table></div></details></td></tr><tr><td>3</td><td><details class=\"dni-treeview\"><summary><span class=\"dni-code-hint\"><code>Submission#2+ActiveChallenge</code></span></summary><div><table><thead><tr></tr></thead><tbody><tr><td>id</td><td><div class=\"dni-plaintext\"><pre>1730073600000seasonweeklypermanentcompletemissions8</pre></div></td></tr><tr><td>activation</td><td><span>2024-10-21 00:00:00Z</span></td></tr><tr><td>startString</td><td><div class=\"dni-plaintext\"><pre>-3d 2h 38m 40s</pre></div></td></tr><tr><td>expiry</td><td><span>2024-10-28 00:00:00Z</span></td></tr><tr><td>active</td><td><div class=\"dni-plaintext\"><pre>True</pre></div></td></tr><tr><td>isDaily</td><td><div class=\"dni-plaintext\"><pre>False</pre></div></td></tr><tr><td>isElite</td><td><div class=\"dni-plaintext\"><pre>False</pre></div></td></tr><tr><td>desc</td><td><div class=\"dni-plaintext\"><pre>完成任意 15 项任务</pre></div></td></tr><tr><td>title</td><td><div class=\"dni-plaintext\"><pre>任务完成 VIII</pre></div></td></tr><tr><td>reputation</td><td><div class=\"dni-plaintext\"><pre>4500</pre></div></td></tr></tbody></table></div></details></td></tr><tr><td>4</td><td><details class=\"dni-treeview\"><summary><span class=\"dni-code-hint\"><code>Submission#2+ActiveChallenge</code></span></summary><div><table><thead><tr></tr></thead><tbody><tr><td>id</td><td><div class=\"dni-plaintext\"><pre>1730073600000seasonweeklypermanentkilleximus8</pre></div></td></tr><tr><td>activation</td><td><span>2024-10-21 00:00:00Z</span></td></tr><tr><td>startString</td><td><div class=\"dni-plaintext\"><pre>-3d 2h 38m 40s</pre></div></td></tr><tr><td>expiry</td><td><span>2024-10-28 00:00:00Z</span></td></tr><tr><td>active</td><td><div class=\"dni-plaintext\"><pre>True</pre></div></td></tr><tr><td>isDaily</td><td><div class=\"dni-plaintext\"><pre>False</pre></div></td></tr><tr><td>isElite</td><td><div class=\"dni-plaintext\"><pre>False</pre></div></td></tr><tr><td>desc</td><td><div class=\"dni-plaintext\"><pre>击杀30名卓越者</pre></div></td></tr><tr><td>title</td><td><div class=\"dni-plaintext\"><pre>卓越歼灭者 VIII</pre></div></td></tr><tr><td>reputation</td><td><div class=\"dni-plaintext\"><pre>4500</pre></div></td></tr></tbody></table></div></details></td></tr><tr><td>5</td><td><details class=\"dni-treeview\"><summary><span class=\"dni-code-hint\"><code>Submission#2+ActiveChallenge</code></span></summary><div><table><thead><tr></tr></thead><tbody><tr><td>id</td><td><div class=\"dni-plaintext\"><pre>1730073600000seasonweeklypermanentkillenemies8</pre></div></td></tr><tr><td>activation</td><td><span>2024-10-21 00:00:00Z</span></td></tr><tr><td>startString</td><td><div class=\"dni-plaintext\"><pre>-3d 2h 38m 40s</pre></div></td></tr><tr><td>expiry</td><td><span>2024-10-28 00:00:00Z</span></td></tr><tr><td>active</td><td><div class=\"dni-plaintext\"><pre>True</pre></div></td></tr><tr><td>isDaily</td><td><div class=\"dni-plaintext\"><pre>False</pre></div></td></tr><tr><td>isElite</td><td><div class=\"dni-plaintext\"><pre>False</pre></div></td></tr><tr><td>desc</td><td><div class=\"dni-plaintext\"><pre>击杀500名敌人</pre></div></td></tr><tr><td>title</td><td><div class=\"dni-plaintext\"><pre>这不是警告射击 VIII</pre></div></td></tr><tr><td>reputation</td><td><div class=\"dni-plaintext\"><pre>4500</pre></div></td></tr></tbody></table></div></details></td></tr><tr><td>6</td><td><details class=\"dni-treeview\"><summary><span class=\"dni-code-hint\"><code>Submission#2+ActiveChallenge</code></span></summary><div><table><thead><tr></tr></thead><tbody><tr><td>id</td><td><div class=\"dni-plaintext\"><pre>1730073600000seasonweeklycompleteassassination</pre></div></td></tr><tr><td>activation</td><td><span>2024-10-21 00:00:00Z</span></td></tr><tr><td>startString</td><td><div class=\"dni-plaintext\"><pre>-3d 2h 38m 40s</pre></div></td></tr><tr><td>expiry</td><td><span>2024-10-28 00:00:00Z</span></td></tr><tr><td>active</td><td><div class=\"dni-plaintext\"><pre>True</pre></div></td></tr><tr><td>isDaily</td><td><div class=\"dni-plaintext\"><pre>False</pre></div></td></tr><tr><td>isElite</td><td><div class=\"dni-plaintext\"><pre>False</pre></div></td></tr><tr><td>desc</td><td><div class=\"dni-plaintext\"><pre>完成3项刺杀任务</pre></div></td></tr><tr><td>title</td><td><div class=\"dni-plaintext\"><pre>刺客</pre></div></td></tr><tr><td>reputation</td><td><div class=\"dni-plaintext\"><pre>4500</pre></div></td></tr></tbody></table></div></details></td></tr><tr><td>7</td><td><details class=\"dni-treeview\"><summary><span class=\"dni-code-hint\"><code>Submission#2+ActiveChallenge</code></span></summary><div><table><thead><tr></tr></thead><tbody><tr><td>id</td><td><div class=\"dni-plaintext\"><pre>1730073600000seasonweeklycompletesortie</pre></div></td></tr><tr><td>activation</td><td><span>2024-10-21 00:00:00Z</span></td></tr><tr><td>startString</td><td><div class=\"dni-plaintext\"><pre>-3d 2h 38m 40s</pre></div></td></tr><tr><td>expiry</td><td><span>2024-10-28 00:00:00Z</span></td></tr><tr><td>active</td><td><div class=\"dni-plaintext\"><pre>True</pre></div></td></tr><tr><td>isDaily</td><td><div class=\"dni-plaintext\"><pre>False</pre></div></td></tr><tr><td>isElite</td><td><div class=\"dni-plaintext\"><pre>False</pre></div></td></tr><tr><td>desc</td><td><div class=\"dni-plaintext\"><pre>完成一项突击任务</pre></div></td></tr><tr><td>title</td><td><div class=\"dni-plaintext\"><pre>突击专家</pre></div></td></tr><tr><td>reputation</td><td><div class=\"dni-plaintext\"><pre>4500</pre></div></td></tr></tbody></table></div></details></td></tr><tr><td>8</td><td><details class=\"dni-treeview\"><summary><span class=\"dni-code-hint\"><code>Submission#2+ActiveChallenge</code></span></summary><div><table><thead><tr></tr></thead><tbody><tr><td>id</td><td><div class=\"dni-plaintext\"><pre>1730073600000seasonweeklyhardterminated</pre></div></td></tr><tr><td>activation</td><td><span>2024-10-21 00:00:00Z</span></td></tr><tr><td>startString</td><td><div class=\"dni-plaintext\"><pre>-3d 2h 38m 40s</pre></div></td></tr><tr><td>expiry</td><td><span>2024-10-28 00:00:00Z</span></td></tr><tr><td>active</td><td><div class=\"dni-plaintext\"><pre>True</pre></div></td></tr><tr><td>isDaily</td><td><div class=\"dni-plaintext\"><pre>False</pre></div></td></tr><tr><td>isElite</td><td><div class=\"dni-plaintext\"><pre>True</pre></div></td></tr><tr><td>desc</td><td><div class=\"dni-plaintext\"><pre>消灭 3 名隔离库殁世机甲守卫</pre></div></td></tr><tr><td>title</td><td><div class=\"dni-plaintext\"><pre>终结者</pre></div></td></tr><tr><td>reputation</td><td><div class=\"dni-plaintext\"><pre>7000</pre></div></td></tr></tbody></table></div></details></td></tr><tr><td>9</td><td><details class=\"dni-treeview\"><summary><span class=\"dni-code-hint\"><code>Submission#2+ActiveChallenge</code></span></summary><div><table><thead><tr></tr></thead><tbody><tr><td>id</td><td><div class=\"dni-plaintext\"><pre>1730073600000seasonweeklyhardvitalarbiter</pre></div></td></tr><tr><td>activation</td><td><span>2024-10-21 00:00:00Z</span></td></tr><tr><td>startString</td><td><div class=\"dni-plaintext\"><pre>-3d 2h 38m 40s</pre></div></td></tr><tr><td>expiry</td><td><span>2024-10-28 00:00:00Z</span></td></tr><tr><td>active</td><td><div class=\"dni-plaintext\"><pre>True</pre></div></td></tr><tr><td>isDaily</td><td><div class=\"dni-plaintext\"><pre>False</pre></div></td></tr><tr><td>isElite</td><td><div class=\"dni-plaintext\"><pre>True</pre></div></td></tr><tr><td>desc</td><td><div class=\"dni-plaintext\"><pre>完成一场仲裁任务</pre></div></td></tr><tr><td>title</td><td><div class=\"dni-plaintext\"><pre>Vital Arbiter</pre></div></td></tr><tr><td>reputation</td><td><div class=\"dni-plaintext\"><pre>7000</pre></div></td></tr></tbody></table></div></details></td></tr></tbody></table></td></tr><tr><td>rewardTypes</td><td><div class=\"dni-plaintext\"><pre>[ credits ]</pre></div></td></tr></tbody></table></div></details><style>\r\n",
       ".dni-code-hint {\r\n",
       "    font-style: italic;\r\n",
       "    overflow: hidden;\r\n",
       "    white-space: nowrap;\r\n",
       "}\r\n",
       ".dni-treeview {\r\n",
       "    white-space: nowrap;\r\n",
       "}\r\n",
       ".dni-treeview td {\r\n",
       "    vertical-align: top;\r\n",
       "    text-align: start;\r\n",
       "}\r\n",
       "details.dni-treeview {\r\n",
       "    padding-left: 1em;\r\n",
       "}\r\n",
       "table td {\r\n",
       "    text-align: start;\r\n",
       "}\r\n",
       "table tr { \r\n",
       "    vertical-align: top; \r\n",
       "    margin: 0em 0px;\r\n",
       "}\r\n",
       "table tr td pre \r\n",
       "{ \r\n",
       "    vertical-align: top !important; \r\n",
       "    margin: 0em 0px !important;\r\n",
       "} \r\n",
       "table th {\r\n",
       "    text-align: start;\r\n",
       "}\r\n",
       "</style>"
      ]
     },
     "metadata": {},
     "output_type": "display_data"
    }
   ],
   "source": [
    "using System.Text.Json;\n",
    "using System.Net.Http;\n",
    "using System.Collections.Generic;\n",
    "\n",
    "HttpClient httpClient=new();\n",
    "\n",
    "var response = await httpClient.GetAsync(\"https://api.warframestat.us/pc/zh/nightwave/\");\n",
    "var json = await response.Content.ReadAsStringAsync();\n",
    "var result =  System.Text.Json.JsonSerializer.Deserialize<nightwave>(json);\n",
    "\n",
    "result.Display();"
   ]
  }
 ],
 "metadata": {
  "kernelspec": {
   "display_name": ".NET (C#)",
   "language": "C#",
   "name": ".net-csharp"
  },
  "language_info": {
   "name": "csharp"
  },
  "orig_nbformat": 4,
  "polyglot_notebook": {
   "kernelInfo": {
    "defaultKernelName": "csharp",
    "items": [
     {
      "aliases": [],
      "name": "csharp"
     }
    ]
   }
  }
 },
 "nbformat": 4,
 "nbformat_minor": 2
}
