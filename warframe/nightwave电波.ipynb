{
 "cells": [
  {
   "cell_type": "code",
   "execution_count": 2,
   "metadata": {
    "dotnet_interactive": {
     "language": "csharp"
    },
    "polyglot_notebook": {
     "kernelName": "csharp"
    },
    "vscode": {
     "languageId": "polyglot-notebook"
    }
   },
   "outputs": [],
   "source": [
    "//  nightwave: 电波\n",
    "\n",
    "// Root myDeserializedClass = JsonConvert.DeserializeObject<Root>(myJsonResponse);\n",
    "    public class ActiveChallenge\n",
    "    {\n",
    "        public string id { get; set; }\n",
    "        public DateTime activation { get; set; }\n",
    "        public string startString { get; set; }\n",
    "        public DateTime expiry { get; set; }\n",
    "        public bool active { get; set; }\n",
    "        public bool isDaily { get; set; }\n",
    "        public bool isElite { get; set; }\n",
    "        public string desc { get; set; }\n",
    "        public string title { get; set; }\n",
    "        public int reputation { get; set; }\n",
    "    }\n",
    "\n",
    "    public class Params\n",
    "    {\n",
    "    }\n",
    "\n",
    "    public class nightwave\n",
    "    {\n",
    "        public string id { get; set; }\n",
    "        public DateTime activation { get; set; }\n",
    "        public string startString { get; set; }\n",
    "        public DateTime expiry { get; set; }\n",
    "        public bool active { get; set; }\n",
    "        public int season { get; set; }\n",
    "        public string tag { get; set; }\n",
    "        public int phase { get; set; }\n",
    "        public Params @params { get; set; }\n",
    "        public List<object> possibleChallenges { get; set; }\n",
    "        public List<ActiveChallenge> activeChallenges { get; set; }\n",
    "        public List<string> rewardTypes { get; set; }\n",
    "    }\n",
    "\n"
   ]
  },
  {
   "cell_type": "code",
   "execution_count": 4,
   "metadata": {
    "dotnet_interactive": {
     "language": "csharp"
    },
    "polyglot_notebook": {
     "kernelName": "csharp"
    },
    "vscode": {
     "languageId": "polyglot-notebook"
    }
   },
   "outputs": [
    {
     "data": {
      "text/html": [
       "<details open=\"open\" class=\"dni-treeview\"><summary><span class=\"dni-code-hint\"><code>Submission#3+nightwave</code></span></summary><div><table><thead><tr></tr></thead><tbody><tr><td>id</td><td>nightwave1702857600000</td></tr><tr><td>activation</td><td><span>2023-05-24 18:00:00Z</span></td></tr><tr><td>startString</td><td>-45d 19h 38m 50s</td></tr><tr><td>expiry</td><td><span>2023-12-18 00:00:00Z</span></td></tr><tr><td>active</td><td><div class=\"dni-plaintext\"><pre>True</pre></div></td></tr><tr><td>season</td><td><div class=\"dni-plaintext\"><pre>10</pre></div></td></tr><tr><td>tag</td><td>Radio Legion Intermission8 Syndicate</td></tr><tr><td>phase</td><td><div class=\"dni-plaintext\"><pre>0</pre></div></td></tr><tr><td>params</td><td><details class=\"dni-treeview\"><summary><span class=\"dni-code-hint\"><code>Submission#3+Params</code></span></summary><div><table><thead><tr></tr></thead><tbody></tbody></table></div></details></td></tr><tr><td>possibleChallenges</td><td></td></tr><tr><td>activeChallenges</td><td><table><thead><tr><th><i>index</i></th><th>value</th></tr></thead><tbody><tr><td>0</td><td><details class=\"dni-treeview\"><summary><span class=\"dni-code-hint\"><code>Submission#3+ActiveChallenge</code></span></summary><div><table><thead><tr></tr></thead><tbody><tr><td>id</td><td>1688947200000seasondailyswatter</td></tr><tr><td>activation</td><td><span>2023-07-07 00:00:00Z</span></td></tr><tr><td>startString</td><td>-2d 13h 38m 50s</td></tr><tr><td>expiry</td><td><span>2023-07-10 00:00:00Z</span></td></tr><tr><td>active</td><td><div class=\"dni-plaintext\"><pre>True</pre></div></td></tr><tr><td>isDaily</td><td><div class=\"dni-plaintext\"><pre>True</pre></div></td></tr><tr><td>isElite</td><td><div class=\"dni-plaintext\"><pre>False</pre></div></td></tr><tr><td>desc</td><td>Kill 3 Drones or Ospreys with your Melee Weapon</td></tr><tr><td>title</td><td>Swatter</td></tr><tr><td>reputation</td><td><div class=\"dni-plaintext\"><pre>1000</pre></div></td></tr></tbody></table></div></details></td></tr><tr><td>1</td><td><details class=\"dni-treeview\"><summary><span class=\"dni-code-hint\"><code>Submission#3+ActiveChallenge</code></span></summary><div><table><thead><tr></tr></thead><tbody><tr><td>id</td><td>1689033600000seasondailylichnode</td></tr><tr><td>activation</td><td><span>2023-07-08 00:00:00Z</span></td></tr><tr><td>startString</td><td>-1d 13h 38m 50s</td></tr><tr><td>expiry</td><td><span>2023-07-11 00:00:00Z</span></td></tr><tr><td>active</td><td><div class=\"dni-plaintext\"><pre>True</pre></div></td></tr><tr><td>isDaily</td><td><div class=\"dni-plaintext\"><pre>True</pre></div></td></tr><tr><td>isElite</td><td><div class=\"dni-plaintext\"><pre>False</pre></div></td></tr><tr><td>desc</td><td>清理一个被个人赤毒玄骸影响的节点</td></tr><tr><td>title</td><td>解放</td></tr><tr><td>reputation</td><td><div class=\"dni-plaintext\"><pre>1000</pre></div></td></tr></tbody></table></div></details></td></tr><tr><td>2</td><td><details class=\"dni-treeview\"><summary><span class=\"dni-code-hint\"><code>Submission#3+ActiveChallenge</code></span></summary><div><table><thead><tr></tr></thead><tbody><tr><td>id</td><td>1689120000000seasondailycollecthundredresources</td></tr><tr><td>activation</td><td><span>2023-07-09 00:00:00Z</span></td></tr><tr><td>startString</td><td>-13h 38m 50s</td></tr><tr><td>expiry</td><td><span>2023-07-12 00:00:00Z</span></td></tr><tr><td>active</td><td><div class=\"dni-plaintext\"><pre>True</pre></div></td></tr><tr><td>isDaily</td><td><div class=\"dni-plaintext\"><pre>True</pre></div></td></tr><tr><td>isElite</td><td><div class=\"dni-plaintext\"><pre>False</pre></div></td></tr><tr><td>desc</td><td>收集 1,500 个资源</td></tr><tr><td>title</td><td>收集者</td></tr><tr><td>reputation</td><td><div class=\"dni-plaintext\"><pre>1000</pre></div></td></tr></tbody></table></div></details></td></tr><tr><td>3</td><td><details class=\"dni-treeview\"><summary><span class=\"dni-code-hint\"><code>Submission#3+ActiveChallenge</code></span></summary><div><table><thead><tr></tr></thead><tbody><tr><td>id</td><td>1688947200000seasonweeklyfeedhelminth</td></tr><tr><td>activation</td><td><span>2023-07-03 00:00:00Z</span></td></tr><tr><td>startString</td><td>-6d 13h 38m 50s</td></tr><tr><td>expiry</td><td><span>2023-07-10 00:00:00Z</span></td></tr><tr><td>active</td><td><div class=\"dni-plaintext\"><pre>True</pre></div></td></tr><tr><td>isDaily</td><td><div class=\"dni-plaintext\"><pre>False</pre></div></td></tr><tr><td>isElite</td><td><div class=\"dni-plaintext\"><pre>False</pre></div></td></tr><tr><td>desc</td><td>Feed the Helminth any resource</td></tr><tr><td>title</td><td>Feed The Beast</td></tr><tr><td>reputation</td><td><div class=\"dni-plaintext\"><pre>4500</pre></div></td></tr></tbody></table></div></details></td></tr><tr><td>4</td><td><details class=\"dni-treeview\"><summary><span class=\"dni-code-hint\"><code>Submission#3+ActiveChallenge</code></span></summary><div><table><thead><tr></tr></thead><tbody><tr><td>id</td><td>1688947200000seasonweeklycompleteexterminate</td></tr><tr><td>activation</td><td><span>2023-07-03 00:00:00Z</span></td></tr><tr><td>startString</td><td>-6d 13h 38m 50s</td></tr><tr><td>expiry</td><td><span>2023-07-10 00:00:00Z</span></td></tr><tr><td>active</td><td><div class=\"dni-plaintext\"><pre>True</pre></div></td></tr><tr><td>isDaily</td><td><div class=\"dni-plaintext\"><pre>False</pre></div></td></tr><tr><td>isElite</td><td><div class=\"dni-plaintext\"><pre>False</pre></div></td></tr><tr><td>desc</td><td>完成3项歼灭任务</td></tr><tr><td>title</td><td>排除者</td></tr><tr><td>reputation</td><td><div class=\"dni-plaintext\"><pre>4500</pre></div></td></tr></tbody></table></div></details></td></tr><tr><td>5</td><td><details class=\"dni-treeview\"><summary><span class=\"dni-code-hint\"><code>Submission#3+ActiveChallenge</code></span></summary><div><table><thead><tr></tr></thead><tbody><tr><td>id</td><td>1688947200000seasonweeklyuseforma</td></tr><tr><td>activation</td><td><span>2023-07-03 00:00:00Z</span></td></tr><tr><td>startString</td><td>-6d 13h 38m 50s</td></tr><tr><td>expiry</td><td><span>2023-07-10 00:00:00Z</span></td></tr><tr><td>active</td><td><div class=\"dni-plaintext\"><pre>True</pre></div></td></tr><tr><td>isDaily</td><td><div class=\"dni-plaintext\"><pre>False</pre></div></td></tr><tr><td>isElite</td><td><div class=\"dni-plaintext\"><pre>False</pre></div></td></tr><tr><td>desc</td><td>Polarize a Weapon, Companion, or Warframe (not in Simulacrum).</td></tr><tr><td>title</td><td>已极化</td></tr><tr><td>reputation</td><td><div class=\"dni-plaintext\"><pre>4500</pre></div></td></tr></tbody></table></div></details></td></tr><tr><td>6</td><td><details class=\"dni-treeview\"><summary><span class=\"dni-code-hint\"><code>Submission#3+ActiveChallenge</code></span></summary><div><table><thead><tr></tr></thead><tbody><tr><td>id</td><td>1688947200000seasonweeklyminerareplainsresources</td></tr><tr><td>activation</td><td><span>2023-07-03 00:00:00Z</span></td></tr><tr><td>startString</td><td>-6d 13h 38m 50s</td></tr><tr><td>expiry</td><td><span>2023-07-10 00:00:00Z</span></td></tr><tr><td>active</td><td><div class=\"dni-plaintext\"><pre>True</pre></div></td></tr><tr><td>isDaily</td><td><div class=\"dni-plaintext\"><pre>False</pre></div></td></tr><tr><td>isElite</td><td><div class=\"dni-plaintext\"><pre>False</pre></div></td></tr><tr><td>desc</td><td>在夜灵平野挖到6个稀有宝石</td></tr><tr><td>title</td><td>地球矿工</td></tr><tr><td>reputation</td><td><div class=\"dni-plaintext\"><pre>4500</pre></div></td></tr></tbody></table></div></details></td></tr><tr><td>7</td><td><details class=\"dni-treeview\"><summary><span class=\"dni-code-hint\"><code>Submission#3+ActiveChallenge</code></span></summary><div><table><thead><tr></tr></thead><tbody><tr><td>id</td><td>1688947200000seasonweeklysanctuaryonslaught</td></tr><tr><td>activation</td><td><span>2023-07-03 00:00:00Z</span></td></tr><tr><td>startString</td><td>-6d 13h 38m 50s</td></tr><tr><td>expiry</td><td><span>2023-07-10 00:00:00Z</span></td></tr><tr><td>active</td><td><div class=\"dni-plaintext\"><pre>True</pre></div></td></tr><tr><td>isDaily</td><td><div class=\"dni-plaintext\"><pre>False</pre></div></td></tr><tr><td>isElite</td><td><div class=\"dni-plaintext\"><pre>False</pre></div></td></tr><tr><td>desc</td><td>完成8波圣殿突袭</td></tr><tr><td>title</td><td>测试对象</td></tr><tr><td>reputation</td><td><div class=\"dni-plaintext\"><pre>4500</pre></div></td></tr></tbody></table></div></details></td></tr><tr><td>8</td><td><details class=\"dni-treeview\"><summary><span class=\"dni-code-hint\"><code>Submission#3+ActiveChallenge</code></span></summary><div><table><thead><tr></tr></thead><tbody><tr><td>id</td><td>1688947200000seasonweeklyhardfriendsprofittaker</td></tr><tr><td>activation</td><td><span>2023-07-03 00:00:00Z</span></td></tr><tr><td>startString</td><td>-6d 13h 38m 50s</td></tr><tr><td>expiry</td><td><span>2023-07-10 00:00:00Z</span></td></tr><tr><td>active</td><td><div class=\"dni-plaintext\"><pre>True</pre></div></td></tr><tr><td>isDaily</td><td><div class=\"dni-plaintext\"><pre>False</pre></div></td></tr><tr><td>isElite</td><td><div class=\"dni-plaintext\"><pre>True</pre></div></td></tr><tr><td>desc</td><td>击杀利润收割者</td></tr><tr><td>title</td><td>利润收割者</td></tr><tr><td>reputation</td><td><div class=\"dni-plaintext\"><pre>7000</pre></div></td></tr></tbody></table></div></details></td></tr><tr><td>9</td><td><details class=\"dni-treeview\"><summary><span class=\"dni-code-hint\"><code>Submission#3+ActiveChallenge</code></span></summary><div><table><thead><tr></tr></thead><tbody><tr><td>id</td><td>1688947200000seasonweeklyhardkuvasurvivalnocapsules</td></tr><tr><td>activation</td><td><span>2023-07-03 00:00:00Z</span></td></tr><tr><td>startString</td><td>-6d 13h 38m 50s</td></tr><tr><td>expiry</td><td><span>2023-07-10 00:00:00Z</span></td></tr><tr><td>active</td><td><div class=\"dni-plaintext\"><pre>True</pre></div></td></tr><tr><td>isDaily</td><td><div class=\"dni-plaintext\"><pre>False</pre></div></td></tr><tr><td>isElite</td><td><div class=\"dni-plaintext\"><pre>True</pre></div></td></tr><tr><td>desc</td><td>Survive for over 30 minutes in Kuva Survival</td></tr><tr><td>title</td><td>屏住你的呼吸</td></tr><tr><td>reputation</td><td><div class=\"dni-plaintext\"><pre>7000</pre></div></td></tr></tbody></table></div></details></td></tr></tbody></table></td></tr><tr><td>rewardTypes</td><td><div class=\"dni-plaintext\"><pre>[ credits ]</pre></div></td></tr></tbody></table></div></details><style>\r\n",
       ".dni-code-hint {\r\n",
       "    font-style: italic;\r\n",
       "    overflow: hidden;\r\n",
       "    white-space: nowrap;\r\n",
       "}\r\n",
       ".dni-treeview {\r\n",
       "    white-space: nowrap;\r\n",
       "}\r\n",
       ".dni-treeview td {\r\n",
       "    vertical-align: top;\r\n",
       "    text-align: start;\r\n",
       "}\r\n",
       "details.dni-treeview {\r\n",
       "    padding-left: 1em;\r\n",
       "}\r\n",
       "table td {\r\n",
       "    text-align: start;\r\n",
       "}\r\n",
       "table tr { \r\n",
       "    vertical-align: top; \r\n",
       "    margin: 0em 0px;\r\n",
       "}\r\n",
       "table tr td pre \r\n",
       "{ \r\n",
       "    vertical-align: top !important; \r\n",
       "    margin: 0em 0px !important;\r\n",
       "} \r\n",
       "table th {\r\n",
       "    text-align: start;\r\n",
       "}\r\n",
       "</style>"
      ]
     },
     "metadata": {},
     "output_type": "display_data"
    }
   ],
   "source": [
    "using System.Text.Json;\n",
    "using System.Net.Http;\n",
    "using System.Collections.Generic;\n",
    "\n",
    "HttpClient httpClient=new();\n",
    "\n",
    "var response = await httpClient.GetAsync(\"https://api.warframestat.us/pc/zh/nightwave/\");\n",
    "var json = await response.Content.ReadAsStringAsync();\n",
    "var result =  System.Text.Json.JsonSerializer.Deserialize<nightwave>(json);\n",
    "\n",
    "result.Display();"
   ]
  }
 ],
 "metadata": {
  "language_info": {
   "name": "csharp"
  },
  "orig_nbformat": 4
 },
 "nbformat": 4,
 "nbformat_minor": 2
}
