{
 "cells": [
  {
   "cell_type": "code",
   "execution_count": 1,
   "metadata": {
    "dotnet_interactive": {
     "language": "csharp"
    },
    "polyglot_notebook": {
     "kernelName": "csharp"
    },
    "vscode": {
     "languageId": "polyglot-notebook"
    }
   },
   "outputs": [],
   "source": [
    "// Root myDeserializedClass = JsonConvert.DeserializeObject<List<Root>>(myJsonResponse);\n",
    "    public class news\n",
    "    {\n",
    "        public string id { get; set; }\n",
    "        public string message { get; set; }\n",
    "        public string link { get; set; }\n",
    "        public string imageLink { get; set; }\n",
    "        public bool priority { get; set; }\n",
    "        public DateTime date { get; set; }\n",
    "        public string eta { get; set; }\n",
    "        public bool update { get; set; }\n",
    "        public bool primeAccess { get; set; }\n",
    "        public bool stream { get; set; }\n",
    "        public Translations translations { get; set; }\n",
    "        public string asString { get; set; }\n",
    "        public DateTime? startDate { get; set; }\n",
    "        public DateTime? endDate { get; set; }\n",
    "    }\n",
    "\n",
    "    public class Translations\n",
    "    {\n",
    "        public string en { get; set; }\n",
    "        public string fr { get; set; }\n",
    "        public string it { get; set; }\n",
    "        public string de { get; set; }\n",
    "        public string es { get; set; }\n",
    "        public string pt { get; set; }\n",
    "        public string ru { get; set; }\n",
    "        public string pl { get; set; }\n",
    "        public string uk { get; set; }\n",
    "        public string tr { get; set; }\n",
    "        public string ja { get; set; }\n",
    "        public string zh { get; set; }\n",
    "        public string ko { get; set; }\n",
    "        public string tc { get; set; }\n",
    "    }\n",
    "\n"
   ]
  },
  {
   "cell_type": "code",
   "execution_count": 2,
   "metadata": {
    "dotnet_interactive": {
     "language": "csharp"
    },
    "polyglot_notebook": {
     "kernelName": "csharp"
    },
    "vscode": {
     "languageId": "polyglot-notebook"
    }
   },
   "outputs": [
    {
     "data": {
      "text/html": [
       "<table><thead><tr><th><i>index</i></th><th>value</th></tr></thead><tbody><tr><td>0</td><td><details class=\"dni-treeview\"><summary><span class=\"dni-code-hint\"><code>Submission#2+news</code></span></summary><div><table><thead><tr></tr></thead><tbody><tr><td>id</td><td>62d31b87106360aa5703954d</td></tr><tr><td>message</td><td>Join the official Warframe Discord server</td></tr><tr><td>link</td><td>https://discord.com/invite/playwarframe</td></tr><tr><td>imageLink</td><td>https://i.imgur.com/CNrsc7V.png</td></tr><tr><td>priority</td><td><div class=\"dni-plaintext\"><pre>False</pre></div></td></tr><tr><td>date</td><td><span>2022-07-16 20:10:00Z</span></td></tr><tr><td>eta</td><td>367d 10h 49m 3s ago</td></tr><tr><td>update</td><td><div class=\"dni-plaintext\"><pre>False</pre></div></td></tr><tr><td>primeAccess</td><td><div class=\"dni-plaintext\"><pre>False</pre></div></td></tr><tr><td>stream</td><td><div class=\"dni-plaintext\"><pre>False</pre></div></td></tr><tr><td>translations</td><td><details class=\"dni-treeview\"><summary><span class=\"dni-code-hint\"><code>Submission#2+Translations</code></span></summary><div><table><thead><tr></tr></thead><tbody><tr><td>en</td><td>Join the official Warframe Discord server</td></tr><tr><td>fr</td><td>Join the official Warframe Discord server</td></tr><tr><td>it</td><td>Join the official Warframe Discord server</td></tr><tr><td>de</td><td>Join the official Warframe Discord server</td></tr><tr><td>es</td><td>Join the official Warframe Discord server</td></tr><tr><td>pt</td><td>Join the official Warframe Discord server</td></tr><tr><td>ru</td><td>Присоединяйтесь к официальному Discord серверу Warframe</td></tr><tr><td>pl</td><td>Join the official Warframe Discord server</td></tr><tr><td>uk</td><td>Join the official Warframe Discord server</td></tr><tr><td>tr</td><td>Join the official Warframe Discord server</td></tr><tr><td>ja</td><td>Join the official Warframe Discord server</td></tr><tr><td>zh</td><td>Join the official Warframe Discord server</td></tr><tr><td>ko</td><td>Join the official Warframe Discord server</td></tr><tr><td>tc</td><td>Join the official Warframe Discord server</td></tr></tbody></table></div></details></td></tr><tr><td>asString</td><td>[367d 10h 49m 3s ago] [Join the official Warframe Discord server](https://discord.com/invite/playwarframe)</td></tr><tr><td>startDate</td><td><div class=\"dni-plaintext\"><pre>&lt;null&gt;</pre></div></td></tr><tr><td>endDate</td><td><div class=\"dni-plaintext\"><pre>&lt;null&gt;</pre></div></td></tr></tbody></table></div></details></td></tr><tr><td>1</td><td><details class=\"dni-treeview\"><summary><span class=\"dni-code-hint\"><code>Submission#2+news</code></span></summary><div><table><thead><tr></tr></thead><tbody><tr><td>id</td><td>6466726e06ca85f0e202e343</td></tr><tr><td>message</td><td>TennoCon 2023 虚拟礼包现已登场</td></tr><tr><td>link</td><td>https://www.warframe.com/zh-hans/tennocon</td></tr><tr><td>imageLink</td><td>https://n9e5v4d8.ssl.hwcdn.net/images/tennocon/2023/digital-pack-banner-2x.png</td></tr><tr><td>priority</td><td><div class=\"dni-plaintext\"><pre>False</pre></div></td></tr><tr><td>date</td><td><span>2023-05-18 17:48:00Z</span></td></tr><tr><td>eta</td><td>61d 13h 11m 3s ago</td></tr><tr><td>update</td><td><div class=\"dni-plaintext\"><pre>False</pre></div></td></tr><tr><td>primeAccess</td><td><div class=\"dni-plaintext\"><pre>False</pre></div></td></tr><tr><td>stream</td><td><div class=\"dni-plaintext\"><pre>False</pre></div></td></tr><tr><td>translations</td><td><details class=\"dni-treeview\"><summary><span class=\"dni-code-hint\"><code>Submission#2+Translations</code></span></summary><div><table><thead><tr></tr></thead><tbody><tr><td>en</td><td>TennoCon 2023 Digital Pack Now Available</td></tr><tr><td>fr</td><td>Le Pack Digital TennoCon 2023 est maintenant disponible</td></tr><tr><td>it</td><td>Il Pacchetto Digitale TennoCon 2023 &#232; Ora Disponibile</td></tr><tr><td>de</td><td>TennoCon 2023 Digital Paket ist jetzt verf&#252;gbar</td></tr><tr><td>es</td><td>El Paquete Digital de TennoCon 2023 ya est&#225; disponible</td></tr><tr><td>pt</td><td>O Pacote Digital da TennoCon 2023 j&#225; est&#225; dispon&#237;vel</td></tr><tr><td>ru</td><td>Цифровой набор TennoCon-2023 уже доступен</td></tr><tr><td>pl</td><td>Pakiet Cyfrowy TennoCon 2023 już dostępny</td></tr><tr><td>uk</td><td>Цифровий набір &#171;Теннокон 2023&#187; уже доступний</td></tr><tr><td>tr</td><td>TennoCon 2023 Dijital Paketi Şimdi Sizlerle</td></tr><tr><td>ja</td><td>TennoCon 2023 デジタルパック発売開始</td></tr><tr><td>zh</td><td>TennoCon 2023 虚拟礼包现已登场</td></tr><tr><td>ko</td><td>텐노콘 2023 디지털 팩을 지금 만나보세요</td></tr><tr><td>tc</td><td>TennoCon 2023 數位組合包現已登場</td></tr></tbody></table></div></details></td></tr><tr><td>asString</td><td>[61d 13h 11m 3s ago] [TennoCon 2023 虚拟礼包现已登场](https://www.warframe.com/zh-hans/tennocon)</td></tr><tr><td>startDate</td><td><span>2023-05-18 10:00:00Z</span></td></tr><tr><td>endDate</td><td><div class=\"dni-plaintext\"><pre>&lt;null&gt;</pre></div></td></tr></tbody></table></div></details></td></tr><tr><td>2</td><td><details class=\"dni-treeview\"><summary><span class=\"dni-code-hint\"><code>Submission#2+news</code></span></summary><div><table><thead><tr></tr></thead><tbody><tr><td>id</td><td>649dd1e36230bdfdfd04fc12</td></tr><tr><td>message</td><td>「召回：10-0」将于美东夏令时间 7 月 19 日推出</td></tr><tr><td>link</td><td>https://www.warframe.com/zh-hans/news/recall-ten-zero</td></tr><tr><td>imageLink</td><td>https://n9e5v4d8.ssl.hwcdn.net/images/promo/anniversary/tenyears/masthead-keyart.jpg</td></tr><tr><td>priority</td><td><div class=\"dni-plaintext\"><pre>False</pre></div></td></tr><tr><td>date</td><td><span>2023-06-29 17:52:00Z</span></td></tr><tr><td>eta</td><td>19d 13h 7m 3s ago</td></tr><tr><td>update</td><td><div class=\"dni-plaintext\"><pre>False</pre></div></td></tr><tr><td>primeAccess</td><td><div class=\"dni-plaintext\"><pre>False</pre></div></td></tr><tr><td>stream</td><td><div class=\"dni-plaintext\"><pre>False</pre></div></td></tr><tr><td>translations</td><td><details class=\"dni-treeview\"><summary><span class=\"dni-code-hint\"><code>Submission#2+Translations</code></span></summary><div><table><thead><tr></tr></thead><tbody><tr><td>en</td><td>Recall: Ten-Zero begins July 19</td></tr><tr><td>fr</td><td>Le Rappel&#160;: Ten-Zero commence le 19&#160;juillet</td></tr><tr><td>it</td><td>La Rievocazione: Ten-Zero inizia il 19 Luglio</td></tr><tr><td>de</td><td>&quot;R&#252;ckruf: Ten-Zero&quot; beginnt am 19. Juli</td></tr><tr><td>es</td><td>El Recuerdo: Diez-Cero comienza el 19 de julio</td></tr><tr><td>pt</td><td>A Reitera&#231;&#227;o: 10-0 come&#231;a no dia 19 de julho</td></tr><tr><td>ru</td><td>&#171;Воспоминания: Десять-ноль&#187; начинаются 19&#160;июля</td></tr><tr><td>pl</td><td>Powr&#243;t: Ten-Zero wraca 19 lipca</td></tr><tr><td>uk</td><td>&#171;Спогад: 10-0&#187; — із 19 липня</td></tr><tr><td>tr</td><td>Geri D&#246;n&#252;ş: Ten-Zero, 19 Temmuz&#39;da başlıyor</td></tr><tr><td>ja</td><td>リコール：Ten-Zeroが7月20日から開幕</td></tr><tr><td>zh</td><td>「召回：10-0」将于美东夏令时间 7 月 19 日推出</td></tr><tr><td>ko</td><td>회상: 10-0가 북미 시각 7월 19일에 시작됩니다</td></tr><tr><td>tc</td><td>「召回：10-0」從 7 月 19 日開始</td></tr></tbody></table></div></details></td></tr><tr><td>asString</td><td>[19d 13h 7m 3s ago] [「召回：10-0」将于美东夏令时间 7 月 19 日推出](https://www.warframe.com/zh-hans/news/recall-ten-zero)</td></tr><tr><td>startDate</td><td><span>2023-06-29 04:00:00Z</span></td></tr><tr><td>endDate</td><td><div class=\"dni-plaintext\"><pre>&lt;null&gt;</pre></div></td></tr></tbody></table></div></details></td></tr><tr><td>3</td><td><details class=\"dni-treeview\"><summary><span class=\"dni-code-hint\"><code>Submission#2+news</code></span></summary><div><table><thead><tr></tr></thead><tbody><tr><td>id</td><td>64a709a2dd0a98de5402437c</td></tr><tr><td>message</td><td>现已登场：Banshee Prime 和 Mirage Prime</td></tr><tr><td>link</td><td>https://www.warframe.com/zh-hans/prime-resurgence?utm_medium=in-game&amp;utm_source=in-game</td></tr><tr><td>imageLink</td><td>https://warframe-web-assets.nyc3.cdn.digitaloceanspaces.com/uploads/thumbnails/cf6e94b58b0e6f4166e9f5d9a50842a8_800x450.png</td></tr><tr><td>priority</td><td><div class=\"dni-plaintext\"><pre>False</pre></div></td></tr><tr><td>date</td><td><span>2023-07-06 18:16:00Z</span></td></tr><tr><td>eta</td><td>12d 12h 43m 3s ago</td></tr><tr><td>update</td><td><div class=\"dni-plaintext\"><pre>False</pre></div></td></tr><tr><td>primeAccess</td><td><div class=\"dni-plaintext\"><pre>False</pre></div></td></tr><tr><td>stream</td><td><div class=\"dni-plaintext\"><pre>False</pre></div></td></tr><tr><td>translations</td><td><details class=\"dni-treeview\"><summary><span class=\"dni-code-hint\"><code>Submission#2+Translations</code></span></summary><div><table><thead><tr></tr></thead><tbody><tr><td>en</td><td>Now Available: Banshee Prime &amp; Mirage Prime</td></tr><tr><td>fr</td><td>Maintenant disponibles : Banshee Prime et Mirage Prime</td></tr><tr><td>it</td><td>Ora Disponibili: Banshee Prime e Mirage Prime</td></tr><tr><td>de</td><td>Jetzt erh&#228;ltlich: Banshee Prime und Mirage Prime</td></tr><tr><td>es</td><td>Ya disponible: Banshee Prime y Mirage Prime</td></tr><tr><td>pt</td><td>J&#225; Dispon&#237;vel: Banshee Prime e Mirage Prime</td></tr><tr><td>ru</td><td>Уже доступны: Банши Прайм и Мираж Прайм</td></tr><tr><td>pl</td><td>Już dostępne: Banshee Prime i Mirage Prime</td></tr><tr><td>uk</td><td>Уже доступні: Банші-прайм і Міраж-прайм</td></tr><tr><td>tr</td><td>Şimdi Sizlerle: Banshee Prime ve Mirage Prime</td></tr><tr><td>ja</td><td>Banshee PrimeとMirage Primeをゲットしよう</td></tr><tr><td>zh</td><td>现已登场：Banshee Prime 和 Mirage Prime</td></tr><tr><td>ko</td><td>지금 만나보세요: 밴쉬 프라임 및 미라지 프라임</td></tr><tr><td>tc</td><td>現已登場：Banshee Prime 以及 Mirage Prime</td></tr></tbody></table></div></details></td></tr><tr><td>asString</td><td>[12d 12h 43m 3s ago] [现已登场：Banshee Prime 和 Mirage Prime](https://www.warframe.com/zh-hans/prime-resurgence?utm_medium=in-game&amp;utm_source=in-game)</td></tr><tr><td>startDate</td><td><div class=\"dni-plaintext\"><pre>&lt;null&gt;</pre></div></td></tr><tr><td>endDate</td><td><div class=\"dni-plaintext\"><pre>&lt;null&gt;</pre></div></td></tr></tbody></table></div></details></td></tr><tr><td>4</td><td><details class=\"dni-treeview\"><summary><span class=\"dni-code-hint\"><code>Submission#2+news</code></span></summary><div><table><thead><tr></tr></thead><tbody><tr><td>id</td><td>64a84e66280dd26c2c0efa87</td></tr><tr><td>message</td><td>Hildryn Prime Access 即将结束</td></tr><tr><td>link</td><td>https://www.warframe.com/news/hildryn-prime-access?utm_medium=in-game&amp;utm_source=in-game</td></tr><tr><td>imageLink</td><td>https://warframe-web-assets.nyc3.cdn.digitaloceanspaces.com/uploads/thumbnails/8260dab07e051d35bcef1a2a82c22965_1600x900.png</td></tr><tr><td>priority</td><td><div class=\"dni-plaintext\"><pre>False</pre></div></td></tr><tr><td>date</td><td><span>2023-07-07 17:35:00Z</span></td></tr><tr><td>eta</td><td>in 6d 21h 56s</td></tr><tr><td>update</td><td><div class=\"dni-plaintext\"><pre>False</pre></div></td></tr><tr><td>primeAccess</td><td><div class=\"dni-plaintext\"><pre>True</pre></div></td></tr><tr><td>stream</td><td><div class=\"dni-plaintext\"><pre>False</pre></div></td></tr><tr><td>translations</td><td><details class=\"dni-treeview\"><summary><span class=\"dni-code-hint\"><code>Submission#2+Translations</code></span></summary><div><table><thead><tr></tr></thead><tbody><tr><td>en</td><td>Hildryn Prime Access Ending Soon</td></tr><tr><td>fr</td><td>Le Prime Access Hildryn Prime se termine bient&#244;t</td></tr><tr><td>it</td><td>L&#39;Accesso Hildryn Prime Terminer&#224; Presto</td></tr><tr><td>de</td><td>Hildryn Prime Access endet bald</td></tr><tr><td>es</td><td>Prime Access de Hildryn est&#225; por terminar</td></tr><tr><td>pt</td><td>O Prime Access da Hildryn Prime terminar&#225; em breve</td></tr><tr><td>ru</td><td>Доступ Хильдрин Прайм скоро закончится</td></tr><tr><td>pl</td><td>Hildryn Prime Access wkr&#243;tce się skończy</td></tr><tr><td>uk</td><td>Доступ до Гільдрини-прайм невдовзі завершується</td></tr><tr><td>tr</td><td>Hildryn Prime Access Yakında Sona Eriyor</td></tr><tr><td>ja</td><td>Hildryn Prime Accessが近日終了</td></tr><tr><td>zh</td><td>Hildryn Prime Access 即将结束</td></tr><tr><td>ko</td><td>힐드린 프라임 액세스가 곧 종료됩니다</td></tr><tr><td>tc</td><td>Hildryn Prime Access 即將結束</td></tr></tbody></table></div></details></td></tr><tr><td>asString</td><td>[in 6d 21h 56s] [Hildryn Prime Access 即将结束](https://www.warframe.com/news/hildryn-prime-access?utm_medium=in-game&amp;utm_source=in-game)</td></tr><tr><td>startDate</td><td><div class=\"dni-plaintext\"><pre>&lt;null&gt;</pre></div></td></tr><tr><td>endDate</td><td><span>2023-07-26 04:00:00Z</span></td></tr></tbody></table></div></details></td></tr><tr><td>5</td><td><details class=\"dni-treeview\"><summary><span class=\"dni-code-hint\"><code>Submission#2+news</code></span></summary><div><table><thead><tr></tr></thead><tbody><tr><td>id</td><td>64ac2714c715cfb44009da9b</td></tr><tr><td>message</td><td>Alienware Arena 赠礼！</td></tr><tr><td>link</td><td>https://www.warframe.com/news/alienware-arena-giveaways?utm_medium=in-game&amp;utm_source=in-game</td></tr><tr><td>imageLink</td><td>https://warframe-web-assets.nyc3.cdn.digitaloceanspaces.com/uploads/thumbnails/604ecbcc3704d5ef4d7fa585f31f29f9_1600x900.png</td></tr><tr><td>priority</td><td><div class=\"dni-plaintext\"><pre>False</pre></div></td></tr><tr><td>date</td><td><span>2023-07-10 13:52:00Z</span></td></tr><tr><td>eta</td><td>8d 17h 7m 3s ago</td></tr><tr><td>update</td><td><div class=\"dni-plaintext\"><pre>False</pre></div></td></tr><tr><td>primeAccess</td><td><div class=\"dni-plaintext\"><pre>False</pre></div></td></tr><tr><td>stream</td><td><div class=\"dni-plaintext\"><pre>False</pre></div></td></tr><tr><td>translations</td><td><details class=\"dni-treeview\"><summary><span class=\"dni-code-hint\"><code>Submission#2+Translations</code></span></summary><div><table><thead><tr></tr></thead><tbody><tr><td>en</td><td>Alienware Arena Giveaways!</td></tr><tr><td>fr</td><td>Giveaway Alienware Arena !</td></tr><tr><td>it</td><td>Giveaway Alienware Arena!</td></tr><tr><td>de</td><td>Alienware Arena Giveaways!</td></tr><tr><td>es</td><td>&#161;Sorteo de Alienware Arena!</td></tr><tr><td>pt</td><td>Brindes e Sorteio da Alienware Arena!</td></tr><tr><td>ru</td><td>Розыгрыши Alienware Arena!</td></tr><tr><td>pl</td><td>Rozdanie Alienware Arena!</td></tr><tr><td>uk</td><td>Розіграші від Alienware Arena!</td></tr><tr><td>tr</td><td>Alienware Arena &#199;ekilişleri!</td></tr><tr><td>ja</td><td>Alienware Arenaプレゼントキャンペーン！</td></tr><tr><td>zh</td><td>Alienware Arena 赠礼！</td></tr><tr><td>ko</td><td>Alienware Arena 경품 행사!</td></tr><tr><td>tc</td><td>Alienware Arena 贈禮!</td></tr></tbody></table></div></details></td></tr><tr><td>asString</td><td>[8d 17h 7m 3s ago] [Alienware Arena 赠礼！](https://www.warframe.com/news/alienware-arena-giveaways?utm_medium=in-game&amp;utm_source=in-game)</td></tr><tr><td>startDate</td><td><span>2023-07-10 14:00:00Z</span></td></tr><tr><td>endDate</td><td><div class=\"dni-plaintext\"><pre>&lt;null&gt;</pre></div></td></tr></tbody></table></div></details></td></tr></tbody></table><style>\r\n",
       ".dni-code-hint {\r\n",
       "    font-style: italic;\r\n",
       "    overflow: hidden;\r\n",
       "    white-space: nowrap;\r\n",
       "}\r\n",
       ".dni-treeview {\r\n",
       "    white-space: nowrap;\r\n",
       "}\r\n",
       ".dni-treeview td {\r\n",
       "    vertical-align: top;\r\n",
       "    text-align: start;\r\n",
       "}\r\n",
       "details.dni-treeview {\r\n",
       "    padding-left: 1em;\r\n",
       "}\r\n",
       "table td {\r\n",
       "    text-align: start;\r\n",
       "}\r\n",
       "table tr { \r\n",
       "    vertical-align: top; \r\n",
       "    margin: 0em 0px;\r\n",
       "}\r\n",
       "table tr td pre \r\n",
       "{ \r\n",
       "    vertical-align: top !important; \r\n",
       "    margin: 0em 0px !important;\r\n",
       "} \r\n",
       "table th {\r\n",
       "    text-align: start;\r\n",
       "}\r\n",
       "</style>"
      ]
     },
     "metadata": {},
     "output_type": "display_data"
    }
   ],
   "source": [
    "using System.Text.Json;\n",
    "using System.Net.Http;\n",
    "using System.Collections.Generic;\n",
    "\n",
    "HttpClient httpClient=new();\n",
    "\n",
    "var response = await httpClient.GetAsync(\"https://api.warframestat.us/pc/zh/news/\");\n",
    "var json = await response.Content.ReadAsStringAsync();\n",
    "var result =  System.Text.Json.JsonSerializer.Deserialize<List<news>>(json);\n",
    "\n",
    "result.Display();"
   ]
  }
 ],
 "metadata": {
  "language_info": {
   "name": "csharp"
  },
  "orig_nbformat": 4
 },
 "nbformat": 4,
 "nbformat_minor": 2
}
