{
 "cells": [
  {
   "cell_type": "code",
   "execution_count": 2,
   "metadata": {
    "dotnet_interactive": {
     "language": "csharp"
    },
    "polyglot_notebook": {
     "kernelName": "csharp"
    },
    "vscode": {
     "languageId": "polyglot-notebook"
    }
   },
   "outputs": [],
   "source": [
    "// steelPath\n",
    "\n",
    "// Root myDeserializedClass = JsonConvert.DeserializeObject<Root>(myJsonResponse);\n",
    "    public class CurrentReward\n",
    "    {\n",
    "        public string name { get; set; }\n",
    "        public int cost { get; set; }\n",
    "    }\n",
    "\n",
    "    public class Evergreen\n",
    "    {\n",
    "        public string name { get; set; }\n",
    "        public int cost { get; set; }\n",
    "    }\n",
    "\n",
    "    public class Incursions\n",
    "    {\n",
    "        public string id { get; set; }\n",
    "        public DateTime activation { get; set; }\n",
    "        public DateTime expiry { get; set; }\n",
    "    }\n",
    "\n",
    "    public class steelPath\n",
    "    {\n",
    "        public CurrentReward currentReward { get; set; }\n",
    "        public DateTime activation { get; set; }\n",
    "        public DateTime expiry { get; set; }\n",
    "        public string remaining { get; set; }\n",
    "        public List<Rotation> rotation { get; set; }\n",
    "        public List<Evergreen> evergreens { get; set; }\n",
    "        public Incursions incursions { get; set; }\n",
    "    }\n",
    "\n",
    "    public class Rotation\n",
    "    {\n",
    "        public string name { get; set; }\n",
    "        public int cost { get; set; }\n",
    "    }\n",
    "\n"
   ]
  },
  {
   "cell_type": "code",
   "execution_count": 3,
   "metadata": {
    "dotnet_interactive": {
     "language": "csharp"
    },
    "polyglot_notebook": {
     "kernelName": "csharp"
    },
    "vscode": {
     "languageId": "polyglot-notebook"
    }
   },
   "outputs": [
    {
     "data": {
      "text/html": [
       "<details open=\"open\" class=\"dni-treeview\"><summary><span class=\"dni-code-hint\"><code>Submission#3+steelPath</code></span></summary><div><table><thead><tr></tr></thead><tbody><tr><td>currentReward</td><td><details class=\"dni-treeview\"><summary><span class=\"dni-code-hint\"><code>Submission#3+CurrentReward</code></span></summary><div><table><thead><tr></tr></thead><tbody><tr><td>name</td><td>组合枪裂罅 Mod</td></tr><tr><td>cost</td><td><div class=\"dni-plaintext\"><pre>75</pre></div></td></tr></tbody></table></div></details></td></tr><tr><td>activation</td><td><span>2023-07-10 00:00:00Z</span></td></tr><tr><td>expiry</td><td><span>2023-07-16 23:59:59Z</span></td></tr><tr><td>remaining</td><td>6d 20h 21m 5s</td></tr><tr><td>rotation</td><td><table><thead><tr><th><i>index</i></th><th>value</th></tr></thead><tbody><tr><td>0</td><td><details class=\"dni-treeview\"><summary><span class=\"dni-code-hint\"><code>Submission#3+Rotation</code></span></summary><div><table><thead><tr></tr></thead><tbody><tr><td>name</td><td>Umbra Forma 蓝图</td></tr><tr><td>cost</td><td><div class=\"dni-plaintext\"><pre>150</pre></div></td></tr></tbody></table></div></details></td></tr><tr><td>1</td><td><details class=\"dni-treeview\"><summary><span class=\"dni-code-hint\"><code>Submission#3+Rotation</code></span></summary><div><table><thead><tr></tr></thead><tbody><tr><td>name</td><td>50,000 赤毒</td></tr><tr><td>cost</td><td><div class=\"dni-plaintext\"><pre>55</pre></div></td></tr></tbody></table></div></details></td></tr><tr><td>2</td><td><details class=\"dni-treeview\"><summary><span class=\"dni-code-hint\"><code>Submission#3+Rotation</code></span></summary><div><table><thead><tr></tr></thead><tbody><tr><td>name</td><td>组合枪裂罅 Mod</td></tr><tr><td>cost</td><td><div class=\"dni-plaintext\"><pre>75</pre></div></td></tr></tbody></table></div></details></td></tr><tr><td>3</td><td><details class=\"dni-treeview\"><summary><span class=\"dni-code-hint\"><code>Submission#3+Rotation</code></span></summary><div><table><thead><tr></tr></thead><tbody><tr><td>name</td><td>3x Forma</td></tr><tr><td>cost</td><td><div class=\"dni-plaintext\"><pre>75</pre></div></td></tr></tbody></table></div></details></td></tr><tr><td>4</td><td><details class=\"dni-treeview\"><summary><span class=\"dni-code-hint\"><code>Submission#3+Rotation</code></span></summary><div><table><thead><tr></tr></thead><tbody><tr><td>name</td><td>Zaw 裂罅 Mod</td></tr><tr><td>cost</td><td><div class=\"dni-plaintext\"><pre>75</pre></div></td></tr></tbody></table></div></details></td></tr><tr><td>5</td><td><details class=\"dni-treeview\"><summary><span class=\"dni-code-hint\"><code>Submission#3+Rotation</code></span></summary><div><table><thead><tr></tr></thead><tbody><tr><td>name</td><td>30,000 内融核心</td></tr><tr><td>cost</td><td><div class=\"dni-plaintext\"><pre>150</pre></div></td></tr></tbody></table></div></details></td></tr><tr><td>6</td><td><details class=\"dni-treeview\"><summary><span class=\"dni-code-hint\"><code>Submission#3+Rotation</code></span></summary><div><table><thead><tr></tr></thead><tbody><tr><td>name</td><td>步枪裂罅 Mod</td></tr><tr><td>cost</td><td><div class=\"dni-plaintext\"><pre>75</pre></div></td></tr></tbody></table></div></details></td></tr><tr><td>7</td><td><details class=\"dni-treeview\"><summary><span class=\"dni-code-hint\"><code>Submission#3+Rotation</code></span></summary><div><table><thead><tr></tr></thead><tbody><tr><td>name</td><td>霰弹枪裂罅 Mod</td></tr><tr><td>cost</td><td><div class=\"dni-plaintext\"><pre>75</pre></div></td></tr></tbody></table></div></details></td></tr></tbody></table></td></tr><tr><td>evergreens</td><td><table><thead><tr><th><i>index</i></th><th>value</th></tr></thead><tbody><tr><td>0</td><td><details class=\"dni-treeview\"><summary><span class=\"dni-code-hint\"><code>Submission#3+Evergreen</code></span></summary><div><table><thead><tr></tr></thead><tbody><tr><td>name</td><td>裂罅破解器</td></tr><tr><td>cost</td><td><div class=\"dni-plaintext\"><pre>20</pre></div></td></tr></tbody></table></div></details></td></tr><tr><td>1</td><td><details class=\"dni-treeview\"><summary><span class=\"dni-code-hint\"><code>Submission#3+Evergreen</code></span></summary><div><table><thead><tr></tr></thead><tbody><tr><td>name</td><td>军神护肩 蓝图</td></tr><tr><td>cost</td><td><div class=\"dni-plaintext\"><pre>15</pre></div></td></tr></tbody></table></div></details></td></tr><tr><td>2</td><td><details class=\"dni-treeview\"><summary><span class=\"dni-code-hint\"><code>Submission#3+Evergreen</code></span></summary><div><table><thead><tr></tr></thead><tbody><tr><td>name</td><td>军神胸甲 蓝图</td></tr><tr><td>cost</td><td><div class=\"dni-plaintext\"><pre>25</pre></div></td></tr></tbody></table></div></details></td></tr><tr><td>3</td><td><details class=\"dni-treeview\"><summary><span class=\"dni-code-hint\"><code>Submission#3+Evergreen</code></span></summary><div><table><thead><tr></tr></thead><tbody><tr><td>name</td><td>军神头盔 蓝图</td></tr><tr><td>cost</td><td><div class=\"dni-plaintext\"><pre>20</pre></div></td></tr></tbody></table></div></details></td></tr><tr><td>4</td><td><details class=\"dni-treeview\"><summary><span class=\"dni-code-hint\"><code>Submission#3+Evergreen</code></span></summary><div><table><thead><tr></tr></thead><tbody><tr><td>name</td><td>军神护胫 蓝图</td></tr><tr><td>cost</td><td><div class=\"dni-plaintext\"><pre>25</pre></div></td></tr></tbody></table></div></details></td></tr><tr><td>5</td><td><details class=\"dni-treeview\"><summary><span class=\"dni-code-hint\"><code>Submission#3+Evergreen</code></span></summary><div><table><thead><tr></tr></thead><tbody><tr><td>name</td><td>10,000 赤毒</td></tr><tr><td>cost</td><td><div class=\"dni-plaintext\"><pre>15</pre></div></td></tr></tbody></table></div></details></td></tr><tr><td>6</td><td><details class=\"dni-treeview\"><summary><span class=\"dni-code-hint\"><code>Submission#3+Evergreen</code></span></summary><div><table><thead><tr></tr></thead><tbody><tr><td>name</td><td>主要武器赋能槽连接器</td></tr><tr><td>cost</td><td><div class=\"dni-plaintext\"><pre>15</pre></div></td></tr></tbody></table></div></details></td></tr><tr><td>7</td><td><details class=\"dni-treeview\"><summary><span class=\"dni-code-hint\"><code>Submission#3+Evergreen</code></span></summary><div><table><thead><tr></tr></thead><tbody><tr><td>name</td><td>次要武器赋能槽连接器</td></tr><tr><td>cost</td><td><div class=\"dni-plaintext\"><pre>15</pre></div></td></tr></tbody></table></div></details></td></tr><tr><td>8</td><td><details class=\"dni-treeview\"><summary><span class=\"dni-code-hint\"><code>Submission#3+Evergreen</code></span></summary><div><table><thead><tr></tr></thead><tbody><tr><td>name</td><td>遗物组合包</td></tr><tr><td>cost</td><td><div class=\"dni-plaintext\"><pre>15</pre></div></td></tr></tbody></table></div></details></td></tr><tr><td>9</td><td><details class=\"dni-treeview\"><summary><span class=\"dni-code-hint\"><code>Submission#3+Evergreen</code></span></summary><div><table><thead><tr></tr></thead><tbody><tr><td>name</td><td>架式 Forma 蓝图</td></tr><tr><td>cost</td><td><div class=\"dni-plaintext\"><pre>10</pre></div></td></tr></tbody></table></div></details></td></tr><tr><td>10</td><td><details class=\"dni-treeview\"><summary><span class=\"dni-code-hint\"><code>Submission#3+Evergreen</code></span></summary><div><table><thead><tr></tr></thead><tbody><tr><td>name</td><td>三轨幻纹</td></tr><tr><td>cost</td><td><div class=\"dni-plaintext\"><pre>3</pre></div></td></tr></tbody></table></div></details></td></tr><tr><td>11</td><td><details class=\"dni-treeview\"><summary><span class=\"dni-code-hint\"><code>Submission#3+Evergreen</code></span></summary><div><table><thead><tr></tr></thead><tbody><tr><td>name</td><td>颅骨幻纹</td></tr><tr><td>cost</td><td><div class=\"dni-plaintext\"><pre>85</pre></div></td></tr></tbody></table></div></details></td></tr><tr><td>12</td><td><details class=\"dni-treeview\"><summary><span class=\"dni-code-hint\"><code>Submission#3+Evergreen</code></span></summary><div><table><thead><tr></tr></thead><tbody><tr><td>name</td><td>制衡</td></tr><tr><td>cost</td><td><div class=\"dni-plaintext\"><pre>35</pre></div></td></tr></tbody></table></div></details></td></tr><tr><td>13</td><td><details class=\"dni-treeview\"><summary><span class=\"dni-code-hint\"><code>Submission#3+Evergreen</code></span></summary><div><table><thead><tr></tr></thead><tbody><tr><td>name</td><td>Teshin 摇头娃娃</td></tr><tr><td>cost</td><td><div class=\"dni-plaintext\"><pre>35</pre></div></td></tr></tbody></table></div></details></td></tr><tr><td>14</td><td><details class=\"dni-treeview\"><summary><span class=\"dni-code-hint\"><code>Submission#3+Evergreen</code></span></summary><div><table><thead><tr></tr></thead><tbody><tr><td>name</td><td>Gauss 战斗姿态浮印</td></tr><tr><td>cost</td><td><div class=\"dni-plaintext\"><pre>15</pre></div></td></tr></tbody></table></div></details></td></tr><tr><td>15</td><td><details class=\"dni-treeview\"><summary><span class=\"dni-code-hint\"><code>Submission#3+Evergreen</code></span></summary><div><table><thead><tr></tr></thead><tbody><tr><td>name</td><td>Grendel 战斗姿态浮印</td></tr><tr><td>cost</td><td><div class=\"dni-plaintext\"><pre>15</pre></div></td></tr></tbody></table></div></details></td></tr><tr><td>16</td><td><details class=\"dni-treeview\"><summary><span class=\"dni-code-hint\"><code>Submission#3+Evergreen</code></span></summary><div><table><thead><tr></tr></thead><tbody><tr><td>name</td><td>Protea 战斗姿态浮印</td></tr><tr><td>cost</td><td><div class=\"dni-plaintext\"><pre>15</pre></div></td></tr></tbody></table></div></details></td></tr><tr><td>17</td><td><details class=\"dni-treeview\"><summary><span class=\"dni-code-hint\"><code>Submission#3+Evergreen</code></span></summary><div><table><thead><tr></tr></thead><tbody><tr><td>name</td><td>Orokin 茶具</td></tr><tr><td>cost</td><td><div class=\"dni-plaintext\"><pre>15</pre></div></td></tr></tbody></table></div></details></td></tr><tr><td>18</td><td><details class=\"dni-treeview\"><summary><span class=\"dni-code-hint\"><code>Submission#3+Evergreen</code></span></summary><div><table><thead><tr></tr></thead><tbody><tr><td>name</td><td>Xaku 战斗姿态浮印</td></tr><tr><td>cost</td><td><div class=\"dni-plaintext\"><pre>15</pre></div></td></tr></tbody></table></div></details></td></tr></tbody></table></td></tr><tr><td>incursions</td><td><details class=\"dni-treeview\"><summary><span class=\"dni-code-hint\"><code>Submission#3+Incursions</code></span></summary><div><table><thead><tr></tr></thead><tbody><tr><td>id</td><td>spi:1688947200000</td></tr><tr><td>activation</td><td><span>2023-07-10 00:00:00Z</span></td></tr><tr><td>expiry</td><td><span>2023-07-10 23:59:59Z</span></td></tr></tbody></table></div></details></td></tr></tbody></table></div></details><style>\r\n",
       ".dni-code-hint {\r\n",
       "    font-style: italic;\r\n",
       "    overflow: hidden;\r\n",
       "    white-space: nowrap;\r\n",
       "}\r\n",
       ".dni-treeview {\r\n",
       "    white-space: nowrap;\r\n",
       "}\r\n",
       ".dni-treeview td {\r\n",
       "    vertical-align: top;\r\n",
       "    text-align: start;\r\n",
       "}\r\n",
       "details.dni-treeview {\r\n",
       "    padding-left: 1em;\r\n",
       "}\r\n",
       "table td {\r\n",
       "    text-align: start;\r\n",
       "}\r\n",
       "table tr { \r\n",
       "    vertical-align: top; \r\n",
       "    margin: 0em 0px;\r\n",
       "}\r\n",
       "table tr td pre \r\n",
       "{ \r\n",
       "    vertical-align: top !important; \r\n",
       "    margin: 0em 0px !important;\r\n",
       "} \r\n",
       "table th {\r\n",
       "    text-align: start;\r\n",
       "}\r\n",
       "</style>"
      ]
     },
     "metadata": {},
     "output_type": "display_data"
    }
   ],
   "source": [
    "using System.Text.Json;\n",
    "using System.Net.Http;\n",
    "using System.Collections.Generic;\n",
    "\n",
    "HttpClient httpClient=new();\n",
    "\n",
    "var response = await httpClient.GetAsync(\"https://api.warframestat.us/pc/zh/steelPath/\");\n",
    "var json = await response.Content.ReadAsStringAsync();\n",
    "var result =  System.Text.Json.JsonSerializer.Deserialize<steelPath>(json);\n",
    "\n",
    "result.Display();"
   ]
  }
 ],
 "metadata": {
  "language_info": {
   "name": "csharp"
  },
  "orig_nbformat": 4
 },
 "nbformat": 4,
 "nbformat_minor": 2
}
