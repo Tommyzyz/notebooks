{
 "cells": [
  {
   "cell_type": "code",
   "execution_count": 3,
   "metadata": {
    "dotnet_interactive": {
     "language": "csharp"
    },
    "polyglot_notebook": {
     "kernelName": "csharp"
    },
    "vscode": {
     "languageId": "polyglot-notebook"
    }
   },
   "outputs": [],
   "source": [
    "// Root myDeserializedClass = JsonConvert.DeserializeObject<Root>(myJsonResponse);\n",
    "    public class sortie\n",
    "    {\n",
    "        public string id { get; set; }\n",
    "        public DateTime activation { get; set; }\n",
    "        public string startString { get; set; }\n",
    "        public DateTime expiry { get; set; }\n",
    "        public bool active { get; set; }\n",
    "        public string rewardPool { get; set; }\n",
    "        public List<Variant> variants { get; set; }\n",
    "        public List<object> missions { get; set; }\n",
    "        public string boss { get; set; }\n",
    "        public string faction { get; set; }\n",
    "        public bool expired { get; set; }\n",
    "        public string eta { get; set; }\n",
    "    }\n",
    "\n",
    "    public class Variant\n",
    "    {\n",
    "        public string missionType { get; set; }\n",
    "        public string modifier { get; set; }\n",
    "        public string modifierDescription { get; set; }\n",
    "        public string node { get; set; }\n",
    "    }\n",
    "\n"
   ]
  },
  {
   "cell_type": "code",
   "execution_count": 5,
   "metadata": {
    "dotnet_interactive": {
     "language": "csharp"
    },
    "polyglot_notebook": {
     "kernelName": "csharp"
    },
    "vscode": {
     "languageId": "polyglot-notebook"
    }
   },
   "outputs": [
    {
     "data": {
      "text/html": [
       "<details open=\"open\" class=\"dni-treeview\"><summary><span class=\"dni-code-hint\"><code>Submission#4+sortie</code></span></summary><div><table><thead><tr></tr></thead><tbody><tr><td>id</td><td>64a9847d9afdb6e666ee34c1</td></tr><tr><td>activation</td><td><span>2023-07-08 16:00:00Z</span></td></tr><tr><td>startString</td><td>-20h 19m 49s</td></tr><tr><td>expiry</td><td><span>2023-07-09 16:00:00Z</span></td></tr><tr><td>active</td><td><div class=\"dni-plaintext\"><pre>True</pre></div></td></tr><tr><td>rewardPool</td><td>Sortie Rewards</td></tr><tr><td>variants</td><td><table><thead><tr><th><i>index</i></th><th>value</th></tr></thead><tbody><tr><td>0</td><td><details class=\"dni-treeview\"><summary><span class=\"dni-code-hint\"><code>Submission#4+Variant</code></span></summary><div><table><thead><tr></tr></thead><tbody><tr><td>missionType</td><td>間諜</td></tr><tr><td>modifier</td><td>敌人护盾强化</td></tr><tr><td>modifierDescription</td><td>敵人已有強化護盾，建議使用磁力元素。</td></tr><tr><td>node</td><td>Io (木星)</td></tr></tbody></table></div></details></td></tr><tr><td>1</td><td><details class=\"dni-treeview\"><summary><span class=\"dni-code-hint\"><code>Submission#4+Variant</code></span></summary><div><table><thead><tr></tr></thead><tbody><tr><td>missionType</td><td>殲滅</td></tr><tr><td>modifier</td><td>弓箭 限定</td></tr><tr><td>modifierDescription</td><td>此任務中只能使用弓箭類武器，其他類型的武器將會自動被換掉</td></tr><tr><td>node</td><td>Shklovsky (火衛一)</td></tr></tbody></table></div></details></td></tr><tr><td>2</td><td><details class=\"dni-treeview\"><summary><span class=\"dni-code-hint\"><code>Submission#4+Variant</code></span></summary><div><table><thead><tr></tr></thead><tbody><tr><td>missionType</td><td>刺殺</td></tr><tr><td>modifier</td><td>卓越者大本营</td></tr><tr><td>modifierDescription</td><td>Eximus units have a much higher spawn rate in this mission. Some of their auras stack.</td></tr><tr><td>node</td><td>Fossa (金星)</td></tr></tbody></table></div></details></td></tr></tbody></table></td></tr><tr><td>missions</td><td></td></tr><tr><td>boss</td><td>豺狼</td></tr><tr><td>faction</td><td>Corpus</td></tr><tr><td>expired</td><td><div class=\"dni-plaintext\"><pre>False</pre></div></td></tr><tr><td>eta</td><td>3h 40m 10s</td></tr></tbody></table></div></details><style>\r\n",
       ".dni-code-hint {\r\n",
       "    font-style: italic;\r\n",
       "    overflow: hidden;\r\n",
       "    white-space: nowrap;\r\n",
       "}\r\n",
       ".dni-treeview {\r\n",
       "    white-space: nowrap;\r\n",
       "}\r\n",
       ".dni-treeview td {\r\n",
       "    vertical-align: top;\r\n",
       "    text-align: start;\r\n",
       "}\r\n",
       "details.dni-treeview {\r\n",
       "    padding-left: 1em;\r\n",
       "}\r\n",
       "table td {\r\n",
       "    text-align: start;\r\n",
       "}\r\n",
       "table tr { \r\n",
       "    vertical-align: top; \r\n",
       "    margin: 0em 0px;\r\n",
       "}\r\n",
       "table tr td pre \r\n",
       "{ \r\n",
       "    vertical-align: top !important; \r\n",
       "    margin: 0em 0px !important;\r\n",
       "} \r\n",
       "table th {\r\n",
       "    text-align: start;\r\n",
       "}\r\n",
       "</style>"
      ]
     },
     "metadata": {},
     "output_type": "display_data"
    }
   ],
   "source": [
    "using System.Text.Json;\n",
    "using System.Net.Http;\n",
    "using System.Collections.Generic;\n",
    "\n",
    "HttpClient httpClient=new();\n",
    "\n",
    "var response = await httpClient.GetAsync(\"https://api.warframestat.us/pc/zh/sortie/\");\n",
    "var json = await response.Content.ReadAsStringAsync();\n",
    "var result =  System.Text.Json.JsonSerializer.Deserialize<sortie>(json);\n",
    "\n",
    "result.Display();"
   ]
  }
 ],
 "metadata": {
  "language_info": {
   "name": "csharp"
  },
  "orig_nbformat": 4
 },
 "nbformat": 4,
 "nbformat_minor": 2
}
