{
 "cells": [
  {
   "cell_type": "code",
   "execution_count": 1,
   "metadata": {
    "dotnet_interactive": {
     "language": "csharp"
    },
    "polyglot_notebook": {
     "kernelName": "csharp"
    },
    "vscode": {
     "languageId": "polyglot-notebook"
    }
   },
   "outputs": [],
   "source": [
    "/// sentientOutposts\n",
    "\n",
    "// Root myDeserializedClass = JsonConvert.DeserializeObject<Root>(myJsonResponse);\n",
    "    public class Mission\n",
    "    {\n",
    "        public string node { get; set; }\n",
    "        public string faction { get; set; }\n",
    "        public string type { get; set; }\n",
    "    }\n",
    "\n",
    "    public class sentientOutposts\n",
    "    {\n",
    "        public Mission mission { get; set; }\n",
    "        public DateTime activation { get; set; }\n",
    "        public DateTime expiry { get; set; }\n",
    "        public bool active { get; set; }\n",
    "        public string id { get; set; }\n",
    "    }\n",
    "\n"
   ]
  },
  {
   "cell_type": "code",
   "execution_count": 3,
   "metadata": {
    "dotnet_interactive": {
     "language": "csharp"
    },
    "polyglot_notebook": {
     "kernelName": "csharp"
    },
    "vscode": {
     "languageId": "polyglot-notebook"
    }
   },
   "outputs": [
    {
     "data": {
      "text/html": [
       "<details open=\"open\" class=\"dni-treeview\"><summary><span class=\"dni-code-hint\"><code>Submission#1+sentientOutposts</code></span></summary><div><table><thead><tr></tr></thead><tbody><tr><td>mission</td><td><details class=\"dni-treeview\"><summary><span class=\"dni-code-hint\"><code>Submission#1+Mission</code></span></summary><div><table><thead><tr></tr></thead><tbody><tr><td>node</td><td><div class=\"dni-plaintext\"><pre>H-2 星云 (面纱)</pre></div></td></tr><tr><td>faction</td><td><div class=\"dni-plaintext\"><pre>Grineer</pre></div></td></tr><tr><td>type</td><td><div class=\"dni-plaintext\"><pre>前哨战</pre></div></td></tr></tbody></table></div></details></td></tr><tr><td>activation</td><td><span>2021-08-06 13:38:05Z</span></td></tr><tr><td>expiry</td><td><span>2021-08-06 14:08:05Z</span></td></tr><tr><td>active</td><td><div class=\"dni-plaintext\"><pre>True</pre></div></td></tr><tr><td>id</td><td><div class=\"dni-plaintext\"><pre>CrewBattleNode554:true</pre></div></td></tr></tbody></table></div></details><style>\r\n",
       ".dni-code-hint {\r\n",
       "    font-style: italic;\r\n",
       "    overflow: hidden;\r\n",
       "    white-space: nowrap;\r\n",
       "}\r\n",
       ".dni-treeview {\r\n",
       "    white-space: nowrap;\r\n",
       "}\r\n",
       ".dni-treeview td {\r\n",
       "    vertical-align: top;\r\n",
       "    text-align: start;\r\n",
       "}\r\n",
       "details.dni-treeview {\r\n",
       "    padding-left: 1em;\r\n",
       "}\r\n",
       "table td {\r\n",
       "    text-align: start;\r\n",
       "}\r\n",
       "table tr { \r\n",
       "    vertical-align: top; \r\n",
       "    margin: 0em 0px;\r\n",
       "}\r\n",
       "table tr td pre \r\n",
       "{ \r\n",
       "    vertical-align: top !important; \r\n",
       "    margin: 0em 0px !important;\r\n",
       "} \r\n",
       "table th {\r\n",
       "    text-align: start;\r\n",
       "}\r\n",
       "</style>"
      ]
     },
     "metadata": {},
     "output_type": "display_data"
    }
   ],
   "source": [
    "using System.Text.Json;\n",
    "using System.Net.Http;\n",
    "using System.Collections.Generic;\n",
    "\n",
    "HttpClient httpClient=new();\n",
    "\n",
    "var response = await httpClient.GetAsync(\"https://api.warframestat.us/pc/zh/sentientOutposts/\");\n",
    "var json = await response.Content.ReadAsStringAsync();\n",
    "var result =  System.Text.Json.JsonSerializer.Deserialize<sentientOutposts>(json);\n",
    "\n",
    "result.Display();"
   ]
  }
 ],
 "metadata": {
  "kernelspec": {
   "display_name": ".NET (C#)",
   "language": "C#",
   "name": ".net-csharp"
  },
  "language_info": {
   "name": "csharp"
  },
  "orig_nbformat": 4,
  "polyglot_notebook": {
   "kernelInfo": {
    "defaultKernelName": "csharp",
    "items": [
     {
      "aliases": [],
      "name": "csharp"
     }
    ]
   }
  }
 },
 "nbformat": 4,
 "nbformat_minor": 2
}
