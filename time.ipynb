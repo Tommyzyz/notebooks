{
 "cells": [
  {
   "cell_type": "code",
   "execution_count": null,
   "metadata": {},
   "outputs": [],
   "source": [
    "    static int count = 10;\n",
    "    static Timer timer = new Timer(1000);\n",
    "\n",
    "    private static void TimerEvent(object source, ElapsedEventArgs e)\n",
    "    {\n",
    "        count--;\n",
    "        Console.WriteLine(\"剩余时间：{0}秒\", count);\n",
    "        if (count == 0)\n",
    "        {\n",
    "            timer.Enabled = false;\n",
    "            Console.WriteLine(\"时间到！\");\n",
    "        }\n",
    "    }\n",
    "\n",
    "    timer.Elapsed += new ElapsedEventHandler(TimerEvent);\n",
    "    timer.Enabled = true;\n",
    "    Console.WriteLine(\"倒计时开始！\");\n",
    "    Console.ReadLine();"
   ]
  }
 ],
 "metadata": {
  "language_info": {
   "name": "csharp"
  },
  "orig_nbformat": 4
 },
 "nbformat": 4,
 "nbformat_minor": 2
}
