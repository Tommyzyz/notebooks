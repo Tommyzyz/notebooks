{
 "cells": [
  {
   "cell_type": "code",
   "execution_count": 1,
   "metadata": {
    "dotnet_interactive": {
     "language": "csharp"
    },
    "polyglot_notebook": {
     "kernelName": "csharp"
    },
    "vscode": {
     "languageId": "polyglot-notebook"
    }
   },
   "outputs": [
    {
     "name": "stdout",
     "output_type": "stream",
     "text": [
      "Press the Enter key to exit the program at any time... \r\n"
     ]
    }
   ],
   "source": [
    "    public static System.Timers.Timer aTimer =new();\n",
    "    static int count = 10;\n",
    "\n",
    "    private static void SetTimer(System.Timers.Timer aTimer)\n",
    "    {\n",
    "        // Create a timer and set a two second interval.\n",
    "        aTimer.Interval = 1000;\n",
    "\n",
    "        // Hook up the Elapsed event for the timer. \n",
    "        aTimer.Elapsed += OnTimedEvent;\n",
    "\n",
    "        // Have the timer fire repeated events (true is the default)\n",
    "        aTimer.AutoReset = true;\n",
    "\n",
    "        // Start the timer\n",
    "        aTimer.Enabled = true;\n",
    "    }\n",
    "\n",
    "    private static void OnTimedEvent(Object source, System.Timers.ElapsedEventArgs e)\n",
    "    {\n",
    "        count--;\n",
    "        Console.WriteLine(\"剩余时间：{0}秒\", count);\n",
    "        if (count == 0)\n",
    "        {\n",
    "\n",
    "                aTimer.Close();\n",
    "                aTimer.Dispose();\n",
    "                //aTimer.Enabled = false;\n",
    "                Console.WriteLine(\"时间到！\");\n",
    "\n",
    "        }\n",
    "    }\n",
    "\n",
    "\n",
    "\n",
    "        SetTimer(aTimer);\n",
    "\n",
    "        Console.WriteLine(\"Press the Enter key to exit the program at any time... \");\n",
    "        Console.ReadLine();"
   ]
  }
 ],
 "metadata": {
  "language_info": {
   "name": "csharp"
  },
  "orig_nbformat": 4
 },
 "nbformat": 4,
 "nbformat_minor": 2
}
