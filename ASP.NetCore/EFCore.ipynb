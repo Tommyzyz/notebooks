{
 "cells": [
  {
   "cell_type": "markdown",
   "metadata": {},
   "source": [
    "# ContosoPizza Entity Diagram\n",
    "\n",
    "```mermaid\n",
    "erDiagram\n",
    "    Customer ||--o{ Order : places\n",
    "    Order ||--|{ OrderDetail : contains\n",
    "    Product }|--|{ OrderDetail : \"ordered in\"\n",
    "    Customer {\n",
    "        int Id\n",
    "        string FirstName\n",
    "        string LastName\n",
    "        string Address\n",
    "        string Phone\n",
    "        string Email\n",
    "    }\n",
    "    Order {\n",
    "        int Id\n",
    "        timestamp OrderPlaced\n",
    "        timestamp OrderFulfilled\n",
    "        int CustomerId\n",
    "    }\n",
    "    OrderDetail {\n",
    "        int Id\n",
    "        int Quantity\n",
    "        int OrderId\n",
    "        int ProductId\n",
    "    }\n",
    "    Product {\n",
    "        int Id\n",
    "        string Name\n",
    "        decimal Price\n",
    "    }\n",
    "```"
   ]
  },
  {
   "cell_type": "code",
   "execution_count": 1,
   "metadata": {
    "dotnet_interactive": {
     "language": "csharp"
    },
    "polyglot_notebook": {
     "kernelName": "csharp"
    },
    "vscode": {
     "languageId": "polyglot-notebook"
    }
   },
   "outputs": [
    {
     "data": {
      "text/html": [
       "<div><div></div><div></div><div><strong>Installed Packages</strong><ul><li><span>Microsoft.EntityFrameworkCore, 7.0.9</span></li></ul></div></div>"
      ]
     },
     "metadata": {},
     "output_type": "display_data"
    },
    {
     "ename": "Error",
     "evalue": "(1,29): error CS0234: 命名空间“System.ComponentModel”中不存在类型或命名空间名“DataAnnotations”(是否缺少程序集引用?)\r\n(9,6): error CS0246: 未能找到类型或命名空间名“ColumnAttribute”(是否缺少 using 指令或程序集引用?)\r\n(9,6): error CS0246: 未能找到类型或命名空间名“Column”(是否缺少 using 指令或程序集引用?)\r\n(9,13): error CS0246: 未能找到类型或命名空间名“TypeName”(是否缺少 using 指令或程序集引用?)",
     "output_type": "error",
     "traceback": [
      "(1,29): error CS0234: 命名空间“System.ComponentModel”中不存在类型或命名空间名“DataAnnotations”(是否缺少程序集引用?)\r\n",
      "(9,6): error CS0246: 未能找到类型或命名空间名“ColumnAttribute”(是否缺少 using 指令或程序集引用?)\r\n",
      "(9,6): error CS0246: 未能找到类型或命名空间名“Column”(是否缺少 using 指令或程序集引用?)\r\n",
      "(9,13): error CS0246: 未能找到类型或命名空间名“TypeName”(是否缺少 using 指令或程序集引用?)"
     ]
    }
   ],
   "source": [
    "#r \"nuget: Microsoft.EntityFrameworkCore\"\n",
    "using System.ComponentModel.DataAnnotations.Schema;\n",
    "\n",
    "public class Product\n",
    "{\n",
    "    public int Id { get; set; }\n",
    "\n",
    "    public string Name { get; set; } = null!;\n",
    "\n",
    "    [Column(TypeName = \"decimal(6, 2)\")]\n",
    "    public decimal Price { get; set; }\n",
    "}\n",
    "\n",
    "\n",
    "public class Customer\n",
    "{\n",
    "    public int Id { get; set; }\n",
    "    public string FirstName { get; set; } = null!;\n",
    "    public string LastName { get; set; } = null!;\n",
    "    public string? Address { get; set; }\n",
    "    public string? Phone { get; set; }\n",
    "    public string? Email { get; set; }\n",
    "\n",
    "    public ICollection<Order> Orders { get; set; } = null!;\n",
    "}\n",
    "\n",
    "public class Order\n",
    "{\n",
    "    public int Id { get; set; }\n",
    "    public DateTime OrderPlaced { get; set; }\n",
    "    public DateTime? OrderFulfilled { get; set; }\n",
    "    public int CustomerId { get; set; }\n",
    "\n",
    "    public Customer Customer { get; set; } = null!;\n",
    "    public ICollection<OrderDetail> OrderDetails { get; set; } = null!;\n",
    "}\n",
    "\n",
    "public class OrderDetail\n",
    "{\n",
    "    public int Id { get; set; }\n",
    "    public int Quantity { get; set; }\n",
    "    public int ProductId { get; set; }\n",
    "    public int OrderId { get; set; }\n",
    "\n",
    "    public Order Order { get; set; } = null!;\n",
    "    public Product Product { get; set; } = null!;\n",
    "}"
   ]
  }
 ],
 "metadata": {
  "language_info": {
   "name": "csharp"
  },
  "orig_nbformat": 4
 },
 "nbformat": 4,
 "nbformat_minor": 2
}
