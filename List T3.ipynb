{
 "cells": [
  {
   "attachments": {},
   "cell_type": "markdown",
   "metadata": {},
   "source": [
    "![Alt text](图/Read2.png)"
   ]
  },
  {
   "cell_type": "code",
   "execution_count": 11,
   "metadata": {
    "dotnet_interactive": {
     "language": "csharp"
    },
    "polyglot_notebook": {
     "kernelName": "csharp"
    },
    "vscode": {
     "languageId": "polyglot-notebook"
    }
   },
   "outputs": [],
   "source": [
    "using System.Text.Json;\n",
    "public class Book\n",
    "{\n",
    "    public string Name{get;set;}\n",
    "    public int Price{get;set;}\n",
    "    public override string ToString()\n",
    "    {\n",
    "        return JsonSerializer.Serialize(this);\n",
    "    }\n",
    "}\n",
    "\n",
    "List<double> list1=new List<Double>{100.0,200.0,300.0,400.0,100.0,200.0,300.0,400.0};\n"
   ]
  }
 ],
 "metadata": {
  "language_info": {
   "name": "csharp"
  },
  "orig_nbformat": 4
 },
 "nbformat": 4,
 "nbformat_minor": 2
}
