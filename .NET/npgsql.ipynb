{
 "cells": [
  {
   "cell_type": "code",
   "execution_count": 22,
   "metadata": {
    "dotnet_interactive": {
     "language": "csharp"
    },
    "polyglot_notebook": {
     "kernelName": "csharp"
    },
    "vscode": {
     "languageId": "polyglot-notebook"
    }
   },
   "outputs": [
    {
     "data": {
      "text/html": [
       "<div><div></div><div></div><div><strong>Installed Packages</strong><ul><li><span>Npgsql, 8.0.5</span></li></ul></div></div>"
      ]
     },
     "metadata": {},
     "output_type": "display_data"
    },
    {
     "data": {
      "text/html": [
       "<details open=\"open\" class=\"dni-treeview\"><summary><span class=\"dni-code-hint\"><code>[ System.Data.Common.DataRecordInternal, System.Data.Common.DataRecordInternal, System.Data.Common.DataRecordInternal, System.Data.Common.DataRecordInternal, System.Data.Common.DataRecordInternal, System.Data.Common.DataRecordInternal, System.Data.Common.DataRecordInternal, System.Data.Common.DataRecordInternal, System.Data.Common.DataRecordInternal, System.Data.Common.DataRecordInternal ]</code></span></summary><div><table><thead><tr></tr></thead><tbody><tr><td>Depth</td><td><div class=\"dni-plaintext\"><pre>0</pre></div></td></tr><tr><td>IsClosed</td><td><div class=\"dni-plaintext\"><pre>False</pre></div></td></tr><tr><td>RecordsAffected</td><td><div class=\"dni-plaintext\"><pre>-1</pre></div></td></tr><tr><td>Rows</td><td><div class=\"dni-plaintext\"><pre>0</pre></div></td></tr><tr><td>Statements</td><td><table><thead><tr><th><i>index</i></th><th>value</th></tr></thead><tbody><tr><td>0</td><td><details class=\"dni-treeview\"><summary><span class=\"dni-code-hint\"><code></code></span></summary><div><table><thead><tr></tr></thead><tbody><tr><td>CommandText</td><td><div class=\"dni-plaintext\"><pre></pre></div></td></tr><tr><td>CommandType</td><td><span>Text</span></td></tr><tr><td>Parameters</td><td><div class=\"dni-plaintext\"><pre></pre></div></td></tr><tr><td>CanCreateParameter</td><td><div class=\"dni-plaintext\"><pre>True</pre></div></td></tr><tr><td>AppendErrorBarrier</td><td><div class=\"dni-plaintext\"><pre>&lt;null&gt;</pre></div></td></tr><tr><td>Rows</td><td><div class=\"dni-plaintext\"><pre>11</pre></div></td></tr><tr><td>RecordsAffected</td><td><div class=\"dni-plaintext\"><pre>-1</pre></div></td></tr><tr><td>StatementType</td><td><span>Select</span></td></tr><tr><td>OID</td><td><div class=\"dni-plaintext\"><pre>0</pre></div></td></tr><tr><td>Parameters</td><td><div class=\"dni-plaintext\"><pre></pre></div></td></tr></tbody></table></div></details></td></tr></tbody></table></td></tr><tr><td>HasRows</td><td><div class=\"dni-plaintext\"><pre>True</pre></div></td></tr><tr><td>IsOnRow</td><td><div class=\"dni-plaintext\"><pre>False</pre></div></td></tr><tr><td>FieldCount</td><td><div class=\"dni-plaintext\"><pre>13</pre></div></td></tr><tr><td>VisibleFieldCount</td><td><div class=\"dni-plaintext\"><pre>13</pre></div></td></tr><tr><td><i>(values)</i></td><td><i>(empty)</i></td></tr></tbody></table></div></details><style>\r\n",
       ".dni-code-hint {\r\n",
       "    font-style: italic;\r\n",
       "    overflow: hidden;\r\n",
       "    white-space: nowrap;\r\n",
       "}\r\n",
       ".dni-treeview {\r\n",
       "    white-space: nowrap;\r\n",
       "}\r\n",
       ".dni-treeview td {\r\n",
       "    vertical-align: top;\r\n",
       "    text-align: start;\r\n",
       "}\r\n",
       "details.dni-treeview {\r\n",
       "    padding-left: 1em;\r\n",
       "}\r\n",
       "table td {\r\n",
       "    text-align: start;\r\n",
       "}\r\n",
       "table tr { \r\n",
       "    vertical-align: top; \r\n",
       "    margin: 0em 0px;\r\n",
       "}\r\n",
       "table tr td pre \r\n",
       "{ \r\n",
       "    vertical-align: top !important; \r\n",
       "    margin: 0em 0px !important;\r\n",
       "} \r\n",
       "table th {\r\n",
       "    text-align: start;\r\n",
       "}\r\n",
       "</style>"
      ]
     },
     "metadata": {},
     "output_type": "display_data"
    }
   ],
   "source": [
    "#r \"nuget: Npgsql\"\n",
    "using Npgsql;\n",
    "\n",
    "var connString = \"Server=localhost;Port=5432;UserId=postgres;Password=1234;Database=postgres\";\n",
    "\n",
    " var conn = new NpgsqlConnection(connString);\n",
    "await conn.OpenAsync();\n",
    "\n",
    "// // Insert some data\n",
    "// await using (var cmd = new NpgsqlCommand(\"INSERT INTO data (some_field) VALUES (@p)\", conn))\n",
    "// {\n",
    "//     cmd.Parameters.AddWithValue(\"p\", \"Hello world\");\n",
    "//     await cmd.ExecuteNonQueryAsync();\n",
    "// }\n",
    "\n",
    "// Retrieve all rows\n",
    "await using (var cmd = new NpgsqlCommand(\"\"\"SELECT * FROM public.\"Table_FixFileData\" \"\"\", conn))\n",
    "await using (var reader = await cmd.ExecuteReaderAsync())\n",
    "{\n",
    "while (await reader.ReadAsync())\n",
    "    reader.Display();\n",
    "}"
   ]
  }
 ],
 "metadata": {
  "kernelspec": {
   "display_name": ".NET (C#)",
   "language": "C#",
   "name": ".net-csharp"
  },
  "language_info": {
   "name": "python"
  },
  "polyglot_notebook": {
   "kernelInfo": {
    "defaultKernelName": "csharp",
    "items": [
     {
      "aliases": [],
      "name": "csharp"
     }
    ]
   }
  }
 },
 "nbformat": 4,
 "nbformat_minor": 2
}
