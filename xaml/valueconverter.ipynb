{
 "cells": [
  {
   "cell_type": "code",
   "execution_count": null,
   "metadata": {},
   "outputs": [],
   "source": [
    "    xmlns:valueConverters=\"clr-namespace:ValueConverters;assembly=ValueConverters\"\n",
    "\n",
    "        <valueConverters:BoolToDoubleConverter\n",
    "            x:Key=\"BoolToDoubleConverter\"\n",
    "            FalseValue=\"16\"\n",
    "            TrueValue=\"1\" />\n",
    "            \n",
    "        <valueConverters:ValueConverterGroup x:Key=\"convvomeandfass\">\n",
    "            <valueConverters:StringToBoolConverter TrueValue=\"vome\" FalseValue=\"fass\"/>\n",
    "            <valueConverters:BoolToImageSourceConverter TrueValue=\"vome.png\" FalseValue=\"fass.png\"/>\n",
    "        </valueConverters:ValueConverterGroup>"
   ]
  },
  {
   "cell_type": "markdown",
   "metadata": {},
   "source": [
    "https://github.com/thomasgalliker/ValueConverters.NET\n",
    "\n",
    "https://www.nuget.org/packages/ValueConverters/\n",
    "\n",
    "\n",
    "    xmlns:valueConverters=\"clr-namespace:ValueConverters;assembly=ValueConverters\""
   ]
  }
 ],
 "metadata": {
  "language_info": {
   "name": "csharp"
  },
  "orig_nbformat": 4
 },
 "nbformat": 4,
 "nbformat_minor": 2
}
