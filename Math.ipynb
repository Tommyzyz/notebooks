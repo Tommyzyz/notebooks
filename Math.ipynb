{
 "cells": [
  {
   "attachments": {},
   "cell_type": "markdown",
   "metadata": {},
   "source": [
    "代码挑战：实现 Math 类的一个方法，该方法返回两个数字中的较大值"
   ]
  },
  {
   "cell_type": "code",
   "execution_count": 4,
   "metadata": {
    "dotnet_interactive": {
     "language": "csharp"
    },
    "polyglot_notebook": {
     "kernelName": "csharp"
    },
    "vscode": {
     "languageId": "polyglot-notebook"
    }
   },
   "outputs": [
    {
     "name": "stdout",
     "output_type": "stream",
     "text": [
      "600\r\n"
     ]
    }
   ],
   "source": [
    "int firstValue = 500;\n",
    "int secondValue = 600;\n",
    "int largerValue;\n",
    "\n",
    "\n",
    "public class math\n",
    "{\n",
    "  public static int GetLargerValue(int firstValue,int secondValue )\n",
    "  {\n",
    "    if(firstValue>secondValue) return firstValue;\n",
    "    else return secondValue;\n",
    "  } \n",
    "}\n",
    "largerValue=math.GetLargerValue(firstValue,secondValue);\n",
    "Console.WriteLine(largerValue);"
   ]
  }
 ],
 "metadata": {
  "language_info": {
   "name": "csharp"
  },
  "orig_nbformat": 4
 },
 "nbformat": 4,
 "nbformat_minor": 2
}
