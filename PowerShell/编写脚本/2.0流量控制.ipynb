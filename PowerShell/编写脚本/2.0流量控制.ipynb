{
 "cells": [
  {
   "cell_type": "markdown",
   "metadata": {},
   "source": [
    "# 流控制\n",
    "\n",
    "流控制是指代码在控制台或脚本中的运行方式。 它介绍了代码遵循的流和控制流的方式。 有多种可用的构造可帮助控制流。 代码可以运行所有语句或只运行其中一些语句。 它还可以重复某些语句，直到满足特定的条件。\n",
    "\n",
    "让我们看一下这些流控制构造，看看它们能做什么：\n",
    "\n",
    "- 清理输入。 如果在脚本中使用参数，则需要确保参数保留合理的值，从而使脚本按预期方式工作。 编写代码来管理此过程称为清理输入。\n",
    "\n",
    "- 控制执行流。 上一种方法可确保获取合理且正确的输入数据。 此方法主要决定代码的运行方式。 值集可以确定运行的语句组。\n",
    "\n",
    "- 循环访问数据。 有时，数据采用数组形式，数组是包含许多项的数据结构。 对于此类数据，可能需要检查每个项，并对每个项执行操作。 PowerShell 中的许多构造可帮助处理该过程。\n"
   ]
  },
  {
   "cell_type": "markdown",
   "metadata": {},
   "source": [
    "## 使用 If、ElseIf 和 Else 管理输入和执行流\n",
    "可使用 If 构造来确定表达式是 True 还是 False。 根据这点，你可以运行由 If 构造定义的语句。 If 的语法如下所示：  \n",
    "`` If (<expression that evaluates to True or False>)  ``  \n",
    "`` {``  \n",
    "``  # Statement that runs only if the preceding expression is $True.``  \n",
    "`` }``  \n",
    "\n",
    "### 运算符\n",
    "\n",
    "PowerShell 提供了两个内置参数，用于确定表达式是 True 还是 False：\n",
    "\n",
    "- $True 指示表达式为 True。\n",
    "- $False 指示表达式为 False。\n"
   ]
  },
  {
   "cell_type": "code",
   "execution_count": 3,
   "metadata": {
    "dotnet_interactive": {
     "language": "pwsh"
    },
    "polyglot_notebook": {
     "kernelName": "pwsh"
    },
    "vscode": {
     "languageId": "polyglot-notebook"
    }
   },
   "outputs": [],
   "source": [
    "# 下面是使用运算符的示例。 -le 运算符确定运算符左侧的值是否小于或等于右侧的值：\n",
    "$Value = 3\n",
    "If ($Value -le 0) \n",
    "{\n",
    "  Write-Host \"Is negative\"\n",
    "}\n",
    "# 此代码不会显示任何内容，因为表达式的计算结果为 False。 值 3 明显是正值。"
   ]
  },
  {
   "cell_type": "markdown",
   "metadata": {},
   "source": [
    "### Else\n",
    "它捕获 If 子句计算为 False 的所有情况。 如果 If 和 Else 组合在一起，代码会在两个构造之一中运行语句。"
   ]
  },
  {
   "cell_type": "code",
   "execution_count": 2,
   "metadata": {
    "dotnet_interactive": {
     "language": "pwsh"
    },
    "polyglot_notebook": {
     "kernelName": "pwsh"
    },
    "vscode": {
     "languageId": "polyglot-notebook"
    }
   },
   "outputs": [
    {
     "name": "stdout",
     "output_type": "stream",
     "text": [
      "Is Positive\r\n"
     ]
    }
   ],
   "source": [
    "$Value = 3\n",
    "If ($Value -le 0) \n",
    "{\n",
    "  Write-Host \"Is negative\"\n",
    "} Else {\n",
    "  Write-Host \"Is Positive\"\n",
    "}"
   ]
  },
  {
   "cell_type": "markdown",
   "metadata": {},
   "source": [
    "### ElseIf\n",
    "ElseIf 应与 If 一起使用。 它显示“如果前面的 If 语句的计算结果为 False，则将计算此构造中的表达式”。与 If 一样，ElseIf 可以采用表达式，因此将 ElseIf 视为次要的 If。"
   ]
  },
  {
   "cell_type": "code",
   "execution_count": 4,
   "metadata": {
    "dotnet_interactive": {
     "language": "pwsh"
    },
    "polyglot_notebook": {
     "kernelName": "pwsh"
    },
    "vscode": {
     "languageId": "polyglot-notebook"
    }
   },
   "outputs": [
    {
     "name": "stdout",
     "output_type": "stream",
     "text": [
      "False\r\n"
     ]
    }
   ],
   "source": [
    "# _FullyTax.ps1_\n",
    "# Possible values: 'Minor', 'Adult', 'Senior Citizen'\n",
    "$Status = 'Minor'\n",
    "If ($Status -eq 'Minor') \n",
    "{\n",
    "  Write-Host $False\n",
    "} ElseIf ($Status -eq 'Adult') {\n",
    "  Write-Host $True\n",
    "} Else {\n",
    "  Write-Host $False\n",
    "}"
   ]
  }
 ],
 "metadata": {
  "language_info": {
   "name": "csharp"
  }
 },
 "nbformat": 4,
 "nbformat_minor": 2
}
