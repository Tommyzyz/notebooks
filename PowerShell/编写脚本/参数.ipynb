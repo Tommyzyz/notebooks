{
 "cells": [
  {
   "cell_type": "markdown",
   "metadata": {},
   "source": [
    "# 编写脚本简介\n",
    "开始学习脚本之前，让我们先大致了解一下 PowerShell 脚本语言的功能：\n",
    "\n",
    "- 变量。 你可以使用变量来存储值。 还可以将变量用作命令的参数。\n",
    "\n",
    "- 函数。 函数是语句的命名列表。 函数生成在控制台中显示的输出。 还可以将函数用作其他命令的输入。\n",
    "\n",
    "> 备注: 许多使用 PowerShell 执行的任务都涉及对系统状态（本地或其他）的副作用或修改。 通常，输出是次要问题（例如报告数据）。\n",
    "\n",
    "- 流控制。 流控制是通过使用 If、ElseIf 和 Else 之类的构造来控制各种执行路径的方法。\n",
    "\n",
    "- 循环。 循环是允许对数组进行操作、检查各项以及对各项执行某种操作的构造。 但循环比数组迭代要多。 还可通过使用 Do-While 循环，有条件地继续运行循环。 [有关详细信息，请参阅关于 Do](https://learn.microsoft.com/zh-cn/powershell/module/microsoft.powershell.core/about/about_do?preserve-view=true&view=powershell-7.1)。\n",
    "\n",
    "- 错误处理。 对于脚本编写，可靠性以及处理各种类型错误的能力很重要。 需了解终止和非终止错误的区别。 你将使用 Try 和 Catch 等构造。 我们将在本模块的最后一个概念单元中介绍此主题。\n",
    "\n",
    "- 表达式。 你将在 PowerShell 脚本中频繁使用表达式。 例如，创建自定义列或自定义排序表达式。 表达式是 PowerShell 语法中值的表示形式。\n",
    "\n",
    "- .NET 和 .NET Core 集成。 PowerShell 提供与 .NET 和 .NET Core 的强大集成。 此集成超出了本模块的范畴。"
   ]
  },
  {
   "cell_type": "code",
   "execution_count": 1,
   "metadata": {
    "dotnet_interactive": {
     "language": "pwsh"
    },
    "polyglot_notebook": {
     "kernelName": "pwsh"
    },
    "vscode": {
     "languageId": "polyglot-notebook"
    }
   },
   "outputs": [
    {
     "name": "stdout",
     "output_type": "stream",
     "text": [
      "The value of $PI is 3.14\r\n"
     ]
    }
   ],
   "source": [
    "# PI.ps1\n",
    "$PI = 3.14\n",
    "Write-Host \"The value of `$PI is $PI\""
   ]
  },
  {
   "cell_type": "markdown",
   "metadata": {},
   "source": [
    "从terminal运行  \n",
    "`. ./PowerShell/123.ps1`"
   ]
  },
  {
   "cell_type": "markdown",
   "metadata": {},
   "source": [
    "# 执行策略\n",
    "可以使用以下 cmdlet 来管理执行策略：\n",
    "\n",
    "- Get-ExecutionPolicy。 此 cmdlet 返回当前执行策略。 在 Linux 和 macOS 上，返回的值为 Unrestricted。 对于这些操作系统，不能更改此值。 这种限制不会降低 Linux 或 Mac 的安全性。 请记住，执行策略是一项安全功能，而不是一种安全机制。\n",
    "\n",
    "- Set-ExecutionPolicy。 如果使用的是 Windows 计算机，则可以使用此 cmdlet 更改执行策略的值。 它采用 -ExecutionPolicy 参数。 有多个可能的值。 建议将 Default 用作值。 该值在 Windows 客户端上将策略设置为 Restricted，在 Windows Server 上则设置为 RemoteSigned。 Restricted 表示无法运行脚本。 你只能运行命令，这在客户端上是说得通的。 RemoteSigned 表示可以运行在本地计算机上编写的脚本。 从 Internet 下载的脚本需要由受信任的发布者进行数字签名。"
   ]
  },
  {
   "cell_type": "markdown",
   "metadata": {},
   "source": [
    "# 变量\n",
    "\n",
    "变量不仅仅用于脚本。 你还可以在控制台上定义它们。 可以将值存储在变量中，以便以后使用。 若要定义变量，请在其前面加上 $ 字符。\n",
    "## 使用变量：引号和内插\n",
    "\n",
    "通过 Write-Host 或 Write-Output 输出文本时，可以使用单引号或双引号。 你的选择取决于是否要内插值。 需了解的三种机制：\n",
    "\n",
    "- 单引号。 单引号指定文字；所写即所得。\n",
    "- 双引号。 使用双引号时，将插入字符串中的变量\n",
    "- $()。 还可在双引号内编写表达式。 若要执行该操作，请使用 $() 构造。 使用此构造的一种方法是对对象的属性进行内插。"
   ]
  },
  {
   "cell_type": "code",
   "execution_count": 3,
   "metadata": {
    "dotnet_interactive": {
     "language": "pwsh"
    },
    "polyglot_notebook": {
     "kernelName": "pwsh"
    },
    "vscode": {
     "languageId": "polyglot-notebook"
    }
   },
   "outputs": [
    {
     "name": "stdout",
     "output_type": "stream",
     "text": [
      "Here is $PI\n",
      "Here is $PI and its value is 3.14\n",
      "An expression 4.14\n"
     ]
    },
    {
     "ename": "Error",
     "evalue": "Command failed: SubmitCode: Write-Host 'Here is $PI' # Prints Here is $PI ...",
     "output_type": "error",
     "traceback": [
      "Command failed: SubmitCode: Write-Host 'Here is $PI' # Prints Here is $PI ..."
     ]
    }
   ],
   "source": [
    "Write-Host 'Here is $PI' # Prints Here is $PI\n",
    "Write-Host \"Here is `$PI and its value is $PI\" # Prints Here is $PI and its value is 3.14\n",
    "Write-Host \"An expression $($PI + 1)\" # Prints An expression 4.14"
   ]
  },
  {
   "cell_type": "markdown",
   "metadata": {},
   "source": [
    "# 作用域\n",
    "范围是 PowerShell 定义读取变量、别名和函数等构造的位置的方式。 学习编写脚本时，需知道你所具备的访问权限、可以更改的内容以及可以更改的位置。 如果不了解范围的工作原理，代码可能无法按预期方式工作。\n",
    "\n",
    "## 范围类型\n",
    "下面讨论各个范围：\n",
    "\n",
    "- 全局范围。 在此范围内创建类似变量的构造时，它们会在会话结束后继续存在。 启动新的 PowerShell 会话时，出现的所有内容都可认为属于此范围。\n",
    "\n",
    "- 脚本范围。 运行脚本文件时，将创建脚本范围。 例如，在文件中定义的变量或函数就属于脚本范围。 文件完成运行后，它将不再存在。 例如，可以在脚本文件中创建一个变量，并以全局范围为目标。 但需要通过在变量前面加上关键字 global 来显式定义该范围。\n",
    "\n",
    "- 本地范围。 本地范围是当前范围，可以是全局范围或任何其他范围。\n",
    "\n",
    "## 范围规则\n",
    "范围规则有助于你了解在给定点可见的值。 它们还有助于了解如何更改值。\n",
    "\n",
    "- 范围可以嵌套。 范围可以具有父范围。 父范围是位于你所在范围之外的外部范围。 例如，本地范围可以将全局范围作为父范围。 相反，范围可以具有嵌套范围（也称为子范围）。\n",
    "\n",
    "- 项在当前范围和子范围中可见。 项（如变量或函数）在创建时所在的范围中可见。 默认情况下，它在任何子范围中也可见。 可以通过将项设为在范围内为专用来更改该行为。\n",
    "\n",
    "- 只能在创建的范围内更改项。 默认情况下，只能在创建项的范围内更改该项。 可以通过显式指定一个不同的范围来更改此行为。"
   ]
  },
  {
   "cell_type": "markdown",
   "metadata": {},
   "source": [
    "# 配置文件\n",
    "\n",
    "配置文件是在 PowerShell 启动时运行的脚本。 可以使用配置文件自定义环境，例如，更改背景颜色和错误以及执行其他类型的自定义。 PowerShell 会将这些更改应用到启动的每个新会话。\n",
    "\n",
    "## 配置文件类型\n",
    "\n",
    "PowerShell 支持多个配置文件。 可以按如下所示在不同级别应用它们：\n",
    "| 说明 | 路径 |\n",
    "| --- | --- |\n",
    "| 所有用户，所有主机 | `$PSHOME\\Profile.ps1` |\n",
    "| 所有用户，当前主机 | `$PSHOME\\Microsoft.PowerShell_profile.ps1` |\n",
    "| 当前用户，所有主机 | `$Home[My ]Documents\\PowerShell\\Profile.ps1` |\n",
    "| 当前用户，当前主机 | `$Home[My ]Documents\\PowerShell\\Microsoft.PowerShell_profile.ps1` |\n",
    "\n",
    "这里有两个变量：$PSHOME 和 $Home。 $PSHOME 指向 PowerShell 的安装目录。 $Home 为当前用户的主目录。\n",
    "\n",
    "其他程序也支持配置文件，如 Visual Studio Code。\n",
    "\n",
    "## 创建档案\n",
    "首次安装 PowerShell 时，没有配置文件，但有一个 $Profile 变量。 它是一个对象，指向应放置每个要应用的配置文件的路径。 创建配置文件：\n",
    "\n",
    "1. 确定要创建配置文件的级别。 可运行 $Profile | Select-Object * 来查看配置文件类型以及与它们关联的路径。\n",
    "\n",
    "2. 使用如下所示的命令选择配置文件类型并在其位置创建文本文件：New-Item -Path $Profile.CurrentUserCurrentHost。\n",
    "\n",
    "3. 将自定义项添加到文本文件并保存。 下一次启动会话时，将应用所做的更改。"
   ]
  },
  {
   "cell_type": "markdown",
   "metadata": {},
   "source": [
    "# 参数\n",
    "\n",
    "Cmdlet、函数和脚本都接受参数。\n",
    "\n",
    "## 声明和使用参数\n",
    "\n",
    "若要声明参数，需使用关键字 Param 和一对括号.  \n",
    "`Param()`  \n",
    "在括号内，你可以定义参数，并用逗号分隔它们。脚本中有一个 $Path 参数，该参数稍后用于在脚本中创建文件。 脚本现在更灵活了。"
   ]
  },
  {
   "cell_type": "code",
   "execution_count": null,
   "metadata": {
    "dotnet_interactive": {
     "language": "pwsh"
    },
    "polyglot_notebook": {
     "kernelName": "pwsh"
    },
    "vscode": {
     "languageId": "polyglot-notebook"
    }
   },
   "outputs": [],
   "source": [
    "# CreateFile.ps1\n",
    "Param (\n",
    "  $Path\n",
    ")\n",
    "New-Item $Path # Creates a new file at $Path.\n",
    "Write-Host \"File $Path was created\""
   ]
  },
  {
   "cell_type": "markdown",
   "metadata": {},
   "source": [
    "### 使用参数\n",
    "若要调用具有参数的脚本，需要提供名称和值。 假设上面的脚本称为 CreateFile.ps1。 可按以下方式对它进行命名：  \n",
    "``    ./CreateFile.ps1 -Path './newfile.txt' # File ./newfile.txt was created.  ``  \n",
    "``    ./CreateFile.ps1 -Path './anotherfile.txt' # File ./anotherfile.txt was created.``"
   ]
  },
  {
   "cell_type": "markdown",
   "metadata": {},
   "source": [
    "## 改进参数\n",
    "首次创建使用参数的脚本时，你可能会确切记得参数的用途以及对于它们而言合理的值。 随着时间的推移，你可能会忘记这些详细信息。 你可能还需要帮同事编写脚本。 这些情况的解决方法是明确的，这使得脚本的使用变得简单。 如果脚本传入了不合理的参数值，你还希望脚本尽早失败。 定义参数时，需要考虑以下事项：\n",
    "\n",
    "- 是否必需？ 参数是可选的还是必需的？\n",
    "- 允许哪些值？ 哪些值合理？\n",
    "- 它是否接受多种类型的值？ 参数是否接受任何类型的值，如字符串、布尔值、整数和对象？\n",
    "- 参数能否依赖于默认值？ 是否可以完全省略值并改为依赖于默认值？\n",
    "- 可以进一步改进用户体验吗？ 是否可以通过提供帮助消息为用户提供更清楚的提示？\n",
    "\n",
    "## 选择方法\n",
    "默认情况下，所有参数都是可选的。 该默认值在某些情况下可能有效，但有时你需要用户提供参数值，并且这些值必须是合理的。 如果用户未向参数提供值，则脚本应退出，或告诉用户如何解决此问题。 最糟糕的情况是，脚本继续进行，并执行意外的操作。\n",
    "\n",
    "你可以使用几种方法提高脚本的安全性。 你可以编写自定义代码来检查参数值。 或者使用修饰器来执行大致相同的操作。 让我们看看这两种方法。\n",
    "\n",
    "- 使用 If/Else。 使用 If/Else 构造，可以检查参数的值，然后确定要执行的操作。 下面是一个示例："
   ]
  },
  {
   "cell_type": "code",
   "execution_count": null,
   "metadata": {
    "dotnet_interactive": {
     "language": "pwsh"
    },
    "polyglot_notebook": {
     "kernelName": "pwsh"
    },
    "vscode": {
     "languageId": "polyglot-notebook"
    }
   },
   "outputs": [],
   "source": [
    "Param(\n",
    "   $Path\n",
    ")\n",
    "If (-Not $Path -eq '') {\n",
    "   New-Item $Path\n",
    "   Write-Host \"File created at path $Path\"\n",
    "} Else {\n",
    "   Write-Error \"Path cannot be empty\"\n",
    "}"
   ]
  },
  {
   "cell_type": "markdown",
   "metadata": {},
   "source": [
    "- 使用 Parameter[] 修饰器。 更好的方法是使用 Parameter[ ] 修饰器，它所需的键入更少："
   ]
  },
  {
   "cell_type": "code",
   "execution_count": null,
   "metadata": {
    "dotnet_interactive": {
     "language": "pwsh"
    },
    "polyglot_notebook": {
     "kernelName": "pwsh"
    },
    "vscode": {
     "languageId": "polyglot-notebook"
    }
   },
   "outputs": [],
   "source": [
    "Param(\n",
    "   [Parameter(Mandatory)]\n",
    "   $Path\n",
    ")\n",
    "New-Item $Path\n",
    "Write-Host \"File created at path $Path\""
   ]
  },
  {
   "cell_type": "markdown",
   "metadata": {},
   "source": [
    "如果运行此脚本并省略 $Path 的值，则会出现一个提示该值缺失的对话框\n",
    "\n",
    "可通过为用户提供帮助消息来改进此修饰器，用户在运行脚本时将看到该消息：\n",
    "\n",
    "``[Parameter(Mandatory, HelpMessage = \"Please provide a valid path\")]``\n",
    "\n",
    "- 分配类型。 例如，如果为参数分配类型，你可以指定该参数只接受字符串，而不接受布尔值。 这样，用户就知道了期望结果。 可以在参数前面加上类型（用括号括住），为该参数分配类型："
   ]
  },
  {
   "cell_type": "code",
   "execution_count": null,
   "metadata": {
    "dotnet_interactive": {
     "language": "pwsh"
    },
    "polyglot_notebook": {
     "kernelName": "pwsh"
    },
    "vscode": {
     "languageId": "polyglot-notebook"
    }
   },
   "outputs": [],
   "source": [
    "Param(\n",
    "   [string]$Path\n",
    ")"
   ]
  }
 ],
 "metadata": {
  "language_info": {
   "name": "csharp"
  }
 },
 "nbformat": 4,
 "nbformat_minor": 2
}
