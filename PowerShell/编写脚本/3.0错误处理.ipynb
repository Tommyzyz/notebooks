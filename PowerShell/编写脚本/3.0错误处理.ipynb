{
 "cells": [
  {
   "cell_type": "markdown",
   "metadata": {},
   "source": [
    "# 错误处理\n",
    "\n",
    "有时脚本中会出现错误。 你需要一种方法来处理这些错误。\n",
    "\n",
    "- 如何处理错误。 有时你会遇到可以从中恢复的错误，有时最好停止脚本。 因此，请务必考虑可能发生的错误种类，以及如何更好地管理它们。\n",
    "\n",
    "- 错误的严重程度。 错误消息分为各种类型。 有些更像是警告，提示用户出现了某些异常。 有些则更严重，用户需重视。 错误处理的方法取决于错误的类型。 可以呈现消息，提高严重性级别，甚至停止脚本，这些方法都会涉及到。\n",
    "\n",
    "## 错误\n",
    "运行 PowerShell 时，可以获得两种类型的错误：\n",
    "- 终止错误。 此类型的错误将在发生错误的行上停止执行。 可以使用 Try-Catch 或 [Trap](https://learn.microsoft.com/zh-cn/powershell/module/microsoft.powershell.core/about/about_trap?preserve-view=true&view=powershell-7.1) 来处理此类错误。 如果错误未处理，则脚本将在此时退出，并且不会运行任何语句。\n",
    "- 非终止错误。 此类错误会通知用户出现了错误，但脚本仍将继续。 你可以将此类错误升级到终止错误。\n",
    "\n",
    "### 使用 Try/Catch/Finally 管理错误"
   ]
  },
  {
   "cell_type": "code",
   "execution_count": null,
   "metadata": {
    "dotnet_interactive": {
     "language": "pwsh"
    },
    "polyglot_notebook": {
     "kernelName": "pwsh"
    },
    "vscode": {
     "languageId": "polyglot-notebook"
    }
   },
   "outputs": [],
   "source": []
  }
 ],
 "metadata": {
  "language_info": {
   "name": "csharp"
  }
 },
 "nbformat": 4,
 "nbformat_minor": 2
}
