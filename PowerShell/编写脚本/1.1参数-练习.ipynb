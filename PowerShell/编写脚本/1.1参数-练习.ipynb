{
 "cells": [
  {
   "cell_type": "code",
   "execution_count": null,
   "metadata": {
    "dotnet_interactive": {
     "language": "pwsh"
    },
    "polyglot_notebook": {
     "kernelName": "pwsh"
    },
    "vscode": {
     "languageId": "polyglot-notebook"
    }
   },
   "outputs": [],
   "source": [
    "$date = Get-Date -format \"yyyy-MM-dd\"\n",
    "Compress-Archive -Path './app' -CompressionLevel 'Fastest' -DestinationPath \"./backup-$date\"\n",
    "Write-Host \"Created backup at $('./backup-' + $date + '.zip')\""
   ]
  },
  {
   "cell_type": "markdown",
   "metadata": {},
   "source": [
    "该脚本调用 Compress-Archive 并使用以下这三个参数：\n",
    "\n",
    "- Path，这是要压缩的文件的目录。\n",
    "- CompressionLevel，用于指定文件的压缩量。\n",
    "- DestinationPath，这是所生成的压缩文件的路径。\n",
    "\n",
    "# 将参数添加到脚本\n",
    "如果将参数添加到脚本中，用户可以在运行脚本时提供值。 你将向备份脚本添加参数，以启用源文件和生成的 zip 文件的位置配置。"
   ]
  },
  {
   "cell_type": "code",
   "execution_count": null,
   "metadata": {
    "dotnet_interactive": {
     "language": "pwsh"
    },
    "polyglot_notebook": {
     "kernelName": "pwsh"
    },
    "vscode": {
     "languageId": "polyglot-notebook"
    }
   },
   "outputs": [],
   "source": [
    "Param(\n",
    "  [string]$Path = './app',\n",
    "  [string]$DestinationPath = './'\n",
    ")\n",
    "$date = Get-Date -format \"yyyy-MM-dd\"\n",
    "Compress-Archive -Path $Path -CompressionLevel 'Fastest' -DestinationPath \"$($DestinationPath + 'backup-' + $date)\"\n",
    "Write-Host \"Created backup at $($DestinationPath + 'backup-' + $date + '.zip')\""
   ]
  },
  {
   "cell_type": "markdown",
   "metadata": {},
   "source": [
    "脚本将通知你找不到“./app”目录。 现在可以向 $Path 参数提供值，看看将参数添加到脚本中的好处。"
   ]
  }
 ],
 "metadata": {
  "language_info": {
   "name": "csharp"
  }
 },
 "nbformat": 4,
 "nbformat_minor": 2
}
