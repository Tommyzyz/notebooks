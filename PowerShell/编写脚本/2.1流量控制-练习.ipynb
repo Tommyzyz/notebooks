{
 "cells": [
  {
   "cell_type": "code",
   "execution_count": null,
   "metadata": {
    "dotnet_interactive": {
     "language": "pwsh"
    },
    "polyglot_notebook": {
     "kernelName": "pwsh"
    },
    "vscode": {
     "languageId": "polyglot-notebook"
    }
   },
   "outputs": [],
   "source": [
    "Param(\n",
    "  [string]$Path = './app',\n",
    "  [string]$DestinationPath = './'\n",
    ")\n",
    "$date = Get-Date -format \"yyyy-MM-dd\"\n",
    "Compress-Archive -Path $Path -CompressionLevel 'Fastest' -DestinationPath \"$($DestinationPath + 'backup-' + $date)\"\n",
    "Write-Host \"Created backup at $($DestinationPath + 'backup-' + $date + '.zip')\""
   ]
  },
  {
   "cell_type": "markdown",
   "metadata": {},
   "source": [
    "# 向脚本参数添加检查\n",
    "如你所知，如果 $Path 指向不存在的目录，该脚本将停止响应。\n",
    "\n",
    "通过在 Param 部分之后添加以下代码，添加对 $Path 参数的检查，然后保存文件："
   ]
  },
  {
   "cell_type": "code",
   "execution_count": null,
   "metadata": {
    "dotnet_interactive": {
     "language": "pwsh"
    },
    "polyglot_notebook": {
     "kernelName": "pwsh"
    },
    "vscode": {
     "languageId": "polyglot-notebook"
    }
   },
   "outputs": [],
   "source": [
    "If (-Not (Test-Path $Path)) \n",
    "{\n",
    "  Throw \"The source directory $Path does not exist, please specify an existing directory\"\n",
    "}\n",
    "# 你添加了一个测试，用于检查 $Path 是否存在。 如果不存在，则停止该脚本。 你还将向用户说明出了什么问题，以便他们可以解决问题。"
   ]
  },
  {
   "cell_type": "markdown",
   "metadata": {},
   "source": [
    "如果再次运行该脚本，它将停止响应。 它会通知你 zip 文件已经存在。 让我们来解决这个问题。 我们将添加代码以确保仅当当天没有其他备份 zip 文件存在时才创建备份。\n",
    "\n",
    "用以下代码替换文件中的代码，然后保存文件："
   ]
  },
  {
   "cell_type": "code",
   "execution_count": null,
   "metadata": {
    "dotnet_interactive": {
     "language": "pwsh"
    },
    "polyglot_notebook": {
     "kernelName": "pwsh"
    },
    "vscode": {
     "languageId": "polyglot-notebook"
    }
   },
   "outputs": [],
   "source": [
    "# 在此进行了两个操作。 首先，创建了一个新变量 $DestinationFile。 使用此变量可以轻松检查路径是否已存在。 其次，添加了表示“仅当文件不存在时创建 zip 文件”的逻辑。\n",
    "Param(\n",
    "  [string]$Path = './app',\n",
    "  [string]$DestinationPath = './'\n",
    ")\n",
    "If (-Not (Test-Path $Path)) \n",
    "{\n",
    "  Throw \"The source directory $Path does not exist, please specify an existing directory\"\n",
    "}\n",
    "$date = Get-Date -format \"yyyy-MM-dd\"\n",
    "$DestinationFile = \"$($DestinationPath + 'backup-' + $date + '.zip')\"\n",
    "If (-Not (Test-Path $DestinationFile)) \n",
    "{\n",
    "  Compress-Archive -Path $Path -CompressionLevel 'Fastest' -DestinationPath \"$($DestinationPath + 'backup-' + $date)\"\n",
    "  Write-Host \"Created backup at $($DestinationPath + 'backup-' + $date + '.zip')\"\n",
    "} Else {\n",
    "  Write-Error \"Today's backup already exists\"\n",
    "}\n"
   ]
  }
 ],
 "metadata": {
  "language_info": {
   "name": "csharp"
  }
 },
 "nbformat": 4,
 "nbformat_minor": 2
}
