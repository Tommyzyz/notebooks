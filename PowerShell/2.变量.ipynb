{
 "cells": [
  {
   "cell_type": "markdown",
   "metadata": {},
   "source": [
    "# 变量  \n",
    "PowerShell 变量是命名对象。 由于 PowerShell 处理对象，因此这些变量也用于处理对象。  \n",
    "变量名称应以 $ 开头，并且名称中可以包含字母数字字符和下划线。 可以通过键入有效的变量名称来创建变量。"
   ]
  },
  {
   "cell_type": "code",
   "execution_count": 1,
   "metadata": {
    "dotnet_interactive": {
     "language": "pwsh"
    },
    "polyglot_notebook": {
     "kernelName": "pwsh"
    },
    "vscode": {
     "languageId": "polyglot-notebook"
    }
   },
   "outputs": [],
   "source": [
    "# 这里我们创建了一个变量 $location 并将 Get-Location cmdlet 的输出分配给它。 它现在包含当前位置。\n",
    "$location = Get-Location"
   ]
  },
  {
   "cell_type": "code",
   "execution_count": 2,
   "metadata": {
    "dotnet_interactive": {
     "language": "pwsh"
    },
    "polyglot_notebook": {
     "kernelName": "pwsh"
    },
    "vscode": {
     "languageId": "polyglot-notebook"
    }
   },
   "outputs": [
    {
     "name": "stdout",
     "output_type": "stream",
     "text": [
      "\n",
      "   TypeName: System.Management.Automation.PathInfo\n",
      "\n",
      "\u001b[32;1mName        \u001b[0m\u001b[32;1m MemberType\u001b[0m\u001b[32;1m Definition\u001b[0m\n",
      "\u001b[32;1m----        \u001b[0m \u001b[32;1m----------\u001b[0m \u001b[32;1m----------\u001b[0m\n",
      "Equals       Method     bool Equals(System.Object obj)\n",
      "GetHashCode  Method     int GetHashCode()\n",
      "GetType      Method     type GetType()\n",
      "ToString     Method     string ToString()\n",
      "Drive        Property   System.Management.Automation.PSDriveInfo Drive {get;}\n",
      "Path         Property   string Path {get;}\n",
      "Provider     Property   System.Management.Automation.ProviderInfo Provider {get;}\n",
      "ProviderPath Property   string ProviderPath {get;}\n",
      "\n"
     ]
    }
   ],
   "source": [
    "# Get-Member cmdlet 可以告诉正在使用的变量的类型。\n",
    "$location | Get-Member"
   ]
  },
  {
   "cell_type": "markdown",
   "metadata": {},
   "source": [
    "# 特殊变量\n",
    "PowerShell 特殊变量存储有关 PowerShell 的信息。 这些也称为自动变量。\n",
    "\n",
    "| 运算符| \t描述  |\n",
    "| ----------- | ----------- |\n",
    "| $$\t| 表示会话收到的最后一行中的最后一个令牌。 |\n",
    "| $?\t| 表示上次操作的执行状态。 如果最后一次操作成功则包含 TRUE，如果失败则包含 FALSE。 |\n",
    "| $^\t| 表示会话收到的最后一行中的第一个令牌。 |\n",
    "| $_\t| 与 $PSItem 相同。 包含管道对象中的当前对象。 您可以在对管道中的每个对象或选定对象执行操作的命令中使用此变量。 |\n",
    "| $ARGS\t| 表示传递给函数、脚本或脚本块的未声明参数和/或参数值的数组。 |\n",
    "| $CONSOLEFILENAME\t| 表示会话中最近使用的控制台文件 (.psc1) 的路径。 |\n",
    "| $ERROR\t| 表示一个错误对象数组，这些对象代表最近的错误。 |\n",
    "| $EVENT\t| 表示 PSEventArgs 对象，该对象表示正在处理的事件。 |\n",
    "| $EVENTARGS\t| 表示一个对象，该对象表示从正在处理的事件的 EventArgs 派生的第一个事件参数。 |\n",
    "| $EVENTSUBSCRIBER\t| 表示一个 PSEventSubscriber 对象，该对象表示正在处理的事件的事件订阅者。 |\n",
    "| $EXECUTIONCONTEXT\t| 表示 EngineIntrinsics 对象，该对象表示 PowerShell 主机的执行上下文。 |\n",
    "| $FALSE\t| 代表FALSE。 您可以在命令和脚本中使用此变量来表示 FALSE，而不是使用字符串\"false\"。 |\n",
    "| $FOREACH\t| 表示 ForEach 循环的枚举数（不是结果值）。 您可以对 $ForEach 变量的值使用枚举器的属性和方法。 |\n",
    "| $HOME\t| 表示用户主目录的完整路径。 |\n",
    "| $HOST\t| 代表一个对象，该对象代表 PowerShell 的当前主机应用程序。 |\n",
    "| $INPUT\t| 表示一个枚举器，用于枚举传递给函数的所有输入。 |\n",
    "| $LASTEXITCODE\t| 表示最后运行的基于 Windows 的程序的退出代码。 |\n",
    "| $MATCHES\t| $Matches 变量与 -match 和 -notmatch 运算符一起使用。 |\n",
    "| $MYINVOCATION\t$MyInspiration | 仅针对脚本、函数和脚本块填充。 $MyInspiration 自动变量的 PSScriptRoot 和 PSCommandPath 属性包含有关调用者或调用脚本的信息，而不是当前脚本的信息。 |\n",
    "| $NESTEDPROMPTLEVEL\t| 代表当前提示级别。 |\n",
    "| $NULL\t$null | 是包含 NULL 或空值的自动变量。 您可以使用此变量来表示命令和脚本中不存在或未定义的值。 |\n",
    "| $PID\t| 表示托管当前 PowerShell 会话的进程的进程标识符 (PID)。 |\n",
    "| $PROFILE\t| 表示当前用户和当前主机应用程序的 PowerShell 配置文件的完整路径。 |\n",
    "| $PSCMDLET\t| 代表一个对象，该对象代表正在运行的 cmdlet 或高级函数。 |\n",
    "| $PSCOMMANDPATH\t| 表示正在运行的脚本的完整路径和文件名。 |\n",
    "| $PSCULTURE\t| 表示操作系统中当前使用的区域性名称。 |\n",
    "| $PSDEBUGCONTEXT\t| 调试时，该变量包含有关调试环境的信息。 否则，它包含 NULL 值。 |\n",
    "| $PSHOME\t| 表示 PowerShell 安装目录的完整路径。 |\n",
    "| $PSITEM\t| 与$_相同。 包含管道对象中的当前对象。 |\n",
    "| $PSSCRIPTROOT\t| 表示正在运行脚本的目录。 |\n",
    "| $PSSENDERINFO\t| 表示有关启动 PSSession 的用户的信息，包括用户身份和发起计算机的时区。 |\n",
    "| $PSUICULTURE\t| 表示操作系统中当前使用的用户界面 (UI) 区域性的名称。 |\n",
    "| $PSVERSIONTABLE\t| 表示一个只读哈希表，显示有关当前会话中运行的 PowerShell 版本的详细信息。 |\n",
    "| $SENDER\t| 表示生成此事件的对象。 |\n",
    "| $SHELLID\t| 表示当前shell的标识符。 |\n",
    "| $STACKTRACE\t| 表示最近错误的堆栈跟踪。 |\n",
    "| $THIS\t| 在定义脚本属性或脚本方法的脚本块中，$This 变量引用正在扩展的对象。 |\n",
    "| $TRUE\t| 代表 TRUE。 您可以使用此变量在命令和脚本中表示 TRUE。 |"
   ]
  }
 ],
 "metadata": {
  "kernelspec": {
   "display_name": ".NET (C#)",
   "language": "C#",
   "name": ".net-csharp"
  },
  "language_info": {
   "name": "csharp"
  },
  "polyglot_notebook": {
   "kernelInfo": {
    "defaultKernelName": "csharp",
    "items": [
     {
      "aliases": [],
      "name": "csharp"
     }
    ]
   }
  }
 },
 "nbformat": 4,
 "nbformat_minor": 2
}
