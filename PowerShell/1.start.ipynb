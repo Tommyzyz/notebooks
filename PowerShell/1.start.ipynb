{
 "cells": [
  {
   "cell_type": "code",
   "execution_count": 2,
   "metadata": {
    "dotnet_interactive": {
     "language": "pwsh"
    },
    "polyglot_notebook": {
     "kernelName": "pwsh"
    },
    "vscode": {
     "languageId": "polyglot-notebook"
    }
   },
   "outputs": [
    {
     "name": "stdout",
     "output_type": "stream",
     "text": [
      "\n",
      "\u001b[32;1mName                          \u001b[0m\u001b[32;1m Value\u001b[0m\n",
      "\u001b[32;1m----                          \u001b[0m \u001b[32;1m-----\u001b[0m\n",
      "PSVersion                      7.4.1\n",
      "PSEdition                      Core\n",
      "GitCommitId                    7.4.1\n",
      "OS                             Microsoft Windows 10.0.22631\n",
      "Platform                       Win32NT\n",
      "PSCompatibleVersions           {1.0, 2.0, 3.0, 4.0…}\n",
      "PSRemotingProtocolVersion      2.3\n",
      "SerializationVersion           1.1.0.1\n",
      "WSManStackVersion              3.0\n",
      "\n"
     ]
    }
   ],
   "source": [
    "$PSVersionTable"
   ]
  },
  {
   "cell_type": "code",
   "execution_count": 4,
   "metadata": {
    "dotnet_interactive": {
     "language": "pwsh"
    },
    "polyglot_notebook": {
     "kernelName": "pwsh"
    },
    "vscode": {
     "languageId": "polyglot-notebook"
    }
   },
   "outputs": [
    {
     "name": "stdout",
     "output_type": "stream",
     "text": [
      "\u001b[31;1mNew-Item: \u001b[0m\n",
      "\u001b[31;1m\u001b[36;1mLine |\u001b[0m\n",
      "\u001b[31;1m\u001b[36;1m\u001b[36;1m   2 | \u001b[0m \u001b[36;1mNew-Item -Path 'D:\\temp\\Test Folder' -ItemType Directory\u001b[0m\n",
      "\u001b[31;1m\u001b[36;1m\u001b[36;1m\u001b[0m\u001b[36;1m\u001b[0m\u001b[36;1m     | \u001b[31;1m ~~~~~~~~~~~~~~~~~~~~~~~~~~~~~~~~~~~~~~~~~~~~~~~~~~~~~~~~\u001b[0m\n",
      "\u001b[31;1m\u001b[36;1m\u001b[36;1m\u001b[0m\u001b[36;1m\u001b[0m\u001b[36;1m\u001b[31;1m\u001b[31;1m\u001b[36;1m     | \u001b[31;1mAn item with the specified name D:\\temp\\Test Folder already exists.\u001b[0m\n",
      "\n",
      "    Directory: D:\\temp\\Test Folder\n",
      "\n",
      "\u001b[32;1mMode   \u001b[0m\u001b[32;1m              LastWriteTime\u001b[0m\u001b[32;1m         Length\u001b[0m\u001b[32;1m Name\u001b[0m\n",
      "\u001b[32;1m----   \u001b[0m \u001b[32;1m             -------------\u001b[0m \u001b[32;1m        ------\u001b[0m \u001b[32;1m----\u001b[0m\n",
      "-a---            2024/3/9    14:49              0 TestFile.txt\n",
      "\n"
     ]
    },
    {
     "ename": "Error",
     "evalue": "Command failed: SubmitCode: # New-Item cmdlet 用于通过使用 -Path 作为目录路径和 -ItemType 作 ...",
     "output_type": "error",
     "traceback": [
      "Command failed: SubmitCode: # New-Item cmdlet 用于通过使用 -Path 作为目录路径和 -ItemType 作 ..."
     ]
    }
   ],
   "source": [
    "# New-Item cmdlet 用于通过使用 -Path 作为目录路径和 -ItemType 作为目录传递路径来创建目录。\n",
    "New-Item -Path 'D:\\temp\\Test Folder' -ItemType Directory\n",
    "\n",
    "# New-Item cmdlet 用于通过使用 -Path 作为文件路径和 -ItemType 作为文件传递路径来创建文件。\n",
    "New-Item -Path 'D:\\temp\\Test Folder\\TestFile.txt' -ItemType File"
   ]
  },
  {
   "cell_type": "code",
   "execution_count": 6,
   "metadata": {
    "dotnet_interactive": {
     "language": "pwsh"
    },
    "polyglot_notebook": {
     "kernelName": "pwsh"
    },
    "vscode": {
     "languageId": "polyglot-notebook"
    }
   },
   "outputs": [],
   "source": [
    "# Copy-Item cmdlet 用于通过传递要复制的目录的路径和要复制的文件夹的目标路径来复制目录。我们将文件夹 D:\\Temp\\Test Folder 复制为 D:\\Temp\\Test Folder1\n",
    "Copy-Item 'D:\\temp\\Test Folder' 'D:\\temp\\Test Folder1'"
   ]
  },
  {
   "cell_type": "code",
   "execution_count": 7,
   "metadata": {
    "dotnet_interactive": {
     "language": "pwsh"
    },
    "polyglot_notebook": {
     "kernelName": "pwsh"
    },
    "vscode": {
     "languageId": "polyglot-notebook"
    }
   },
   "outputs": [
    {
     "name": "stdout",
     "output_type": "stream",
     "text": [
      "\n",
      "\u001b[95mConfirm\u001b[0m\n",
      "The item at D:\\temp\\Test Folder1 has children and the Recurse parameter was not specified. If you continue, all children will be removed with the item. Are you sure you want to continue?\n",
      "[Y] Yes  [A] Yes to All  [N] No  [L] No to All  [S] Suspend  [?] Help(default is 'Y')"
     ]
    }
   ],
   "source": [
    "# Remove-Item cmdlet 用于通过传递要删除的目录的路径来删除目录。\n",
    "Remove-Item 'D:\\temp\\Test Folder1'"
   ]
  },
  {
   "cell_type": "code",
   "execution_count": 8,
   "metadata": {
    "dotnet_interactive": {
     "language": "pwsh"
    },
    "polyglot_notebook": {
     "kernelName": "pwsh"
    },
    "vscode": {
     "languageId": "polyglot-notebook"
    }
   },
   "outputs": [
    {
     "name": "stdout",
     "output_type": "stream",
     "text": [
      "\n",
      "2024年3月9日 15:07:22\n",
      "\n"
     ]
    }
   ],
   "source": [
    "#Get-Date 来获取当前日期\n",
    "Get-Date"
   ]
  },
  {
   "cell_type": "code",
   "execution_count": 9,
   "metadata": {
    "dotnet_interactive": {
     "language": "pwsh"
    },
    "polyglot_notebook": {
     "kernelName": "pwsh"
    },
    "vscode": {
     "languageId": "polyglot-notebook"
    }
   },
   "outputs": [
    {
     "name": "stdout",
     "output_type": "stream",
     "text": [
      "\n",
      "\u001b[32;1mLCID            \u001b[0m\u001b[32;1m Name            \u001b[0m\u001b[32;1m DisplayName\u001b[0m\n",
      "\u001b[32;1m----            \u001b[0m \u001b[32;1m----            \u001b[0m \u001b[32;1m-----------\u001b[0m\n",
      "2052             zh-CN            中文（中国）\n",
      "\n"
     ]
    }
   ],
   "source": [
    "# Get-Culture cmdlet 用于获取 Windows 中当前的区域性设置。\n",
    "Get-Culture"
   ]
  },
  {
   "cell_type": "code",
   "execution_count": 11,
   "metadata": {
    "dotnet_interactive": {
     "language": "pwsh"
    },
    "polyglot_notebook": {
     "kernelName": "pwsh"
    },
    "vscode": {
     "languageId": "polyglot-notebook"
    }
   },
   "outputs": [
    {
     "name": "stdout",
     "output_type": "stream",
     "text": [
      "\n",
      "    Directory: D:\\temp\n",
      "\n",
      "\u001b[32;1mMode   \u001b[0m\u001b[32;1m              LastWriteTime\u001b[0m \u001b[32;1;3m        Length\u001b[0m\u001b[32;1m Name\u001b[0m\n",
      "\u001b[32;1m----   \u001b[0m \u001b[32;1m             -------------\u001b[0m \u001b[32;1m        ------\u001b[0m \u001b[32;1m----\u001b[0m\n",
      "d----            2024/3/9    14:49                \u001b[44;1mTest Folder\u001b[0m\n",
      "\n"
     ]
    }
   ],
   "source": [
    "# Get-ChildItem cmdlet 可用于获取一个或多个特定位置中的项目或子项目。\n",
    "Get-ChildItem D:\\temp\\"
   ]
  },
  {
   "cell_type": "code",
   "execution_count": 2,
   "metadata": {
    "dotnet_interactive": {
     "language": "pwsh"
    },
    "polyglot_notebook": {
     "kernelName": "pwsh"
    },
    "vscode": {
     "languageId": "polyglot-notebook"
    }
   },
   "outputs": [
    {
     "name": "stdout",
     "output_type": "stream",
     "text": [
      "\n",
      "\u001b[32;1mCommandType    \u001b[0m\u001b[32;1m Name                                              \u001b[0m\u001b[32;1m Version   \u001b[0m\u001b[32;1m Source\u001b[0m\n",
      "\u001b[32;1m-----------    \u001b[0m \u001b[32;1m----                                              \u001b[0m \u001b[32;1m-------   \u001b[0m \u001b[32;1m------\u001b[0m\n",
      "Alias           ? -> Where-Object                                             \n",
      "Alias           % -> ForEach-Object                                           \n",
      "Alias           ac -> Add-Content                                             \n",
      "Alias           cat -> Get-Content                                            \n",
      "Alias           cd -> Set-Location                                            \n",
      "Alias           chdir -> Set-Location                                         \n",
      "Alias           clc -> Clear-Content                                          \n",
      "Alias           clear -> Clear-Host                                           \n",
      "Alias           clhy -> Clear-History                                         \n",
      "Alias           cli -> Clear-Item                                             \n",
      "Alias           clp -> Clear-ItemProperty                                     \n",
      "Alias           cls -> Clear-Host                                             \n",
      "Alias           clv -> Clear-Variable                                         \n",
      "Alias           cnsn -> Connect-PSSession                                     \n",
      "Alias           compare -> Compare-Object                                     \n",
      "Alias           copy -> Copy-Item                                             \n",
      "Alias           cp -> Copy-Item                                               \n",
      "Alias           cpi -> Copy-Item                                              \n",
      "Alias           cpp -> Copy-ItemProperty                                      \n",
      "Alias           cvpa -> Convert-Path                                          \n",
      "Alias           dbp -> Disable-PSBreakpoint                                   \n",
      "Alias           del -> Remove-Item                                            \n",
      "Alias           diff -> Compare-Object                                        \n",
      "Alias           dir -> Get-ChildItem                                          \n",
      "Alias           dnsn -> Disconnect-PSSession                                  \n",
      "Alias           ebp -> Enable-PSBreakpoint                                    \n",
      "Alias           echo -> Write-Output                                          \n",
      "Alias           epal -> Export-Alias                                          \n",
      "Alias           epcsv -> Export-Csv                                           \n",
      "Alias           erase -> Remove-Item                                          \n",
      "Alias           etsn -> Enter-PSSession                                       \n",
      "Alias           exsn -> Exit-PSSession                                        \n",
      "Alias           fc -> Format-Custom                                           \n",
      "Alias           fhx -> Format-Hex                                  7.0.0.0    Microsoft.PowerShell…\n",
      "Alias           fl -> Format-List                                             \n",
      "Alias           foreach -> ForEach-Object                                     \n",
      "Alias           ft -> Format-Table                                            \n",
      "Alias           fw -> Format-Wide                                             \n",
      "Alias           gal -> Get-Alias                                              \n",
      "Alias           gbp -> Get-PSBreakpoint                                       \n",
      "Alias           gc -> Get-Content                                             \n",
      "Alias           gci -> Get-ChildItem                                          \n",
      "Alias           gcm -> Get-Command                                            \n",
      "Alias           gcs -> Get-PSCallStack                                        \n",
      "Alias           gdr -> Get-PSDrive                                            \n",
      "Alias           gerr -> Get-Error                                             \n",
      "Alias           ghy -> Get-History                                            \n",
      "Alias           gi -> Get-Item                                                \n",
      "Alias           gjb -> Get-Job                                                \n",
      "Alias           gl -> Get-Location                                            \n",
      "Alias           gm -> Get-Member                                              \n",
      "Alias           gmo -> Get-Module                                             \n",
      "Alias           gp -> Get-ItemProperty                                        \n",
      "Alias           gps -> Get-Process                                            \n",
      "Alias           gpv -> Get-ItemPropertyValue                                  \n",
      "Alias           group -> Group-Object                                         \n",
      "Alias           gsn -> Get-PSSession                                          \n",
      "Alias           gsv -> Get-Service                                            \n",
      "Alias           gu -> Get-Unique                                              \n",
      "Alias           gv -> Get-Variable                                            \n",
      "Alias           h -> Get-History                                              \n",
      "Alias           history -> Get-History                                        \n",
      "Alias           icm -> Invoke-Command                                         \n",
      "Alias           iex -> Invoke-Expression                                      \n",
      "Alias           ihy -> Invoke-History                                         \n",
      "Alias           ii -> Invoke-Item                                             \n",
      "Alias           ipal -> Import-Alias                                          \n",
      "Alias           ipcsv -> Import-Csv                                           \n",
      "Alias           ipmo -> Import-Module                                         \n",
      "Alias           irm -> Invoke-RestMethod                                      \n",
      "Alias           iwr -> Invoke-WebRequest                                      \n",
      "Alias           kill -> Stop-Process                                          \n",
      "Alias           ls -> Get-ChildItem                                           \n",
      "Alias           man -> help                                                   \n",
      "Alias           md -> mkdir                                                   \n",
      "Alias           measure -> Measure-Object                                     \n",
      "Alias           mi -> Move-Item                                               \n",
      "Alias           mount -> New-PSDrive                                          \n",
      "Alias           move -> Move-Item                                             \n",
      "Alias           mp -> Move-ItemProperty                                       \n",
      "Alias           mv -> Move-Item                                               \n",
      "Alias           nal -> New-Alias                                              \n",
      "Alias           ndr -> New-PSDrive                                            \n",
      "Alias           ni -> New-Item                                                \n",
      "Alias           nmo -> New-Module                                             \n",
      "Alias           nsn -> New-PSSession                                          \n",
      "Alias           nv -> New-Variable                                            \n",
      "Alias           ogv -> Out-GridView                                           \n",
      "Alias           oh -> Out-Host                                                \n",
      "Alias           popd -> Pop-Location                                          \n",
      "Alias           ps -> Get-Process                                             \n",
      "Alias           pushd -> Push-Location                                        \n",
      "Alias           pwd -> Get-Location                                           \n",
      "Alias           r -> Invoke-History                                           \n",
      "Alias           rbp -> Remove-PSBreakpoint                                    \n",
      "Alias           rcjb -> Receive-Job                                           \n",
      "Alias           rcsn -> Receive-PSSession                                     \n",
      "Alias           rd -> Remove-Item                                             \n",
      "Alias           rdr -> Remove-PSDrive                                         \n",
      "Alias           ren -> Rename-Item                                            \n",
      "Alias           ri -> Remove-Item                                             \n",
      "Alias           rjb -> Remove-Job                                             \n",
      "Alias           rm -> Remove-Item                                             \n",
      "Alias           rmdir -> Remove-Item                                          \n",
      "Alias           rmo -> Remove-Module                                          \n",
      "Alias           rni -> Rename-Item                                            \n",
      "Alias           rnp -> Rename-ItemProperty                                    \n",
      "Alias           rp -> Remove-ItemProperty                                     \n",
      "Alias           rsn -> Remove-PSSession                                       \n",
      "Alias           rv -> Remove-Variable                                         \n",
      "Alias           rvpa -> Resolve-Path                                          \n",
      "Alias           sajb -> Start-Job                                             \n",
      "Alias           sal -> Set-Alias                                              \n",
      "Alias           saps -> Start-Process                                         \n",
      "Alias           sasv -> Start-Service                                         \n",
      "Alias           sbp -> Set-PSBreakpoint                                       \n",
      "Alias           select -> Select-Object                                       \n",
      "Alias           set -> Set-Variable                                           \n",
      "Alias           shcm -> Show-Command                                          \n",
      "Alias           si -> Set-Item                                                \n",
      "Alias           sl -> Set-Location                                            \n",
      "Alias           sleep -> Start-Sleep                                          \n",
      "Alias           sls -> Select-String                                          \n",
      "Alias           sort -> Sort-Object                                           \n",
      "Alias           sp -> Set-ItemProperty                                        \n",
      "Alias           spjb -> Stop-Job                                              \n",
      "Alias           spps -> Stop-Process                                          \n",
      "Alias           spsv -> Stop-Service                                          \n",
      "Alias           start -> Start-Process                                        \n",
      "Alias           sv -> Set-Variable                                            \n",
      "Alias           tee -> Tee-Object                                             \n",
      "Alias           type -> Get-Content                                           \n",
      "Alias           where -> Where-Object                                         \n",
      "Alias           wjb -> Wait-Job                                               \n",
      "Alias           write -> Write-Output                                         \n",
      "\n"
     ]
    }
   ],
   "source": [
    "# 帮助命令 gal get-alias help\n",
    "gal\n"
   ]
  },
  {
   "cell_type": "code",
   "execution_count": 4,
   "metadata": {
    "dotnet_interactive": {
     "language": "pwsh"
    },
    "polyglot_notebook": {
     "kernelName": "pwsh"
    },
    "vscode": {
     "languageId": "polyglot-notebook"
    }
   },
   "outputs": [
    {
     "data": {
      "text/plain": []
     },
     "metadata": {},
     "output_type": "display_data"
    },
    {
     "name": "stdout",
     "output_type": "stream",
     "text": [
      "\u001b[31;1mUpdate-Help: \u001b[0m\n",
      "\u001b[31;1m\u001b[36;1mLine |\u001b[0m\n",
      "\u001b[31;1m\u001b[36;1m\u001b[36;1m   2 | \u001b[0m \u001b[36;1mUpdate-Help\u001b[0m\n",
      "\u001b[31;1m\u001b[36;1m\u001b[36;1m\u001b[0m\u001b[36;1m\u001b[0m\u001b[36;1m     | \u001b[31;1m ~~~~~~~~~~~\u001b[0m\n",
      "\u001b[31;1m\u001b[36;1m\u001b[36;1m\u001b[0m\u001b[36;1m\u001b[0m\u001b[36;1m\u001b[31;1m\u001b[31;1m\u001b[36;1m     | \u001b[31;1mFailed to update Help for the module(s) 'AppBackgroundTask, AssignedAccess, BitLocker, BitsTransfer, BranchCache, CimCmdlets, DefenderPerformance, DirectAccessClientComponents, DnsClient, EventTracingManagement, HgsClient, HgsDiagnostics, Hyper-V, International, LanguagePackManagement, LAPS, Microsoft.PowerShell.Archive, Microsoft.PowerShell.Core, Microsoft.PowerShell.Diagnostics, Microsoft.PowerShell.Host, Microsoft.PowerShell.LocalAccounts, Microsoft.PowerShell.Management, Microsoft.PowerShell.Operation.Validation, Microsoft.PowerShell.Security, Microsoft.PowerShell.Utility, Microsoft.WSMan.Management, MMAgent, NetAdapter, NetConnection, NetEventPacketCapture, NetLbfo, NetNat, NetSecurity, NetSwitchTeam, NetTCPIP, NetworkConnectivityStatus, NetworkSwitchManager, NetworkTransition, PackageManagement, PcsvDevice, PnpDevice, PowerShellGet, PrintManagement, ProcessMitigations, Provisioning, PSDiagnostics, PSReadLine, ScheduledTasks, SecureBoot, SmbShare, SmbWitness, StartLayout, Storage, ThreadJob, TLS, TroubleshootingPack, TrustedPlatformModule, UEV, VpnClient, Wdac, WindowsDeveloperLicense, WindowsErrorReporting, WindowsSearch' with UI culture(s) {zh-CN} : No UI culture was found that matches the following pattern: zh-CN. Verify the pattern and then try the command again..\u001b[0m\n",
      "\u001b[31;1m\u001b[36;1m\u001b[36;1m\u001b[0m\u001b[36;1m\u001b[0m\u001b[36;1m\u001b[31;1m\u001b[31;1m\u001b[36;1m\u001b[31;1mEnglish-US help content is available and can be installed using: Update-Help -UICulture en-US.\u001b[0m\n",
      "\u001b[31;1mUpdate-Help: \u001b[0m\n",
      "\u001b[31;1m\u001b[36;1mLine |\u001b[0m\n",
      "\u001b[31;1m\u001b[36;1m\u001b[36;1m   2 | \u001b[0m \u001b[36;1mUpdate-Help\u001b[0m\n",
      "\u001b[31;1m\u001b[36;1m\u001b[36;1m\u001b[0m\u001b[36;1m\u001b[0m\u001b[36;1m     | \u001b[31;1m ~~~~~~~~~~~\u001b[0m\n",
      "\u001b[31;1m\u001b[36;1m\u001b[36;1m\u001b[0m\u001b[36;1m\u001b[0m\u001b[36;1m\u001b[31;1m\u001b[31;1m\u001b[36;1m     | \u001b[31;1mFailed to update Help for the module(s) 'ConfigDefenderPerformance, Dism, Get-NetView, Kds, NetQos, Pester, PKI, Whea, WindowsUpdate' with UI culture(s) {zh-CN} : One or more errors occurred. (Response status code does not indicate success: 404 (The specified blob does not exist.).).\u001b[0m\n",
      "\u001b[31;1m\u001b[36;1m\u001b[36;1m\u001b[0m\u001b[36;1m\u001b[0m\u001b[36;1m\u001b[31;1m\u001b[31;1m\u001b[36;1m\u001b[31;1mEnglish-US help content is available and can be installed using: Update-Help -UICulture en-US.\u001b[0m\n"
     ]
    },
    {
     "ename": "Error",
     "evalue": "Command failed: SubmitCode: # 更新帮助文档 ...",
     "output_type": "error",
     "traceback": [
      "Command failed: SubmitCode: # 更新帮助文档 ..."
     ]
    }
   ],
   "source": [
    "# 更新帮助文档\n",
    "Update-Help"
   ]
  },
  {
   "cell_type": "code",
   "execution_count": 7,
   "metadata": {
    "dotnet_interactive": {
     "language": "pwsh"
    },
    "polyglot_notebook": {
     "kernelName": "pwsh"
    },
    "vscode": {
     "languageId": "polyglot-notebook"
    }
   },
   "outputs": [
    {
     "name": "stdout",
     "output_type": "stream",
     "text": [
      "\n",
      "NAME\n",
      "    Get-Service\n",
      "    \n",
      "SYNTAX\n",
      "    Get-Service [[-Name] <string[]>] [-DependentServices] [-RequiredServices] [-Include <string[]>]\n",
      "     [-Exclude <string[]>] [<CommonParameters>]\n",
      "    \n",
      "    Get-Service -DisplayName <string[]> [-DependentServices] [-RequiredServices] [-Include <string[\n",
      "    ]>] [-Exclude <string[]>] [<CommonParameters>]\n",
      "    \n",
      "    Get-Service [-DependentServices] [-RequiredServices] [-Include <string[]>] [-Exclude <string[]>\n",
      "    ] [-InputObject <ServiceController[]>] [<CommonParameters>]\n",
      "    \n",
      "    \n",
      "PARAMETERS\n",
      "    -DependentServices\n",
      "    \n",
      "    -DisplayName <string[]>\n",
      "    \n",
      "    -Exclude <string[]>\n",
      "    \n",
      "    -Include <string[]>\n",
      "    \n",
      "    -InputObject <ServiceController[]>\n",
      "    \n",
      "    -Name <string[]>\n",
      "    \n",
      "    -RequiredServices\n",
      "    \n",
      "    <CommonParameters>\n",
      "        This cmdlet supports the common parameters: Verbose, Debug,\n",
      "        ErrorAction, ErrorVariable, WarningAction, WarningVariable,\n",
      "        OutBuffer, PipelineVariable, and OutVariable. For more information, see\n",
      "        about_CommonParameters (https://go.microsoft.com/fwlink/?LinkID=113216). \n",
      "    \n",
      "\n",
      "ALIASES\n",
      "    gsv\n",
      "    \n",
      "\n",
      "REMARKS\n",
      "    Get-Help cannot find the Help files for this cmdlet on this computer. It is displaying only par\n",
      "    tial help.\n",
      "        -- To download and install Help files for the module that includes this cmdlet, use Update-\n",
      "    Help.\n",
      "        -- To view the Help topic for this cmdlet online, type: \"Get-Help Get-Service -Online\" or\n",
      "           go to https://go.microsoft.com/fwlink/?LinkID=2096496.\n",
      "\n",
      "\n"
     ]
    }
   ],
   "source": [
    "# 获取帮助详情\n",
    "Get-Help Get-Service -Detailed\n",
    "\n",
    "# 获取全部帮助\n",
    "Get-Help Get-Service -Full\n",
    "\n",
    "\n",
    "Get-Help get-service -showwindow\n",
    "Get-Help get-service -online"
   ]
  }
 ],
 "metadata": {
  "language_info": {
   "name": "csharp"
  }
 },
 "nbformat": 4,
 "nbformat_minor": 2
}
