{
 "cells": [
  {
   "cell_type": "code",
   "execution_count": 7,
   "metadata": {
    "dotnet_interactive": {
     "language": "pwsh"
    },
    "polyglot_notebook": {
     "kernelName": "pwsh"
    },
    "vscode": {
     "languageId": "polyglot-notebook"
    }
   },
   "outputs": [],
   "source": [
    "get-service -displayname xbox* | Export-Csv -Path D:\\xboxservice.Csv"
   ]
  },
  {
   "cell_type": "code",
   "execution_count": null,
   "metadata": {
    "dotnet_interactive": {
     "language": "pwsh"
    },
    "polyglot_notebook": {
     "kernelName": "pwsh"
    },
    "vscode": {
     "languageId": "polyglot-notebook"
    }
   },
   "outputs": [
    {
     "name": "stdout",
     "output_type": "stream",
     "text": [
      "What if: Performing the operation \"Stop-Service\" on target \"BcastDVRUserService_57d40 (BcastDVRUserService_57d40)\".\n",
      "What if: Performing the operation \"Stop-Service\" on target \"BitLocker Drive Encryption Service (BDESVC)\".\n",
      "What if: Performing the operation \"Stop-Service\" on target \"Base Filtering Engine (BFE)\".\n",
      "What if: Performing the operation \"Stop-Service\" on target \"Background Intelligent Transfer Service (BITS)\".\n",
      "What if: Performing the operation \"Stop-Service\" on target \"BluetoothUserService_57d40 (BluetoothUserService_57d40)\".\n",
      "What if: Performing the operation \"Stop-Service\" on target \"Background Tasks Infrastructure Service (BrokerInfrastructure)\".\n",
      "What if: Performing the operation \"Stop-Service\" on target \"BranchCache (PeerDistSvc)\".\n",
      "What if: Performing the operation \"Stop-Service\" on target \"Block Level Backup Engine Service (wbengine)\".\n",
      "\n",
      "\u001b[95mConfirm\u001b[0m\n",
      "Are you sure you want to perform this action?\n",
      "Performing the operation \"Stop-Service\" on target \"BitLocker Drive Encryption Service (BDESVC)\".\n",
      "[Y] Yes  [A] Yes to All  [N] No  [L] No to All  [S] Suspend  [?] Help(default is 'Y')"
     ]
    }
   ],
   "source": [
    "Get-Service -DisplayName B* | Stop-Service -WhatIf\n",
    "\n",
    "Get-Service -DisplayName Bit* | Stop-Service -Confirm"
   ]
  },
  {
   "cell_type": "code",
   "execution_count": 1,
   "metadata": {
    "dotnet_interactive": {
     "language": "pwsh"
    },
    "polyglot_notebook": {
     "kernelName": "pwsh"
    },
    "vscode": {
     "languageId": "polyglot-notebook"
    }
   },
   "outputs": [
    {
     "name": "stdout",
     "output_type": "stream",
     "text": [
      "\n",
      "   TypeName: System.Service.ServiceController#StartupType\n",
      "\n",
      "\u001b[32;1mName                     \u001b[0m\u001b[32;1m MemberType   \u001b[0m\u001b[32;1m Definition\u001b[0m\n",
      "\u001b[32;1m----                     \u001b[0m \u001b[32;1m----------   \u001b[0m \u001b[32;1m----------\u001b[0m\n",
      "Name                      AliasProperty Name = ServiceName\n",
      "RequiredServices          AliasProperty RequiredServices = ServicesDependedOn\n",
      "Disposed                  Event         System.EventHandler Disposed(System.Object, System.EventAr…\n",
      "Close                     Method        void Close()\n",
      "Continue                  Method        void Continue()\n",
      "Dispose                   Method        void Dispose(), void IDisposable.Dispose()\n",
      "Equals                    Method        bool Equals(System.Object obj)\n",
      "ExecuteCommand            Method        void ExecuteCommand(int command)\n",
      "GetHashCode               Method        int GetHashCode()\n",
      "GetLifetimeService        Method        System.Object GetLifetimeService()\n",
      "GetType                   Method        type GetType()\n",
      "InitializeLifetimeService Method        System.Object InitializeLifetimeService()\n",
      "Pause                     Method        void Pause()\n",
      "Refresh                   Method        void Refresh()\n",
      "Start                     Method        void Start(), void Start(string[] args)\n",
      "Stop                      Method        void Stop(), void Stop(bool stopDependentServices)\n",
      "WaitForStatus             Method        void WaitForStatus(System.ServiceProcess.ServiceController…\n",
      "BinaryPathName            Property      System.String {get;set;}\n",
      "CanPauseAndContinue       Property      bool CanPauseAndContinue {get;}\n",
      "CanShutdown               Property      bool CanShutdown {get;}\n",
      "CanStop                   Property      bool CanStop {get;}\n",
      "Container                 Property      System.ComponentModel.IContainer Container {get;}\n",
      "DelayedAutoStart          Property      System.Boolean {get;set;}\n",
      "DependentServices         Property      System.ServiceProcess.ServiceController[] DependentService…\n",
      "Description               Property      System.String {get;set;}\n",
      "DisplayName               Property      string DisplayName {get;set;}\n",
      "MachineName               Property      string MachineName {get;set;}\n",
      "ServiceHandle             Property      System.Runtime.InteropServices.SafeHandle ServiceHandle {g…\n",
      "ServiceName               Property      string ServiceName {get;set;}\n",
      "ServicesDependedOn        Property      System.ServiceProcess.ServiceController[] ServicesDepended…\n",
      "ServiceType               Property      System.ServiceProcess.ServiceType ServiceType {get;}\n",
      "Site                      Property      System.ComponentModel.ISite Site {get;set;}\n",
      "StartType                 Property      System.ServiceProcess.ServiceStartMode StartType {get;}\n",
      "StartupType               Property      Microsoft.PowerShell.Commands.ServiceStartupType {get;set;}\n",
      "Status                    Property      System.ServiceProcess.ServiceControllerStatus Status {get;}\n",
      "UserName                  Property      System.String {get;set;}\n",
      "ToString                  ScriptMethod  System.Object ToString();\n",
      "\n"
     ]
    }
   ],
   "source": [
    "Get-Service -DisplayName Bit* | Get-Member"
   ]
  },
  {
   "cell_type": "code",
   "execution_count": 5,
   "metadata": {
    "dotnet_interactive": {
     "language": "pwsh"
    },
    "polyglot_notebook": {
     "kernelName": "pwsh"
    },
    "vscode": {
     "languageId": "polyglot-notebook"
    }
   },
   "outputs": [
    {
     "name": "stdout",
     "output_type": "stream",
     "text": [
      "\n",
      "\u001b[32;1mStatus  \u001b[0m\u001b[32;1m Name              \u001b[0m\u001b[32;1m DisplayName\u001b[0m\n",
      "\u001b[32;1m------  \u001b[0m \u001b[32;1m----              \u001b[0m \u001b[32;1m-----------\u001b[0m\n",
      "Running  Appinfo            Application Information\n",
      "Running  AppMgmt            Application Management\n",
      "Running  AppXSvc            AppX Deployment Service (AppXSVC)\n",
      "Running  asComSvc           ASUS Com Service\n",
      "Running  AsusCertService    AsusCertService\n",
      "Running  AudioEndpointBuil… Windows Audio Endpoint Builder\n",
      "Running  Audiosrv           Windows Audio\n",
      "Running  BFE                Base Filtering Engine\n",
      "Running  BluetoothUserServ… BluetoothUserService_57d40\n",
      "Running  BrokerInfrastruct… Background Tasks Infrastructure Servi…\n",
      "Running  BTAGService        蓝牙音频网关服务\n",
      "Running  BthAvctpSvc        AVCTP 服务\n",
      "Running  bthserv            蓝牙支持服务\n",
      "Running  camsvc             功能访问管理器服务\n",
      "Running  cbdhsvc_57d40      cbdhsvc_57d40\n",
      "Running  CDPSvc             连接设备平台服务\n",
      "Running  CDPUserSvc_57d40   CDPUserSvc_57d40\n",
      "Running  ClickToRunSvc      Microsoft Office Click-to-Run Service\n",
      "Running  CmService          容器管理器服务\n",
      "Running  CoreMessagingRegi… CoreMessaging\n",
      "Running  CortexLauncherSer… CortexLauncherService\n",
      "Running  CryptSvc           Cryptographic Services\n",
      "Running  DcomLaunch         DCOM Server Process Launcher\n",
      "Running  DeviceAssociation… Device Association Service\n",
      "Running  DeviceInstall      Device Install Service\n",
      "Running  DevicesFlowUserSv… DevicesFlowUserSvc_57d40\n",
      "Running  Dhcp               DHCP Client\n",
      "Running  DispBrokerDesktop… 显示策略服务\n",
      "Running  DisplayEnhancemen… 显示增强服务\n",
      "Running  Dnscache           DNS Client\n",
      "Running  DoSvc              Delivery Optimization\n",
      "Running  DPS                Diagnostic Policy Service\n",
      "Running  DsSvc              Data Sharing Service\n",
      "Running  DusmSvc            数据使用量\n",
      "Running  EventLog           Windows Event Log\n",
      "Running  EventSystem        COM+ Event System\n",
      "Running  Everything         Everything\n",
      "Running  fdPHost            Function Discovery Provider Host\n",
      "Running  FDResPub           Function Discovery Resource Publicati…\n",
      "Running  FontCache          Windows Font Cache Service\n",
      "Running  GameInputSvc       GameInput Service\n",
      "Running  GamingServices     Gaming Services\n",
      "Running  GamingServicesNet  Gaming Services\n",
      "Running  gpsvc              Group Policy Client\n",
      "Running  hidserv            Human Interface Device Service\n",
      "Running  HipsDaemon         Huorong Internet Security Daemon\n",
      "Running  HNS                主机网络服务\n",
      "Running  HRWSCCtrl          Huorong Windows Security Center\n",
      "Running  HvHost             HV 主机服务\n",
      "Running  InstallService     Microsoft Store 安装服务\n",
      "Running  InventorySvc       清单和兼容性评估服务\n",
      "Running  iphlpsvc           IP Helper\n",
      "Running  jhi_service        Intel(R) Dynamic Application Loader H…\n",
      "Running  KeyIso             CNG Key Isolation\n",
      "Running  LanmanServer       Server\n",
      "Running  LanmanWorkstation  Workstation\n",
      "Running  lfsvc              Geolocation Service\n",
      "Running  LGHUBUpdaterServi… LGHUB Updater Service\n",
      "Running  LicenseManager     Windows 许可证管理器服务\n",
      "Running  lmhosts            TCP/IP NetBIOS Helper\n",
      "Running  logi_lamparray_se… Logitech LampArray Service\n",
      "Running  LSM                Local Session Manager\n",
      "Running  MAFSvr             MAFSvr\n",
      "\u001b[31;1mGet-Service: \u001b[31;1mService 'McpManagementService (McpManagementService)' cannot be queried due to the following error: PermissionDenied\u001b[0m\n",
      "Running  MiService          MiService\n",
      "Running  mpssvc             Windows Defender Firewall\n",
      "Running  NcbService         Network Connection Broker\n",
      "Running  NcdAutoSetup       Network Connected Devices Auto-Setup\n",
      "Running  Netman             Network Connections\n",
      "Running  netprofm           Network List Service\n",
      "Running  NetSetupSvc        Network Setup Service\n",
      "Running  NgcCtnrSvc         Microsoft Passport Container\n",
      "Running  NgcSvc             Microsoft Passport\n",
      "\u001b[31;1mGet-Service: \u001b[31;1mService 'NPSMSvc_57d40 (NPSMSvc_57d40)' cannot be queried due to the following error: PermissionDenied\u001b[0m\n",
      "Running  NPSMSvc_57d40      NPSMSvc_57d40\n",
      "Running  nsi                Network Store Interface Service\n",
      "Running  nvagent            网络虚拟服务\n",
      "Running  NvContainerLocalS… NVIDIA LocalSystem Container\n",
      "Running  NVDisplay.Contain… NVIDIA Display Container LS\n",
      "Running  OneSyncSvc_57d40   OneSyncSvc_57d40\n",
      "Running  PcaSvc             Program Compatibility Assistant Servi…\n",
      "Running  PhoneSvc           Phone Service\n",
      "Running  PimIndexMaintenan… PimIndexMaintenanceSvc_57d40\n",
      "Running  PlugPlay           Plug and Play\n",
      "Running  postgresql-x64-16  postgresql-x64-16 - PostgreSQL Server…\n",
      "Running  Power              Power\n",
      "Running  ProfSvc            User Profile Service\n",
      "Running  RasMan             Remote Access Connection Manager\n",
      "Running  Razer Game Manage… Razer Game Manager Service 3\n",
      "Running  RmSvc              无线电管理服务\n",
      "Running  RpcEptMapper       RPC Endpoint Mapper\n",
      "Running  RpcSs              Remote Procedure Call (RPC)\n",
      "Running  RzActionSvc        Razer Central Service\n",
      "Running  SamSs              Security Accounts Manager\n",
      "Running  Schedule           Task Scheduler\n",
      "Running  seclogon           Secondary Logon\n",
      "Running  SecurityHealthSer… Windows 安全中心服务\n",
      "Running  SENS               System Event Notification Service\n",
      "Running  SensorService      Sensor Service\n",
      "Running  SharedAccess       Internet Connection Sharing (ICS)\n",
      "Running  ShellHWDetection   Shell Hardware Detection\n",
      "Running  SQLWriter          SQL Server VSS Writer\n",
      "Running  SSDPSRV            SSDP Discovery\n",
      "Running  SstpSvc            Secure Socket Tunneling Protocol Serv…\n",
      "Running  StateRepository    State Repository Service\n",
      "Running  Steam Client Serv… Steam Client Service\n",
      "Running  StorSvc            Storage Service\n",
      "Running  SystemEventsBroker System Events Broker\n",
      "Running  TextInputManageme… Text Input Management Service\n",
      "Running  Themes             Themes\n",
      "Running  TimeBrokerSvc      Time Broker\n",
      "Running  TokenBroker        Web 帐户管理器\n",
      "Running  UdkUserSvc_57d40   UdkUserSvc_57d40\n",
      "Running  UnistoreSvc_57d40  UnistoreSvc_57d40\n",
      "Running  UserDataSvc_57d40  UserDataSvc_57d40\n",
      "Running  UserManager        User Manager\n",
      "Running  UsoSvc             更新 Orchestrator 服务\n",
      "Running  VaultSvc           Credential Manager\n",
      "Running  vmcompute          Hyper-V 主机计算服务\n",
      "Running  vmms               Hyper-V 虚拟机管理\n",
      "\u001b[31;1mGet-Service: \u001b[31;1mService 'WaaSMedicSvc (WaaSMedicSvc)' cannot be queried due to the following error: PermissionDenied\u001b[0m\n",
      "Running  Wcmsvc             Windows Connection Manager\n",
      "Running  WdiServiceHost     Diagnostic Service Host\n",
      "Running  webthreatdefsvc    Web 威胁防御服务\n",
      "Running  webthreatdefusers… webthreatdefusersvc_57d40\n",
      "Running  WinHttpAutoProxyS… WinHTTP Web Proxy Auto-Discovery Serv…\n",
      "Running  Winmgmt            Windows Management Instrumentation\n",
      "Running  WlanSvc            WLAN AutoConfig\n",
      "Running  WMIRegistrationSe… Intel(R) Management Engine WMI Provid…\n",
      "Running  WpnService         Windows 推送通知系统服务\n",
      "Running  WpnUserService_57… WpnUserService_57d40\n",
      "Running  wscsvc             安全中心\n",
      "Running  WSearch            Windows Search\n",
      "Running  WSLService         WSL Service\n",
      "Running  XblAuthManager     Xbox Live 身份验证管理器\n",
      "\n"
     ]
    },
    {
     "ename": "Error",
     "evalue": "Command failed: SubmitCode: Get-Service | where {$PSItem.Status -eq \"Running\"}",
     "output_type": "error",
     "traceback": [
      "Command failed: SubmitCode: Get-Service | where {$PSItem.Status -eq \"Running\"}"
     ]
    }
   ],
   "source": [
    "Get-Service | where {$PSItem.Status -eq \"Running\"}"
   ]
  }
 ],
 "metadata": {
  "language_info": {
   "name": "csharp"
  }
 },
 "nbformat": 4,
 "nbformat_minor": 2
}
