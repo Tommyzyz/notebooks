{
 "cells": [
  {
   "cell_type": "code",
   "execution_count": null,
   "metadata": {
    "dotnet_interactive": {
     "language": "csharp"
    },
    "polyglot_notebook": {
     "kernelName": "csharp"
    },
    "vscode": {
     "languageId": "polyglot-notebook"
    }
   },
   "outputs": [],
   "source": [
    "    public class Data\n",
    "    {\n",
    "        public string id { get; set; }\n",
    "        public string content { get; set; }\n",
    "        public double popularity { get; set; }\n",
    "        public Origin origin { get; set; }\n",
    "        public List<string> matchTags { get; set; }\n",
    "        public string recommendedReason { get; set; }\n",
    "        public DateTime cacheAt { get; set; }\n",
    "    }\n",
    "\n",
    "    public class Origin\n",
    "    {\n",
    "        public string title { get; set; }\n",
    "        public string dynasty { get; set; }\n",
    "        public string author { get; set; }\n",
    "        public List<string> content { get; set; }\n",
    "        public List<string> translate { get; set; }\n",
    "    }\n",
    "\n",
    "    public class Shici\n",
    "    {\n",
    "        public string status { get; set; }\n",
    "        public Data data { get; set; }\n",
    "        public string token { get; set; }\n",
    "        public string ipAddress { get; set; }\n",
    "    }\n",
    "\n",
    "\n",
    "public class ShiciToken\n",
    "{\n",
    "    public string status{get;set;}\n",
    "    public string data{get;set;}\n",
    "}\n"
   ]
  },
  {
   "cell_type": "code",
   "execution_count": 6,
   "metadata": {
    "dotnet_interactive": {
     "language": "csharp"
    },
    "polyglot_notebook": {
     "kernelName": "csharp"
    },
    "vscode": {
     "languageId": "polyglot-notebook"
    }
   },
   "outputs": [
    {
     "data": {
      "text/html": [
       "<div><div></div><div></div><div><strong>Installed Packages</strong><ul><li><span>Newtonsoft.Json, 13.0.3</span></li></ul></div></div>"
      ]
     },
     "metadata": {},
     "output_type": "display_data"
    },
    {
     "data": {
      "text/html": [
       "<details open=\"open\" class=\"dni-treeview\"><summary><span class=\"dni-code-hint\"><code>Submission#3+ShiciToken</code></span></summary><div><table><thead><tr></tr></thead><tbody><tr><td>status</td><td>success</td></tr><tr><td>data</td><td>zjYuvI42vx/IenRLjM+9iTL4Wkw5wwrH</td></tr></tbody></table></div></details><style>\r\n",
       ".dni-code-hint {\r\n",
       "    font-style: italic;\r\n",
       "    overflow: hidden;\r\n",
       "    white-space: nowrap;\r\n",
       "}\r\n",
       ".dni-treeview {\r\n",
       "    white-space: nowrap;\r\n",
       "}\r\n",
       ".dni-treeview td {\r\n",
       "    vertical-align: top;\r\n",
       "    text-align: start;\r\n",
       "}\r\n",
       "details.dni-treeview {\r\n",
       "    padding-left: 1em;\r\n",
       "}\r\n",
       "table td {\r\n",
       "    text-align: start;\r\n",
       "}\r\n",
       "table tr { \r\n",
       "    vertical-align: top; \r\n",
       "    margin: 0em 0px;\r\n",
       "}\r\n",
       "table tr td pre \r\n",
       "{ \r\n",
       "    vertical-align: top !important; \r\n",
       "    margin: 0em 0px !important;\r\n",
       "} \r\n",
       "table th {\r\n",
       "    text-align: start;\r\n",
       "}\r\n",
       "</style>"
      ]
     },
     "metadata": {},
     "output_type": "display_data"
    }
   ],
   "source": [
    "//Json\n",
    "#r \"nuget:Newtonsoft.Json\"\n",
    "\n",
    "using Newtonsoft.Json;\n",
    "using System.Net.Http;\n",
    "\n",
    "HttpClient httpClient=new();\n",
    "//获取token\n",
    "var response = await httpClient.GetAsync(\"https://v2.jinrishici.com/token\");\n",
    "var json = await response.Content.ReadAsStringAsync();\n",
    "var result = JsonConvert.DeserializeObject<ShiciToken>(json);\n",
    "httpClient.DefaultRequestHeaders.Add(name:\"X-User-Token\",value:result.data);\n",
    "result.Display();\n",
    "\n"
   ]
  },
  {
   "cell_type": "code",
   "execution_count": 8,
   "metadata": {
    "dotnet_interactive": {
     "language": "csharp"
    },
    "polyglot_notebook": {
     "kernelName": "csharp"
    },
    "vscode": {
     "languageId": "polyglot-notebook"
    }
   },
   "outputs": [
    {
     "data": {
      "text/plain": [
       "I1wWl62F4CvYFLpKp/1nNkZIG9kEjD/I"
      ]
     },
     "metadata": {},
     "output_type": "display_data"
    }
   ],
   "source": [
    "//接口测试\n",
    "var responsetest = await httpClient.GetAsync(\"https://v2.jinrishici.com/info\");\n",
    "   public class Data\n",
    "    {\n",
    "        public string token { get; set; }\n",
    "        public string ip { get; set; }\n",
    "        public string region { get; set; }\n",
    "        public WeatherData weatherData { get; set; }\n",
    "        public List<string> tags { get; set; }\n",
    "        public DateTime beijingTime { get; set; }\n",
    "    }\n",
    "\n",
    "    public class Root\n",
    "    {\n",
    "        public string status { get; set; }\n",
    "        public Data data { get; set; }\n",
    "    }\n",
    "\n",
    "    public class WeatherData\n",
    "    {\n",
    "        public int temperature { get; set; }\n",
    "        public string windDirection { get; set; }\n",
    "        public int windPower { get; set; }\n",
    "        public int humidity { get; set; }\n",
    "        public string updateTime { get; set; }\n",
    "        public string weather { get; set; }\n",
    "        public string visibility { get; set; }\n",
    "        public int rainfall { get; set; }\n",
    "        public int pm25 { get; set; }\n",
    "    }\n",
    "\n",
    "    var jsontest = await responsetest.Content.ReadAsStringAsync();\n",
    "    var resulttest = System.Text.Json.JsonSerializer.Deserialize<Root>(jsontest);\n",
    "    resulttest.data.token.Display();"
   ]
  },
  {
   "cell_type": "code",
   "execution_count": 5,
   "metadata": {
    "dotnet_interactive": {
     "language": "csharp"
    },
    "polyglot_notebook": {
     "kernelName": "csharp"
    },
    "vscode": {
     "languageId": "polyglot-notebook"
    }
   },
   "outputs": [
    {
     "data": {
      "text/html": [
       "<details open=\"open\" class=\"dni-treeview\"><summary><span class=\"dni-code-hint\"><code>Submission#3+Origin</code></span></summary><div><table><thead><tr></tr></thead><tbody><tr><td>title</td><td>上西平&#183;送杜叔高</td></tr><tr><td>dynasty</td><td>宋代</td></tr><tr><td>author</td><td>辛弃疾</td></tr><tr><td>content</td><td><div class=\"dni-plaintext\"><pre>[ 恨如新，新恨了，又重新。看天上、多少浮云。江南好景，落花时节又逢君。夜来风雨，春归似欲留人。, 尊如海，人如玉，诗如锦，笔如神。能几字、尽殷勤。江天日暮，何时重与细论文。绿杨阴里，听阳关、门掩黄昏。 ]</pre></div></td></tr><tr><td>translate</td><td><div class=\"dni-plaintext\"><pre>&lt;null&gt;</pre></div></td></tr></tbody></table></div></details><style>\r\n",
       ".dni-code-hint {\r\n",
       "    font-style: italic;\r\n",
       "    overflow: hidden;\r\n",
       "    white-space: nowrap;\r\n",
       "}\r\n",
       ".dni-treeview {\r\n",
       "    white-space: nowrap;\r\n",
       "}\r\n",
       ".dni-treeview td {\r\n",
       "    vertical-align: top;\r\n",
       "    text-align: start;\r\n",
       "}\r\n",
       "details.dni-treeview {\r\n",
       "    padding-left: 1em;\r\n",
       "}\r\n",
       "table td {\r\n",
       "    text-align: start;\r\n",
       "}\r\n",
       "table tr { \r\n",
       "    vertical-align: top; \r\n",
       "    margin: 0em 0px;\r\n",
       "}\r\n",
       "table tr td pre \r\n",
       "{ \r\n",
       "    vertical-align: top !important; \r\n",
       "    margin: 0em 0px !important;\r\n",
       "} \r\n",
       "table th {\r\n",
       "    text-align: start;\r\n",
       "}\r\n",
       "</style>"
      ]
     },
     "metadata": {},
     "output_type": "display_data"
    }
   ],
   "source": [
    "//获取诗词\n",
    "\n",
    "var responseshi = await httpClient.GetAsync(\"https://v2.jinrishici.com/sentence\");\n",
    "var jsonshi = await responseshi.Content.ReadAsStringAsync();\n",
    "var resultshi = JsonConvert.DeserializeObject<Shici>(jsonshi);\n",
    "resultshi.data.origin.Display();\n"
   ]
  },
  {
   "cell_type": "code",
   "execution_count": 4,
   "metadata": {
    "dotnet_interactive": {
     "language": "csharp"
    },
    "polyglot_notebook": {
     "kernelName": "csharp"
    },
    "vscode": {
     "languageId": "polyglot-notebook"
    }
   },
   "outputs": [
    {
     "data": {
      "text/html": [
       "<details open=\"open\" class=\"dni-treeview\"><summary><span class=\"dni-code-hint\"><code>Submission#4+ShiciToken</code></span></summary><div><table><thead><tr></tr></thead><tbody><tr><td>status</td><td>success</td></tr><tr><td>data</td><td>I1wWl62F4CvYFLpKp/1nNkZIG9kEjD/I</td></tr></tbody></table></div></details><style>\r\n",
       ".dni-code-hint {\r\n",
       "    font-style: italic;\r\n",
       "    overflow: hidden;\r\n",
       "    white-space: nowrap;\r\n",
       "}\r\n",
       ".dni-treeview {\r\n",
       "    white-space: nowrap;\r\n",
       "}\r\n",
       ".dni-treeview td {\r\n",
       "    vertical-align: top;\r\n",
       "    text-align: start;\r\n",
       "}\r\n",
       "details.dni-treeview {\r\n",
       "    padding-left: 1em;\r\n",
       "}\r\n",
       "table td {\r\n",
       "    text-align: start;\r\n",
       "}\r\n",
       "table tr { \r\n",
       "    vertical-align: top; \r\n",
       "    margin: 0em 0px;\r\n",
       "}\r\n",
       "table tr td pre \r\n",
       "{ \r\n",
       "    vertical-align: top !important; \r\n",
       "    margin: 0em 0px !important;\r\n",
       "} \r\n",
       "table th {\r\n",
       "    text-align: start;\r\n",
       "}\r\n",
       "</style>"
      ]
     },
     "metadata": {},
     "output_type": "display_data"
    }
   ],
   "source": [
    "//不引用nuget包,使用自带序列化函数\n",
    "using System.Text.Json;\n",
    "using System.Net.Http;\n",
    "\n",
    "HttpClient httpClient=new();\n",
    "//获取token\n",
    "var response2 = await httpClient.GetAsync(\"https://v2.jinrishici.com/token\");\n",
    "var json2 = await response2.Content.ReadAsStringAsync();\n",
    "var result2 = System.Text.Json.JsonSerializer.Deserialize<ShiciToken>(json2);\n",
    "result2.Display();"
   ]
  },
  {
   "cell_type": "markdown",
   "metadata": {},
   "source": [
    "Markdown\n",
    "![今日诗词](https://v2.jinrishici.com/one.svg)"
   ]
  },
  {
   "cell_type": "code",
   "execution_count": 2,
   "metadata": {
    "dotnet_interactive": {
     "language": "html"
    },
    "polyglot_notebook": {
     "kernelName": "html"
    },
    "vscode": {
     "languageId": "polyglot-notebook"
    }
   },
   "outputs": [
    {
     "data": {
      "text/html": [
       "    <span id=\"jinrishici-sentence\">正在加载今日诗词....</span>\r\n",
       "    <script src=\"https://sdk.jinrishici.com/v2/browser/jinrishici.js\" charset=\"utf-8\"></script>"
      ]
     },
     "metadata": {},
     "output_type": "display_data"
    }
   ],
   "source": [
    "    <span id=\"jinrishici-sentence\">正在加载今日诗词....</span>\n",
    "    <script src=\"https://sdk.jinrishici.com/v2/browser/jinrishici.js\" charset=\"utf-8\"></script>"
   ]
  },
  {
   "cell_type": "code",
   "execution_count": 13,
   "metadata": {
    "dotnet_interactive": {
     "language": "html"
    },
    "polyglot_notebook": {
     "kernelName": "html"
    },
    "vscode": {
     "languageId": "polyglot-notebook"
    }
   },
   "outputs": [
    {
     "data": {
      "text/html": [
       "<script src=\"https://sdk.jinrishici.com/v2/browser/jinrishici.js\" charset=\"utf-8\"></script>\r\n",
       "<div id=\"poem_sentence\"></div>\r\n",
       "<div id=\"poem_info\"></div>\r\n",
       "<script type=\"text/javascript\">\r\n",
       "  jinrishici.load(function(result) {\r\n",
       "    var sentence = document.querySelector(\"#poem_sentence\")\r\n",
       "    var info = document.querySelector(\"#poem_info\")\r\n",
       "    sentence.innerHTML = result.data.content\r\n",
       "    info.innerHTML = '【' + result.data.origin.dynasty + '】' + result.data.origin.author + '《' + result.data.origin.title + '》'\r\n",
       "  });\r\n",
       "</script>"
      ]
     },
     "metadata": {},
     "output_type": "display_data"
    }
   ],
   "source": [
    "<script src=\"https://sdk.jinrishici.com/v2/browser/jinrishici.js\" charset=\"utf-8\"></script>\n",
    "<div id=\"poem_sentence\"></div>\n",
    "<div id=\"poem_info\"></div>\n",
    "<script type=\"text/javascript\">\n",
    "  jinrishici.load(function(result) {\n",
    "    var sentence = document.querySelector(\"#poem_sentence\")\n",
    "    var info = document.querySelector(\"#poem_info\")\n",
    "    sentence.innerHTML = result.data.content\n",
    "    info.innerHTML = '【' + result.data.origin.dynasty + '】' + result.data.origin.author + '《' + result.data.origin.title + '》'\n",
    "  });\n",
    "</script>"
   ]
  },
  {
   "cell_type": "code",
   "execution_count": 12,
   "metadata": {
    "dotnet_interactive": {
     "language": "javascript"
    },
    "polyglot_notebook": {
     "kernelName": "javascript"
    },
    "vscode": {
     "languageId": "polyglot-notebook"
    }
   },
   "outputs": [],
   "source": [
    "src=\"https://sdk.jinrishici.com/v2/browser/jinrishici.js\"\n",
    "jinrishici.load(function(result) {\n",
    "    \n",
    "    console.log(result.data.content) \n",
    "    console.log(result)\n",
    "  });"
   ]
  }
 ],
 "metadata": {
  "language_info": {
   "name": "csharp"
  },
  "orig_nbformat": 4
 },
 "nbformat": 4,
 "nbformat_minor": 2
}
