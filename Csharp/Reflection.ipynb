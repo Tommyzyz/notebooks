{
 "cells": [
  {
   "cell_type": "code",
   "execution_count": 8,
   "metadata": {
    "dotnet_interactive": {
     "language": "csharp"
    },
    "polyglot_notebook": {
     "kernelName": "csharp"
    },
    "vscode": {
     "languageId": "polyglot-notebook"
    }
   },
   "outputs": [
    {
     "name": "stdout",
     "output_type": "stream",
     "text": [
      "Fire!!!\r\n"
     ]
    }
   ],
   "source": [
    "using System;\n",
    "//反射\n",
    "\n",
    "public class Tank\n",
    "{\n",
    "    public void Fire()\n",
    "    {\n",
    "        Console.WriteLine(\"Fire!!!\");\n",
    "    }\n",
    "\n",
    "}\n",
    "\n",
    "Tank tank = new Tank();\n",
    "\n",
    "//=========================\n",
    "var t = tank.GetType();\n",
    "object o = Activator.CreateInstance(t);\n",
    "var fireMi = t.GetMethod(\"Fire\");\n",
    "fireMi.Invoke(o,null);\n",
    "\n",
    "\n"
   ]
  }
 ],
 "metadata": {
  "language_info": {
   "name": "csharp"
  },
  "orig_nbformat": 4
 },
 "nbformat": 4,
 "nbformat_minor": 2
}
