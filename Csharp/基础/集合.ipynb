{
 "cells": [
  {
   "cell_type": "code",
   "execution_count": 5,
   "metadata": {
    "dotnet_interactive": {
     "language": "csharp"
    },
    "polyglot_notebook": {
     "kernelName": "csharp"
    },
    "vscode": {
     "languageId": "polyglot-notebook"
    }
   },
   "outputs": [
    {
     "data": {
      "text/html": [
       "<div class=\"dni-plaintext\"><pre>[ 1, 2, 3 ]</pre></div><style>\r\n",
       ".dni-code-hint {\r\n",
       "    font-style: italic;\r\n",
       "    overflow: hidden;\r\n",
       "    white-space: nowrap;\r\n",
       "}\r\n",
       ".dni-treeview {\r\n",
       "    white-space: nowrap;\r\n",
       "}\r\n",
       ".dni-treeview td {\r\n",
       "    vertical-align: top;\r\n",
       "    text-align: start;\r\n",
       "}\r\n",
       "details.dni-treeview {\r\n",
       "    padding-left: 1em;\r\n",
       "}\r\n",
       "table td {\r\n",
       "    text-align: start;\r\n",
       "}\r\n",
       "table tr { \r\n",
       "    vertical-align: top; \r\n",
       "    margin: 0em 0px;\r\n",
       "}\r\n",
       "table tr td pre \r\n",
       "{ \r\n",
       "    vertical-align: top !important; \r\n",
       "    margin: 0em 0px !important;\r\n",
       "} \r\n",
       "table th {\r\n",
       "    text-align: start;\r\n",
       "}\r\n",
       "</style>"
      ]
     },
     "metadata": {},
     "output_type": "display_data"
    },
    {
     "data": {
      "text/html": [
       "<div class=\"dni-plaintext\"><pre>[ 1, 2, 3, 4, 5 ]</pre></div><style>\r\n",
       ".dni-code-hint {\r\n",
       "    font-style: italic;\r\n",
       "    overflow: hidden;\r\n",
       "    white-space: nowrap;\r\n",
       "}\r\n",
       ".dni-treeview {\r\n",
       "    white-space: nowrap;\r\n",
       "}\r\n",
       ".dni-treeview td {\r\n",
       "    vertical-align: top;\r\n",
       "    text-align: start;\r\n",
       "}\r\n",
       "details.dni-treeview {\r\n",
       "    padding-left: 1em;\r\n",
       "}\r\n",
       "table td {\r\n",
       "    text-align: start;\r\n",
       "}\r\n",
       "table tr { \r\n",
       "    vertical-align: top; \r\n",
       "    margin: 0em 0px;\r\n",
       "}\r\n",
       "table tr td pre \r\n",
       "{ \r\n",
       "    vertical-align: top !important; \r\n",
       "    margin: 0em 0px !important;\r\n",
       "} \r\n",
       "table th {\r\n",
       "    text-align: start;\r\n",
       "}\r\n",
       "</style>"
      ]
     },
     "metadata": {},
     "output_type": "display_data"
    },
    {
     "data": {
      "text/html": [
       "<div class=\"dni-plaintext\"><pre>[ 1, 2, 3, 4, 5, 6, 7 ]</pre></div><style>\r\n",
       ".dni-code-hint {\r\n",
       "    font-style: italic;\r\n",
       "    overflow: hidden;\r\n",
       "    white-space: nowrap;\r\n",
       "}\r\n",
       ".dni-treeview {\r\n",
       "    white-space: nowrap;\r\n",
       "}\r\n",
       ".dni-treeview td {\r\n",
       "    vertical-align: top;\r\n",
       "    text-align: start;\r\n",
       "}\r\n",
       "details.dni-treeview {\r\n",
       "    padding-left: 1em;\r\n",
       "}\r\n",
       "table td {\r\n",
       "    text-align: start;\r\n",
       "}\r\n",
       "table tr { \r\n",
       "    vertical-align: top; \r\n",
       "    margin: 0em 0px;\r\n",
       "}\r\n",
       "table tr td pre \r\n",
       "{ \r\n",
       "    vertical-align: top !important; \r\n",
       "    margin: 0em 0px !important;\r\n",
       "} \r\n",
       "table th {\r\n",
       "    text-align: start;\r\n",
       "}\r\n",
       "</style>"
      ]
     },
     "metadata": {},
     "output_type": "display_data"
    }
   ],
   "source": [
    "var list = new List<int> { 1, 2, 3 };\n",
    "var list2 = new List<int>() {1,2,3,4,5};\n",
    "List<int> list4 = [1,2,3,4,5,6,7];\n",
    "\n",
    "list.Display();\n",
    "list2.Display();\n",
    "list4.Display();"
   ]
  },
  {
   "cell_type": "code",
   "execution_count": 9,
   "metadata": {
    "dotnet_interactive": {
     "language": "csharp"
    },
    "polyglot_notebook": {
     "kernelName": "csharp"
    },
    "vscode": {
     "languageId": "polyglot-notebook"
    }
   },
   "outputs": [],
   "source": [
    "public class Person\n",
    "{\n",
    "    public int Age { get; set; }\n",
    "    public string Name { get; set; }\n",
    "    List<Person> friends = new List<Person>();\n",
    "    public List<Person> Friends { get { return friends; } }\n",
    "    Location home = new Location();\n",
    "    public Location Home { get { return home; } }\n",
    "    public Person() { }\n",
    "      public Person(string name)\n",
    "      {\n",
    "          Name = name;\n",
    "      }\n",
    "}\n",
    " \n",
    "public class Location\n",
    "{\n",
    "    public string Country { get; set; }\n",
    "    public string Town { get; set; }\n",
    "}"
   ]
  },
  {
   "cell_type": "code",
   "execution_count": 10,
   "metadata": {
    "dotnet_interactive": {
     "language": "csharp"
    },
    "polyglot_notebook": {
     "kernelName": "csharp"
    },
    "vscode": {
     "languageId": "polyglot-notebook"
    }
   },
   "outputs": [],
   "source": [
    "Person tom1 = new Person();\n",
    "tom1.Name = \"Tom\";\n",
    "tom1.Age = 4;\n",
    "Person tom2 = new Person(\"Tom\");\n",
    "tom2.Age = 4;\n",
    "Person tom3 = new Person() { Name=\"Tom\", Age=4 };\n",
    "Person tom4 = new Person { Name=\"Tom\", Age=4 };\n",
    "Person tom5 = new Person(\"Tom\") { Age = 4 };"
   ]
  },
  {
   "cell_type": "code",
   "execution_count": 11,
   "metadata": {
    "dotnet_interactive": {
     "language": "csharp"
    },
    "polyglot_notebook": {
     "kernelName": "csharp"
    },
    "vscode": {
     "languageId": "polyglot-notebook"
    }
   },
   "outputs": [
    {
     "data": {
      "text/html": [
       "<table><thead><tr><th><i>index</i></th><th>value</th></tr></thead><tbody><tr><td>0</td><td><details class=\"dni-treeview\"><summary><span class=\"dni-code-hint\"><code>Submission#10+Person</code></span></summary><div><table><thead><tr></tr></thead><tbody><tr><td>Age</td><td><div class=\"dni-plaintext\"><pre>31</pre></div></td></tr><tr><td>Name</td><td><div class=\"dni-plaintext\"><pre>Holly</pre></div></td></tr><tr><td>Friends</td><td><i>(empty)</i></td></tr><tr><td>Home</td><td><details class=\"dni-treeview\"><summary><span class=\"dni-code-hint\"><code>Submission#10+Location</code></span></summary><div><table><thead><tr></tr></thead><tbody><tr><td>Country</td><td><div class=\"dni-plaintext\"><pre>&lt;null&gt;</pre></div></td></tr><tr><td>Town</td><td><div class=\"dni-plaintext\"><pre>&lt;null&gt;</pre></div></td></tr></tbody></table></div></details></td></tr></tbody></table></div></details></td></tr><tr><td>1</td><td><details class=\"dni-treeview\"><summary><span class=\"dni-code-hint\"><code>Submission#10+Person</code></span></summary><div><table><thead><tr></tr></thead><tbody><tr><td>Age</td><td><div class=\"dni-plaintext\"><pre>31</pre></div></td></tr><tr><td>Name</td><td><div class=\"dni-plaintext\"><pre>Jon</pre></div></td></tr><tr><td>Friends</td><td><i>(empty)</i></td></tr><tr><td>Home</td><td><details class=\"dni-treeview\"><summary><span class=\"dni-code-hint\"><code>Submission#10+Location</code></span></summary><div><table><thead><tr></tr></thead><tbody><tr><td>Country</td><td><div class=\"dni-plaintext\"><pre>&lt;null&gt;</pre></div></td></tr><tr><td>Town</td><td><div class=\"dni-plaintext\"><pre>&lt;null&gt;</pre></div></td></tr></tbody></table></div></details></td></tr></tbody></table></div></details></td></tr><tr><td>2</td><td><details class=\"dni-treeview\"><summary><span class=\"dni-code-hint\"><code>Submission#10+Person</code></span></summary><div><table><thead><tr></tr></thead><tbody><tr><td>Age</td><td><div class=\"dni-plaintext\"><pre>4</pre></div></td></tr><tr><td>Name</td><td><div class=\"dni-plaintext\"><pre>Tom</pre></div></td></tr><tr><td>Friends</td><td><i>(empty)</i></td></tr><tr><td>Home</td><td><details class=\"dni-treeview\"><summary><span class=\"dni-code-hint\"><code>Submission#10+Location</code></span></summary><div><table><thead><tr></tr></thead><tbody><tr><td>Country</td><td><div class=\"dni-plaintext\"><pre>&lt;null&gt;</pre></div></td></tr><tr><td>Town</td><td><div class=\"dni-plaintext\"><pre>&lt;null&gt;</pre></div></td></tr></tbody></table></div></details></td></tr></tbody></table></div></details></td></tr><tr><td>3</td><td><details class=\"dni-treeview\"><summary><span class=\"dni-code-hint\"><code>Submission#10+Person</code></span></summary><div><table><thead><tr></tr></thead><tbody><tr><td>Age</td><td><div class=\"dni-plaintext\"><pre>1</pre></div></td></tr><tr><td>Name</td><td><div class=\"dni-plaintext\"><pre>William</pre></div></td></tr><tr><td>Friends</td><td><i>(empty)</i></td></tr><tr><td>Home</td><td><details class=\"dni-treeview\"><summary><span class=\"dni-code-hint\"><code>Submission#10+Location</code></span></summary><div><table><thead><tr></tr></thead><tbody><tr><td>Country</td><td><div class=\"dni-plaintext\"><pre>&lt;null&gt;</pre></div></td></tr><tr><td>Town</td><td><div class=\"dni-plaintext\"><pre>&lt;null&gt;</pre></div></td></tr></tbody></table></div></details></td></tr></tbody></table></div></details></td></tr><tr><td>4</td><td><details class=\"dni-treeview\"><summary><span class=\"dni-code-hint\"><code>Submission#10+Person</code></span></summary><div><table><thead><tr></tr></thead><tbody><tr><td>Age</td><td><div class=\"dni-plaintext\"><pre>1</pre></div></td></tr><tr><td>Name</td><td><div class=\"dni-plaintext\"><pre>Robin</pre></div></td></tr><tr><td>Friends</td><td><i>(empty)</i></td></tr><tr><td>Home</td><td><details class=\"dni-treeview\"><summary><span class=\"dni-code-hint\"><code>Submission#10+Location</code></span></summary><div><table><thead><tr></tr></thead><tbody><tr><td>Country</td><td><div class=\"dni-plaintext\"><pre>&lt;null&gt;</pre></div></td></tr><tr><td>Town</td><td><div class=\"dni-plaintext\"><pre>&lt;null&gt;</pre></div></td></tr></tbody></table></div></details></td></tr></tbody></table></div></details></td></tr></tbody></table><style>\r\n",
       ".dni-code-hint {\r\n",
       "    font-style: italic;\r\n",
       "    overflow: hidden;\r\n",
       "    white-space: nowrap;\r\n",
       "}\r\n",
       ".dni-treeview {\r\n",
       "    white-space: nowrap;\r\n",
       "}\r\n",
       ".dni-treeview td {\r\n",
       "    vertical-align: top;\r\n",
       "    text-align: start;\r\n",
       "}\r\n",
       "details.dni-treeview {\r\n",
       "    padding-left: 1em;\r\n",
       "}\r\n",
       "table td {\r\n",
       "    text-align: start;\r\n",
       "}\r\n",
       "table tr { \r\n",
       "    vertical-align: top; \r\n",
       "    margin: 0em 0px;\r\n",
       "}\r\n",
       "table tr td pre \r\n",
       "{ \r\n",
       "    vertical-align: top !important; \r\n",
       "    margin: 0em 0px !important;\r\n",
       "} \r\n",
       "table th {\r\n",
       "    text-align: start;\r\n",
       "}\r\n",
       "</style>"
      ]
     },
     "metadata": {},
     "output_type": "display_data"
    }
   ],
   "source": [
    "Person[] family = new Person[]\n",
    "{\n",
    "    new Person { Name=\"Holly\", Age=31 },\n",
    "    new Person { Name=\"Jon\", Age=31 },\n",
    "    new Person { Name=\"Tom\", Age=4 },\n",
    "    new Person { Name=\"William\", Age=1 },\n",
    "    new Person { Name=\"Robin\", Age=1 }\n",
    "};\n",
    "family.Display();"
   ]
  },
  {
   "cell_type": "code",
   "execution_count": 13,
   "metadata": {
    "dotnet_interactive": {
     "language": "csharp"
    },
    "polyglot_notebook": {
     "kernelName": "csharp"
    },
    "vscode": {
     "languageId": "polyglot-notebook"
    }
   },
   "outputs": [
    {
     "data": {
      "text/html": [
       "<details open=\"open\" class=\"dni-treeview\"><summary><span class=\"dni-code-hint\"><code>Submission#10+Person</code></span></summary><div><table><thead><tr></tr></thead><tbody><tr><td>Age</td><td><div class=\"dni-plaintext\"><pre>4</pre></div></td></tr><tr><td>Name</td><td><div class=\"dni-plaintext\"><pre>Tom</pre></div></td></tr><tr><td>Friends</td><td><table><thead><tr><th><i>index</i></th><th>value</th></tr></thead><tbody><tr><td>0</td><td><details class=\"dni-treeview\"><summary><span class=\"dni-code-hint\"><code>Submission#10+Person</code></span></summary><div><table><thead><tr></tr></thead><tbody><tr><td>Age</td><td><div class=\"dni-plaintext\"><pre>0</pre></div></td></tr><tr><td>Name</td><td><div class=\"dni-plaintext\"><pre>Phoebe</pre></div></td></tr><tr><td>Friends</td><td><i>(empty)</i></td></tr><tr><td>Home</td><td><details class=\"dni-treeview\"><summary><span class=\"dni-code-hint\"><code>Submission#10+Location</code></span></summary><div><table><thead><tr></tr></thead><tbody><tr><td>Country</td><td><div class=\"dni-plaintext\"><pre>&lt;null&gt;</pre></div></td></tr><tr><td>Town</td><td><div class=\"dni-plaintext\"><pre>&lt;null&gt;</pre></div></td></tr></tbody></table></div></details></td></tr></tbody></table></div></details></td></tr><tr><td>1</td><td><details class=\"dni-treeview\"><summary><span class=\"dni-code-hint\"><code>Submission#10+Person</code></span></summary><div><table><thead><tr></tr></thead><tbody><tr><td>Age</td><td><div class=\"dni-plaintext\"><pre>0</pre></div></td></tr><tr><td>Name</td><td><div class=\"dni-plaintext\"><pre>Abi</pre></div></td></tr><tr><td>Friends</td><td><i>(empty)</i></td></tr><tr><td>Home</td><td><details class=\"dni-treeview\"><summary><span class=\"dni-code-hint\"><code>Submission#10+Location</code></span></summary><div><table><thead><tr></tr></thead><tbody><tr><td>Country</td><td><div class=\"dni-plaintext\"><pre>&lt;null&gt;</pre></div></td></tr><tr><td>Town</td><td><div class=\"dni-plaintext\"><pre>&lt;null&gt;</pre></div></td></tr></tbody></table></div></details></td></tr></tbody></table></div></details></td></tr><tr><td>2</td><td><details class=\"dni-treeview\"><summary><span class=\"dni-code-hint\"><code>Submission#10+Person</code></span></summary><div><table><thead><tr></tr></thead><tbody><tr><td>Age</td><td><div class=\"dni-plaintext\"><pre>4</pre></div></td></tr><tr><td>Name</td><td><div class=\"dni-plaintext\"><pre>Ethan</pre></div></td></tr><tr><td>Friends</td><td><i>(empty)</i></td></tr><tr><td>Home</td><td><details class=\"dni-treeview\"><summary><span class=\"dni-code-hint\"><code>Submission#10+Location</code></span></summary><div><table><thead><tr></tr></thead><tbody><tr><td>Country</td><td><div class=\"dni-plaintext\"><pre>&lt;null&gt;</pre></div></td></tr><tr><td>Town</td><td><div class=\"dni-plaintext\"><pre>&lt;null&gt;</pre></div></td></tr></tbody></table></div></details></td></tr></tbody></table></div></details></td></tr><tr><td>3</td><td><details class=\"dni-treeview\"><summary><span class=\"dni-code-hint\"><code>Submission#10+Person</code></span></summary><div><table><thead><tr></tr></thead><tbody><tr><td>Age</td><td><div class=\"dni-plaintext\"><pre>4</pre></div></td></tr><tr><td>Name</td><td><div class=\"dni-plaintext\"><pre>Ben</pre></div></td></tr><tr><td>Friends</td><td><i>(empty)</i></td></tr><tr><td>Home</td><td><details class=\"dni-treeview\"><summary><span class=\"dni-code-hint\"><code>Submission#10+Location</code></span></summary><div><table><thead><tr></tr></thead><tbody><tr><td>Country</td><td><div class=\"dni-plaintext\"><pre>UK</pre></div></td></tr><tr><td>Town</td><td><div class=\"dni-plaintext\"><pre>Purley</pre></div></td></tr></tbody></table></div></details></td></tr></tbody></table></div></details></td></tr></tbody></table></td></tr><tr><td>Home</td><td><details class=\"dni-treeview\"><summary><span class=\"dni-code-hint\"><code>Submission#10+Location</code></span></summary><div><table><thead><tr></tr></thead><tbody><tr><td>Country</td><td><div class=\"dni-plaintext\"><pre>UK</pre></div></td></tr><tr><td>Town</td><td><div class=\"dni-plaintext\"><pre>Reading</pre></div></td></tr></tbody></table></div></details></td></tr></tbody></table></div></details><style>\r\n",
       ".dni-code-hint {\r\n",
       "    font-style: italic;\r\n",
       "    overflow: hidden;\r\n",
       "    white-space: nowrap;\r\n",
       "}\r\n",
       ".dni-treeview {\r\n",
       "    white-space: nowrap;\r\n",
       "}\r\n",
       ".dni-treeview td {\r\n",
       "    vertical-align: top;\r\n",
       "    text-align: start;\r\n",
       "}\r\n",
       "details.dni-treeview {\r\n",
       "    padding-left: 1em;\r\n",
       "}\r\n",
       "table td {\r\n",
       "    text-align: start;\r\n",
       "}\r\n",
       "table tr { \r\n",
       "    vertical-align: top; \r\n",
       "    margin: 0em 0px;\r\n",
       "}\r\n",
       "table tr td pre \r\n",
       "{ \r\n",
       "    vertical-align: top !important; \r\n",
       "    margin: 0em 0px !important;\r\n",
       "} \r\n",
       "table th {\r\n",
       "    text-align: start;\r\n",
       "}\r\n",
       "</style>"
      ]
     },
     "metadata": {},
     "output_type": "display_data"
    }
   ],
   "source": [
    "Person tom = new Person\n",
    "{\n",
    "    Name = \"Tom\",\n",
    "    Age = 4,\n",
    "    Home = { Town=\"Reading\", Country=\"UK\" },\n",
    "    Friends =\n",
    "        {\n",
    "            new Person { Name = \"Phoebe\" },\n",
    "            new Person(\"Abi\"),\n",
    "            new Person { Name = \"Ethan\", Age = 4 },\n",
    "            new Person(\"Ben\")\n",
    "            {\n",
    "                Age = 4,\n",
    "                Home = { Town = \"Purley\", Country=\"UK\" }\n",
    "            }\n",
    "        }\n",
    "};\n",
    "tom.Display();"
   ]
  }
 ],
 "metadata": {
  "kernelspec": {
   "display_name": ".NET (C#)",
   "language": "C#",
   "name": ".net-csharp"
  },
  "language_info": {
   "name": "csharp"
  },
  "polyglot_notebook": {
   "kernelInfo": {
    "defaultKernelName": "csharp",
    "items": [
     {
      "aliases": [],
      "name": "csharp"
     }
    ]
   }
  }
 },
 "nbformat": 4,
 "nbformat_minor": 2
}
