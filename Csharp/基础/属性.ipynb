{
 "cells": [
  {
   "cell_type": "markdown",
   "metadata": {},
   "source": [
    "### 字段\n",
    "- 它通常只用于类内，作为其他属性或方法的辅助角色（比如线程锁、标志位、依赖注入的对象等）\n",
    "- 它通常不包含太多的逻辑，只是一个简单的值，而且也不如属性那样具有多种初始化的方式\n",
    "- 它通常不太“安全”，或者说开发者在不了解的情况下不太敢轻易去操作它"
   ]
  },
  {
   "cell_type": "markdown",
   "metadata": {},
   "source": [
    "### 属性\n",
    "#### 灵活性与封装性\n",
    "属性具有无与伦比的灵活性。我们可以在属性的 getter 和 setter 中添加任意的逻辑，比如数据校验：\n",
    "再比如通知功能：\n",
    "但更重要的是它的封装性。比如常见的 setter 就有这么几种：\n",
    "- public：公共的 setter，任何人都可以修改这个属性\n",
    "- protected：受保护的 setter，只有继承这个类的子类才能修改这个属性\n",
    "- private：私有的 setter，只有这个类内部的方法才能修改这个属性\n",
    "- internal：内部的 setter，只有同一个程序集内的方法才能修改这个属性\n",
    "- init：初始化 setter，只能在构造函数中初始化这个属性\n",
    "- 空：只读属性，只能在构造函数中初始化这个属性\n",
    "不仅如此，还可以配合诸如 required、virtual 等关键字，使得属性的灵活性和封装性更上一层楼。这些都是字段完全无法比拟的（我知道上面的一些关键字也可以用于字段，但效果都很有限，比如会同时限制读写的权限等）。"
   ]
  },
  {
   "cell_type": "code",
   "execution_count": 7,
   "metadata": {
    "dotnet_interactive": {
     "language": "csharp"
    },
    "polyglot_notebook": {
     "kernelName": "csharp"
    },
    "vscode": {
     "languageId": "polyglot-notebook"
    }
   },
   "outputs": [],
   "source": [
    "public class Person\n",
    "{\n",
    "    private string name;\n",
    "\n",
    "    public string Name\n",
    "    {\n",
    "        get { return name; }\n",
    "        set { name = value; }\n",
    "    }\n",
    "\n",
    "    public Int16 Age { get; set; }\n",
    "}"
   ]
  },
  {
   "cell_type": "code",
   "execution_count": 8,
   "metadata": {
    "dotnet_interactive": {
     "language": "csharp"
    },
    "polyglot_notebook": {
     "kernelName": "csharp"
    },
    "vscode": {
     "languageId": "polyglot-notebook"
    }
   },
   "outputs": [
    {
     "name": "stdout",
     "output_type": "stream",
     "text": [
      "Tom\n",
      "25\n"
     ]
    }
   ],
   "source": [
    "var p = new Person();\n",
    "p.Name = \"Tom\";\n",
    "p.Age = 25;\n",
    "Console.WriteLine(p.Name); // Output: Tom\n",
    "Console.WriteLine(p.Age); // Output: 25"
   ]
  },
  {
   "cell_type": "markdown",
   "metadata": {},
   "source": [
    "自动属性的 setter 其实会被 JIT 编译器优化成直接的内存写入操作。这就意味着，实际上在运行时，修改属性和直接修改字段的速度是一样的。所以，自动属性的性能和公共字段是完全一样的。"
   ]
  },
  {
   "cell_type": "code",
   "execution_count": null,
   "metadata": {
    "vscode": {
     "languageId": "polyglot-notebook"
    }
   },
   "outputs": [],
   "source": [
    "//C#13 .NET 9\n",
    "public int Age\n",
    "{\n",
    "    get => field / 2;\n",
    "    set => field = value * 2;\n",
    "}\n"
   ]
  }
 ],
 "metadata": {
  "kernelspec": {
   "display_name": ".NET (C#)",
   "language": "C#",
   "name": ".net-csharp"
  },
  "language_info": {
   "name": "csharp"
  },
  "polyglot_notebook": {
   "kernelInfo": {
    "defaultKernelName": "csharp",
    "items": [
     {
      "aliases": [],
      "name": "csharp"
     }
    ]
   }
  }
 },
 "nbformat": 4,
 "nbformat_minor": 2
}
