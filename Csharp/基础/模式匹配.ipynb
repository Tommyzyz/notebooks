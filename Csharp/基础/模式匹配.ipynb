{
 "cells": [
  {
   "cell_type": "markdown",
   "metadata": {},
   "source": [
    "### 模式匹配\n",
    "“模式匹配”是一种测试表达式是否具有特定特征的方法。 C# 模式匹配提供更简洁的语法，用于测试表达式并在表达式匹配时采取措施。 “is 表达式”目前支持通过模式匹配测试表达式并有条件地声明该表达式结果。 “switch 表达式”允许你根据表达式的首次匹配模式执行操作。 这两个表达式支持丰富的模式词汇。"
   ]
  },
  {
   "cell_type": "markdown",
   "metadata": {},
   "source": [
    "#### Null 检查"
   ]
  },
  {
   "cell_type": "code",
   "execution_count": 2,
   "metadata": {
    "dotnet_interactive": {
     "language": "csharp"
    },
    "polyglot_notebook": {
     "kernelName": "csharp"
    },
    "vscode": {
     "languageId": "polyglot-notebook"
    }
   },
   "outputs": [
    {
     "name": "stdout",
     "output_type": "stream",
     "text": [
      "The nullable int 'maybe' has the value 12\r\n"
     ]
    }
   ],
   "source": [
    "int? maybe = 12;\n",
    "\n",
    "if (maybe is int number)\n",
    "{\n",
    "    Console.WriteLine($\"The nullable int 'maybe' has the value {number}\");\n",
    "}\n",
    "else\n",
    "{\n",
    "    Console.WriteLine(\"The nullable int 'maybe' doesn't hold a value\");\n",
    "}\n",
    "//变量 number 仅在 if 子句的 true 部分可供访问和分配。 如果尝试在 else 子句或 if 程序块后等其他位置访问，编译器将出错。 其次，由于不使用 == 运算符，因此当类型重载 == 运算符时，此模式有效。"
   ]
  },
  {
   "cell_type": "code",
   "execution_count": 6,
   "metadata": {
    "vscode": {
     "languageId": "polyglot-notebook"
    }
   },
   "outputs": [
    {
     "name": "stdout",
     "output_type": "stream",
     "text": [
      "hello world\r\n"
     ]
    }
   ],
   "source": [
    "string? message = \"hello world\";\n",
    "\n",
    "if (message is not null)\n",
    "{\n",
    "    Console.WriteLine(message);\n",
    "}\n",
    "//not 为一种逻辑模式，在否定模式不匹配时与该模式匹配。"
   ]
  },
  {
   "cell_type": "markdown",
   "metadata": {
    "vscode": {
     "languageId": "polyglot-notebook"
    }
   },
   "source": [
    "#### 类型测试\n",
    "模式匹配的另一种常见用途是测试变量是否与给定类型匹配。 例如，以下代码测试变量是否为非 null 并实现 System.Collections.Generic.IList<T> 接口。 如果是，它将使用该列表中的 ICollection<T>.Count 属性来查找中间索引。 不管变量的编译时类型如何，声明模式均与 null 值不匹配。 除了防范未实现 IList 的类型之外，以下代码还可防范 null。"
   ]
  },
  {
   "cell_type": "code",
   "execution_count": 7,
   "metadata": {
    "vscode": {
     "languageId": "polyglot-notebook"
    }
   },
   "outputs": [],
   "source": [
    "public static T MidPoint<T>(IEnumerable<T> sequence)\n",
    "{\n",
    "    if (sequence is IList<T> list)\n",
    "    {\n",
    "        return list[list.Count / 2];\n",
    "    }\n",
    "    else if (sequence is null)\n",
    "    {\n",
    "        throw new ArgumentNullException(nameof(sequence), \"Sequence can't be null.\");\n",
    "    }\n",
    "    else\n",
    "    {\n",
    "        int halfLength = sequence.Count() / 2 - 1;\n",
    "        if (halfLength < 0) halfLength = 0;\n",
    "        return sequence.Skip(halfLength).First();\n",
    "    }\n",
    "}"
   ]
  },
  {
   "cell_type": "markdown",
   "metadata": {},
   "source": [
    "#### 比较离散值\n",
    "你还可以通过测试变量找到特定值的匹配项。 在以下代码演示的示例中，你针对枚举中声明的所有可能值进行数值测试："
   ]
  },
  {
   "cell_type": "code",
   "execution_count": null,
   "metadata": {
    "vscode": {
     "languageId": "polyglot-notebook"
    }
   },
   "outputs": [],
   "source": [
    "public State PerformOperation(Operation command) =>\n",
    "   command switch\n",
    "   {\n",
    "       Operation.SystemTest => RunDiagnostics(),\n",
    "       Operation.Start => StartSystem(),\n",
    "       Operation.Stop => StopSystem(),\n",
    "       Operation.Reset => ResetToReady(),\n",
    "       _ => throw new ArgumentException(\"Invalid enum value for command\", nameof(command)),\n",
    "   };"
   ]
  },
  {
   "cell_type": "code",
   "execution_count": 19,
   "metadata": {
    "vscode": {
     "languageId": "polyglot-notebook"
    }
   },
   "outputs": [
    {
     "name": "stdout",
     "output_type": "stream",
     "text": [
      "Other\r\n"
     ]
    }
   ],
   "source": [
    "int num = 5;\n",
    "\n",
    "string message = num switch\n",
    "{\n",
    "    1 => \"One\",\n",
    "    2 => \"Two\",\n",
    "    3 => \"Three\",\n",
    "    _ => \"Other\"\n",
    "};\n",
    "\n",
    "Console.WriteLine(message);\n"
   ]
  },
  {
   "cell_type": "markdown",
   "metadata": {},
   "source": [
    "#### 关系模式\n",
    "你可以使用关系模式测试如何将数值与常量进行比较。 例如，以下代码基于华氏温度返回水源状态："
   ]
  },
  {
   "cell_type": "code",
   "execution_count": 32,
   "metadata": {
    "vscode": {
     "languageId": "polyglot-notebook"
    }
   },
   "outputs": [
    {
     "data": {
      "text/plain": [
       "气态"
      ]
     },
     "metadata": {},
     "output_type": "display_data"
    }
   ],
   "source": [
    "string WaterState(int tempInFahrenheit) =>\n",
    "    tempInFahrenheit switch\n",
    "    {\n",
    "        (> 32) and (< 212) => \"液态\",\n",
    "        < 32 => \"固态\",\n",
    "        > 212 => \"气态\",\n",
    "        32 => \"solid/liquid transition\",\n",
    "        212 => \"liquid / gas transition\",\n",
    "    };\n",
    "\n",
    "WaterState(250).Display();"
   ]
  },
  {
   "cell_type": "code",
   "execution_count": 33,
   "metadata": {
    "vscode": {
     "languageId": "polyglot-notebook"
    }
   },
   "outputs": [],
   "source": [
    "string WaterState2(int tempInFahrenheit) =>\n",
    "    tempInFahrenheit switch\n",
    "    {\n",
    "        < 32 => \"solid\",\n",
    "        32 => \"solid/liquid transition\",\n",
    "        < 212 => \"liquid\",\n",
    "        212 => \"liquid / gas transition\",\n",
    "        _ => \"gas\",\n",
    "};"
   ]
  },
  {
   "cell_type": "markdown",
   "metadata": {},
   "source": [
    "#### 多个输入\n",
    "可以写入检查一个对象的多个属性的模式。 请考虑以下 Order 记录："
   ]
  },
  {
   "cell_type": "code",
   "execution_count": 42,
   "metadata": {
    "vscode": {
     "languageId": "polyglot-notebook"
    }
   },
   "outputs": [
    {
     "data": {
      "text/html": [
       "<div class=\"dni-plaintext\"><pre>0.02</pre></div><style>\r\n",
       ".dni-code-hint {\r\n",
       "    font-style: italic;\r\n",
       "    overflow: hidden;\r\n",
       "    white-space: nowrap;\r\n",
       "}\r\n",
       ".dni-treeview {\r\n",
       "    white-space: nowrap;\r\n",
       "}\r\n",
       ".dni-treeview td {\r\n",
       "    vertical-align: top;\r\n",
       "    text-align: start;\r\n",
       "}\r\n",
       "details.dni-treeview {\r\n",
       "    padding-left: 1em;\r\n",
       "}\r\n",
       "table td {\r\n",
       "    text-align: start;\r\n",
       "}\r\n",
       "table tr { \r\n",
       "    vertical-align: top; \r\n",
       "    margin: 0em 0px;\r\n",
       "}\r\n",
       "table tr td pre \r\n",
       "{ \r\n",
       "    vertical-align: top !important; \r\n",
       "    margin: 0em 0px !important;\r\n",
       "} \r\n",
       "table th {\r\n",
       "    text-align: start;\r\n",
       "}\r\n",
       "</style>"
      ]
     },
     "metadata": {},
     "output_type": "display_data"
    },
    {
     "data": {
      "text/html": [
       "<div class=\"dni-plaintext\"><pre>0</pre></div><style>\r\n",
       ".dni-code-hint {\r\n",
       "    font-style: italic;\r\n",
       "    overflow: hidden;\r\n",
       "    white-space: nowrap;\r\n",
       "}\r\n",
       ".dni-treeview {\r\n",
       "    white-space: nowrap;\r\n",
       "}\r\n",
       ".dni-treeview td {\r\n",
       "    vertical-align: top;\r\n",
       "    text-align: start;\r\n",
       "}\r\n",
       "details.dni-treeview {\r\n",
       "    padding-left: 1em;\r\n",
       "}\r\n",
       "table td {\r\n",
       "    text-align: start;\r\n",
       "}\r\n",
       "table tr { \r\n",
       "    vertical-align: top; \r\n",
       "    margin: 0em 0px;\r\n",
       "}\r\n",
       "table tr td pre \r\n",
       "{ \r\n",
       "    vertical-align: top !important; \r\n",
       "    margin: 0em 0px !important;\r\n",
       "} \r\n",
       "table th {\r\n",
       "    text-align: start;\r\n",
       "}\r\n",
       "</style>"
      ]
     },
     "metadata": {},
     "output_type": "display_data"
    }
   ],
   "source": [
    "public record Order(int Items, decimal Cost);\n",
    "public decimal CalculateDiscount(Order order) =>\n",
    "    order switch\n",
    "    {\n",
    "        { Items: > 10, Cost: > 1000.00m } => 0.10m,\n",
    "        { Items: > 5, Cost: > 500.00m } => 0.05m,\n",
    "        { Cost: > 250.00m } => 0.02m,\n",
    "        null => throw new ArgumentNullException(nameof(order), \"Can't calculate discount on null order\"),\n",
    "        var someObject => 0m,\n",
    "    };\n",
    "\n",
    "var order1 = new Order(5, 500.00m);\n",
    "CalculateDiscount(order1).Display(); \n",
    "var order2 = new Order(2, 150.00m);\n",
    "CalculateDiscount(order2).Display(); \n"
   ]
  },
  {
   "cell_type": "markdown",
   "metadata": {},
   "source": [
    "#### 列表模式\n",
    "可以使用列表模式检查列表或数组中的元素。 列表模式提供了一种方法，将模式应用于序列的任何元素。 此外，还可以应用弃元模式 (_) 来匹配任何元素，或者应用切片模式来匹配零个或多个元素。\n",
    "当数据不遵循常规结构时，列表模式是一个有价值的工具。 可以使用模式匹配来测试数据的形状和值，而不是将其转换为一组对象。"
   ]
  },
  {
   "cell_type": "markdown",
   "metadata": {
    "vscode": {
     "languageId": "polyglot-notebook"
    }
   },
   "source": [
    "04-01-2020, DEPOSIT,    Initial deposit,            2250.00\n",
    "04-15-2020, DEPOSIT,    Refund,                      125.65\n",
    "04-18-2020, DEPOSIT,    Paycheck,                    825.65\n",
    "04-22-2020, WITHDRAWAL, Debit,           Groceries,  255.73\n",
    "05-01-2020, WITHDRAWAL, #1102,           Rent, apt, 2100.00\n",
    "05-02-2020, INTEREST,                                  0.65\n",
    "05-07-2020, WITHDRAWAL, Debit,           Movies,      12.57\n",
    "04-15-2020, FEE,                                       5.55"
   ]
  },
  {
   "cell_type": "code",
   "execution_count": null,
   "metadata": {
    "vscode": {
     "languageId": "polyglot-notebook"
    }
   },
   "outputs": [],
   "source": [
    "decimal balance = 0m;\n",
    "foreach (string[] transaction in ReadRecords())\n",
    "{\n",
    "    balance += transaction switch\n",
    "    {\n",
    "        [_, \"DEPOSIT\", _, var amount]     => decimal.Parse(amount),\n",
    "        [_, \"WITHDRAWAL\", .., var amount] => -decimal.Parse(amount),\n",
    "        [_, \"INTEREST\", var amount]       => decimal.Parse(amount),\n",
    "        [_, \"FEE\", var fee]               => -decimal.Parse(fee),\n",
    "        _                                 => throw new InvalidOperationException($\"Record {string.Join(\", \", transaction)} is not in the expected format!\"),\n",
    "    };\n",
    "    Console.WriteLine($\"Record: {string.Join(\", \", transaction)}, New balance: {balance:C}\");\n",
    "}"
   ]
  }
 ],
 "metadata": {
  "kernelspec": {
   "display_name": ".NET (C#)",
   "language": "C#",
   "name": ".net-csharp"
  },
  "language_info": {
   "name": "csharp"
  },
  "polyglot_notebook": {
   "kernelInfo": {
    "defaultKernelName": "csharp",
    "items": [
     {
      "aliases": [],
      "name": "csharp"
     }
    ]
   }
  }
 },
 "nbformat": 4,
 "nbformat_minor": 2
}
