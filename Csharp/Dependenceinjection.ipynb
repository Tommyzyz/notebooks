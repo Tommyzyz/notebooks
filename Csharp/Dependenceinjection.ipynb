{
 "cells": [
  {
   "cell_type": "code",
   "execution_count": 5,
   "metadata": {
    "dotnet_interactive": {
     "language": "csharp"
    },
    "polyglot_notebook": {
     "kernelName": "csharp"
    },
    "vscode": {
     "languageId": "polyglot-notebook"
    }
   },
   "outputs": [
    {
     "data": {
      "text/html": [
       "<div><div></div><div></div><div><strong>Installed Packages</strong><ul><li><span>Microsoft.Extensions.DependencyInjection, 8.0.0-preview.6.23329.7</span></li></ul></div></div>"
      ]
     },
     "metadata": {},
     "output_type": "display_data"
    },
    {
     "name": "stdout",
     "output_type": "stream",
     "text": [
      "Fire!!!\r\n"
     ]
    }
   ],
   "source": [
    "#r \"nuget: Microsoft.Extensions.DependencyInjection\"\n",
    "\n",
    "using Microsoft.Extensions.DependencyInjection;\n",
    "public class Tank\n",
    "{\n",
    "    public void Fire()\n",
    "    {\n",
    "        Console.WriteLine(\"Fire!!!\");\n",
    "    }\n",
    "}\n",
    "\n",
    "var sc = new ServiceCollection();\n",
    "sc.AddScoped<Tank>();\n",
    "var sp = sc.BuildServiceProvider();\n",
    "\n",
    "var tank = sp.GetService<Tank>();\n",
    "tank.Fire();"
   ]
  }
 ],
 "metadata": {
  "language_info": {
   "name": "csharp"
  },
  "orig_nbformat": 4
 },
 "nbformat": 4,
 "nbformat_minor": 2
}
