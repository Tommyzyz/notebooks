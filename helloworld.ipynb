{
 "cells": [
  {
   "cell_type": "code",
   "execution_count": 1,
   "metadata": {
    "dotnet_interactive": {
     "language": "csharp"
    },
    "polyglot_notebook": {
     "kernelName": "csharp"
    }
   },
   "outputs": [
    {
     "name": "stdout",
     "output_type": "stream",
     "text": [
      "HelloWord\r\n"
     ]
    }
   ],
   "source": [
    "Console.WriteLine(\"HelloWord\");"
   ]
  },
  {
   "attachments": {},
   "cell_type": "markdown",
   "metadata": {},
   "source": [
    "HelloWorld程序"
   ]
  },
  {
   "cell_type": "code",
   "execution_count": 2,
   "metadata": {
    "dotnet_interactive": {
     "language": "csharp"
    },
    "polyglot_notebook": {
     "kernelName": "csharp"
    }
   },
   "outputs": [
    {
     "name": "stdout",
     "output_type": "stream",
     "text": [
      "do\r\n"
     ]
    }
   ],
   "source": [
    "\n",
    "public static class Animal\n",
    "{\n",
    "    public static void Do()\n",
    "    {\n",
    "        Console.WriteLine(\"do\");\n",
    "    }\n",
    "}\n",
    "\n",
    "Animal.Do();"
   ]
  },
  {
   "cell_type": "code",
   "execution_count": 1,
   "metadata": {
    "dotnet_interactive": {
     "language": "csharp"
    },
    "polyglot_notebook": {
     "kernelName": "csharp"
    }
   },
   "outputs": [
    {
     "name": "stdout",
     "output_type": "stream",
     "text": [
      "Tuple with elements 4.5 and 3.\n",
      "Sum of 3 elements is 4.5.\n"
     ]
    }
   ],
   "source": [
    "(double, int) t1 = (4.5, 3);\n",
    "Console.WriteLine($\"Tuple with elements {t1.Item1} and {t1.Item2}.\");\n",
    "\n",
    "\n",
    "(double Sum, int Count) t2 = (4.5, 3);\n",
    "Console.WriteLine($\"Sum of {t2.Count} elements is {t2.Sum}.\");"
   ]
  }
 ],
 "metadata": {
  "kernelspec": {
   "display_name": ".NET (C#)",
   "language": "C#",
   "name": ".net-csharp"
  },
  "language_info": {
   "name": "polyglot-notebook"
  },
  "polyglot_notebook": {
   "kernelInfo": {
    "defaultKernelName": "csharp",
    "items": [
     {
      "aliases": [],
      "languageName": "csharp",
      "name": "csharp"
     }
    ]
   }
  }
 },
 "nbformat": 4,
 "nbformat_minor": 2
}
