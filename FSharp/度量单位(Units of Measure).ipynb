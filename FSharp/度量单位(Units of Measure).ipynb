{
 "cells": [
  {
   "cell_type": "markdown",
   "metadata": {},
   "source": [
    "F# 中的浮点值和带符号整数可以具有关联的度量单位，这些度量单位通常用于指示长度、体积、质量等。 通过使用数量及单位，使编译器可以验证算术关系是否具有正确的单位，这有助于防止编程错误。\n",
    "```fsharp\n",
    "[<Measure>] type unit-name [ = measure ]\n",
    "```"
   ]
  },
  {
   "cell_type": "code",
   "execution_count": 1,
   "metadata": {
    "dotnet_interactive": {
     "language": "fsharp"
    },
    "polyglot_notebook": {
     "kernelName": "fsharp"
    },
    "vscode": {
     "languageId": "polyglot-notebook"
    }
   },
   "outputs": [],
   "source": [
    "// Mass, grams.\n",
    "[<Measure>] type g\n",
    "// Mass, kilograms.\n",
    "[<Measure>] type kg\n",
    "// Weight, pounds.\n",
    "[<Measure>] type lb\n",
    "\n",
    "// Distance, meters.\n",
    "[<Measure>] type m\n",
    "// Distance, cm\n",
    "[<Measure>] type cm\n",
    "\n",
    "// Distance, inches.\n",
    "[<Measure>] type inch\n",
    "// Distance, feet\n",
    "[<Measure>] type ft\n",
    "\n",
    "// Time, seconds.\n",
    "[<Measure>] type s\n",
    "\n",
    "// Force, Newtons.\n",
    "[<Measure>] type N = kg m / s^2\n",
    "\n",
    "// Pressure, bar.\n",
    "[<Measure>] type bar\n",
    "// Pressure, Pascals\n",
    "[<Measure>] type Pa = N / m^2\n",
    "\n",
    "// Volume, milliliters.\n",
    "[<Measure>] type ml\n",
    "// Volume, liters.\n",
    "[<Measure>] type L\n",
    "\n",
    "// Define conversion constants.\n",
    "let gramsPerKilogram : float<g kg^-1> = 1000.0<g/kg>\n",
    "let cmPerMeter : float<cm/m> = 100.0<cm/m>\n",
    "let cmPerInch : float<cm/inch> = 2.54<cm/inch>\n",
    "\n",
    "let mlPerCubicCentimeter : float<ml/cm^3> = 1.0<ml/cm^3>\n",
    "let mlPerLiter : float<ml/L> = 1000.0<ml/L>\n",
    "\n",
    "// Define conversion functions.\n",
    "let convertGramsToKilograms (x : float<g>) = x / gramsPerKilogram\n",
    "let convertCentimetersToInches (x : float<cm>) = x / cmPerInch"
   ]
  },
  {
   "cell_type": "code",
   "execution_count": null,
   "metadata": {
    "dotnet_interactive": {
     "language": "fsharp"
    },
    "polyglot_notebook": {
     "kernelName": "fsharp"
    },
    "vscode": {
     "languageId": "polyglot-notebook"
    }
   },
   "outputs": [
    {
     "ename": "Error",
     "evalue": "input.fsx (3,23)-(3,29) typecheck error 类型中的文本无效\ninput.fsx (3,23)-(3,31) typecheck error 应为度量单位，而非类型\ninput.fsx (3,23)-(3,29) typecheck error 类型中的文本无效\ninput.fsx (3,23)-(3,31) typecheck error 应为度量单位，而非类型",
     "output_type": "error",
     "traceback": [
      "input.fsx (3,23)-(3,29) typecheck error 类型中的文本无效\n",
      "input.fsx (3,23)-(3,31) typecheck error 应为度量单位，而非类型\n",
      "input.fsx (3,23)-(3,29) typecheck error 类型中的文本无效\n",
      "input.fsx (3,23)-(3,31) typecheck error 应为度量单位，而非类型"
     ]
    }
   ],
   "source": [
    "[<Measure>] type 元\n",
    "[<Measure>] type g\n",
    "[<Measure>] type kg =  1000.0 g\n",
    "\n",
    "// let 猪肉单价 = 17.21<元/kg>\n",
    "\n",
    "// let 猪肉的重量: float<kg> = 20.0<kg>\n",
    "\n",
    "// let 总价格: float<元> = 猪肉单价 * 猪肉的重量\n",
    "// 总价格.Display()"
   ]
  },
  {
   "cell_type": "code",
   "execution_count": 9,
   "metadata": {
    "dotnet_interactive": {
     "language": "fsharp"
    },
    "polyglot_notebook": {
     "kernelName": "fsharp"
    },
    "vscode": {
     "languageId": "polyglot-notebook"
    }
   },
   "outputs": [],
   "source": [
    "[<Measure>]\n",
    "type cm\n",
    "let length = 12.0<cm>\n",
    "let x = float length"
   ]
  },
  {
   "cell_type": "code",
   "execution_count": 10,
   "metadata": {
    "dotnet_interactive": {
     "language": "fsharp"
    },
    "polyglot_notebook": {
     "kernelName": "fsharp"
    },
    "vscode": {
     "languageId": "polyglot-notebook"
    }
   },
   "outputs": [],
   "source": [
    "open Microsoft.FSharp.Core\n",
    "let height:float<cm> = LanguagePrimitives.FloatWithMeasure x"
   ]
  },
  {
   "cell_type": "code",
   "execution_count": null,
   "metadata": {
    "dotnet_interactive": {
     "language": "fsharp"
    },
    "polyglot_notebook": {
     "kernelName": "fsharp"
    },
    "vscode": {
     "languageId": "polyglot-notebook"
    }
   },
   "outputs": [],
   "source": [
    "open FSharp.Data.UnitSystems.SI\n",
    "\n",
    "UnitSymbols."
   ]
  }
 ],
 "metadata": {
  "kernelspec": {
   "display_name": ".NET (C#)",
   "language": "C#",
   "name": ".net-csharp"
  },
  "language_info": {
   "name": "csharp"
  },
  "polyglot_notebook": {
   "kernelInfo": {
    "defaultKernelName": "csharp",
    "items": [
     {
      "aliases": [],
      "name": "csharp"
     }
    ]
   }
  }
 },
 "nbformat": 4,
 "nbformat_minor": 2
}
