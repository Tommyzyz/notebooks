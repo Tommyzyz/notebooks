{
 "cells": [
  {
   "cell_type": "code",
   "execution_count": 4,
   "metadata": {
    "dotnet_interactive": {
     "language": "fsharp"
    },
    "polyglot_notebook": {
     "kernelName": "fsharp"
    },
    "vscode": {
     "languageId": "polyglot-notebook"
    }
   },
   "outputs": [
    {
     "data": {
      "text/plain": [
       "汪汪"
      ]
     },
     "metadata": {},
     "output_type": "display_data"
    },
    {
     "name": "stdout",
     "output_type": "stream",
     "text": [
      "正在跑...\n"
     ]
    }
   ],
   "source": [
    "//class\n",
    "type Dog() =\n",
    "\n",
    "    member val Age = 2 with get, set\n",
    "    member val Breed = \"Labrador\" with get, set\n",
    "\n",
    "    member this.叫() =\"汪汪\".Display()\n",
    "    member this.跑() = printfn \"正在跑...\"\n",
    "\n",
    "let myDog = Dog()\n",
    "myDog.叫()\n",
    "myDog.跑()"
   ]
  },
  {
   "cell_type": "code",
   "execution_count": 3,
   "metadata": {
    "dotnet_interactive": {
     "language": "fsharp"
    },
    "polyglot_notebook": {
     "kernelName": "fsharp"
    },
    "vscode": {
     "languageId": "polyglot-notebook"
    }
   },
   "outputs": [],
   "source": [
    "type Dog(Name:string) =\n",
    "    member val Name = \"\" with get, set\n",
    "    member val Age = 2 with get, set\n",
    "    member val Breed = \"Labrador\" with get, set\n",
    "\n",
    "    member this.叫() =\"汪汪\".Display()\n",
    "    member this.跑() = printfn \"正在跑...\"\n",
    "\n",
    "let myDog = Dog(\"小白\")"
   ]
  },
  {
   "cell_type": "code",
   "execution_count": null,
   "metadata": {
    "dotnet_interactive": {
     "language": "fsharp"
    },
    "polyglot_notebook": {
     "kernelName": "fsharp"
    },
    "vscode": {
     "languageId": "polyglot-notebook"
    }
   },
   "outputs": [
    {
     "data": {
      "text/html": [
       "<div class=\"dni-plaintext\"><pre>True</pre></div><style>\r\n",
       ".dni-code-hint {\r\n",
       "    font-style: italic;\r\n",
       "    overflow: hidden;\r\n",
       "    white-space: nowrap;\r\n",
       "}\r\n",
       ".dni-treeview {\r\n",
       "    white-space: nowrap;\r\n",
       "}\r\n",
       ".dni-treeview td {\r\n",
       "    vertical-align: top;\r\n",
       "    text-align: start;\r\n",
       "}\r\n",
       "details.dni-treeview {\r\n",
       "    padding-left: 1em;\r\n",
       "}\r\n",
       "table td {\r\n",
       "    text-align: start;\r\n",
       "}\r\n",
       "table tr { \r\n",
       "    vertical-align: top; \r\n",
       "    margin: 0em 0px;\r\n",
       "}\r\n",
       "table tr td pre \r\n",
       "{ \r\n",
       "    vertical-align: top !important; \r\n",
       "    margin: 0em 0px !important;\r\n",
       "} \r\n",
       "table th {\r\n",
       "    text-align: start;\r\n",
       "}\r\n",
       "</style>"
      ]
     },
     "metadata": {},
     "output_type": "display_data"
    },
    {
     "data": {
      "text/html": [
       "<div class=\"dni-plaintext\"><pre>True</pre></div><style>\r\n",
       ".dni-code-hint {\r\n",
       "    font-style: italic;\r\n",
       "    overflow: hidden;\r\n",
       "    white-space: nowrap;\r\n",
       "}\r\n",
       ".dni-treeview {\r\n",
       "    white-space: nowrap;\r\n",
       "}\r\n",
       ".dni-treeview td {\r\n",
       "    vertical-align: top;\r\n",
       "    text-align: start;\r\n",
       "}\r\n",
       "details.dni-treeview {\r\n",
       "    padding-left: 1em;\r\n",
       "}\r\n",
       "table td {\r\n",
       "    text-align: start;\r\n",
       "}\r\n",
       "table tr { \r\n",
       "    vertical-align: top; \r\n",
       "    margin: 0em 0px;\r\n",
       "}\r\n",
       "table tr td pre \r\n",
       "{ \r\n",
       "    vertical-align: top !important; \r\n",
       "    margin: 0em 0px !important;\r\n",
       "} \r\n",
       "table th {\r\n",
       "    text-align: start;\r\n",
       "}\r\n",
       "</style>"
      ]
     },
     "metadata": {},
     "output_type": "display_data"
    }
   ],
   "source": [
    "//记录record\n",
    "//匿名\n",
    "let dog1 = {|Owner = \"Tom\"; Name = \"Rufus\"; Age = 3|}\n",
    "let anotherdog = {|Owner = \"Tom\"; Name = \"Rufus\"; Age = 3|}\n",
    "(dog1 = anotherdog).Display() //true\n",
    "\n",
    "//定义record类型\n",
    "type DogType =\n",
    "    { Owner: string\n",
    "      Name: string\n",
    "      Age: int \n",
    "    }\n",
    "\n",
    "let dog2 = { DogType.Owner = \"Tom\"; Name = \"Rufus\"; Age = 3 }\n",
    "let dog3 = { Owner = \"Tom\"; Name = \"Rufus\"; Age = 3 }\n",
    "(dog2 = dog3).Display() //true\n",
    "//(dog2 = dog1).Display() //false  \n",
    "//类型“DogType”而此处具有类型“{| Age: int; Name: string; Owner: string |}”"
   ]
  },
  {
   "cell_type": "code",
   "execution_count": null,
   "metadata": {
    "dotnet_interactive": {
     "language": "fsharp"
    },
    "polyglot_notebook": {
     "kernelName": "fsharp"
    },
    "vscode": {
     "languageId": "polyglot-notebook"
    }
   },
   "outputs": [
    {
     "name": "stdout",
     "output_type": "stream",
     "text": [
      "puppy: { Owner = \"Tom\"\n",
      "  Name = \"Max\"\n",
      "  Age = 1 }\n"
     ]
    }
   ],
   "source": [
    "type DogType =\n",
    "    { Owner: string\n",
    "      Name: string\n",
    "      Age: int \n",
    "    }\n",
    "//记录克隆\n",
    "let dog2 = { Owner = \"Tom\"; Name = \"Rufus\"; Age = 3 }\n",
    "let puppy = { dog2 with Age = 1; Name = \"Max\" }\n",
    "printfn \"puppy: %A\" puppy"
   ]
  }
 ],
 "metadata": {
  "kernelspec": {
   "display_name": ".NET (C#)",
   "language": "C#",
   "name": ".net-csharp"
  },
  "language_info": {
   "name": "python"
  },
  "polyglot_notebook": {
   "kernelInfo": {
    "defaultKernelName": "csharp",
    "items": [
     {
      "aliases": [],
      "name": "csharp"
     }
    ]
   }
  }
 },
 "nbformat": 4,
 "nbformat_minor": 2
}
