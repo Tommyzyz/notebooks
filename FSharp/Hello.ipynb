{
 "cells": [
  {
   "cell_type": "code",
   "execution_count": 4,
   "metadata": {
    "dotnet_interactive": {
     "language": "fsharp"
    },
    "polyglot_notebook": {
     "kernelName": "fsharp"
    },
    "vscode": {
     "languageId": "polyglot-notebook"
    }
   },
   "outputs": [
    {
     "name": "stdout",
     "output_type": "stream",
     "text": [
      "Hello, F#!"
     ]
    }
   ],
   "source": [
    "printf \"Hello, F#!\"\n"
   ]
  },
  {
   "cell_type": "markdown",
   "metadata": {},
   "source": [
    "F #是一种函数式编程语言。了解F #构造，你需要读几行关于编程范式命名函数式编程。\n",
    "\n",
    "函数式编程把计算机程序作为数学函数。在函数式编程，重点将是对常量和函数，而不是变量和状态。由于函数和常量事情不会改变。\n",
    "\n",
    "在函数式编程中，您将编写模块化的程序，即程序将包括将其他函数作为输入功能。\n",
    "\n",
    "写在函数式编程语言编写的程序往往是简洁的。"
   ]
  },
  {
   "cell_type": "code",
   "execution_count": 5,
   "metadata": {
    "dotnet_interactive": {
     "language": "fsharp"
    },
    "polyglot_notebook": {
     "kernelName": "fsharp"
    },
    "vscode": {
     "languageId": "polyglot-notebook"
    }
   },
   "outputs": [
    {
     "name": "stdout",
     "output_type": "stream",
     "text": [
      "sign 5: positive\r\n"
     ]
    }
   ],
   "source": [
    "open System\n",
    "(* This is a multi-line comment *)\n",
    "// This is a single-line comment\n",
    "\n",
    "let sign num =\n",
    "   if num > 0 then \"positive\"\n",
    "   elif num < 0 then \"negative\"\n",
    "   else \"zero\"\n",
    "\n",
    "let main() =\n",
    "   Console.WriteLine(\"sign 5: {0}\", (sign 5))\n",
    "\n",
    "main()"
   ]
  },
  {
   "cell_type": "markdown",
   "metadata": {},
   "source": [
    "## 在F＃注释\n",
    "F＃提供了两种类型的注释 -\n",
    "\n",
    "- 一个行注释开始于//符号。\n",
    "- 多行注释以（*带*号结束）。\n",
    "\n",
    "## 基本程序和应用程序入口点在F＃\n",
    "\n",
    "一般来说，F＃程序没有任何明确的入口点。 当编译F＃应用程序时，提供给编译器的最后一个文件成为入口点，并且该文件中的所有顶级语句从上到下执行。  \n",
    "\n",
    "一个编写良好的程序应该有一个顶层语句，它将调用程序的主循环。"
   ]
  },
  {
   "cell_type": "code",
   "execution_count": 2,
   "metadata": {
    "dotnet_interactive": {
     "language": "fsharp"
    },
    "polyglot_notebook": {
     "kernelName": "fsharp"
    },
    "vscode": {
     "languageId": "polyglot-notebook"
    }
   },
   "outputs": [],
   "source": [
    "0\n",
    "0 |> ignore"
   ]
  }
 ],
 "metadata": {
  "kernelspec": {
   "display_name": ".NET (C#)",
   "language": "C#",
   "name": ".net-csharp"
  },
  "language_info": {
   "name": "csharp"
  },
  "polyglot_notebook": {
   "kernelInfo": {
    "defaultKernelName": "csharp",
    "items": [
     {
      "aliases": [],
      "name": "csharp"
     }
    ]
   }
  }
 },
 "nbformat": 4,
 "nbformat_minor": 2
}
