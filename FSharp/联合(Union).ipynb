{
 "cells": [
  {
   "cell_type": "code",
   "execution_count": 1,
   "metadata": {
    "dotnet_interactive": {
     "language": "fsharp"
    },
    "polyglot_notebook": {
     "kernelName": "fsharp"
    },
    "vscode": {
     "languageId": "polyglot-notebook"
    }
   },
   "outputs": [
    {
     "name": "stdout",
     "output_type": "stream",
     "text": [
      "TwoD (1, 2)\n",
      "ThreeD (2, 3, 5)\n"
     ]
    }
   ],
   "source": [
    "//Union, DU, or I\n",
    "type Point =\n",
    "    | TwoD of int*int\n",
    "    | ThreeD of int*int*int\n",
    "    | OneD of int\n",
    "\n",
    "let p1 = OneD(3);\n",
    "let p2 = TwoD(1, 2)\n",
    "let p3 = ThreeD(2, 3, 5)\n",
    "\n",
    "let printPoint (p:Point) =\n",
    "    printfn \"%A\" p\n",
    "\n",
    "printPoint p2\n",
    "printPoint p3"
   ]
  }
 ],
 "metadata": {
  "kernelspec": {
   "display_name": ".NET (C#)",
   "language": "C#",
   "name": ".net-csharp"
  },
  "language_info": {
   "name": "python"
  },
  "polyglot_notebook": {
   "kernelInfo": {
    "defaultKernelName": "csharp",
    "items": [
     {
      "aliases": [],
      "name": "csharp"
     }
    ]
   }
  }
 },
 "nbformat": 4,
 "nbformat_minor": 2
}
