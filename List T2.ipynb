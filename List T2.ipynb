{
 "cells": [
  {
   "attachments": {},
   "cell_type": "markdown",
   "metadata": {},
   "source": [
    "![Alt text](图/Read.png)"
   ]
  },
  {
   "cell_type": "code",
   "execution_count": 15,
   "metadata": {
    "dotnet_interactive": {
     "language": "csharp"
    },
    "polyglot_notebook": {
     "kernelName": "csharp"
    },
    "vscode": {
     "languageId": "polyglot-notebook"
    }
   },
   "outputs": [
    {
     "name": "stdout",
     "output_type": "stream",
     "text": [
      "intList:4/4\n",
      "bookList:3/4\n"
     ]
    }
   ],
   "source": [
    "using System.Text.Json;\n",
    "List<int> intlist = new List<int>{100,200,300,400};//int是值类型\n",
    "\n",
    "public class Book\n",
    "{\n",
    "    public string Name{get;set;}\n",
    "    public int Price{get;set;}\n",
    "    public override string ToString()\n",
    "    {\n",
    "        return JsonSerializer.Serialize(this);\n",
    "    }\n",
    "}\n",
    "\n",
    "\n",
    "List<Book> booklist = new List<Book>{new Book{Name=\"C#\",Price=100},new Book{Name=\"Java\",Price=200},new Book{Name=\"Python\",Price=300}};//Book是引用类型\n",
    "Console.WriteLine($\"intList:{intlist.Count}/{intlist.Capacity}\");\n",
    "Console.WriteLine($\"bookList:{booklist.Count}/{booklist.Capacity}\");"
   ]
  },
  {
   "cell_type": "code",
   "execution_count": 2,
   "metadata": {
    "dotnet_interactive": {
     "language": "csharp"
    },
    "polyglot_notebook": {
     "kernelName": "csharp"
    },
    "vscode": {
     "languageId": "polyglot-notebook"
    }
   },
   "outputs": [
    {
     "name": "stdout",
     "output_type": "stream",
     "text": [
      "{\"Name\":\"C#\",\"Price\":100}\n",
      "{\"Name\":\"C#\",\"Price\":101}\n",
      "100\n",
      "101\n"
     ]
    }
   ],
   "source": [
    "//索引器[]\n",
    "Console.WriteLine(booklist[0]);\n",
    "//使用索引器修改对象的值\n",
    "booklist[0].Price=101;\n",
    "Console.WriteLine(booklist[0]);\n",
    "\n",
    "Console.WriteLine(intlist[0]);\n",
    "intlist[0]=101;\n",
    "Console.WriteLine(intlist[0]);"
   ]
  },
  {
   "cell_type": "code",
   "execution_count": 3,
   "metadata": {
    "dotnet_interactive": {
     "language": "csharp"
    },
    "polyglot_notebook": {
     "kernelName": "csharp"
    },
    "vscode": {
     "languageId": "polyglot-notebook"
    }
   },
   "outputs": [
    {
     "name": "stdout",
     "output_type": "stream",
     "text": [
      "101\n",
      "200\n",
      "300\n",
      "400\n"
     ]
    }
   ],
   "source": [
    "for(int i=0;i<intlist.Count;i++)\n",
    "{\n",
    "    Console.WriteLine(intlist[i]);\n",
    "}"
   ]
  },
  {
   "cell_type": "code",
   "execution_count": 4,
   "metadata": {
    "dotnet_interactive": {
     "language": "csharp"
    },
    "polyglot_notebook": {
     "kernelName": "csharp"
    },
    "vscode": {
     "languageId": "polyglot-notebook"
    }
   },
   "outputs": [
    {
     "name": "stdout",
     "output_type": "stream",
     "text": [
      "101,200,300,400\n",
      "101,199,200,300,399,400\n"
     ]
    }
   ],
   "source": [
    "//索引器插入\n",
    "intlist = new List<int>{101,200,300,400};//int是值类型\n",
    "Console.WriteLine(string.Join(\",\",intlist));\n",
    "for(int i=0;i<intlist.Count;i++)\n",
    "{\n",
    "    if(intlist[i]%200==0)\n",
    "    {\n",
    "        intlist.Insert(i,intlist[i]-1);\n",
    "        i++;\n",
    "    }\n",
    "}\n",
    "Console.WriteLine(string.Join(\",\",intlist));"
   ]
  },
  {
   "cell_type": "code",
   "execution_count": null,
   "metadata": {
    "dotnet_interactive": {
     "language": "csharp"
    },
    "polyglot_notebook": {
     "kernelName": "csharp"
    },
    "vscode": {
     "languageId": "polyglot-notebook"
    }
   },
   "outputs": [],
   "source": [
    "//索引器删除\n",
    "List<int> intlist2 = new List<int>{100,200,300,400};//int是值类型\n",
    "Console.WriteLine(string.Join(\",\",intlist2));\n",
    "for(int i=0;i<intlist2.Count;i++)\n",
    "{\n",
    "    if(intlist2[i]%200==0)\n",
    "    {\n",
    "        intlist2.Remove(i);\n",
    "        i--;\n",
    "    }\n",
    "}\n",
    "Console.WriteLine(string.Join(\",\",intlist2));"
   ]
  },
  {
   "cell_type": "code",
   "execution_count": 11,
   "metadata": {
    "dotnet_interactive": {
     "language": "csharp"
    },
    "polyglot_notebook": {
     "kernelName": "csharp"
    },
    "vscode": {
     "languageId": "polyglot-notebook"
    }
   },
   "outputs": [
    {
     "name": "stdout",
     "output_type": "stream",
     "text": [
      "100,200,300,400,500,600\n",
      "200,300\n",
      "{\"Name\":\"C#\",\"Price\":100},{\"Name\":\"Java\",\"Price\":200},{\"Name\":\"Python\",\"Price\":300}\n",
      "{\"Name\":\"Java\",\"Price\":200},{\"Name\":\"Python\",\"Price\":300}\n",
      "{\"Name\":\"C#\",\"Price\":100},{\"Name\":\"Java\",\"Price\":201},{\"Name\":\"Python\",\"Price\":301}\n",
      "{\"Name\":\"Java\",\"Price\":201},{\"Name\":\"Python\",\"Price\":301}\n"
     ]
    }
   ],
   "source": [
    "//GetRange截取 位置 个数\n",
    "List<int> intlist3 = new List<int>{100,200,300,400,500,600};\n",
    "Console.WriteLine(string.Join(\",\",intlist3));\n",
    "var rangelist = intlist3.GetRange(1,2);\n",
    "Console.WriteLine(string.Join(\",\",rangelist));\n",
    "\n",
    "List<Book> booklist = new List<Book>{new Book{Name=\"C#\",Price=100},new Book{Name=\"Java\",Price=200},new Book{Name=\"Python\",Price=300}};//Book是引用类型\n",
    "Console.WriteLine(string.Join(\",\",booklist));\n",
    "var result=booklist.GetRange(1,2);\n",
    "Console.WriteLine(string.Join(\",\",result));\n",
    "//浅拷贝 指向book对象相同\n",
    "for(int i=0;i<result.Count;i++)\n",
    "{\n",
    "    result[i].Price++;\n",
    "}\n",
    "Console.WriteLine(string.Join(\",\",booklist));\n",
    "Console.WriteLine(string.Join(\",\",result));"
   ]
  },
  {
   "cell_type": "code",
   "execution_count": 14,
   "metadata": {
    "dotnet_interactive": {
     "language": "csharp"
    },
    "polyglot_notebook": {
     "kernelName": "csharp"
    },
    "vscode": {
     "languageId": "polyglot-notebook"
    }
   },
   "outputs": [
    {
     "name": "stdout",
     "output_type": "stream",
     "text": [
      "0\n",
      "100\n",
      "200\n",
      "300\n",
      "400\n",
      "0\n",
      "100\n",
      "200\n",
      "300\n",
      "400\n"
     ]
    }
   ],
   "source": [
    "//迭代器 Current当前指向对象\n",
    "var e=intlist.GetEnumerator();\n",
    "Console.WriteLine(e.Current);\n",
    "//开始时指向空，最后时指向空\n",
    "while(e.MoveNext())\n",
    "{\n",
    "Console.WriteLine(e.Current);\n",
    "}\n",
    "Console.WriteLine(e.Current);\n",
    "\n",
    "foreach(var val in intlist)\n",
    "{\n",
    "    Console.WriteLine(val);\n",
    "}\n",
    "\n",
    "//foreach无法增删"
   ]
  }
 ],
 "metadata": {
  "language_info": {
   "name": "csharp"
  },
  "orig_nbformat": 4
 },
 "nbformat": 4,
 "nbformat_minor": 2
}
