{
 "cells": [
  {
   "cell_type": "code",
   "execution_count": 25,
   "metadata": {
    "dotnet_interactive": {
     "language": "csharp"
    },
    "polyglot_notebook": {
     "kernelName": "csharp"
    },
    "vscode": {
     "languageId": "polyglot-notebook"
    }
   },
   "outputs": [
    {
     "data": {
      "text/html": [
       "<div><div></div><div></div><div><strong>Installed Packages</strong><ul><li><span>CommunityToolkit.Maui, 7.0.1</span></li></ul></div></div>"
      ]
     },
     "metadata": {},
     "output_type": "display_data"
    }
   ],
   "source": [
    "#r \"nuget: CommunityToolkit.Maui\"\n",
    "\n",
    "using CommunityToolkit.Maui.Alerts;\n",
    "using CommunityToolkit.Maui.Storage;\n",
    "using System.Data;\n",
    "using Newtonsoft.Json;\n",
    "using System.IO;\n",
    "\n",
    "    /// <summary>\n",
    "    /// 导出Excel\n",
    "    /// </summary>\n",
    "    /// <param name=\"table\"></param>\n",
    "    /// <param name=\"file\"></param>\n",
    "    private static void dataTableToCsv(DataTable table, string file)\n",
    "    {\n",
    "        string title = \"\";\n",
    "        FileStream fs = new FileStream(file, FileMode.OpenOrCreate);\n",
    "        StreamWriter sw = new StreamWriter(new BufferedStream(fs), System.Text.Encoding.Default);\n",
    "        for (int i = 0; i < table.Columns.Count; i++)\n",
    "        {\n",
    "            title += table.Columns[i].ColumnName + \"\\t\"; //栏位：自动跳到下一单元格\n",
    "        }\n",
    "        title = title.Substring(0, title.Length - 1) + \"\\n\";\n",
    "        sw.Write(title);\n",
    "        foreach (DataRow row in table.Rows)\n",
    "        {\n",
    "            string line = \"\";\n",
    "            for (int i = 0; i < table.Columns.Count; i++)\n",
    "            {\n",
    "                line += row[i].ToString().Trim() + \"\\t\"; //内容：自动跳到下一单元格\n",
    "            }\n",
    "            line = line.Substring(0, line.Length - 1) + \"\\n\";\n",
    "            sw.Write(line);\n",
    "        }\n",
    "        sw.Close();\n",
    "        fs.Close();\n",
    "    }\n"
   ]
  },
  {
   "cell_type": "code",
   "execution_count": 16,
   "metadata": {
    "dotnet_interactive": {
     "language": "csharp"
    },
    "polyglot_notebook": {
     "kernelName": "csharp"
    },
    "vscode": {
     "languageId": "polyglot-notebook"
    }
   },
   "outputs": [],
   "source": [
    "class person\n",
    "{\n",
    "    public int Age { get; set;}\n",
    "    \n",
    "    public string Name { get; set;}\n",
    "}"
   ]
  },
  {
   "cell_type": "code",
   "execution_count": 24,
   "metadata": {
    "dotnet_interactive": {
     "language": "csharp"
    },
    "polyglot_notebook": {
     "kernelName": "csharp"
    },
    "vscode": {
     "languageId": "polyglot-notebook"
    }
   },
   "outputs": [],
   "source": [
    "       using System.Data;\n",
    "        person p = new(){Age=12,Name=\"Tomm\"};\n",
    "\n",
    "        var perosnlist = new List<person>();\n",
    "        perosnlist.Add(p);\n",
    "        perosnlist.Add(p);\n",
    "        perosnlist.Add(p);\n",
    "        \n",
    "        var table = JsonConvert.DeserializeObject<DataTable>(JsonConvert.SerializeObject(perosnlist));\n",
    "        if (table != null)\n",
    "        {\n",
    "            dataTableToCsv(table, $@\"D:\\Test{DateTime.Now.ToFileTime().ToString()}.xls\"); //调用函数 \n",
    "        }\n"
   ]
  }
 ],
 "metadata": {
  "language_info": {
   "name": "csharp"
  }
 },
 "nbformat": 4,
 "nbformat_minor": 2
}
